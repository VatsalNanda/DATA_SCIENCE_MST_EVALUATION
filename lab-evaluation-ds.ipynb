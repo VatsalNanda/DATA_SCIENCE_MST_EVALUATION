{
 "cells": [
  {
   "cell_type": "code",
   "execution_count": 1,
   "id": "d481407e",
   "metadata": {
    "_cell_guid": "b1076dfc-b9ad-4769-8c92-a6c4dae69d19",
    "_uuid": "8f2839f25d086af736a60e9eeb907d3b93b6e0e5",
    "execution": {
     "iopub.execute_input": "2022-03-16T07:39:48.459586Z",
     "iopub.status.busy": "2022-03-16T07:39:48.458799Z",
     "iopub.status.idle": "2022-03-16T07:39:48.466619Z",
     "shell.execute_reply": "2022-03-16T07:39:48.467188Z",
     "shell.execute_reply.started": "2022-03-16T04:19:31.291661Z"
    },
    "papermill": {
     "duration": 0.183444,
     "end_time": "2022-03-16T07:39:48.467429",
     "exception": false,
     "start_time": "2022-03-16T07:39:48.283985",
     "status": "completed"
    },
    "tags": []
   },
   "outputs": [
    {
     "name": "stdout",
     "output_type": "stream",
     "text": [
      "/kaggle/input/sentiment-analysis-on-movie-reviews/sampleSubmission.csv\n",
      "/kaggle/input/sentiment-analysis-on-movie-reviews/train.tsv.zip\n",
      "/kaggle/input/sentiment-analysis-on-movie-reviews/test.tsv.zip\n"
     ]
    }
   ],
   "source": [
    "# This Python 3 environment comes with many helpful analytics libraries installed\n",
    "# It is defined by the kaggle/python Docker image: https://github.com/kaggle/docker-python\n",
    "# For example, here's several helpful packages to load\n",
    "\n",
    "import numpy as np # linear algebra\n",
    "import pandas as pd # data processing, CSV file I/O (e.g. pd.read_csv)\n",
    "\n",
    "# Input data files are available in the read-only \"../input/\" directory\n",
    "# For example, running this (by clicking run or pressing Shift+Enter) will list all files under the input directory\n",
    "\n",
    "import os\n",
    "for dirname, _, filenames in os.walk('/kaggle/input'):\n",
    "    for filename in filenames:\n",
    "        print(os.path.join(dirname, filename))\n",
    "\n",
    "# You can write up to 20GB to the current directory (/kaggle/working/) that gets preserved as output when you create a version using \"Save & Run All\" \n",
    "# You can also write temporary files to /kaggle/temp/, but they won't be saved outside of the current session"
   ]
  },
  {
   "cell_type": "markdown",
   "id": "a1ecce68",
   "metadata": {
    "papermill": {
     "duration": 0.12822,
     "end_time": "2022-03-16T07:39:48.725575",
     "exception": false,
     "start_time": "2022-03-16T07:39:48.597355",
     "status": "completed"
    },
    "tags": []
   },
   "source": [
    "**Importing the libraries**"
   ]
  },
  {
   "cell_type": "code",
   "execution_count": 2,
   "id": "9d7efdab",
   "metadata": {
    "execution": {
     "iopub.execute_input": "2022-03-16T07:39:48.985050Z",
     "iopub.status.busy": "2022-03-16T07:39:48.984297Z",
     "iopub.status.idle": "2022-03-16T07:39:58.293071Z",
     "shell.execute_reply": "2022-03-16T07:39:58.292608Z",
     "shell.execute_reply.started": "2022-03-16T04:19:54.677905Z"
    },
    "papermill": {
     "duration": 9.442641,
     "end_time": "2022-03-16T07:39:58.293200",
     "exception": false,
     "start_time": "2022-03-16T07:39:48.850559",
     "status": "completed"
    },
    "tags": []
   },
   "outputs": [],
   "source": [
    "#GPU Libraries\n",
    "import cudf as pd\n",
    "import cupy as cp\n",
    "import cuml\n",
    "from cuml.linear_model import LogisticRegression\n",
    "from cuml.ensemble import RandomForestClassifier as cuRFC\n",
    "from cuml.naive_bayes import MultinomialNB\n",
    "from cuml.svm import SVC\n",
    "from cuml.linear_model import LogisticRegression\n",
    "from cuml.multiclass import MulticlassClassifier\n",
    "from cuml.multiclass import OneVsRestClassifier\n",
    "\n",
    "\n",
    "#Graph Plotting and Visualisation Library\n",
    "import matplotlib.pyplot as plt\n",
    "import seaborn as sns\n",
    "\n",
    "\n",
    "#Text Preprocessing Libraries\n",
    "import nltk\n",
    "from nltk.corpus import stopwords\n",
    "from nltk.stem.porter import PorterStemmer\n",
    "from nltk.tokenize import word_tokenize\n",
    "from sklearn.feature_extraction.text import TfidfVectorizer,CountVectorizer\n",
    "import re\n",
    "import string\n",
    "\n",
    "#Deep Learning Libraries\n",
    "import keras\n",
    "from tensorflow.keras.preprocessing import sequence\n",
    "from tensorflow.keras.models import Sequential\n",
    "from tensorflow.keras.layers import Dense, Embedding\n",
    "from tensorflow.keras.layers import LSTM\n",
    "from tensorflow.keras.utils import to_categorical\n",
    "from tensorflow.keras.preprocessing.text import Tokenizer\n",
    "from tensorflow.keras.preprocessing.sequence import pad_sequences\n",
    "from keras.models import Sequential\n",
    "from keras.layers import Dense\n",
    "from keras.layers import LSTM\n",
    "from keras.layers import Activation\n",
    "from keras.layers import Embedding\n",
    "from keras.layers import Bidirectional\n",
    "from tensorflow.keras.optimizers import Adam\n",
    "from keras.preprocessing import sequence\n",
    "from keras.preprocessing.text import Tokenizer\n",
    "from keras.layers import Dense,Dropout,Embedding,LSTM\n",
    "from keras.callbacks import EarlyStopping\n",
    "from keras.losses import categorical_crossentropy\n",
    "from tensorflow.keras.optimizers import Adam\n",
    "from keras.models import Sequential\n",
    "\n",
    "\n"
   ]
  },
  {
   "cell_type": "markdown",
   "id": "fcb3f4f5",
   "metadata": {
    "papermill": {
     "duration": 0.124361,
     "end_time": "2022-03-16T07:39:58.540138",
     "exception": false,
     "start_time": "2022-03-16T07:39:58.415777",
     "status": "completed"
    },
    "tags": []
   },
   "source": [
    "**Reading the dataset**"
   ]
  },
  {
   "cell_type": "code",
   "execution_count": 3,
   "id": "a59495b6",
   "metadata": {
    "execution": {
     "iopub.execute_input": "2022-03-16T07:39:58.795912Z",
     "iopub.status.busy": "2022-03-16T07:39:58.795274Z",
     "iopub.status.idle": "2022-03-16T07:40:04.173082Z",
     "shell.execute_reply": "2022-03-16T07:40:04.172568Z",
     "shell.execute_reply.started": "2022-03-16T04:20:05.522663Z"
    },
    "papermill": {
     "duration": 5.506597,
     "end_time": "2022-03-16T07:40:04.173209",
     "exception": false,
     "start_time": "2022-03-16T07:39:58.666612",
     "status": "completed"
    },
    "tags": []
   },
   "outputs": [],
   "source": [
    "train_df=pd.read_csv('/kaggle/input/sentiment-analysis-on-movie-reviews/train.tsv.zip',sep='\\t')\n",
    "test_df=pd.read_csv('/kaggle/input/sentiment-analysis-on-movie-reviews/test.tsv.zip',sep='\\t')"
   ]
  },
  {
   "cell_type": "code",
   "execution_count": 4,
   "id": "44e9e729",
   "metadata": {
    "execution": {
     "iopub.execute_input": "2022-03-16T07:40:04.458645Z",
     "iopub.status.busy": "2022-03-16T07:40:04.457777Z",
     "iopub.status.idle": "2022-03-16T07:40:04.487496Z",
     "shell.execute_reply": "2022-03-16T07:40:04.487933Z",
     "shell.execute_reply.started": "2022-03-16T04:20:11.510428Z"
    },
    "papermill": {
     "duration": 0.179961,
     "end_time": "2022-03-16T07:40:04.488079",
     "exception": false,
     "start_time": "2022-03-16T07:40:04.308118",
     "status": "completed"
    },
    "tags": []
   },
   "outputs": [
    {
     "data": {
      "text/html": [
       "<div>\n",
       "<style scoped>\n",
       "    .dataframe tbody tr th:only-of-type {\n",
       "        vertical-align: middle;\n",
       "    }\n",
       "\n",
       "    .dataframe tbody tr th {\n",
       "        vertical-align: top;\n",
       "    }\n",
       "\n",
       "    .dataframe thead th {\n",
       "        text-align: right;\n",
       "    }\n",
       "</style>\n",
       "<table border=\"1\" class=\"dataframe\">\n",
       "  <thead>\n",
       "    <tr style=\"text-align: right;\">\n",
       "      <th></th>\n",
       "      <th>PhraseId</th>\n",
       "      <th>SentenceId</th>\n",
       "      <th>Phrase</th>\n",
       "      <th>Sentiment</th>\n",
       "    </tr>\n",
       "  </thead>\n",
       "  <tbody>\n",
       "    <tr>\n",
       "      <th>0</th>\n",
       "      <td>1</td>\n",
       "      <td>1</td>\n",
       "      <td>A series of escapades demonstrating the adage ...</td>\n",
       "      <td>1</td>\n",
       "    </tr>\n",
       "    <tr>\n",
       "      <th>1</th>\n",
       "      <td>2</td>\n",
       "      <td>1</td>\n",
       "      <td>A series of escapades demonstrating the adage ...</td>\n",
       "      <td>2</td>\n",
       "    </tr>\n",
       "    <tr>\n",
       "      <th>2</th>\n",
       "      <td>3</td>\n",
       "      <td>1</td>\n",
       "      <td>A series</td>\n",
       "      <td>2</td>\n",
       "    </tr>\n",
       "    <tr>\n",
       "      <th>3</th>\n",
       "      <td>4</td>\n",
       "      <td>1</td>\n",
       "      <td>A</td>\n",
       "      <td>2</td>\n",
       "    </tr>\n",
       "    <tr>\n",
       "      <th>4</th>\n",
       "      <td>5</td>\n",
       "      <td>1</td>\n",
       "      <td>series</td>\n",
       "      <td>2</td>\n",
       "    </tr>\n",
       "  </tbody>\n",
       "</table>\n",
       "</div>"
      ],
      "text/plain": [
       "   PhraseId  SentenceId                                             Phrase  \\\n",
       "0         1           1  A series of escapades demonstrating the adage ...   \n",
       "1         2           1  A series of escapades demonstrating the adage ...   \n",
       "2         3           1                                           A series   \n",
       "3         4           1                                                  A   \n",
       "4         5           1                                             series   \n",
       "\n",
       "   Sentiment  \n",
       "0          1  \n",
       "1          2  \n",
       "2          2  \n",
       "3          2  \n",
       "4          2  "
      ]
     },
     "execution_count": 4,
     "metadata": {},
     "output_type": "execute_result"
    }
   ],
   "source": [
    "train_df.head()"
   ]
  },
  {
   "cell_type": "code",
   "execution_count": 5,
   "id": "df5bdfea",
   "metadata": {
    "execution": {
     "iopub.execute_input": "2022-03-16T07:40:04.745194Z",
     "iopub.status.busy": "2022-03-16T07:40:04.744472Z",
     "iopub.status.idle": "2022-03-16T07:40:04.756200Z",
     "shell.execute_reply": "2022-03-16T07:40:04.756774Z",
     "shell.execute_reply.started": "2022-03-16T04:20:11.563769Z"
    },
    "papermill": {
     "duration": 0.141565,
     "end_time": "2022-03-16T07:40:04.756942",
     "exception": false,
     "start_time": "2022-03-16T07:40:04.615377",
     "status": "completed"
    },
    "tags": []
   },
   "outputs": [
    {
     "name": "stdout",
     "output_type": "stream",
     "text": [
      "<class 'cudf.core.dataframe.DataFrame'>\n",
      "RangeIndex: 156060 entries, 0 to 156059\n",
      "Data columns (total 4 columns):\n",
      " #   Column      Non-Null Count   Dtype\n",
      "---  ------      --------------   -----\n",
      " 0   PhraseId    156060 non-null  int64\n",
      " 1   SentenceId  156060 non-null  int64\n",
      " 2   Phrase      156060 non-null  object\n",
      " 3   Sentiment   156060 non-null  int64\n",
      "dtypes: int64(3), object(1)\n",
      "memory usage: 10.2+ MB\n"
     ]
    }
   ],
   "source": [
    "train_df.info()"
   ]
  },
  {
   "cell_type": "code",
   "execution_count": 6,
   "id": "71f7b81f",
   "metadata": {
    "execution": {
     "iopub.execute_input": "2022-03-16T07:40:05.010049Z",
     "iopub.status.busy": "2022-03-16T07:40:05.009408Z",
     "iopub.status.idle": "2022-03-16T07:40:05.637299Z",
     "shell.execute_reply": "2022-03-16T07:40:05.637701Z",
     "shell.execute_reply.started": "2022-03-16T04:20:11.587100Z"
    },
    "papermill": {
     "duration": 0.75696,
     "end_time": "2022-03-16T07:40:05.637843",
     "exception": false,
     "start_time": "2022-03-16T07:40:04.880883",
     "status": "completed"
    },
    "tags": []
   },
   "outputs": [
    {
     "data": {
      "text/html": [
       "<div>\n",
       "<style scoped>\n",
       "    .dataframe tbody tr th:only-of-type {\n",
       "        vertical-align: middle;\n",
       "    }\n",
       "\n",
       "    .dataframe tbody tr th {\n",
       "        vertical-align: top;\n",
       "    }\n",
       "\n",
       "    .dataframe thead th {\n",
       "        text-align: right;\n",
       "    }\n",
       "</style>\n",
       "<table border=\"1\" class=\"dataframe\">\n",
       "  <thead>\n",
       "    <tr style=\"text-align: right;\">\n",
       "      <th></th>\n",
       "      <th>PhraseId</th>\n",
       "      <th>SentenceId</th>\n",
       "      <th>Sentiment</th>\n",
       "    </tr>\n",
       "  </thead>\n",
       "  <tbody>\n",
       "    <tr>\n",
       "      <th>count</th>\n",
       "      <td>156060.000000</td>\n",
       "      <td>156060.000000</td>\n",
       "      <td>156060.000000</td>\n",
       "    </tr>\n",
       "    <tr>\n",
       "      <th>mean</th>\n",
       "      <td>78030.500000</td>\n",
       "      <td>4079.732744</td>\n",
       "      <td>2.063578</td>\n",
       "    </tr>\n",
       "    <tr>\n",
       "      <th>std</th>\n",
       "      <td>45050.785842</td>\n",
       "      <td>2502.764394</td>\n",
       "      <td>0.893832</td>\n",
       "    </tr>\n",
       "    <tr>\n",
       "      <th>min</th>\n",
       "      <td>1.000000</td>\n",
       "      <td>1.000000</td>\n",
       "      <td>0.000000</td>\n",
       "    </tr>\n",
       "    <tr>\n",
       "      <th>25%</th>\n",
       "      <td>39015.750000</td>\n",
       "      <td>1861.750000</td>\n",
       "      <td>2.000000</td>\n",
       "    </tr>\n",
       "    <tr>\n",
       "      <th>50%</th>\n",
       "      <td>78030.500000</td>\n",
       "      <td>4017.000000</td>\n",
       "      <td>2.000000</td>\n",
       "    </tr>\n",
       "    <tr>\n",
       "      <th>75%</th>\n",
       "      <td>117045.250000</td>\n",
       "      <td>6244.000000</td>\n",
       "      <td>3.000000</td>\n",
       "    </tr>\n",
       "    <tr>\n",
       "      <th>max</th>\n",
       "      <td>156060.000000</td>\n",
       "      <td>8544.000000</td>\n",
       "      <td>4.000000</td>\n",
       "    </tr>\n",
       "  </tbody>\n",
       "</table>\n",
       "</div>"
      ],
      "text/plain": [
       "            PhraseId     SentenceId      Sentiment\n",
       "count  156060.000000  156060.000000  156060.000000\n",
       "mean    78030.500000    4079.732744       2.063578\n",
       "std     45050.785842    2502.764394       0.893832\n",
       "min         1.000000       1.000000       0.000000\n",
       "25%     39015.750000    1861.750000       2.000000\n",
       "50%     78030.500000    4017.000000       2.000000\n",
       "75%    117045.250000    6244.000000       3.000000\n",
       "max    156060.000000    8544.000000       4.000000"
      ]
     },
     "execution_count": 6,
     "metadata": {},
     "output_type": "execute_result"
    }
   ],
   "source": [
    "train_df.describe()"
   ]
  },
  {
   "cell_type": "code",
   "execution_count": 7,
   "id": "fed22398",
   "metadata": {
    "execution": {
     "iopub.execute_input": "2022-03-16T07:40:05.894219Z",
     "iopub.status.busy": "2022-03-16T07:40:05.893517Z",
     "iopub.status.idle": "2022-03-16T07:40:05.896203Z",
     "shell.execute_reply": "2022-03-16T07:40:05.896613Z",
     "shell.execute_reply.started": "2022-03-16T04:20:12.327582Z"
    },
    "papermill": {
     "duration": 0.134242,
     "end_time": "2022-03-16T07:40:05.896740",
     "exception": false,
     "start_time": "2022-03-16T07:40:05.762498",
     "status": "completed"
    },
    "tags": []
   },
   "outputs": [
    {
     "data": {
      "text/plain": [
       "(156060, 4)"
      ]
     },
     "execution_count": 7,
     "metadata": {},
     "output_type": "execute_result"
    }
   ],
   "source": [
    "train_df.shape"
   ]
  },
  {
   "cell_type": "code",
   "execution_count": 8,
   "id": "3177347e",
   "metadata": {
    "execution": {
     "iopub.execute_input": "2022-03-16T07:40:06.156314Z",
     "iopub.status.busy": "2022-03-16T07:40:06.152059Z",
     "iopub.status.idle": "2022-03-16T07:40:06.167529Z",
     "shell.execute_reply": "2022-03-16T07:40:06.167942Z",
     "shell.execute_reply.started": "2022-03-16T04:20:12.338274Z"
    },
    "papermill": {
     "duration": 0.145094,
     "end_time": "2022-03-16T07:40:06.168068",
     "exception": false,
     "start_time": "2022-03-16T07:40:06.022974",
     "status": "completed"
    },
    "tags": []
   },
   "outputs": [
    {
     "data": {
      "text/html": [
       "<div>\n",
       "<style scoped>\n",
       "    .dataframe tbody tr th:only-of-type {\n",
       "        vertical-align: middle;\n",
       "    }\n",
       "\n",
       "    .dataframe tbody tr th {\n",
       "        vertical-align: top;\n",
       "    }\n",
       "\n",
       "    .dataframe thead th {\n",
       "        text-align: right;\n",
       "    }\n",
       "</style>\n",
       "<table border=\"1\" class=\"dataframe\">\n",
       "  <thead>\n",
       "    <tr style=\"text-align: right;\">\n",
       "      <th></th>\n",
       "      <th>PhraseId</th>\n",
       "      <th>SentenceId</th>\n",
       "      <th>Phrase</th>\n",
       "    </tr>\n",
       "  </thead>\n",
       "  <tbody>\n",
       "    <tr>\n",
       "      <th>0</th>\n",
       "      <td>156061</td>\n",
       "      <td>8545</td>\n",
       "      <td>An intermittently pleasing but mostly routine ...</td>\n",
       "    </tr>\n",
       "    <tr>\n",
       "      <th>1</th>\n",
       "      <td>156062</td>\n",
       "      <td>8545</td>\n",
       "      <td>An intermittently pleasing but mostly routine ...</td>\n",
       "    </tr>\n",
       "    <tr>\n",
       "      <th>2</th>\n",
       "      <td>156063</td>\n",
       "      <td>8545</td>\n",
       "      <td>An</td>\n",
       "    </tr>\n",
       "    <tr>\n",
       "      <th>3</th>\n",
       "      <td>156064</td>\n",
       "      <td>8545</td>\n",
       "      <td>intermittently pleasing but mostly routine effort</td>\n",
       "    </tr>\n",
       "    <tr>\n",
       "      <th>4</th>\n",
       "      <td>156065</td>\n",
       "      <td>8545</td>\n",
       "      <td>intermittently pleasing but mostly routine</td>\n",
       "    </tr>\n",
       "  </tbody>\n",
       "</table>\n",
       "</div>"
      ],
      "text/plain": [
       "   PhraseId  SentenceId                                             Phrase\n",
       "0    156061        8545  An intermittently pleasing but mostly routine ...\n",
       "1    156062        8545  An intermittently pleasing but mostly routine ...\n",
       "2    156063        8545                                                 An\n",
       "3    156064        8545  intermittently pleasing but mostly routine effort\n",
       "4    156065        8545         intermittently pleasing but mostly routine"
      ]
     },
     "execution_count": 8,
     "metadata": {},
     "output_type": "execute_result"
    }
   ],
   "source": [
    "test_df.head()"
   ]
  },
  {
   "cell_type": "code",
   "execution_count": 9,
   "id": "8a7bdade",
   "metadata": {
    "execution": {
     "iopub.execute_input": "2022-03-16T07:40:06.424686Z",
     "iopub.status.busy": "2022-03-16T07:40:06.423824Z",
     "iopub.status.idle": "2022-03-16T07:40:06.431437Z",
     "shell.execute_reply": "2022-03-16T07:40:06.432108Z",
     "shell.execute_reply.started": "2022-03-16T04:20:12.366644Z"
    },
    "papermill": {
     "duration": 0.139899,
     "end_time": "2022-03-16T07:40:06.432298",
     "exception": false,
     "start_time": "2022-03-16T07:40:06.292399",
     "status": "completed"
    },
    "tags": []
   },
   "outputs": [
    {
     "name": "stdout",
     "output_type": "stream",
     "text": [
      "<class 'cudf.core.dataframe.DataFrame'>\n",
      "RangeIndex: 66292 entries, 0 to 66291\n",
      "Data columns (total 3 columns):\n",
      " #   Column      Non-Null Count  Dtype\n",
      "---  ------      --------------  -----\n",
      " 0   PhraseId    66292 non-null  int64\n",
      " 1   SentenceId  66292 non-null  int64\n",
      " 2   Phrase      66292 non-null  object\n",
      "dtypes: int64(2), object(1)\n",
      "memory usage: 3.6+ MB\n"
     ]
    }
   ],
   "source": [
    "test_df.info()"
   ]
  },
  {
   "cell_type": "code",
   "execution_count": 10,
   "id": "8b54f9da",
   "metadata": {
    "execution": {
     "iopub.execute_input": "2022-03-16T07:40:06.691007Z",
     "iopub.status.busy": "2022-03-16T07:40:06.690194Z",
     "iopub.status.idle": "2022-03-16T07:40:06.722320Z",
     "shell.execute_reply": "2022-03-16T07:40:06.721898Z",
     "shell.execute_reply.started": "2022-03-16T04:20:12.383120Z"
    },
    "papermill": {
     "duration": 0.163072,
     "end_time": "2022-03-16T07:40:06.722446",
     "exception": false,
     "start_time": "2022-03-16T07:40:06.559374",
     "status": "completed"
    },
    "tags": []
   },
   "outputs": [
    {
     "data": {
      "text/html": [
       "<div>\n",
       "<style scoped>\n",
       "    .dataframe tbody tr th:only-of-type {\n",
       "        vertical-align: middle;\n",
       "    }\n",
       "\n",
       "    .dataframe tbody tr th {\n",
       "        vertical-align: top;\n",
       "    }\n",
       "\n",
       "    .dataframe thead th {\n",
       "        text-align: right;\n",
       "    }\n",
       "</style>\n",
       "<table border=\"1\" class=\"dataframe\">\n",
       "  <thead>\n",
       "    <tr style=\"text-align: right;\">\n",
       "      <th></th>\n",
       "      <th>PhraseId</th>\n",
       "      <th>SentenceId</th>\n",
       "    </tr>\n",
       "  </thead>\n",
       "  <tbody>\n",
       "    <tr>\n",
       "      <th>count</th>\n",
       "      <td>66292.00000</td>\n",
       "      <td>66292.000000</td>\n",
       "    </tr>\n",
       "    <tr>\n",
       "      <th>mean</th>\n",
       "      <td>189206.50000</td>\n",
       "      <td>10114.909144</td>\n",
       "    </tr>\n",
       "    <tr>\n",
       "      <th>std</th>\n",
       "      <td>19136.99636</td>\n",
       "      <td>966.787807</td>\n",
       "    </tr>\n",
       "    <tr>\n",
       "      <th>min</th>\n",
       "      <td>156061.00000</td>\n",
       "      <td>8545.000000</td>\n",
       "    </tr>\n",
       "    <tr>\n",
       "      <th>25%</th>\n",
       "      <td>172633.75000</td>\n",
       "      <td>9266.000000</td>\n",
       "    </tr>\n",
       "    <tr>\n",
       "      <th>50%</th>\n",
       "      <td>189206.50000</td>\n",
       "      <td>10086.000000</td>\n",
       "    </tr>\n",
       "    <tr>\n",
       "      <th>75%</th>\n",
       "      <td>205779.25000</td>\n",
       "      <td>10941.000000</td>\n",
       "    </tr>\n",
       "    <tr>\n",
       "      <th>max</th>\n",
       "      <td>222352.00000</td>\n",
       "      <td>11855.000000</td>\n",
       "    </tr>\n",
       "  </tbody>\n",
       "</table>\n",
       "</div>"
      ],
      "text/plain": [
       "           PhraseId    SentenceId\n",
       "count   66292.00000  66292.000000\n",
       "mean   189206.50000  10114.909144\n",
       "std     19136.99636    966.787807\n",
       "min    156061.00000   8545.000000\n",
       "25%    172633.75000   9266.000000\n",
       "50%    189206.50000  10086.000000\n",
       "75%    205779.25000  10941.000000\n",
       "max    222352.00000  11855.000000"
      ]
     },
     "execution_count": 10,
     "metadata": {},
     "output_type": "execute_result"
    }
   ],
   "source": [
    "test_df.describe()"
   ]
  },
  {
   "cell_type": "code",
   "execution_count": 11,
   "id": "32e1f577",
   "metadata": {
    "execution": {
     "iopub.execute_input": "2022-03-16T07:40:06.982615Z",
     "iopub.status.busy": "2022-03-16T07:40:06.981956Z",
     "iopub.status.idle": "2022-03-16T07:40:06.984541Z",
     "shell.execute_reply": "2022-03-16T07:40:06.984936Z",
     "shell.execute_reply.started": "2022-03-16T04:20:12.437152Z"
    },
    "papermill": {
     "duration": 0.134135,
     "end_time": "2022-03-16T07:40:06.985064",
     "exception": false,
     "start_time": "2022-03-16T07:40:06.850929",
     "status": "completed"
    },
    "tags": []
   },
   "outputs": [
    {
     "data": {
      "text/plain": [
       "(66292, 3)"
      ]
     },
     "execution_count": 11,
     "metadata": {},
     "output_type": "execute_result"
    }
   ],
   "source": [
    "test_df.shape"
   ]
  },
  {
   "cell_type": "markdown",
   "id": "aaa92bb8",
   "metadata": {
    "papermill": {
     "duration": 0.128725,
     "end_time": "2022-03-16T07:40:07.243030",
     "exception": false,
     "start_time": "2022-03-16T07:40:07.114305",
     "status": "completed"
    },
    "tags": []
   },
   "source": [
    "**DATA PREPROCESSING**"
   ]
  },
  {
   "cell_type": "code",
   "execution_count": 12,
   "id": "38c3ff79",
   "metadata": {
    "execution": {
     "iopub.execute_input": "2022-03-16T07:40:07.507140Z",
     "iopub.status.busy": "2022-03-16T07:40:07.506591Z",
     "iopub.status.idle": "2022-03-16T07:40:07.517146Z",
     "shell.execute_reply": "2022-03-16T07:40:07.516705Z",
     "shell.execute_reply.started": "2022-03-16T04:20:12.446555Z"
    },
    "papermill": {
     "duration": 0.147341,
     "end_time": "2022-03-16T07:40:07.517277",
     "exception": false,
     "start_time": "2022-03-16T07:40:07.369936",
     "status": "completed"
    },
    "tags": []
   },
   "outputs": [
    {
     "data": {
      "text/plain": [
       "PhraseId      0\n",
       "SentenceId    0\n",
       "Phrase        0\n",
       "Sentiment     0\n",
       "dtype: uint64"
      ]
     },
     "execution_count": 12,
     "metadata": {},
     "output_type": "execute_result"
    }
   ],
   "source": [
    "#Checking the sum of null values in the train and test dataset\n",
    "train_df.isnull().sum()"
   ]
  },
  {
   "cell_type": "code",
   "execution_count": 13,
   "id": "c9eb78a8",
   "metadata": {
    "execution": {
     "iopub.execute_input": "2022-03-16T07:40:07.784984Z",
     "iopub.status.busy": "2022-03-16T07:40:07.784175Z",
     "iopub.status.idle": "2022-03-16T07:40:07.791692Z",
     "shell.execute_reply": "2022-03-16T07:40:07.791273Z",
     "shell.execute_reply.started": "2022-03-16T04:20:12.467035Z"
    },
    "papermill": {
     "duration": 0.139505,
     "end_time": "2022-03-16T07:40:07.791805",
     "exception": false,
     "start_time": "2022-03-16T07:40:07.652300",
     "status": "completed"
    },
    "tags": []
   },
   "outputs": [
    {
     "data": {
      "text/plain": [
       "PhraseId      0\n",
       "SentenceId    0\n",
       "Phrase        0\n",
       "dtype: uint64"
      ]
     },
     "execution_count": 13,
     "metadata": {},
     "output_type": "execute_result"
    }
   ],
   "source": [
    "test_df.isnull().sum()"
   ]
  },
  {
   "cell_type": "code",
   "execution_count": 14,
   "id": "98992ef8",
   "metadata": {
    "execution": {
     "iopub.execute_input": "2022-03-16T07:40:08.049367Z",
     "iopub.status.busy": "2022-03-16T07:40:08.048556Z",
     "iopub.status.idle": "2022-03-16T07:40:08.054501Z",
     "shell.execute_reply": "2022-03-16T07:40:08.054970Z",
     "shell.execute_reply.started": "2022-03-16T04:20:12.482901Z"
    },
    "papermill": {
     "duration": 0.137043,
     "end_time": "2022-03-16T07:40:08.055092",
     "exception": false,
     "start_time": "2022-03-16T07:40:07.918049",
     "status": "completed"
    },
    "tags": []
   },
   "outputs": [
    {
     "data": {
      "text/plain": [
       "False"
      ]
     },
     "execution_count": 14,
     "metadata": {},
     "output_type": "execute_result"
    }
   ],
   "source": [
    "train_df.isnull().any().any()"
   ]
  },
  {
   "cell_type": "code",
   "execution_count": 15,
   "id": "247580ef",
   "metadata": {
    "execution": {
     "iopub.execute_input": "2022-03-16T07:40:08.311812Z",
     "iopub.status.busy": "2022-03-16T07:40:08.310993Z",
     "iopub.status.idle": "2022-03-16T07:40:08.317968Z",
     "shell.execute_reply": "2022-03-16T07:40:08.318435Z",
     "shell.execute_reply.started": "2022-03-16T04:20:12.497573Z"
    },
    "papermill": {
     "duration": 0.136,
     "end_time": "2022-03-16T07:40:08.318566",
     "exception": false,
     "start_time": "2022-03-16T07:40:08.182566",
     "status": "completed"
    },
    "tags": []
   },
   "outputs": [
    {
     "data": {
      "text/plain": [
       "False"
      ]
     },
     "execution_count": 15,
     "metadata": {},
     "output_type": "execute_result"
    }
   ],
   "source": [
    "test_df.isnull().any().any()"
   ]
  },
  {
   "cell_type": "markdown",
   "id": "4436528b",
   "metadata": {
    "papermill": {
     "duration": 0.126488,
     "end_time": "2022-03-16T07:40:08.571901",
     "exception": false,
     "start_time": "2022-03-16T07:40:08.445413",
     "status": "completed"
    },
    "tags": []
   },
   "source": [
    "There are no null values in the dataset"
   ]
  },
  {
   "cell_type": "markdown",
   "id": "04a7f8af",
   "metadata": {
    "papermill": {
     "duration": 0.125565,
     "end_time": "2022-03-16T07:40:08.826049",
     "exception": false,
     "start_time": "2022-03-16T07:40:08.700484",
     "status": "completed"
    },
    "tags": []
   },
   "source": [
    "The sentiment labels are:\n",
    "\n",
    "0 - negative\n",
    "\n",
    "1 - somewhat negative\n",
    "\n",
    "2 - neutral\n",
    "\n",
    "3 - somewhat positive\n",
    "\n",
    "4 - positive"
   ]
  },
  {
   "cell_type": "code",
   "execution_count": 16,
   "id": "e4f45d7c",
   "metadata": {
    "execution": {
     "iopub.execute_input": "2022-03-16T07:40:09.084722Z",
     "iopub.status.busy": "2022-03-16T07:40:09.084103Z",
     "iopub.status.idle": "2022-03-16T07:40:09.103626Z",
     "shell.execute_reply": "2022-03-16T07:40:09.103998Z",
     "shell.execute_reply.started": "2022-03-16T04:20:12.511328Z"
    },
    "papermill": {
     "duration": 0.151647,
     "end_time": "2022-03-16T07:40:09.104169",
     "exception": false,
     "start_time": "2022-03-16T07:40:08.952522",
     "status": "completed"
    },
    "tags": []
   },
   "outputs": [
    {
     "data": {
      "text/plain": [
       "2    79582\n",
       "3    32927\n",
       "1    27273\n",
       "4     9206\n",
       "0     7072\n",
       "Name: Sentiment, dtype: int32"
      ]
     },
     "execution_count": 16,
     "metadata": {},
     "output_type": "execute_result"
    }
   ],
   "source": [
    "train_df['Sentiment'].value_counts()"
   ]
  },
  {
   "cell_type": "markdown",
   "id": "8d255147",
   "metadata": {
    "papermill": {
     "duration": 0.127352,
     "end_time": "2022-03-16T07:40:09.359683",
     "exception": false,
     "start_time": "2022-03-16T07:40:09.232331",
     "status": "completed"
    },
    "tags": []
   },
   "source": [
    "We see that label-2 which is the neutral label, has the highest number of examples"
   ]
  },
  {
   "cell_type": "code",
   "execution_count": 17,
   "id": "0e5d8fcd",
   "metadata": {
    "execution": {
     "iopub.execute_input": "2022-03-16T07:40:09.622473Z",
     "iopub.status.busy": "2022-03-16T07:40:09.621623Z",
     "iopub.status.idle": "2022-03-16T07:40:09.902053Z",
     "shell.execute_reply": "2022-03-16T07:40:09.901629Z",
     "shell.execute_reply.started": "2022-03-16T04:20:12.544741Z"
    },
    "papermill": {
     "duration": 0.414261,
     "end_time": "2022-03-16T07:40:09.902176",
     "exception": false,
     "start_time": "2022-03-16T07:40:09.487915",
     "status": "completed"
    },
    "tags": []
   },
   "outputs": [
    {
     "data": {
      "text/plain": [
       "<AxesSubplot:xlabel='Sentiment', ylabel='count'>"
      ]
     },
     "execution_count": 17,
     "metadata": {},
     "output_type": "execute_result"
    },
    {
     "data": {
      "image/png": "[encoded data removed]",
      "text/plain": [
       "<Figure size 432x288 with 1 Axes>"
      ]
     },
     "metadata": {
      "needs_background": "light"
     },
     "output_type": "display_data"
    }
   ],
   "source": [
    "train=train_df.to_pandas()\n",
    "sns.countplot(x ='Sentiment', data = train)"
   ]
  },
  {
   "cell_type": "code",
   "execution_count": 18,
   "id": "2ffca3a0",
   "metadata": {
    "execution": {
     "iopub.execute_input": "2022-03-16T07:40:10.169715Z",
     "iopub.status.busy": "2022-03-16T07:40:10.168955Z",
     "iopub.status.idle": "2022-03-16T07:40:11.112683Z",
     "shell.execute_reply": "2022-03-16T07:40:11.113354Z",
     "shell.execute_reply.started": "2022-03-16T04:20:12.905077Z"
    },
    "papermill": {
     "duration": 1.081111,
     "end_time": "2022-03-16T07:40:11.113504",
     "exception": false,
     "start_time": "2022-03-16T07:40:10.032393",
     "status": "completed"
    },
    "tags": []
   },
   "outputs": [
    {
     "data": {
      "text/plain": [
       "'A series of escapades demonstrating the adage that what is good for the goose is also good for the gander , some of which occasionally amuses but none of which amounts to much of a story .'"
      ]
     },
     "execution_count": 18,
     "metadata": {},
     "output_type": "execute_result"
    }
   ],
   "source": [
    "train_df['Phrase'][0]"
   ]
  },
  {
   "cell_type": "markdown",
   "id": "86a66d5b",
   "metadata": {
    "papermill": {
     "duration": 0.128776,
     "end_time": "2022-03-16T07:40:11.371994",
     "exception": false,
     "start_time": "2022-03-16T07:40:11.243218",
     "status": "completed"
    },
    "tags": []
   },
   "source": [
    "**Text Preprocessing**"
   ]
  },
  {
   "cell_type": "markdown",
   "id": "d79d1a82",
   "metadata": {
    "papermill": {
     "duration": 0.143894,
     "end_time": "2022-03-16T07:40:11.646294",
     "exception": false,
     "start_time": "2022-03-16T07:40:11.502400",
     "status": "completed"
    },
    "tags": []
   },
   "source": [
    "Steps-\n",
    "\n",
    "1) Remove Punctuations\n",
    "\n",
    "2) Remove HTML Tags\n",
    "\n",
    "3) Convert text to lowercase\n",
    "\n",
    "4) Remove all special characters \n",
    "\n",
    "5) Remove stopwords\n",
    "\n",
    "6) Perform Stemming\n",
    "\n",
    "7) Join back after stemming"
   ]
  },
  {
   "cell_type": "code",
   "execution_count": 19,
   "id": "c3501ac1",
   "metadata": {
    "execution": {
     "iopub.execute_input": "2022-03-16T07:40:12.114734Z",
     "iopub.status.busy": "2022-03-16T07:40:12.113919Z",
     "iopub.status.idle": "2022-03-16T07:40:13.160095Z",
     "shell.execute_reply": "2022-03-16T07:40:13.160753Z",
     "shell.execute_reply.started": "2022-03-16T04:20:14.032112Z"
    },
    "papermill": {
     "duration": 1.284225,
     "end_time": "2022-03-16T07:40:13.160919",
     "exception": false,
     "start_time": "2022-03-16T07:40:11.876694",
     "status": "completed"
    },
    "tags": []
   },
   "outputs": [
    {
     "data": {
      "text/plain": [
       "<AxesSubplot:>"
      ]
     },
     "execution_count": 19,
     "metadata": {},
     "output_type": "execute_result"
    },
    {
     "data": {
      "image/png": "[encoded data removed]",
      "text/plain": [
       "<Figure size 432x288 with 2 Axes>"
      ]
     },
     "metadata": {
      "needs_background": "light"
     },
     "output_type": "display_data"
    }
   ],
   "source": [
    "sns.heatmap(train.isnull(),cmap='plasma')"
   ]
  },
  {
   "cell_type": "code",
   "execution_count": 20,
   "id": "af35e9b4",
   "metadata": {
    "execution": {
     "iopub.execute_input": "2022-03-16T07:40:13.430458Z",
     "iopub.status.busy": "2022-03-16T07:40:13.429552Z",
     "iopub.status.idle": "2022-03-16T07:40:13.461746Z",
     "shell.execute_reply": "2022-03-16T07:40:13.462133Z",
     "shell.execute_reply.started": "2022-03-16T04:20:15.283149Z"
    },
    "papermill": {
     "duration": 0.168135,
     "end_time": "2022-03-16T07:40:13.462310",
     "exception": false,
     "start_time": "2022-03-16T07:40:13.294175",
     "status": "completed"
    },
    "tags": []
   },
   "outputs": [],
   "source": [
    "test=test_df.to_pandas()"
   ]
  },
  {
   "cell_type": "code",
   "execution_count": 21,
   "id": "31d46178",
   "metadata": {
    "execution": {
     "iopub.execute_input": "2022-03-16T07:40:13.735260Z",
     "iopub.status.busy": "2022-03-16T07:40:13.734431Z",
     "iopub.status.idle": "2022-03-16T07:40:14.283942Z",
     "shell.execute_reply": "2022-03-16T07:40:14.284417Z",
     "shell.execute_reply.started": "2022-03-16T04:20:15.330153Z"
    },
    "papermill": {
     "duration": 0.690991,
     "end_time": "2022-03-16T07:40:14.284571",
     "exception": false,
     "start_time": "2022-03-16T07:40:13.593580",
     "status": "completed"
    },
    "tags": []
   },
   "outputs": [
    {
     "data": {
      "text/plain": [
       "<AxesSubplot:>"
      ]
     },
     "execution_count": 21,
     "metadata": {},
     "output_type": "execute_result"
    },
    {
     "data": {
      "image/png": "[encoded data removed]",
      "text/plain": [
       "<Figure size 432x288 with 2 Axes>"
      ]
     },
     "metadata": {
      "needs_background": "light"
     },
     "output_type": "display_data"
    }
   ],
   "source": [
    "sns.heatmap(test.isnull(),cmap='plasma')"
   ]
  },
  {
   "cell_type": "code",
   "execution_count": 22,
   "id": "a9868e73",
   "metadata": {
    "execution": {
     "iopub.execute_input": "2022-03-16T07:40:14.553528Z",
     "iopub.status.busy": "2022-03-16T07:40:14.552066Z",
     "iopub.status.idle": "2022-03-16T07:40:14.556543Z",
     "shell.execute_reply": "2022-03-16T07:40:14.557077Z",
     "shell.execute_reply.started": "2022-03-16T04:20:16.040759Z"
    },
    "papermill": {
     "duration": 0.140508,
     "end_time": "2022-03-16T07:40:14.557214",
     "exception": false,
     "start_time": "2022-03-16T07:40:14.416706",
     "status": "completed"
    },
    "tags": []
   },
   "outputs": [
    {
     "data": {
      "text/plain": [
       "'!\"#$%&\\'()*+,-./:;<=>?@[\\\\]^_`{|}~'"
      ]
     },
     "execution_count": 22,
     "metadata": {},
     "output_type": "execute_result"
    }
   ],
   "source": [
    "import string\n",
    "import re\n",
    "string.punctuation"
   ]
  },
  {
   "cell_type": "code",
   "execution_count": 23,
   "id": "4b2dba7b",
   "metadata": {
    "execution": {
     "iopub.execute_input": "2022-03-16T07:40:14.828669Z",
     "iopub.status.busy": "2022-03-16T07:40:14.827861Z",
     "iopub.status.idle": "2022-03-16T07:40:15.552114Z",
     "shell.execute_reply": "2022-03-16T07:40:15.551606Z",
     "shell.execute_reply.started": "2022-03-16T04:20:16.050794Z"
    },
    "papermill": {
     "duration": 0.861173,
     "end_time": "2022-03-16T07:40:15.552259",
     "exception": false,
     "start_time": "2022-03-16T07:40:14.691086",
     "status": "completed"
    },
    "tags": []
   },
   "outputs": [],
   "source": [
    "#removing punctuations\n",
    "train['Phrase']=train['Phrase'].apply(lambda x: x.translate(str.maketrans('','',string.punctuation)).lower())\n",
    "#removing punctuations\n",
    "test['Phrase']=test['Phrase'].apply(lambda x: x.translate(str.maketrans('','',string.punctuation)).lower())"
   ]
  },
  {
   "cell_type": "code",
   "execution_count": 24,
   "id": "00c917e9",
   "metadata": {
    "execution": {
     "iopub.execute_input": "2022-03-16T07:40:15.823610Z",
     "iopub.status.busy": "2022-03-16T07:40:15.822820Z",
     "iopub.status.idle": "2022-03-16T07:40:15.825230Z",
     "shell.execute_reply": "2022-03-16T07:40:15.824844Z",
     "shell.execute_reply.started": "2022-03-16T04:20:17.261184Z"
    },
    "papermill": {
     "duration": 0.138161,
     "end_time": "2022-03-16T07:40:15.825369",
     "exception": false,
     "start_time": "2022-03-16T07:40:15.687208",
     "status": "completed"
    },
    "tags": []
   },
   "outputs": [],
   "source": [
    "#remove html tags\n",
    "def clean_html(text):\n",
    "    clean=re.compile('<.*?>')\n",
    "    return re.sub(clean,'',text)"
   ]
  },
  {
   "cell_type": "code",
   "execution_count": 25,
   "id": "9d8e0413",
   "metadata": {
    "execution": {
     "iopub.execute_input": "2022-03-16T07:40:16.095540Z",
     "iopub.status.busy": "2022-03-16T07:40:16.094773Z",
     "iopub.status.idle": "2022-03-16T07:40:16.635352Z",
     "shell.execute_reply": "2022-03-16T07:40:16.634881Z",
     "shell.execute_reply.started": "2022-03-16T04:20:17.276848Z"
    },
    "papermill": {
     "duration": 0.678632,
     "end_time": "2022-03-16T07:40:16.635493",
     "exception": false,
     "start_time": "2022-03-16T07:40:15.956861",
     "status": "completed"
    },
    "tags": []
   },
   "outputs": [],
   "source": [
    "train['Phrase']=train['Phrase'].apply(clean_html)\n",
    "test['Phrase']=test['Phrase'].apply(clean_html)"
   ]
  },
  {
   "cell_type": "code",
   "execution_count": 26,
   "id": "fdd9e796",
   "metadata": {
    "execution": {
     "iopub.execute_input": "2022-03-16T07:40:16.913212Z",
     "iopub.status.busy": "2022-03-16T07:40:16.912566Z",
     "iopub.status.idle": "2022-03-16T07:40:16.915117Z",
     "shell.execute_reply": "2022-03-16T07:40:16.914725Z",
     "shell.execute_reply.started": "2022-03-16T04:20:18.237702Z"
    },
    "papermill": {
     "duration": 0.142806,
     "end_time": "2022-03-16T07:40:16.915225",
     "exception": false,
     "start_time": "2022-03-16T07:40:16.772419",
     "status": "completed"
    },
    "tags": []
   },
   "outputs": [],
   "source": [
    "#convert text to lowercase\n",
    "def convert_lower(text):\n",
    "    return text.lower()"
   ]
  },
  {
   "cell_type": "code",
   "execution_count": 27,
   "id": "df4ef7ae",
   "metadata": {
    "execution": {
     "iopub.execute_input": "2022-03-16T07:40:17.187759Z",
     "iopub.status.busy": "2022-03-16T07:40:17.186352Z",
     "iopub.status.idle": "2022-03-16T07:40:17.265321Z",
     "shell.execute_reply": "2022-03-16T07:40:17.265746Z",
     "shell.execute_reply.started": "2022-03-16T04:20:18.247460Z"
    },
    "papermill": {
     "duration": 0.217861,
     "end_time": "2022-03-16T07:40:17.265907",
     "exception": false,
     "start_time": "2022-03-16T07:40:17.048046",
     "status": "completed"
    },
    "tags": []
   },
   "outputs": [],
   "source": [
    "train['Phrase']=train['Phrase'].apply(convert_lower)\n",
    "test['Phrase']=test['Phrase'].apply(convert_lower)"
   ]
  },
  {
   "cell_type": "code",
   "execution_count": 28,
   "id": "d7258680",
   "metadata": {
    "execution": {
     "iopub.execute_input": "2022-03-16T07:40:17.537175Z",
     "iopub.status.busy": "2022-03-16T07:40:17.536356Z",
     "iopub.status.idle": "2022-03-16T07:40:17.538185Z",
     "shell.execute_reply": "2022-03-16T07:40:17.538683Z",
     "shell.execute_reply.started": "2022-03-16T04:20:18.346798Z"
    },
    "papermill": {
     "duration": 0.139211,
     "end_time": "2022-03-16T07:40:17.538815",
     "exception": false,
     "start_time": "2022-03-16T07:40:17.399604",
     "status": "completed"
    },
    "tags": []
   },
   "outputs": [],
   "source": [
    "#remove special characters\n",
    "def remove_special(text):\n",
    "    x=''\n",
    "    \n",
    "    for i in text:\n",
    "        if i.isalnum():\n",
    "            x=x+i\n",
    "        else:\n",
    "            x=x+' '\n",
    "    return x"
   ]
  },
  {
   "cell_type": "code",
   "execution_count": 29,
   "id": "86b849c5",
   "metadata": {
    "execution": {
     "iopub.execute_input": "2022-03-16T07:40:17.833564Z",
     "iopub.status.busy": "2022-03-16T07:40:17.828450Z",
     "iopub.status.idle": "2022-03-16T07:40:19.109850Z",
     "shell.execute_reply": "2022-03-16T07:40:19.108966Z",
     "shell.execute_reply.started": "2022-03-16T04:20:18.362078Z"
    },
    "papermill": {
     "duration": 1.429363,
     "end_time": "2022-03-16T07:40:19.109989",
     "exception": false,
     "start_time": "2022-03-16T07:40:17.680626",
     "status": "completed"
    },
    "tags": []
   },
   "outputs": [],
   "source": [
    "train['Phrase']=train['Phrase'].apply(remove_special)\n",
    "test['Phrase']=test['Phrase'].apply(remove_special)"
   ]
  },
  {
   "cell_type": "code",
   "execution_count": 30,
   "id": "1a5b6ced",
   "metadata": {
    "execution": {
     "iopub.execute_input": "2022-03-16T07:40:19.379738Z",
     "iopub.status.busy": "2022-03-16T07:40:19.379116Z",
     "iopub.status.idle": "2022-03-16T07:40:19.390450Z",
     "shell.execute_reply": "2022-03-16T07:40:19.390851Z",
     "shell.execute_reply.started": "2022-03-16T04:20:20.131491Z"
    },
    "papermill": {
     "duration": 0.147855,
     "end_time": "2022-03-16T07:40:19.390991",
     "exception": false,
     "start_time": "2022-03-16T07:40:19.243136",
     "status": "completed"
    },
    "tags": []
   },
   "outputs": [
    {
     "data": {
      "text/plain": [
       "['i',\n",
       " 'me',\n",
       " 'my',\n",
       " 'myself',\n",
       " 'we',\n",
       " 'our',\n",
       " 'ours',\n",
       " 'ourselves',\n",
       " 'you',\n",
       " \"you're\",\n",
       " \"you've\",\n",
       " \"you'll\",\n",
       " \"you'd\",\n",
       " 'your',\n",
       " 'yours',\n",
       " 'yourself',\n",
       " 'yourselves',\n",
       " 'he',\n",
       " 'him',\n",
       " 'his',\n",
       " 'himself',\n",
       " 'she',\n",
       " \"she's\",\n",
       " 'her',\n",
       " 'hers',\n",
       " 'herself',\n",
       " 'it',\n",
       " \"it's\",\n",
       " 'its',\n",
       " 'itself',\n",
       " 'they',\n",
       " 'them',\n",
       " 'their',\n",
       " 'theirs',\n",
       " 'themselves',\n",
       " 'what',\n",
       " 'which',\n",
       " 'who',\n",
       " 'whom',\n",
       " 'this',\n",
       " 'that',\n",
       " \"that'll\",\n",
       " 'these',\n",
       " 'those',\n",
       " 'am',\n",
       " 'is',\n",
       " 'are',\n",
       " 'was',\n",
       " 'were',\n",
       " 'be',\n",
       " 'been',\n",
       " 'being',\n",
       " 'have',\n",
       " 'has',\n",
       " 'had',\n",
       " 'having',\n",
       " 'do',\n",
       " 'does',\n",
       " 'did',\n",
       " 'doing',\n",
       " 'a',\n",
       " 'an',\n",
       " 'the',\n",
       " 'and',\n",
       " 'but',\n",
       " 'if',\n",
       " 'or',\n",
       " 'because',\n",
       " 'as',\n",
       " 'until',\n",
       " 'while',\n",
       " 'of',\n",
       " 'at',\n",
       " 'by',\n",
       " 'for',\n",
       " 'with',\n",
       " 'about',\n",
       " 'against',\n",
       " 'between',\n",
       " 'into',\n",
       " 'through',\n",
       " 'during',\n",
       " 'before',\n",
       " 'after',\n",
       " 'above',\n",
       " 'below',\n",
       " 'to',\n",
       " 'from',\n",
       " 'up',\n",
       " 'down',\n",
       " 'in',\n",
       " 'out',\n",
       " 'on',\n",
       " 'off',\n",
       " 'over',\n",
       " 'under',\n",
       " 'again',\n",
       " 'further',\n",
       " 'then',\n",
       " 'once',\n",
       " 'here',\n",
       " 'there',\n",
       " 'when',\n",
       " 'where',\n",
       " 'why',\n",
       " 'how',\n",
       " 'all',\n",
       " 'any',\n",
       " 'both',\n",
       " 'each',\n",
       " 'few',\n",
       " 'more',\n",
       " 'most',\n",
       " 'other',\n",
       " 'some',\n",
       " 'such',\n",
       " 'no',\n",
       " 'nor',\n",
       " 'not',\n",
       " 'only',\n",
       " 'own',\n",
       " 'same',\n",
       " 'so',\n",
       " 'than',\n",
       " 'too',\n",
       " 'very',\n",
       " 's',\n",
       " 't',\n",
       " 'can',\n",
       " 'will',\n",
       " 'just',\n",
       " 'don',\n",
       " \"don't\",\n",
       " 'should',\n",
       " \"should've\",\n",
       " 'now',\n",
       " 'd',\n",
       " 'll',\n",
       " 'm',\n",
       " 'o',\n",
       " 're',\n",
       " 've',\n",
       " 'y',\n",
       " 'ain',\n",
       " 'aren',\n",
       " \"aren't\",\n",
       " 'couldn',\n",
       " \"couldn't\",\n",
       " 'didn',\n",
       " \"didn't\",\n",
       " 'doesn',\n",
       " \"doesn't\",\n",
       " 'hadn',\n",
       " \"hadn't\",\n",
       " 'hasn',\n",
       " \"hasn't\",\n",
       " 'haven',\n",
       " \"haven't\",\n",
       " 'isn',\n",
       " \"isn't\",\n",
       " 'ma',\n",
       " 'mightn',\n",
       " \"mightn't\",\n",
       " 'mustn',\n",
       " \"mustn't\",\n",
       " 'needn',\n",
       " \"needn't\",\n",
       " 'shan',\n",
       " \"shan't\",\n",
       " 'shouldn',\n",
       " \"shouldn't\",\n",
       " 'wasn',\n",
       " \"wasn't\",\n",
       " 'weren',\n",
       " \"weren't\",\n",
       " 'won',\n",
       " \"won't\",\n",
       " 'wouldn',\n",
       " \"wouldn't\"]"
      ]
     },
     "execution_count": 30,
     "metadata": {},
     "output_type": "execute_result"
    }
   ],
   "source": [
    "stopwords.words('english')"
   ]
  },
  {
   "cell_type": "code",
   "execution_count": 31,
   "id": "e12fcf57",
   "metadata": {
    "execution": {
     "iopub.execute_input": "2022-03-16T07:40:19.660838Z",
     "iopub.status.busy": "2022-03-16T07:40:19.660077Z",
     "iopub.status.idle": "2022-03-16T07:40:19.662025Z",
     "shell.execute_reply": "2022-03-16T07:40:19.662418Z",
     "shell.execute_reply.started": "2022-03-16T04:20:20.152835Z"
    },
    "papermill": {
     "duration": 0.139569,
     "end_time": "2022-03-16T07:40:19.662553",
     "exception": false,
     "start_time": "2022-03-16T07:40:19.522984",
     "status": "completed"
    },
    "tags": []
   },
   "outputs": [],
   "source": [
    "#remove stopwords\n",
    "def remove_stopwords(text):\n",
    "    x=[]\n",
    "    for i in text.split():\n",
    "        \n",
    "        if i not in stopwords.words('english'):\n",
    "            x.append(i)\n",
    "    \n",
    "    y=x[:]\n",
    "    x.clear()\n",
    "    return y"
   ]
  },
  {
   "cell_type": "code",
   "execution_count": 32,
   "id": "ede57c15",
   "metadata": {
    "execution": {
     "iopub.execute_input": "2022-03-16T07:40:19.944789Z",
     "iopub.status.busy": "2022-03-16T07:40:19.943958Z",
     "iopub.status.idle": "2022-03-16T07:43:04.026512Z",
     "shell.execute_reply": "2022-03-16T07:43:04.025812Z",
     "shell.execute_reply.started": "2022-03-16T04:20:20.161897Z"
    },
    "papermill": {
     "duration": 164.223101,
     "end_time": "2022-03-16T07:43:04.026669",
     "exception": false,
     "start_time": "2022-03-16T07:40:19.803568",
     "status": "completed"
    },
    "tags": []
   },
   "outputs": [],
   "source": [
    "train['Phrase']=train['Phrase'].apply(remove_stopwords)\n",
    "test['Phrase']=test['Phrase'].apply(remove_stopwords)"
   ]
  },
  {
   "cell_type": "code",
   "execution_count": 33,
   "id": "f6fd469c",
   "metadata": {
    "execution": {
     "iopub.execute_input": "2022-03-16T07:43:04.297350Z",
     "iopub.status.busy": "2022-03-16T07:43:04.296473Z",
     "iopub.status.idle": "2022-03-16T07:43:04.298750Z",
     "shell.execute_reply": "2022-03-16T07:43:04.298249Z",
     "shell.execute_reply.started": "2022-03-16T04:24:27.701648Z"
    },
    "papermill": {
     "duration": 0.138594,
     "end_time": "2022-03-16T07:43:04.298858",
     "exception": false,
     "start_time": "2022-03-16T07:43:04.160264",
     "status": "completed"
    },
    "tags": []
   },
   "outputs": [],
   "source": [
    "ps=PorterStemmer()"
   ]
  },
  {
   "cell_type": "code",
   "execution_count": 34,
   "id": "e7dac44a",
   "metadata": {
    "execution": {
     "iopub.execute_input": "2022-03-16T07:43:04.566495Z",
     "iopub.status.busy": "2022-03-16T07:43:04.565711Z",
     "iopub.status.idle": "2022-03-16T07:43:04.568162Z",
     "shell.execute_reply": "2022-03-16T07:43:04.567715Z",
     "shell.execute_reply.started": "2022-03-16T04:24:27.712408Z"
    },
    "papermill": {
     "duration": 0.138004,
     "end_time": "2022-03-16T07:43:04.568286",
     "exception": false,
     "start_time": "2022-03-16T07:43:04.430282",
     "status": "completed"
    },
    "tags": []
   },
   "outputs": [],
   "source": [
    "y=[]\n",
    "#stem the words\n",
    "def stem_words(text):\n",
    "    for i in text:\n",
    "        y.append(ps.stem(i))\n",
    "    z=y[:]\n",
    "    y.clear()\n",
    "    return z"
   ]
  },
  {
   "cell_type": "code",
   "execution_count": 35,
   "id": "21ac7c6b",
   "metadata": {
    "execution": {
     "iopub.execute_input": "2022-03-16T07:43:04.838729Z",
     "iopub.status.busy": "2022-03-16T07:43:04.837973Z",
     "iopub.status.idle": "2022-03-16T07:43:28.504378Z",
     "shell.execute_reply": "2022-03-16T07:43:28.503512Z",
     "shell.execute_reply.started": "2022-03-16T04:24:27.724127Z"
    },
    "papermill": {
     "duration": 23.80466,
     "end_time": "2022-03-16T07:43:28.504522",
     "exception": false,
     "start_time": "2022-03-16T07:43:04.699862",
     "status": "completed"
    },
    "tags": []
   },
   "outputs": [],
   "source": [
    "train['Phrase']=train['Phrase'].apply(stem_words)\n",
    "test['Phrase']=test['Phrase'].apply(stem_words)"
   ]
  },
  {
   "cell_type": "code",
   "execution_count": 36,
   "id": "22eb1bfd",
   "metadata": {
    "execution": {
     "iopub.execute_input": "2022-03-16T07:43:28.783814Z",
     "iopub.status.busy": "2022-03-16T07:43:28.783038Z",
     "iopub.status.idle": "2022-03-16T07:43:28.785476Z",
     "shell.execute_reply": "2022-03-16T07:43:28.785012Z",
     "shell.execute_reply.started": "2022-03-16T04:24:56.864563Z"
    },
    "papermill": {
     "duration": 0.1413,
     "end_time": "2022-03-16T07:43:28.785590",
     "exception": false,
     "start_time": "2022-03-16T07:43:28.644290",
     "status": "completed"
    },
    "tags": []
   },
   "outputs": [],
   "source": [
    "#join the stem words together\n",
    "def join_back(list_input):\n",
    "    return \" \".join(list_input)"
   ]
  },
  {
   "cell_type": "code",
   "execution_count": 37,
   "id": "caef3e29",
   "metadata": {
    "execution": {
     "iopub.execute_input": "2022-03-16T07:43:29.055280Z",
     "iopub.status.busy": "2022-03-16T07:43:29.054357Z",
     "iopub.status.idle": "2022-03-16T07:43:29.162921Z",
     "shell.execute_reply": "2022-03-16T07:43:29.162452Z",
     "shell.execute_reply.started": "2022-03-16T04:24:56.872640Z"
    },
    "papermill": {
     "duration": 0.245361,
     "end_time": "2022-03-16T07:43:29.163046",
     "exception": false,
     "start_time": "2022-03-16T07:43:28.917685",
     "status": "completed"
    },
    "tags": []
   },
   "outputs": [],
   "source": [
    "train['Phrase']=train['Phrase'].apply(join_back)\n",
    "test['Phrase']=test['Phrase'].apply(join_back)"
   ]
  },
  {
   "cell_type": "code",
   "execution_count": 38,
   "id": "0e6727a2",
   "metadata": {
    "execution": {
     "iopub.execute_input": "2022-03-16T07:43:29.449021Z",
     "iopub.status.busy": "2022-03-16T07:43:29.443870Z",
     "iopub.status.idle": "2022-03-16T07:43:31.144374Z",
     "shell.execute_reply": "2022-03-16T07:43:31.143874Z",
     "shell.execute_reply.started": "2022-03-16T04:24:57.007478Z"
    },
    "papermill": {
     "duration": 1.849156,
     "end_time": "2022-03-16T07:43:31.144517",
     "exception": false,
     "start_time": "2022-03-16T07:43:29.295361",
     "status": "completed"
    },
    "tags": []
   },
   "outputs": [],
   "source": [
    "X_train =train['Phrase']\n",
    "y_train = train['Sentiment']\n",
    "tokenize = Tokenizer()\n",
    "tokenize.fit_on_texts(X_train.values)"
   ]
  },
  {
   "cell_type": "code",
   "execution_count": 39,
   "id": "3f8ee2c6",
   "metadata": {
    "execution": {
     "iopub.execute_input": "2022-03-16T07:43:31.498755Z",
     "iopub.status.busy": "2022-03-16T07:43:31.462954Z",
     "iopub.status.idle": "2022-03-16T07:43:33.415805Z",
     "shell.execute_reply": "2022-03-16T07:43:33.415356Z",
     "shell.execute_reply.started": "2022-03-16T04:24:58.743789Z"
    },
    "papermill": {
     "duration": 2.137938,
     "end_time": "2022-03-16T07:43:33.415926",
     "exception": false,
     "start_time": "2022-03-16T07:43:31.277988",
     "status": "completed"
    },
    "tags": []
   },
   "outputs": [],
   "source": [
    "X_test = test['Phrase']\n",
    "X_train = tokenize.texts_to_sequences(X_train)\n",
    "X_test = tokenize.texts_to_sequences(X_test)"
   ]
  },
  {
   "cell_type": "code",
   "execution_count": 40,
   "id": "3681e900",
   "metadata": {
    "execution": {
     "iopub.execute_input": "2022-03-16T07:43:33.699672Z",
     "iopub.status.busy": "2022-03-16T07:43:33.698892Z",
     "iopub.status.idle": "2022-03-16T07:43:34.663026Z",
     "shell.execute_reply": "2022-03-16T07:43:34.663462Z",
     "shell.execute_reply.started": "2022-03-16T04:25:01.165167Z"
    },
    "papermill": {
     "duration": 1.115601,
     "end_time": "2022-03-16T07:43:34.663627",
     "exception": false,
     "start_time": "2022-03-16T07:43:33.548026",
     "status": "completed"
    },
    "tags": []
   },
   "outputs": [],
   "source": [
    "#add padding using pre-method\n",
    "max_sequence_len = max([len(s.split()) for s in train['Phrase']])\n",
    "X_train = pad_sequences(X_train, max_sequence_len,padding='pre')\n",
    "X_test = pad_sequences(X_test, max_sequence_len,padding='pre')"
   ]
  },
  {
   "cell_type": "code",
   "execution_count": 41,
   "id": "c0b62f69",
   "metadata": {
    "execution": {
     "iopub.execute_input": "2022-03-16T07:43:34.935136Z",
     "iopub.status.busy": "2022-03-16T07:43:34.934462Z",
     "iopub.status.idle": "2022-03-16T07:43:34.937202Z",
     "shell.execute_reply": "2022-03-16T07:43:34.937618Z",
     "shell.execute_reply.started": "2022-03-16T04:25:02.336818Z"
    },
    "papermill": {
     "duration": 0.14053,
     "end_time": "2022-03-16T07:43:34.937749",
     "exception": false,
     "start_time": "2022-03-16T07:43:34.797219",
     "status": "completed"
    },
    "tags": []
   },
   "outputs": [
    {
     "data": {
      "text/plain": [
       "array([[   0,    0,    0, ...,  622,   15,    8],\n",
       "       [   0,    0,    0, ..., 5288,   12, 3081],\n",
       "       [   0,    0,    0, ...,    0,    0,  260],\n",
       "       ...,\n",
       "       [   0,    0,    0, ...,    0, 7384, 7385],\n",
       "       [   0,    0,    0, ...,    0,    0, 7384],\n",
       "       [   0,    0,    0, ...,    0,    0, 7385]], dtype=int32)"
      ]
     },
     "execution_count": 41,
     "metadata": {},
     "output_type": "execute_result"
    }
   ],
   "source": [
    "X_train"
   ]
  },
  {
   "cell_type": "code",
   "execution_count": 42,
   "id": "e3a9d46b",
   "metadata": {
    "execution": {
     "iopub.execute_input": "2022-03-16T07:43:35.208191Z",
     "iopub.status.busy": "2022-03-16T07:43:35.207437Z",
     "iopub.status.idle": "2022-03-16T07:43:35.210763Z",
     "shell.execute_reply": "2022-03-16T07:43:35.210230Z",
     "shell.execute_reply.started": "2022-03-16T04:25:02.347869Z"
    },
    "papermill": {
     "duration": 0.140706,
     "end_time": "2022-03-16T07:43:35.210868",
     "exception": false,
     "start_time": "2022-03-16T07:43:35.070162",
     "status": "completed"
    },
    "tags": []
   },
   "outputs": [
    {
     "name": "stdout",
     "output_type": "stream",
     "text": [
      "(156060, 30)\n",
      "(66292, 30)\n"
     ]
    }
   ],
   "source": [
    "print(X_train.shape)\n",
    "print(X_test.shape)"
   ]
  },
  {
   "cell_type": "markdown",
   "id": "8d399cf9",
   "metadata": {
    "papermill": {
     "duration": 0.132897,
     "end_time": "2022-03-16T07:43:35.476576",
     "exception": false,
     "start_time": "2022-03-16T07:43:35.343679",
     "status": "completed"
    },
    "tags": []
   },
   "source": [
    "# DEEP LEARNING MODELS"
   ]
  },
  {
   "cell_type": "markdown",
   "id": "e04a4112",
   "metadata": {
    "papermill": {
     "duration": 0.132978,
     "end_time": "2022-03-16T07:43:35.741589",
     "exception": false,
     "start_time": "2022-03-16T07:43:35.608611",
     "status": "completed"
    },
    "tags": []
   },
   "source": [
    "**1)LSTM MODEL**"
   ]
  },
  {
   "cell_type": "code",
   "execution_count": 43,
   "id": "103ca898",
   "metadata": {
    "execution": {
     "iopub.execute_input": "2022-03-16T07:43:36.014950Z",
     "iopub.status.busy": "2022-03-16T07:43:36.014426Z",
     "iopub.status.idle": "2022-03-16T07:43:36.570827Z",
     "shell.execute_reply": "2022-03-16T07:43:36.570207Z",
     "shell.execute_reply.started": "2022-03-16T04:27:06.843411Z"
    },
    "papermill": {
     "duration": 0.695813,
     "end_time": "2022-03-16T07:43:36.570963",
     "exception": false,
     "start_time": "2022-03-16T07:43:35.875150",
     "status": "completed"
    },
    "tags": []
   },
   "outputs": [
    {
     "name": "stderr",
     "output_type": "stream",
     "text": [
      "2022-03-16 07:43:36.040059: I tensorflow/stream_executor/cuda/cuda_gpu_executor.cc:937] successful NUMA node read from SysFS had negative value (-1), but there must be at least one NUMA node, so returning NUMA node zero\n",
      "2022-03-16 07:43:36.044101: I tensorflow/stream_executor/cuda/cuda_gpu_executor.cc:937] successful NUMA node read from SysFS had negative value (-1), but there must be at least one NUMA node, so returning NUMA node zero\n",
      "2022-03-16 07:43:36.044772: I tensorflow/stream_executor/cuda/cuda_gpu_executor.cc:937] successful NUMA node read from SysFS had negative value (-1), but there must be at least one NUMA node, so returning NUMA node zero\n",
      "2022-03-16 07:43:36.045805: I tensorflow/core/platform/cpu_feature_guard.cc:142] This TensorFlow binary is optimized with oneAPI Deep Neural Network Library (oneDNN) to use the following CPU instructions in performance-critical operations:  AVX2 AVX512F FMA\n",
      "To enable them in other operations, rebuild TensorFlow with the appropriate compiler flags.\n",
      "2022-03-16 07:43:36.046965: I tensorflow/stream_executor/cuda/cuda_gpu_executor.cc:937] successful NUMA node read from SysFS had negative value (-1), but there must be at least one NUMA node, so returning NUMA node zero\n",
      "2022-03-16 07:43:36.047584: I tensorflow/stream_executor/cuda/cuda_gpu_executor.cc:937] successful NUMA node read from SysFS had negative value (-1), but there must be at least one NUMA node, so returning NUMA node zero\n",
      "2022-03-16 07:43:36.048147: I tensorflow/stream_executor/cuda/cuda_gpu_executor.cc:937] successful NUMA node read from SysFS had negative value (-1), but there must be at least one NUMA node, so returning NUMA node zero\n",
      "2022-03-16 07:43:36.052028: I tensorflow/stream_executor/cuda/cuda_gpu_executor.cc:937] successful NUMA node read from SysFS had negative value (-1), but there must be at least one NUMA node, so returning NUMA node zero\n",
      "2022-03-16 07:43:36.052686: I tensorflow/stream_executor/cuda/cuda_gpu_executor.cc:937] successful NUMA node read from SysFS had negative value (-1), but there must be at least one NUMA node, so returning NUMA node zero\n",
      "2022-03-16 07:43:36.053283: I tensorflow/stream_executor/cuda/cuda_gpu_executor.cc:937] successful NUMA node read from SysFS had negative value (-1), but there must be at least one NUMA node, so returning NUMA node zero\n",
      "2022-03-16 07:43:36.053826: I tensorflow/core/common_runtime/gpu/gpu_device.cc:1510] Created device /job:localhost/replica:0/task:0/device:GPU:0 with 14995 MB memory:  -> device: 0, name: Tesla P100-PCIE-16GB, pci bus id: 0000:00:04.0, compute capability: 6.0\n"
     ]
    }
   ],
   "source": [
    "#LSTM Model\n",
    "embedding_dimension = 100\n",
    "input_val = len(tokenize.word_index)+1\n",
    "model_lstm = Sequential()\n",
    "model_lstm.add(Embedding(input_val, embedding_dimension, input_length=max_sequence_len))\n",
    "model_lstm.add(LSTM(units=256, dropout=0.2, recurrent_dropout=0.2 ))\n",
    "model_lstm.add(Dense(units=128,activation='relu'))\n",
    "model_lstm.add(Dense(64,activation='relu'))\n",
    "model_lstm.add(Dropout(0.2))\n",
    "model_lstm.add(Dense(5, activation='softmax'))# 5 as we are required to predict 5 labels-0,1,2,3,4\n"
   ]
  },
  {
   "cell_type": "code",
   "execution_count": 44,
   "id": "c8258f7b",
   "metadata": {
    "execution": {
     "iopub.execute_input": "2022-03-16T07:43:36.847307Z",
     "iopub.status.busy": "2022-03-16T07:43:36.846418Z",
     "iopub.status.idle": "2022-03-16T07:43:36.852504Z",
     "shell.execute_reply": "2022-03-16T07:43:36.851869Z",
     "shell.execute_reply.started": "2022-03-16T04:27:07.047690Z"
    },
    "papermill": {
     "duration": 0.146065,
     "end_time": "2022-03-16T07:43:36.852661",
     "exception": false,
     "start_time": "2022-03-16T07:43:36.706596",
     "status": "completed"
    },
    "tags": []
   },
   "outputs": [
    {
     "name": "stdout",
     "output_type": "stream",
     "text": [
      "Model: \"sequential\"\n",
      "_________________________________________________________________\n",
      "Layer (type)                 Output Shape              Param #   \n",
      "=================================================================\n",
      "embedding (Embedding)        (None, 30, 100)           1187800   \n",
      "_________________________________________________________________\n",
      "lstm (LSTM)                  (None, 256)               365568    \n",
      "_________________________________________________________________\n",
      "dense (Dense)                (None, 128)               32896     \n",
      "_________________________________________________________________\n",
      "dense_1 (Dense)              (None, 64)                8256      \n",
      "_________________________________________________________________\n",
      "dropout (Dropout)            (None, 64)                0         \n",
      "_________________________________________________________________\n",
      "dense_2 (Dense)              (None, 5)                 325       \n",
      "=================================================================\n",
      "Total params: 1,594,845\n",
      "Trainable params: 1,594,845\n",
      "Non-trainable params: 0\n",
      "_________________________________________________________________\n"
     ]
    }
   ],
   "source": [
    "model_lstm.summary()"
   ]
  },
  {
   "cell_type": "code",
   "execution_count": 45,
   "id": "69c23854",
   "metadata": {
    "execution": {
     "iopub.execute_input": "2022-03-16T07:43:37.126523Z",
     "iopub.status.busy": "2022-03-16T07:43:37.123888Z",
     "iopub.status.idle": "2022-03-16T07:43:37.129445Z",
     "shell.execute_reply": "2022-03-16T07:43:37.128965Z",
     "shell.execute_reply.started": "2022-03-16T04:27:07.199527Z"
    },
    "papermill": {
     "duration": 0.141977,
     "end_time": "2022-03-16T07:43:37.129556",
     "exception": false,
     "start_time": "2022-03-16T07:43:36.987579",
     "status": "completed"
    },
    "tags": []
   },
   "outputs": [],
   "source": [
    "early_stopping = EarlyStopping(min_delta = 0.001,\n",
    "                               mode = 'max',\n",
    "                               monitor = 'val_acc',\n",
    "                               patience = 2)\n",
    "callback = [early_stopping]"
   ]
  },
  {
   "cell_type": "code",
   "execution_count": 46,
   "id": "cfdf2937",
   "metadata": {
    "execution": {
     "iopub.execute_input": "2022-03-16T07:43:37.405765Z",
     "iopub.status.busy": "2022-03-16T07:43:37.404985Z",
     "iopub.status.idle": "2022-03-16T07:43:37.414279Z",
     "shell.execute_reply": "2022-03-16T07:43:37.413855Z",
     "shell.execute_reply.started": "2022-03-16T04:26:49.685793Z"
    },
    "papermill": {
     "duration": 0.149342,
     "end_time": "2022-03-16T07:43:37.414402",
     "exception": false,
     "start_time": "2022-03-16T07:43:37.265060",
     "status": "completed"
    },
    "tags": []
   },
   "outputs": [],
   "source": [
    "#Compiling the model\n",
    "model_lstm.compile(loss='sparse_categorical_crossentropy', optimizer='adam', metrics=['accuracy'])"
   ]
  },
  {
   "cell_type": "code",
   "execution_count": 47,
   "id": "d119bc87",
   "metadata": {
    "execution": {
     "iopub.execute_input": "2022-03-16T07:43:37.723569Z",
     "iopub.status.busy": "2022-03-16T07:43:37.722624Z",
     "iopub.status.idle": "2022-03-16T08:48:02.116227Z",
     "shell.execute_reply": "2022-03-16T08:48:02.116797Z",
     "shell.execute_reply.started": "2022-03-16T04:26:50.084270Z"
    },
    "papermill": {
     "duration": 3864.569101,
     "end_time": "2022-03-16T08:48:02.117004",
     "exception": false,
     "start_time": "2022-03-16T07:43:37.547903",
     "status": "completed"
    },
    "tags": []
   },
   "outputs": [
    {
     "name": "stderr",
     "output_type": "stream",
     "text": [
      "2022-03-16 07:43:37.784922: I tensorflow/compiler/mlir/mlir_graph_optimization_pass.cc:185] None of the MLIR Optimization Passes are enabled (registered 2)\n"
     ]
    },
    {
     "name": "stdout",
     "output_type": "stream",
     "text": [
      "Epoch 1/20\n",
      "1220/1220 [==============================] - 185s 149ms/step - loss: 0.9995 - accuracy: 0.5986\n",
      "Epoch 2/20\n",
      "1220/1220 [==============================] - 183s 150ms/step - loss: 0.8200 - accuracy: 0.6636\n",
      "Epoch 3/20\n",
      "1220/1220 [==============================] - 187s 153ms/step - loss: 0.7590 - accuracy: 0.6851\n",
      "Epoch 4/20\n",
      "1220/1220 [==============================] - 188s 154ms/step - loss: 0.7170 - accuracy: 0.6995\n",
      "Epoch 5/20\n",
      "1220/1220 [==============================] - 194s 159ms/step - loss: 0.6852 - accuracy: 0.7093\n",
      "Epoch 6/20\n",
      "1220/1220 [==============================] - 193s 158ms/step - loss: 0.6621 - accuracy: 0.7175\n",
      "Epoch 7/20\n",
      "1220/1220 [==============================] - 198s 163ms/step - loss: 0.6414 - accuracy: 0.7254\n",
      "Epoch 8/20\n",
      "1220/1220 [==============================] - 185s 152ms/step - loss: 0.6222 - accuracy: 0.7300\n",
      "Epoch 9/20\n",
      "1220/1220 [==============================] - 193s 158ms/step - loss: 0.6060 - accuracy: 0.7346\n",
      "Epoch 10/20\n",
      "1220/1220 [==============================] - 193s 158ms/step - loss: 0.5892 - accuracy: 0.7385\n",
      "Epoch 11/20\n",
      "1220/1220 [==============================] - 194s 159ms/step - loss: 0.5749 - accuracy: 0.7444\n",
      "Epoch 12/20\n",
      "1220/1220 [==============================] - 196s 161ms/step - loss: 0.5624 - accuracy: 0.7477\n",
      "Epoch 13/20\n",
      "1220/1220 [==============================] - 198s 162ms/step - loss: 0.5477 - accuracy: 0.7515\n",
      "Epoch 14/20\n",
      "1220/1220 [==============================] - 201s 164ms/step - loss: 0.5373 - accuracy: 0.7547\n",
      "Epoch 15/20\n",
      "1220/1220 [==============================] - 186s 152ms/step - loss: 0.5249 - accuracy: 0.7584\n",
      "Epoch 16/20\n",
      "1220/1220 [==============================] - 188s 154ms/step - loss: 0.5140 - accuracy: 0.7617\n",
      "Epoch 17/20\n",
      "1220/1220 [==============================] - 200s 164ms/step - loss: 0.5061 - accuracy: 0.7641\n",
      "Epoch 18/20\n",
      "1220/1220 [==============================] - 191s 156ms/step - loss: 0.4954 - accuracy: 0.7679\n",
      "Epoch 19/20\n",
      "1220/1220 [==============================] - 203s 167ms/step - loss: 0.4873 - accuracy: 0.7687\n",
      "Epoch 20/20\n",
      "1220/1220 [==============================] - 193s 159ms/step - loss: 0.4786 - accuracy: 0.7714\n"
     ]
    }
   ],
   "source": [
    "#Fit the model\n",
    "history_lstm=model_lstm.fit(X_train, y_train,batch_size=128, epochs=20, verbose=1,callbacks=callback)"
   ]
  },
  {
   "cell_type": "code",
   "execution_count": 48,
   "id": "3124dcf1",
   "metadata": {
    "execution": {
     "iopub.execute_input": "2022-03-16T08:48:18.140887Z",
     "iopub.status.busy": "2022-03-16T08:48:18.140007Z",
     "iopub.status.idle": "2022-03-16T08:48:18.195479Z",
     "shell.execute_reply": "2022-03-16T08:48:18.194982Z"
    },
    "papermill": {
     "duration": 8.330855,
     "end_time": "2022-03-16T08:48:18.195619",
     "exception": false,
     "start_time": "2022-03-16T08:48:09.864764",
     "status": "completed"
    },
    "tags": []
   },
   "outputs": [],
   "source": [
    "#Saving the model\n",
    "model_lstm.save('LSTM_Model.h5')"
   ]
  },
  {
   "cell_type": "code",
   "execution_count": 49,
   "id": "1bfce1f3",
   "metadata": {
    "execution": {
     "iopub.execute_input": "2022-03-16T08:48:34.492974Z",
     "iopub.status.busy": "2022-03-16T08:48:34.492082Z",
     "iopub.status.idle": "2022-03-16T08:48:34.699292Z",
     "shell.execute_reply": "2022-03-16T08:48:34.700465Z"
    },
    "papermill": {
     "duration": 7.960852,
     "end_time": "2022-03-16T08:48:34.700706",
     "exception": false,
     "start_time": "2022-03-16T08:48:26.739854",
     "status": "completed"
    },
    "tags": []
   },
   "outputs": [
    {
     "data": {
      "image/png": "[encoded data removed]",
      "text/plain": [
       "<Figure size 432x288 with 1 Axes>"
      ]
     },
     "metadata": {
      "needs_background": "light"
     },
     "output_type": "display_data"
    }
   ],
   "source": [
    "loss_train = history_lstm.history['loss']\n",
    "epochs = range(1,21)\n",
    "plt.plot(epochs, loss_train, 'g', label='Training loss')\n",
    "plt.title('Training loss')\n",
    "plt.xlabel('Epochs')\n",
    "plt.ylabel('Loss')\n",
    "plt.legend()\n",
    "plt.show()"
   ]
  },
  {
   "cell_type": "code",
   "execution_count": 50,
   "id": "e0ce0e9c",
   "metadata": {
    "execution": {
     "iopub.execute_input": "2022-03-16T08:48:50.707944Z",
     "iopub.status.busy": "2022-03-16T08:48:50.707074Z",
     "iopub.status.idle": "2022-03-16T08:48:50.889413Z",
     "shell.execute_reply": "2022-03-16T08:48:50.889855Z"
    },
    "papermill": {
     "duration": 8.261898,
     "end_time": "2022-03-16T08:48:50.890010",
     "exception": false,
     "start_time": "2022-03-16T08:48:42.628112",
     "status": "completed"
    },
    "tags": []
   },
   "outputs": [
    {
     "data": {
      "image/png": "[encoded data removed]",
      "text/plain": [
       "<Figure size 432x288 with 1 Axes>"
      ]
     },
     "metadata": {
      "needs_background": "light"
     },
     "output_type": "display_data"
    }
   ],
   "source": [
    "accuracy_train = history_lstm.history['accuracy']\n",
    "epochs = range(1,21)\n",
    "plt.plot(epochs, accuracy_train, 'g', label='Training Accuracy')\n",
    "plt.title('Training Accuracy')\n",
    "plt.xlabel('Epochs')\n",
    "plt.ylabel('Accuracy')\n",
    "plt.legend()\n",
    "plt.show()"
   ]
  },
  {
   "cell_type": "code",
   "execution_count": 51,
   "id": "a42a32df",
   "metadata": {
    "execution": {
     "iopub.execute_input": "2022-03-16T08:49:07.100425Z",
     "iopub.status.busy": "2022-03-16T08:49:07.099130Z",
     "iopub.status.idle": "2022-03-16T08:49:27.822465Z",
     "shell.execute_reply": "2022-03-16T08:49:27.821456Z"
    },
    "papermill": {
     "duration": 28.427205,
     "end_time": "2022-03-16T08:49:27.822606",
     "exception": false,
     "start_time": "2022-03-16T08:48:59.395401",
     "status": "completed"
    },
    "tags": []
   },
   "outputs": [],
   "source": [
    "#Predictions on the model\n",
    "predict_x=model_lstm.predict(X_test) \n",
    "classes_x=np.argmax(predict_x,axis=1)"
   ]
  },
  {
   "cell_type": "code",
   "execution_count": 52,
   "id": "b5e297e2",
   "metadata": {
    "execution": {
     "iopub.execute_input": "2022-03-16T08:49:44.571406Z",
     "iopub.status.busy": "2022-03-16T08:49:44.570623Z",
     "iopub.status.idle": "2022-03-16T08:49:44.573341Z",
     "shell.execute_reply": "2022-03-16T08:49:44.573729Z"
    },
    "papermill": {
     "duration": 8.207499,
     "end_time": "2022-03-16T08:49:44.573865",
     "exception": false,
     "start_time": "2022-03-16T08:49:36.366366",
     "status": "completed"
    },
    "tags": []
   },
   "outputs": [
    {
     "data": {
      "text/plain": [
       "array([2, 2, 2, ..., 1, 1, 2])"
      ]
     },
     "execution_count": 52,
     "metadata": {},
     "output_type": "execute_result"
    }
   ],
   "source": [
    "classes_x"
   ]
  },
  {
   "cell_type": "code",
   "execution_count": 53,
   "id": "f34d8828",
   "metadata": {
    "execution": {
     "iopub.execute_input": "2022-03-16T08:50:00.790755Z",
     "iopub.status.busy": "2022-03-16T08:50:00.790130Z",
     "iopub.status.idle": "2022-03-16T08:50:00.829539Z",
     "shell.execute_reply": "2022-03-16T08:50:00.829994Z"
    },
    "papermill": {
     "duration": 8.236372,
     "end_time": "2022-03-16T08:50:00.830146",
     "exception": false,
     "start_time": "2022-03-16T08:49:52.593774",
     "status": "completed"
    },
    "tags": []
   },
   "outputs": [],
   "source": [
    "#Submission of all the predictions\n",
    "submission_file =pd.read_csv('/kaggle/input/sentiment-analysis-on-movie-reviews/sampleSubmission.csv',sep=',')\n",
    "submission_file['Sentiment']=classes_x\n",
    "submission_file.to_csv('Submission_LSTM.csv',index=False)"
   ]
  },
  {
   "cell_type": "markdown",
   "id": "28fca5ec",
   "metadata": {
    "papermill": {
     "duration": 7.909144,
     "end_time": "2022-03-16T08:50:16.795957",
     "exception": false,
     "start_time": "2022-03-16T08:50:08.886813",
     "status": "completed"
    },
    "tags": []
   },
   "source": [
    "**2)ANN MODEL**"
   ]
  },
  {
   "cell_type": "code",
   "execution_count": 54,
   "id": "5013414c",
   "metadata": {
    "execution": {
     "iopub.execute_input": "2022-03-16T08:50:33.020376Z",
     "iopub.status.busy": "2022-03-16T08:50:33.019487Z",
     "iopub.status.idle": "2022-03-16T08:50:33.046995Z",
     "shell.execute_reply": "2022-03-16T08:50:33.046503Z"
    },
    "papermill": {
     "duration": 8.476569,
     "end_time": "2022-03-16T08:50:33.047120",
     "exception": false,
     "start_time": "2022-03-16T08:50:24.570551",
     "status": "completed"
    },
    "tags": []
   },
   "outputs": [],
   "source": [
    "import tensorflow as tf\n",
    "embedding_dimension = 100\n",
    "input_val = len(tokenize.word_index)+1\n",
    "model_ANN = tf.keras.Sequential([\n",
    "    tf.keras.layers.Embedding(input_val, embedding_dimension, input_length=max_sequence_len),\n",
    "    tf.keras.layers.Flatten(),\n",
    "    tf.keras.layers.Dense(256, activation='relu'),\n",
    "    tf.keras.layers.Dense(5, activation='softmax')\n",
    "])"
   ]
  },
  {
   "cell_type": "code",
   "execution_count": 55,
   "id": "87297369",
   "metadata": {
    "execution": {
     "iopub.execute_input": "2022-03-16T08:50:49.132001Z",
     "iopub.status.busy": "2022-03-16T08:50:49.131321Z",
     "iopub.status.idle": "2022-03-16T08:50:49.135110Z",
     "shell.execute_reply": "2022-03-16T08:50:49.135733Z"
    },
    "papermill": {
     "duration": 8.083256,
     "end_time": "2022-03-16T08:50:49.135924",
     "exception": false,
     "start_time": "2022-03-16T08:50:41.052668",
     "status": "completed"
    },
    "tags": []
   },
   "outputs": [
    {
     "name": "stdout",
     "output_type": "stream",
     "text": [
      "Model: \"sequential_1\"\n",
      "_________________________________________________________________\n",
      "Layer (type)                 Output Shape              Param #   \n",
      "=================================================================\n",
      "embedding_1 (Embedding)      (None, 30, 100)           1187800   \n",
      "_________________________________________________________________\n",
      "flatten (Flatten)            (None, 3000)              0         \n",
      "_________________________________________________________________\n",
      "dense_3 (Dense)              (None, 256)               768256    \n",
      "_________________________________________________________________\n",
      "dense_4 (Dense)              (None, 5)                 1285      \n",
      "=================================================================\n",
      "Total params: 1,957,341\n",
      "Trainable params: 1,957,341\n",
      "Non-trainable params: 0\n",
      "_________________________________________________________________\n"
     ]
    }
   ],
   "source": [
    "model_ANN.summary()"
   ]
  },
  {
   "cell_type": "code",
   "execution_count": 56,
   "id": "04a51359",
   "metadata": {
    "execution": {
     "iopub.execute_input": "2022-03-16T08:51:05.387737Z",
     "iopub.status.busy": "2022-03-16T08:51:05.386883Z",
     "iopub.status.idle": "2022-03-16T08:51:05.391332Z",
     "shell.execute_reply": "2022-03-16T08:51:05.390896Z"
    },
    "papermill": {
     "duration": 8.411946,
     "end_time": "2022-03-16T08:51:05.391454",
     "exception": false,
     "start_time": "2022-03-16T08:50:56.979508",
     "status": "completed"
    },
    "tags": []
   },
   "outputs": [],
   "source": [
    "model_ANN.compile(loss='sparse_categorical_crossentropy', optimizer='adam', metrics=['accuracy'])"
   ]
  },
  {
   "cell_type": "code",
   "execution_count": 57,
   "id": "a9e5f0d4",
   "metadata": {
    "execution": {
     "iopub.execute_input": "2022-03-16T08:51:21.641514Z",
     "iopub.status.busy": "2022-03-16T08:51:21.640593Z",
     "iopub.status.idle": "2022-03-16T08:54:43.912519Z",
     "shell.execute_reply": "2022-03-16T08:54:43.912946Z"
    },
    "papermill": {
     "duration": 210.456516,
     "end_time": "2022-03-16T08:54:43.913119",
     "exception": false,
     "start_time": "2022-03-16T08:51:13.456603",
     "status": "completed"
    },
    "tags": []
   },
   "outputs": [
    {
     "name": "stdout",
     "output_type": "stream",
     "text": [
      "Epoch 1/50\n",
      "1220/1220 [==============================] - 4s 3ms/step - loss: 0.9497 - accuracy: 0.6158\n",
      "Epoch 2/50\n",
      "1220/1220 [==============================] - 3s 3ms/step - loss: 0.7564 - accuracy: 0.6857\n",
      "Epoch 3/50\n",
      "1220/1220 [==============================] - 4s 3ms/step - loss: 0.6804 - accuracy: 0.7109\n",
      "Epoch 4/50\n",
      "1220/1220 [==============================] - 4s 3ms/step - loss: 0.6308 - accuracy: 0.7275\n",
      "Epoch 5/50\n",
      "1220/1220 [==============================] - 3s 3ms/step - loss: 0.5919 - accuracy: 0.7394\n",
      "Epoch 6/50\n",
      "1220/1220 [==============================] - 4s 3ms/step - loss: 0.5608 - accuracy: 0.7476\n",
      "Epoch 7/50\n",
      "1220/1220 [==============================] - 3s 3ms/step - loss: 0.5364 - accuracy: 0.7551\n",
      "Epoch 8/50\n",
      "1220/1220 [==============================] - 3s 3ms/step - loss: 0.5154 - accuracy: 0.7598\n",
      "Epoch 9/50\n",
      "1220/1220 [==============================] - 4s 3ms/step - loss: 0.4978 - accuracy: 0.7655\n",
      "Epoch 10/50\n",
      "1220/1220 [==============================] - 3s 3ms/step - loss: 0.4818 - accuracy: 0.7711\n",
      "Epoch 11/50\n",
      "1220/1220 [==============================] - 3s 3ms/step - loss: 0.4694 - accuracy: 0.7748\n",
      "Epoch 12/50\n",
      "1220/1220 [==============================] - 3s 3ms/step - loss: 0.4571 - accuracy: 0.7782\n",
      "Epoch 13/50\n",
      "1220/1220 [==============================] - 4s 3ms/step - loss: 0.4460 - accuracy: 0.7823\n",
      "Epoch 14/50\n",
      "1220/1220 [==============================] - 4s 3ms/step - loss: 0.4358 - accuracy: 0.7857\n",
      "Epoch 15/50\n",
      "1220/1220 [==============================] - 3s 3ms/step - loss: 0.4276 - accuracy: 0.7877\n",
      "Epoch 16/50\n",
      "1220/1220 [==============================] - 4s 3ms/step - loss: 0.4198 - accuracy: 0.7907\n",
      "Epoch 17/50\n",
      "1220/1220 [==============================] - 3s 3ms/step - loss: 0.4128 - accuracy: 0.7929\n",
      "Epoch 18/50\n",
      "1220/1220 [==============================] - 3s 3ms/step - loss: 0.4060 - accuracy: 0.7952\n",
      "Epoch 19/50\n",
      "1220/1220 [==============================] - 4s 3ms/step - loss: 0.3997 - accuracy: 0.7966\n",
      "Epoch 20/50\n",
      "1220/1220 [==============================] - 3s 3ms/step - loss: 0.3946 - accuracy: 0.7992\n",
      "Epoch 21/50\n",
      "1220/1220 [==============================] - 3s 3ms/step - loss: 0.3890 - accuracy: 0.8003\n",
      "Epoch 22/50\n",
      "1220/1220 [==============================] - 4s 3ms/step - loss: 0.3854 - accuracy: 0.8005\n",
      "Epoch 23/50\n",
      "1220/1220 [==============================] - 4s 3ms/step - loss: 0.3808 - accuracy: 0.8028\n",
      "Epoch 24/50\n",
      "1220/1220 [==============================] - 3s 3ms/step - loss: 0.3763 - accuracy: 0.8050\n",
      "Epoch 25/50\n",
      "1220/1220 [==============================] - 4s 3ms/step - loss: 0.3742 - accuracy: 0.8057\n",
      "Epoch 26/50\n",
      "1220/1220 [==============================] - 4s 3ms/step - loss: 0.3697 - accuracy: 0.8063\n",
      "Epoch 27/50\n",
      "1220/1220 [==============================] - 3s 3ms/step - loss: 0.3665 - accuracy: 0.8071\n",
      "Epoch 28/50\n",
      "1220/1220 [==============================] - 3s 3ms/step - loss: 0.3641 - accuracy: 0.8087\n",
      "Epoch 29/50\n",
      "1220/1220 [==============================] - 3s 3ms/step - loss: 0.3606 - accuracy: 0.8088\n",
      "Epoch 30/50\n",
      "1220/1220 [==============================] - 3s 3ms/step - loss: 0.3588 - accuracy: 0.8094\n",
      "Epoch 31/50\n",
      "1220/1220 [==============================] - 3s 3ms/step - loss: 0.3563 - accuracy: 0.8096\n",
      "Epoch 32/50\n",
      "1220/1220 [==============================] - 4s 3ms/step - loss: 0.3538 - accuracy: 0.8107\n",
      "Epoch 33/50\n",
      "1220/1220 [==============================] - 3s 3ms/step - loss: 0.3518 - accuracy: 0.8114\n",
      "Epoch 34/50\n",
      "1220/1220 [==============================] - 3s 3ms/step - loss: 0.3502 - accuracy: 0.8118\n",
      "Epoch 35/50\n",
      "1220/1220 [==============================] - 4s 3ms/step - loss: 0.3474 - accuracy: 0.8133\n",
      "Epoch 36/50\n",
      "1220/1220 [==============================] - 5s 4ms/step - loss: 0.3460 - accuracy: 0.8141\n",
      "Epoch 37/50\n",
      "1220/1220 [==============================] - 5s 4ms/step - loss: 0.3435 - accuracy: 0.8143\n",
      "Epoch 38/50\n",
      "1220/1220 [==============================] - 5s 4ms/step - loss: 0.3433 - accuracy: 0.8143\n",
      "Epoch 39/50\n",
      "1220/1220 [==============================] - 4s 3ms/step - loss: 0.3412 - accuracy: 0.8154\n",
      "Epoch 40/50\n",
      "1220/1220 [==============================] - 4s 3ms/step - loss: 0.3403 - accuracy: 0.8151\n",
      "Epoch 41/50\n",
      "1220/1220 [==============================] - 3s 3ms/step - loss: 0.3397 - accuracy: 0.8154\n",
      "Epoch 42/50\n",
      "1220/1220 [==============================] - 3s 3ms/step - loss: 0.3376 - accuracy: 0.8162\n",
      "Epoch 43/50\n",
      "1220/1220 [==============================] - 4s 3ms/step - loss: 0.3360 - accuracy: 0.8173\n",
      "Epoch 44/50\n",
      "1220/1220 [==============================] - 3s 3ms/step - loss: 0.3348 - accuracy: 0.8165\n",
      "Epoch 45/50\n",
      "1220/1220 [==============================] - 3s 3ms/step - loss: 0.3346 - accuracy: 0.8163\n",
      "Epoch 46/50\n",
      "1220/1220 [==============================] - 4s 3ms/step - loss: 0.3327 - accuracy: 0.8178\n",
      "Epoch 47/50\n",
      "1220/1220 [==============================] - 3s 3ms/step - loss: 0.3326 - accuracy: 0.8183\n",
      "Epoch 48/50\n",
      "1220/1220 [==============================] - 3s 3ms/step - loss: 0.3308 - accuracy: 0.8181\n",
      "Epoch 49/50\n",
      "1220/1220 [==============================] - 4s 3ms/step - loss: 0.3298 - accuracy: 0.8195\n",
      "Epoch 50/50\n",
      "1220/1220 [==============================] - 3s 3ms/step - loss: 0.3295 - accuracy: 0.8193\n"
     ]
    }
   ],
   "source": [
    "history_ANN=model_ANN.fit(X_train, y_train,batch_size=128, epochs=50, verbose=1,callbacks=callback)"
   ]
  },
  {
   "cell_type": "code",
   "execution_count": 58,
   "id": "e08f7d39",
   "metadata": {
    "execution": {
     "iopub.execute_input": "2022-03-16T08:55:02.585847Z",
     "iopub.status.busy": "2022-03-16T08:55:02.585036Z",
     "iopub.status.idle": "2022-03-16T08:55:02.637980Z",
     "shell.execute_reply": "2022-03-16T08:55:02.638721Z"
    },
    "papermill": {
     "duration": 9.117166,
     "end_time": "2022-03-16T08:55:02.638909",
     "exception": false,
     "start_time": "2022-03-16T08:54:53.521743",
     "status": "completed"
    },
    "tags": []
   },
   "outputs": [],
   "source": [
    "model_ANN.save('ANN_Model.h5')"
   ]
  },
  {
   "cell_type": "code",
   "execution_count": 59,
   "id": "d5360cbe",
   "metadata": {
    "execution": {
     "iopub.execute_input": "2022-03-16T08:55:21.163919Z",
     "iopub.status.busy": "2022-03-16T08:55:21.163087Z",
     "iopub.status.idle": "2022-03-16T08:55:21.338398Z",
     "shell.execute_reply": "2022-03-16T08:55:21.337688Z"
    },
    "papermill": {
     "duration": 9.550168,
     "end_time": "2022-03-16T08:55:21.338536",
     "exception": false,
     "start_time": "2022-03-16T08:55:11.788368",
     "status": "completed"
    },
    "tags": []
   },
   "outputs": [
    {
     "data": {
      "image/png": "[encoded data removed]",
      "text/plain": [
       "<Figure size 432x288 with 1 Axes>"
      ]
     },
     "metadata": {
      "needs_background": "light"
     },
     "output_type": "display_data"
    }
   ],
   "source": [
    "loss_train_ANN = history_ANN.history['loss']\n",
    "epochs = range(1,51)\n",
    "plt.plot(epochs, loss_train_ANN, 'g', label='Training loss')\n",
    "plt.title('Training loss')\n",
    "plt.xlabel('Epochs')\n",
    "plt.ylabel('Loss')\n",
    "plt.legend()\n",
    "plt.show()"
   ]
  },
  {
   "cell_type": "code",
   "execution_count": 60,
   "id": "0aab8de5",
   "metadata": {
    "execution": {
     "iopub.execute_input": "2022-03-16T08:55:39.787378Z",
     "iopub.status.busy": "2022-03-16T08:55:39.786774Z",
     "iopub.status.idle": "2022-03-16T08:55:39.962483Z",
     "shell.execute_reply": "2022-03-16T08:55:39.962023Z"
    },
    "papermill": {
     "duration": 9.363772,
     "end_time": "2022-03-16T08:55:39.962616",
     "exception": false,
     "start_time": "2022-03-16T08:55:30.598844",
     "status": "completed"
    },
    "tags": []
   },
   "outputs": [
    {
     "data": {
      "image/png": "[encoded data removed]",
      "text/plain": [
       "<Figure size 432x288 with 1 Axes>"
      ]
     },
     "metadata": {
      "needs_background": "light"
     },
     "output_type": "display_data"
    }
   ],
   "source": [
    "accuracy_train_ANN = history_ANN.history['accuracy']\n",
    "epochs = range(1,51)\n",
    "plt.plot(epochs, accuracy_train_ANN, 'g', label='Training Accuracy')\n",
    "plt.title('Training Accuracy')\n",
    "plt.xlabel('Epochs')\n",
    "plt.ylabel('Accuracy')\n",
    "plt.legend()\n",
    "plt.show()"
   ]
  },
  {
   "cell_type": "code",
   "execution_count": 61,
   "id": "0e766679",
   "metadata": {
    "execution": {
     "iopub.execute_input": "2022-03-16T08:55:58.664355Z",
     "iopub.status.busy": "2022-03-16T08:55:58.663274Z",
     "iopub.status.idle": "2022-03-16T08:56:00.423136Z",
     "shell.execute_reply": "2022-03-16T08:56:00.422308Z"
    },
    "papermill": {
     "duration": 11.360726,
     "end_time": "2022-03-16T08:56:00.423293",
     "exception": false,
     "start_time": "2022-03-16T08:55:49.062567",
     "status": "completed"
    },
    "tags": []
   },
   "outputs": [],
   "source": [
    "predict_x=model_ANN.predict(X_test) \n",
    "classes_x_ANN=np.argmax(predict_x,axis=1)"
   ]
  },
  {
   "cell_type": "code",
   "execution_count": 62,
   "id": "2c40d917",
   "metadata": {
    "execution": {
     "iopub.execute_input": "2022-03-16T08:56:18.706866Z",
     "iopub.status.busy": "2022-03-16T08:56:18.705526Z",
     "iopub.status.idle": "2022-03-16T08:56:18.709153Z",
     "shell.execute_reply": "2022-03-16T08:56:18.708721Z"
    },
    "papermill": {
     "duration": 9.021891,
     "end_time": "2022-03-16T08:56:18.709293",
     "exception": false,
     "start_time": "2022-03-16T08:56:09.687402",
     "status": "completed"
    },
    "tags": []
   },
   "outputs": [
    {
     "data": {
      "text/plain": [
       "array([2, 2, 2, ..., 1, 1, 1])"
      ]
     },
     "execution_count": 62,
     "metadata": {},
     "output_type": "execute_result"
    }
   ],
   "source": [
    "classes_x_ANN"
   ]
  },
  {
   "cell_type": "code",
   "execution_count": 63,
   "id": "a4477e49",
   "metadata": {
    "execution": {
     "iopub.execute_input": "2022-03-16T08:56:37.175506Z",
     "iopub.status.busy": "2022-03-16T08:56:37.174838Z",
     "iopub.status.idle": "2022-03-16T08:56:37.197547Z",
     "shell.execute_reply": "2022-03-16T08:56:37.197073Z"
    },
    "papermill": {
     "duration": 8.989464,
     "end_time": "2022-03-16T08:56:37.197678",
     "exception": false,
     "start_time": "2022-03-16T08:56:28.208214",
     "status": "completed"
    },
    "tags": []
   },
   "outputs": [],
   "source": [
    "submission_file =pd.read_csv('/kaggle/input/sentiment-analysis-on-movie-reviews/sampleSubmission.csv',sep=',')\n",
    "submission_file['Sentiment']=classes_x_ANN\n",
    "submission_file.to_csv('Submission_ANN.csv',index=False)"
   ]
  },
  {
   "cell_type": "markdown",
   "id": "8704a55b",
   "metadata": {
    "papermill": {
     "duration": 9.109236,
     "end_time": "2022-03-16T08:56:55.315835",
     "exception": false,
     "start_time": "2022-03-16T08:56:46.206599",
     "status": "completed"
    },
    "tags": []
   },
   "source": [
    "**3)CNN MODEL**"
   ]
  },
  {
   "cell_type": "code",
   "execution_count": 64,
   "id": "2de33644",
   "metadata": {
    "execution": {
     "iopub.execute_input": "2022-03-16T08:57:13.976761Z",
     "iopub.status.busy": "2022-03-16T08:57:13.975870Z",
     "iopub.status.idle": "2022-03-16T08:57:14.038594Z",
     "shell.execute_reply": "2022-03-16T08:57:14.037668Z"
    },
    "papermill": {
     "duration": 9.093074,
     "end_time": "2022-03-16T08:57:14.038739",
     "exception": false,
     "start_time": "2022-03-16T08:57:04.945665",
     "status": "completed"
    },
    "tags": []
   },
   "outputs": [],
   "source": [
    "import tensorflow as tf\n",
    "embedding_dimension = 100\n",
    "input_val = len(tokenize.word_index)+1\n",
    "model_CNN = tf.keras.Sequential([\n",
    "    tf.keras.layers.Embedding(input_val, embedding_dimension, input_length=max_sequence_len),\n",
    "    tf.keras.layers.Conv1D(128, 2, padding='same',activation='relu'),\n",
    "    tf.keras.layers.Dropout(0.2),\n",
    "    tf.keras.layers.Conv1D(64, 2, padding='same',activation='relu'),\n",
    "    tf.keras.layers.Dropout(0.2),\n",
    "    tf.keras.layers.MaxPooling1D(pool_size=2),\n",
    "    tf.keras.layers.Flatten(),\n",
    "    tf.keras.layers.Dense(256, activation='relu'),\n",
    "    tf.keras.layers.Dropout(0.3),\n",
    "    tf.keras.layers.Dense(128, activation='relu'),\n",
    "    tf.keras.layers.Dropout(0.3),\n",
    "    tf.keras.layers.Dense(5, activation='softmax')\n",
    "])"
   ]
  },
  {
   "cell_type": "code",
   "execution_count": 65,
   "id": "e9980036",
   "metadata": {
    "execution": {
     "iopub.execute_input": "2022-03-16T08:57:32.513996Z",
     "iopub.status.busy": "2022-03-16T08:57:32.513150Z",
     "iopub.status.idle": "2022-03-16T08:57:32.518252Z",
     "shell.execute_reply": "2022-03-16T08:57:32.517832Z"
    },
    "papermill": {
     "duration": 9.479455,
     "end_time": "2022-03-16T08:57:32.518403",
     "exception": false,
     "start_time": "2022-03-16T08:57:23.038948",
     "status": "completed"
    },
    "tags": []
   },
   "outputs": [
    {
     "name": "stdout",
     "output_type": "stream",
     "text": [
      "Model: \"sequential_2\"\n",
      "_________________________________________________________________\n",
      "Layer (type)                 Output Shape              Param #   \n",
      "=================================================================\n",
      "embedding_2 (Embedding)      (None, 30, 100)           1187800   \n",
      "_________________________________________________________________\n",
      "conv1d (Conv1D)              (None, 30, 128)           25728     \n",
      "_________________________________________________________________\n",
      "dropout_1 (Dropout)          (None, 30, 128)           0         \n",
      "_________________________________________________________________\n",
      "conv1d_1 (Conv1D)            (None, 30, 64)            16448     \n",
      "_________________________________________________________________\n",
      "dropout_2 (Dropout)          (None, 30, 64)            0         \n",
      "_________________________________________________________________\n",
      "max_pooling1d (MaxPooling1D) (None, 15, 64)            0         \n",
      "_________________________________________________________________\n",
      "flatten_1 (Flatten)          (None, 960)               0         \n",
      "_________________________________________________________________\n",
      "dense_5 (Dense)              (None, 256)               246016    \n",
      "_________________________________________________________________\n",
      "dropout_3 (Dropout)          (None, 256)               0         \n",
      "_________________________________________________________________\n",
      "dense_6 (Dense)              (None, 128)               32896     \n",
      "_________________________________________________________________\n",
      "dropout_4 (Dropout)          (None, 128)               0         \n",
      "_________________________________________________________________\n",
      "dense_7 (Dense)              (None, 5)                 645       \n",
      "=================================================================\n",
      "Total params: 1,509,533\n",
      "Trainable params: 1,509,533\n",
      "Non-trainable params: 0\n",
      "_________________________________________________________________\n"
     ]
    }
   ],
   "source": [
    "model_CNN.summary()"
   ]
  },
  {
   "cell_type": "code",
   "execution_count": 66,
   "id": "38921b05",
   "metadata": {
    "execution": {
     "iopub.execute_input": "2022-03-16T08:57:50.731924Z",
     "iopub.status.busy": "2022-03-16T08:57:50.731073Z",
     "iopub.status.idle": "2022-03-16T08:57:50.735804Z",
     "shell.execute_reply": "2022-03-16T08:57:50.735395Z"
    },
    "papermill": {
     "duration": 9.117055,
     "end_time": "2022-03-16T08:57:50.735919",
     "exception": false,
     "start_time": "2022-03-16T08:57:41.618864",
     "status": "completed"
    },
    "tags": []
   },
   "outputs": [],
   "source": [
    "model_CNN.compile(loss='sparse_categorical_crossentropy', optimizer='adam', metrics=['accuracy'])"
   ]
  },
  {
   "cell_type": "code",
   "execution_count": 67,
   "id": "1a373820",
   "metadata": {
    "execution": {
     "iopub.execute_input": "2022-03-16T08:58:09.396837Z",
     "iopub.status.busy": "2022-03-16T08:58:09.395561Z",
     "iopub.status.idle": "2022-03-16T09:02:59.340954Z",
     "shell.execute_reply": "2022-03-16T09:02:59.340500Z"
    },
    "papermill": {
     "duration": 299.407521,
     "end_time": "2022-03-16T09:02:59.341079",
     "exception": false,
     "start_time": "2022-03-16T08:57:59.933558",
     "status": "completed"
    },
    "tags": []
   },
   "outputs": [
    {
     "name": "stdout",
     "output_type": "stream",
     "text": [
      "Epoch 1/50\n"
     ]
    },
    {
     "name": "stderr",
     "output_type": "stream",
     "text": [
      "2022-03-16 08:58:10.704350: I tensorflow/stream_executor/cuda/cuda_dnn.cc:369] Loaded cuDNN version 8005\n"
     ]
    },
    {
     "name": "stdout",
     "output_type": "stream",
     "text": [
      "1220/1220 [==============================] - 11s 4ms/step - loss: 1.0126 - accuracy: 0.5935\n",
      "Epoch 2/50\n",
      "1220/1220 [==============================] - 5s 4ms/step - loss: 0.8195 - accuracy: 0.6619\n",
      "Epoch 3/50\n",
      "1220/1220 [==============================] - 5s 4ms/step - loss: 0.7567 - accuracy: 0.6849\n",
      "Epoch 4/50\n",
      "1220/1220 [==============================] - 6s 5ms/step - loss: 0.7142 - accuracy: 0.6994\n",
      "Epoch 5/50\n",
      "1220/1220 [==============================] - 5s 4ms/step - loss: 0.6862 - accuracy: 0.7086\n",
      "Epoch 6/50\n",
      "1220/1220 [==============================] - 5s 4ms/step - loss: 0.6638 - accuracy: 0.7162\n",
      "Epoch 7/50\n",
      "1220/1220 [==============================] - 6s 5ms/step - loss: 0.6469 - accuracy: 0.7233\n",
      "Epoch 8/50\n",
      "1220/1220 [==============================] - 5s 4ms/step - loss: 0.6319 - accuracy: 0.7268\n",
      "Epoch 9/50\n",
      "1220/1220 [==============================] - 5s 4ms/step - loss: 0.6178 - accuracy: 0.7323\n",
      "Epoch 10/50\n",
      "1220/1220 [==============================] - 6s 5ms/step - loss: 0.6062 - accuracy: 0.7352\n",
      "Epoch 11/50\n",
      "1220/1220 [==============================] - 5s 4ms/step - loss: 0.5957 - accuracy: 0.7400\n",
      "Epoch 12/50\n",
      "1220/1220 [==============================] - 5s 4ms/step - loss: 0.5847 - accuracy: 0.7424\n",
      "Epoch 13/50\n",
      "1220/1220 [==============================] - 5s 4ms/step - loss: 0.5765 - accuracy: 0.7450\n",
      "Epoch 14/50\n",
      "1220/1220 [==============================] - 5s 4ms/step - loss: 0.5713 - accuracy: 0.7464\n",
      "Epoch 15/50\n",
      "1220/1220 [==============================] - 5s 4ms/step - loss: 0.5624 - accuracy: 0.7499\n",
      "Epoch 16/50\n",
      "1220/1220 [==============================] - 6s 5ms/step - loss: 0.5571 - accuracy: 0.7511\n",
      "Epoch 17/50\n",
      "1220/1220 [==============================] - 5s 4ms/step - loss: 0.5521 - accuracy: 0.7523\n",
      "Epoch 18/50\n",
      "1220/1220 [==============================] - 5s 4ms/step - loss: 0.5471 - accuracy: 0.7542\n",
      "Epoch 19/50\n",
      "1220/1220 [==============================] - 5s 4ms/step - loss: 0.5413 - accuracy: 0.7554\n",
      "Epoch 20/50\n",
      "1220/1220 [==============================] - 5s 4ms/step - loss: 0.5356 - accuracy: 0.7585\n",
      "Epoch 21/50\n",
      "1220/1220 [==============================] - 6s 5ms/step - loss: 0.5321 - accuracy: 0.7600\n",
      "Epoch 22/50\n",
      "1220/1220 [==============================] - 7s 6ms/step - loss: 0.5273 - accuracy: 0.7613\n",
      "Epoch 23/50\n",
      "1220/1220 [==============================] - 8s 6ms/step - loss: 0.5236 - accuracy: 0.7630\n",
      "Epoch 24/50\n",
      "1220/1220 [==============================] - 7s 6ms/step - loss: 0.5214 - accuracy: 0.7627\n",
      "Epoch 25/50\n",
      "1220/1220 [==============================] - 5s 4ms/step - loss: 0.5180 - accuracy: 0.7646\n",
      "Epoch 26/50\n",
      "1220/1220 [==============================] - 5s 4ms/step - loss: 0.5142 - accuracy: 0.7656\n",
      "Epoch 27/50\n",
      "1220/1220 [==============================] - 6s 5ms/step - loss: 0.5098 - accuracy: 0.7671\n",
      "Epoch 28/50\n",
      "1220/1220 [==============================] - 5s 4ms/step - loss: 0.5071 - accuracy: 0.7670\n",
      "Epoch 29/50\n",
      "1220/1220 [==============================] - 5s 4ms/step - loss: 0.5055 - accuracy: 0.7697\n",
      "Epoch 30/50\n",
      "1220/1220 [==============================] - 5s 4ms/step - loss: 0.5036 - accuracy: 0.7701\n",
      "Epoch 31/50\n",
      "1220/1220 [==============================] - 6s 5ms/step - loss: 0.4998 - accuracy: 0.7694\n",
      "Epoch 32/50\n",
      "1220/1220 [==============================] - 6s 5ms/step - loss: 0.4961 - accuracy: 0.7709\n",
      "Epoch 33/50\n",
      "1220/1220 [==============================] - 6s 5ms/step - loss: 0.4961 - accuracy: 0.7719\n",
      "Epoch 34/50\n",
      "1220/1220 [==============================] - 5s 4ms/step - loss: 0.4937 - accuracy: 0.7739\n",
      "Epoch 35/50\n",
      "1220/1220 [==============================] - 5s 4ms/step - loss: 0.4889 - accuracy: 0.7739\n",
      "Epoch 36/50\n",
      "1220/1220 [==============================] - 6s 5ms/step - loss: 0.4898 - accuracy: 0.7741\n",
      "Epoch 37/50\n",
      "1220/1220 [==============================] - 6s 5ms/step - loss: 0.4875 - accuracy: 0.7741\n",
      "Epoch 38/50\n",
      "1220/1220 [==============================] - 6s 5ms/step - loss: 0.4850 - accuracy: 0.7752\n",
      "Epoch 39/50\n",
      "1220/1220 [==============================] - 5s 4ms/step - loss: 0.4841 - accuracy: 0.7755\n",
      "Epoch 40/50\n",
      "1220/1220 [==============================] - 5s 4ms/step - loss: 0.4820 - accuracy: 0.7769\n",
      "Epoch 41/50\n",
      "1220/1220 [==============================] - 5s 4ms/step - loss: 0.4799 - accuracy: 0.7777\n",
      "Epoch 42/50\n",
      "1220/1220 [==============================] - 5s 4ms/step - loss: 0.4803 - accuracy: 0.7771\n",
      "Epoch 43/50\n",
      "1220/1220 [==============================] - 5s 4ms/step - loss: 0.4751 - accuracy: 0.7791\n",
      "Epoch 44/50\n",
      "1220/1220 [==============================] - 6s 5ms/step - loss: 0.4764 - accuracy: 0.7796\n",
      "Epoch 45/50\n",
      "1220/1220 [==============================] - 5s 4ms/step - loss: 0.4750 - accuracy: 0.7786\n",
      "Epoch 46/50\n",
      "1220/1220 [==============================] - 6s 5ms/step - loss: 0.4724 - accuracy: 0.7806\n",
      "Epoch 47/50\n",
      "1220/1220 [==============================] - 7s 6ms/step - loss: 0.4710 - accuracy: 0.7805\n",
      "Epoch 48/50\n",
      "1220/1220 [==============================] - 7s 6ms/step - loss: 0.4704 - accuracy: 0.7825\n",
      "Epoch 49/50\n",
      "1220/1220 [==============================] - 8s 6ms/step - loss: 0.4680 - accuracy: 0.7823\n",
      "Epoch 50/50\n",
      "1220/1220 [==============================] - 5s 4ms/step - loss: 0.4681 - accuracy: 0.7822\n"
     ]
    }
   ],
   "source": [
    "history_CNN=model_CNN.fit(X_train, y_train,batch_size=128, epochs=50, verbose=1,callbacks=callback)"
   ]
  },
  {
   "cell_type": "code",
   "execution_count": 68,
   "id": "66f4fea7",
   "metadata": {
    "execution": {
     "iopub.execute_input": "2022-03-16T09:03:20.925703Z",
     "iopub.status.busy": "2022-03-16T09:03:20.924783Z",
     "iopub.status.idle": "2022-03-16T09:03:20.985187Z",
     "shell.execute_reply": "2022-03-16T09:03:20.984677Z"
    },
    "papermill": {
     "duration": 10.840989,
     "end_time": "2022-03-16T09:03:20.985363",
     "exception": false,
     "start_time": "2022-03-16T09:03:10.144374",
     "status": "completed"
    },
    "tags": []
   },
   "outputs": [],
   "source": [
    "model_CNN.save('CNN_Model.h5')"
   ]
  },
  {
   "cell_type": "code",
   "execution_count": 69,
   "id": "0940def0",
   "metadata": {
    "execution": {
     "iopub.execute_input": "2022-03-16T09:03:43.155656Z",
     "iopub.status.busy": "2022-03-16T09:03:43.144916Z",
     "iopub.status.idle": "2022-03-16T09:03:43.316924Z",
     "shell.execute_reply": "2022-03-16T09:03:43.316500Z"
    },
    "papermill": {
     "duration": 10.986326,
     "end_time": "2022-03-16T09:03:43.317046",
     "exception": false,
     "start_time": "2022-03-16T09:03:32.330720",
     "status": "completed"
    },
    "tags": []
   },
   "outputs": [
    {
     "data": {
      "image/png": "[encoded data removed]",
      "text/plain": [
       "<Figure size 432x288 with 1 Axes>"
      ]
     },
     "metadata": {
      "needs_background": "light"
     },
     "output_type": "display_data"
    }
   ],
   "source": [
    "loss_train_CNN = history_CNN.history['loss']\n",
    "epochs = range(1,51)\n",
    "plt.plot(epochs, loss_train_CNN, 'g', label='Training loss')\n",
    "plt.title('Training loss')\n",
    "plt.xlabel('Epochs')\n",
    "plt.ylabel('Loss')\n",
    "plt.legend()\n",
    "plt.show()"
   ]
  },
  {
   "cell_type": "code",
   "execution_count": 70,
   "id": "e7fa95cc",
   "metadata": {
    "execution": {
     "iopub.execute_input": "2022-03-16T09:04:05.533305Z",
     "iopub.status.busy": "2022-03-16T09:04:05.520127Z",
     "iopub.status.idle": "2022-03-16T09:04:05.702914Z",
     "shell.execute_reply": "2022-03-16T09:04:05.703352Z"
    },
    "papermill": {
     "duration": 11.451858,
     "end_time": "2022-03-16T09:04:05.703500",
     "exception": false,
     "start_time": "2022-03-16T09:03:54.251642",
     "status": "completed"
    },
    "tags": []
   },
   "outputs": [
    {
     "data": {
      "image/png": "[encoded data removed]",
      "text/plain": [
       "<Figure size 432x288 with 1 Axes>"
      ]
     },
     "metadata": {
      "needs_background": "light"
     },
     "output_type": "display_data"
    }
   ],
   "source": [
    "accuracy_train_CNN = history_CNN.history['accuracy']\n",
    "epochs = range(1,51)\n",
    "plt.plot(epochs, accuracy_train_CNN, 'g', label='Training Accuracy')\n",
    "plt.title('Training Accuracy')\n",
    "plt.xlabel('Epochs')\n",
    "plt.ylabel('Accuracy')\n",
    "plt.legend()\n",
    "plt.show()"
   ]
  },
  {
   "cell_type": "code",
   "execution_count": 71,
   "id": "4d9480a4",
   "metadata": {
    "execution": {
     "iopub.execute_input": "2022-03-16T09:04:27.828620Z",
     "iopub.status.busy": "2022-03-16T09:04:27.827717Z",
     "iopub.status.idle": "2022-03-16T09:04:30.439127Z",
     "shell.execute_reply": "2022-03-16T09:04:30.438212Z"
    },
    "papermill": {
     "duration": 13.8827,
     "end_time": "2022-03-16T09:04:30.439297",
     "exception": false,
     "start_time": "2022-03-16T09:04:16.556597",
     "status": "completed"
    },
    "tags": []
   },
   "outputs": [],
   "source": [
    "predict_x_CNN=model_CNN.predict(X_test) \n",
    "classes_x_CNN=np.argmax(predict_x_CNN,axis=1)"
   ]
  },
  {
   "cell_type": "code",
   "execution_count": 72,
   "id": "a1fffbbc",
   "metadata": {
    "execution": {
     "iopub.execute_input": "2022-03-16T09:04:52.093653Z",
     "iopub.status.busy": "2022-03-16T09:04:52.092784Z",
     "iopub.status.idle": "2022-03-16T09:04:53.881987Z",
     "shell.execute_reply": "2022-03-16T09:04:53.882705Z"
    },
    "papermill": {
     "duration": 12.531139,
     "end_time": "2022-03-16T09:04:53.882915",
     "exception": false,
     "start_time": "2022-03-16T09:04:41.351776",
     "status": "completed"
    },
    "tags": []
   },
   "outputs": [
    {
     "data": {
      "text/plain": [
       "array([0, 1, 2, 3, 4])"
      ]
     },
     "execution_count": 72,
     "metadata": {},
     "output_type": "execute_result"
    }
   ],
   "source": [
    "cp.unique(classes_x_CNN)"
   ]
  },
  {
   "cell_type": "code",
   "execution_count": 73,
   "id": "0833561d",
   "metadata": {
    "execution": {
     "iopub.execute_input": "2022-03-16T09:05:16.156341Z",
     "iopub.status.busy": "2022-03-16T09:05:16.155587Z",
     "iopub.status.idle": "2022-03-16T09:05:16.159832Z",
     "shell.execute_reply": "2022-03-16T09:05:16.160398Z"
    },
    "papermill": {
     "duration": 10.783889,
     "end_time": "2022-03-16T09:05:16.160589",
     "exception": false,
     "start_time": "2022-03-16T09:05:05.376700",
     "status": "completed"
    },
    "tags": []
   },
   "outputs": [
    {
     "data": {
      "text/plain": [
       "array([2, 2, 2, ..., 1, 1, 2])"
      ]
     },
     "execution_count": 73,
     "metadata": {},
     "output_type": "execute_result"
    }
   ],
   "source": [
    "classes_x_CNN"
   ]
  },
  {
   "cell_type": "code",
   "execution_count": 74,
   "id": "7cf04e48",
   "metadata": {
    "execution": {
     "iopub.execute_input": "2022-03-16T09:05:38.269629Z",
     "iopub.status.busy": "2022-03-16T09:05:38.268945Z",
     "iopub.status.idle": "2022-03-16T09:05:38.282989Z",
     "shell.execute_reply": "2022-03-16T09:05:38.283501Z"
    },
    "papermill": {
     "duration": 11.399345,
     "end_time": "2022-03-16T09:05:38.283685",
     "exception": false,
     "start_time": "2022-03-16T09:05:26.884340",
     "status": "completed"
    },
    "tags": []
   },
   "outputs": [],
   "source": [
    "submission_file =pd.read_csv('/kaggle/input/sentiment-analysis-on-movie-reviews/sampleSubmission.csv',sep=',')\n",
    "submission_file['Sentiment']=classes_x_CNN\n",
    "submission_file.to_csv('Submission_CNN.csv',index=False)"
   ]
  },
  {
   "cell_type": "markdown",
   "id": "9d20003b",
   "metadata": {
    "papermill": {
     "duration": 10.746202,
     "end_time": "2022-03-16T09:05:59.819972",
     "exception": false,
     "start_time": "2022-03-16T09:05:49.073770",
     "status": "completed"
    },
    "tags": []
   },
   "source": [
    "**4)BI-LSTM MODEL**"
   ]
  },
  {
   "cell_type": "code",
   "execution_count": 75,
   "id": "079d1fe3",
   "metadata": {
    "execution": {
     "iopub.execute_input": "2022-03-16T09:06:21.936014Z",
     "iopub.status.busy": "2022-03-16T09:06:21.935186Z",
     "iopub.status.idle": "2022-03-16T09:06:23.179408Z",
     "shell.execute_reply": "2022-03-16T09:06:23.178878Z"
    },
    "papermill": {
     "duration": 11.850904,
     "end_time": "2022-03-16T09:06:23.179537",
     "exception": false,
     "start_time": "2022-03-16T09:06:11.328633",
     "status": "completed"
    },
    "tags": []
   },
   "outputs": [],
   "source": [
    "import tensorflow as tf\n",
    "embedding_dimension = 100\n",
    "input_val = len(tokenize.word_index)+1\n",
    "model_biLSTM = tf.keras.Sequential([\n",
    "    tf.keras.layers.Embedding(input_val, embedding_dimension, input_length=max_sequence_len),\n",
    "     tf.keras.layers.Bidirectional(tf.keras.layers.LSTM(64, return_sequences=True)),\n",
    "    tf.keras.layers.Bidirectional(tf.keras.layers.LSTM(64, return_sequences=True)),\n",
    "    tf.keras.layers.Bidirectional(tf.keras.layers.LSTM(64)),\n",
    "    tf.keras.layers.Dropout(0.5),\n",
    "    tf.keras.layers.Dense(256, activation='relu'),\n",
    "    tf.keras.layers.Dropout(0.5),\n",
    "    tf.keras.layers.Dense(5, activation='softmax')\n",
    "])"
   ]
  },
  {
   "cell_type": "code",
   "execution_count": 76,
   "id": "91ed6887",
   "metadata": {
    "execution": {
     "iopub.execute_input": "2022-03-16T09:06:45.619832Z",
     "iopub.status.busy": "2022-03-16T09:06:45.617806Z",
     "iopub.status.idle": "2022-03-16T09:06:45.624020Z",
     "shell.execute_reply": "2022-03-16T09:06:45.623580Z"
    },
    "papermill": {
     "duration": 11.465617,
     "end_time": "2022-03-16T09:06:45.624137",
     "exception": false,
     "start_time": "2022-03-16T09:06:34.158520",
     "status": "completed"
    },
    "tags": []
   },
   "outputs": [
    {
     "name": "stdout",
     "output_type": "stream",
     "text": [
      "Model: \"sequential_3\"\n",
      "_________________________________________________________________\n",
      "Layer (type)                 Output Shape              Param #   \n",
      "=================================================================\n",
      "embedding_3 (Embedding)      (None, 30, 100)           1187800   \n",
      "_________________________________________________________________\n",
      "bidirectional (Bidirectional (None, 30, 128)           84480     \n",
      "_________________________________________________________________\n",
      "bidirectional_1 (Bidirection (None, 30, 128)           98816     \n",
      "_________________________________________________________________\n",
      "bidirectional_2 (Bidirection (None, 128)               98816     \n",
      "_________________________________________________________________\n",
      "dropout_5 (Dropout)          (None, 128)               0         \n",
      "_________________________________________________________________\n",
      "dense_8 (Dense)              (None, 256)               33024     \n",
      "_________________________________________________________________\n",
      "dropout_6 (Dropout)          (None, 256)               0         \n",
      "_________________________________________________________________\n",
      "dense_9 (Dense)              (None, 5)                 1285      \n",
      "=================================================================\n",
      "Total params: 1,504,221\n",
      "Trainable params: 1,504,221\n",
      "Non-trainable params: 0\n",
      "_________________________________________________________________\n"
     ]
    }
   ],
   "source": [
    "model_biLSTM.summary()"
   ]
  },
  {
   "cell_type": "code",
   "execution_count": 77,
   "id": "0f1f5305",
   "metadata": {
    "execution": {
     "iopub.execute_input": "2022-03-16T09:07:07.243488Z",
     "iopub.status.busy": "2022-03-16T09:07:07.242642Z",
     "iopub.status.idle": "2022-03-16T09:07:07.247856Z",
     "shell.execute_reply": "2022-03-16T09:07:07.247431Z"
    },
    "papermill": {
     "duration": 10.754611,
     "end_time": "2022-03-16T09:07:07.247978",
     "exception": false,
     "start_time": "2022-03-16T09:06:56.493367",
     "status": "completed"
    },
    "tags": []
   },
   "outputs": [],
   "source": [
    "model_biLSTM.compile(loss='sparse_categorical_crossentropy', optimizer='adam', metrics=['accuracy'])"
   ]
  },
  {
   "cell_type": "code",
   "execution_count": 78,
   "id": "7205b7e9",
   "metadata": {
    "execution": {
     "iopub.execute_input": "2022-03-16T09:07:29.412305Z",
     "iopub.status.busy": "2022-03-16T09:07:29.411385Z",
     "iopub.status.idle": "2022-03-16T09:17:59.144665Z",
     "shell.execute_reply": "2022-03-16T09:17:59.144149Z"
    },
    "papermill": {
     "duration": 640.558061,
     "end_time": "2022-03-16T09:17:59.144827",
     "exception": false,
     "start_time": "2022-03-16T09:07:18.586766",
     "status": "completed"
    },
    "tags": []
   },
   "outputs": [
    {
     "name": "stdout",
     "output_type": "stream",
     "text": [
      "Epoch 1/30\n",
      "1220/1220 [==============================] - 27s 16ms/step - loss: 1.0347 - accuracy: 0.5873\n",
      "Epoch 2/30\n",
      "1220/1220 [==============================] - 20s 17ms/step - loss: 0.8311 - accuracy: 0.6595\n",
      "Epoch 3/30\n",
      "1220/1220 [==============================] - 20s 16ms/step - loss: 0.7671 - accuracy: 0.6824\n",
      "Epoch 4/30\n",
      "1220/1220 [==============================] - 20s 17ms/step - loss: 0.7253 - accuracy: 0.6955\n",
      "Epoch 5/30\n",
      "1220/1220 [==============================] - 20s 16ms/step - loss: 0.6941 - accuracy: 0.7055\n",
      "Epoch 6/30\n",
      "1220/1220 [==============================] - 22s 18ms/step - loss: 0.6654 - accuracy: 0.7144\n",
      "Epoch 7/30\n",
      "1220/1220 [==============================] - 24s 20ms/step - loss: 0.6424 - accuracy: 0.7233\n",
      "Epoch 8/30\n",
      "1220/1220 [==============================] - 20s 16ms/step - loss: 0.6232 - accuracy: 0.7278\n",
      "Epoch 9/30\n",
      "1220/1220 [==============================] - 20s 16ms/step - loss: 0.6026 - accuracy: 0.7346\n",
      "Epoch 10/30\n",
      "1220/1220 [==============================] - 20s 16ms/step - loss: 0.5850 - accuracy: 0.7392\n",
      "Epoch 11/30\n",
      "1220/1220 [==============================] - 19s 16ms/step - loss: 0.5687 - accuracy: 0.7432\n",
      "Epoch 12/30\n",
      "1220/1220 [==============================] - 20s 16ms/step - loss: 0.5543 - accuracy: 0.7472\n",
      "Epoch 13/30\n",
      "1220/1220 [==============================] - 22s 18ms/step - loss: 0.5397 - accuracy: 0.7511\n",
      "Epoch 14/30\n",
      "1220/1220 [==============================] - 23s 19ms/step - loss: 0.5275 - accuracy: 0.7549\n",
      "Epoch 15/30\n",
      "1220/1220 [==============================] - 20s 16ms/step - loss: 0.5180 - accuracy: 0.7580\n",
      "Epoch 16/30\n",
      "1220/1220 [==============================] - 20s 16ms/step - loss: 0.5040 - accuracy: 0.7611\n",
      "Epoch 17/30\n",
      "1220/1220 [==============================] - 19s 16ms/step - loss: 0.4927 - accuracy: 0.7641\n",
      "Epoch 18/30\n",
      "1220/1220 [==============================] - 20s 16ms/step - loss: 0.4845 - accuracy: 0.7674\n",
      "Epoch 19/30\n",
      "1220/1220 [==============================] - 20s 17ms/step - loss: 0.4742 - accuracy: 0.7693\n",
      "Epoch 20/30\n",
      "1220/1220 [==============================] - 23s 19ms/step - loss: 0.4662 - accuracy: 0.7719\n",
      "Epoch 21/30\n",
      "1220/1220 [==============================] - 23s 19ms/step - loss: 0.4585 - accuracy: 0.7741\n",
      "Epoch 22/30\n",
      "1220/1220 [==============================] - 20s 17ms/step - loss: 0.4478 - accuracy: 0.7769\n",
      "Epoch 23/30\n",
      "1220/1220 [==============================] - 20s 16ms/step - loss: 0.4437 - accuracy: 0.7774\n",
      "Epoch 24/30\n",
      "1220/1220 [==============================] - 20s 16ms/step - loss: 0.4354 - accuracy: 0.7802\n",
      "Epoch 25/30\n",
      "1220/1220 [==============================] - 20s 16ms/step - loss: 0.4286 - accuracy: 0.7825\n",
      "Epoch 26/30\n",
      "1220/1220 [==============================] - 20s 16ms/step - loss: 0.4239 - accuracy: 0.7848\n",
      "Epoch 27/30\n",
      "1220/1220 [==============================] - 23s 19ms/step - loss: 0.4170 - accuracy: 0.7870\n",
      "Epoch 28/30\n",
      "1220/1220 [==============================] - 24s 19ms/step - loss: 0.4119 - accuracy: 0.7871\n",
      "Epoch 29/30\n",
      "1220/1220 [==============================] - 20s 16ms/step - loss: 0.4080 - accuracy: 0.7894\n",
      "Epoch 30/30\n",
      "1220/1220 [==============================] - 20s 16ms/step - loss: 0.4028 - accuracy: 0.7900\n"
     ]
    }
   ],
   "source": [
    "history_biLSTM=model_biLSTM.fit(X_train, y_train,batch_size=128, epochs=30, verbose=1,callbacks=callback)"
   ]
  },
  {
   "cell_type": "code",
   "execution_count": 79,
   "id": "06fdd886",
   "metadata": {
    "execution": {
     "iopub.execute_input": "2022-03-16T09:18:27.664219Z",
     "iopub.status.busy": "2022-03-16T09:18:27.663287Z",
     "iopub.status.idle": "2022-03-16T09:18:27.815758Z",
     "shell.execute_reply": "2022-03-16T09:18:27.816860Z"
    },
    "papermill": {
     "duration": 14.62581,
     "end_time": "2022-03-16T09:18:27.817068",
     "exception": false,
     "start_time": "2022-03-16T09:18:13.191258",
     "status": "completed"
    },
    "tags": []
   },
   "outputs": [],
   "source": [
    "model_biLSTM.save('biLSTM_Model.h5')"
   ]
  },
  {
   "cell_type": "code",
   "execution_count": 80,
   "id": "78f0ea0b",
   "metadata": {
    "execution": {
     "iopub.execute_input": "2022-03-16T09:18:56.682573Z",
     "iopub.status.busy": "2022-03-16T09:18:56.681462Z",
     "iopub.status.idle": "2022-03-16T09:18:56.849410Z",
     "shell.execute_reply": "2022-03-16T09:18:56.848702Z"
    },
    "papermill": {
     "duration": 14.617185,
     "end_time": "2022-03-16T09:18:56.849554",
     "exception": false,
     "start_time": "2022-03-16T09:18:42.232369",
     "status": "completed"
    },
    "tags": []
   },
   "outputs": [
    {
     "data": {
      "image/png": "[encoded data removed]",
      "text/plain": [
       "<Figure size 432x288 with 1 Axes>"
      ]
     },
     "metadata": {
      "needs_background": "light"
     },
     "output_type": "display_data"
    }
   ],
   "source": [
    "loss_train_biLSTM = history_biLSTM.history['loss']\n",
    "epochs = range(1,31)\n",
    "plt.plot(epochs, loss_train_biLSTM, 'g', label='Training loss')\n",
    "plt.title('Training loss')\n",
    "plt.xlabel('Epochs')\n",
    "plt.ylabel('Loss')\n",
    "plt.legend()\n",
    "plt.show()"
   ]
  },
  {
   "cell_type": "code",
   "execution_count": 81,
   "id": "bec8e2a4",
   "metadata": {
    "execution": {
     "iopub.execute_input": "2022-03-16T09:19:25.206017Z",
     "iopub.status.busy": "2022-03-16T09:19:25.205219Z",
     "iopub.status.idle": "2022-03-16T09:19:25.398581Z",
     "shell.execute_reply": "2022-03-16T09:19:25.399713Z"
    },
    "papermill": {
     "duration": 14.462894,
     "end_time": "2022-03-16T09:19:25.400031",
     "exception": false,
     "start_time": "2022-03-16T09:19:10.937137",
     "status": "completed"
    },
    "tags": []
   },
   "outputs": [
    {
     "data": {
      "image/png": "[encoded data removed]",
      "text/plain": [
       "<Figure size 432x288 with 1 Axes>"
      ]
     },
     "metadata": {
      "needs_background": "light"
     },
     "output_type": "display_data"
    }
   ],
   "source": [
    "accuracy_train_biLSTM = history_biLSTM.history['accuracy']\n",
    "epochs = range(1,31)\n",
    "plt.plot(epochs, accuracy_train_biLSTM, 'g', label='Training Accuracy')\n",
    "plt.title('Training Accuracy')\n",
    "plt.xlabel('Epochs')\n",
    "plt.ylabel('Accuracy')\n",
    "plt.legend()\n",
    "plt.show()"
   ]
  },
  {
   "cell_type": "code",
   "execution_count": 82,
   "id": "74fa5a53",
   "metadata": {
    "execution": {
     "iopub.execute_input": "2022-03-16T09:19:53.884153Z",
     "iopub.status.busy": "2022-03-16T09:19:53.883160Z",
     "iopub.status.idle": "2022-03-16T09:20:15.773047Z",
     "shell.execute_reply": "2022-03-16T09:20:15.772582Z"
    },
    "papermill": {
     "duration": 35.868161,
     "end_time": "2022-03-16T09:20:15.773182",
     "exception": false,
     "start_time": "2022-03-16T09:19:39.905021",
     "status": "completed"
    },
    "tags": []
   },
   "outputs": [],
   "source": [
    "predict_x_biLSTM=model_biLSTM.predict(X_test) \n",
    "classes_x_biLSTM=np.argmax(predict_x_biLSTM,axis=1)"
   ]
  },
  {
   "cell_type": "code",
   "execution_count": 83,
   "id": "a8e087e3",
   "metadata": {
    "execution": {
     "iopub.execute_input": "2022-03-16T09:20:44.436255Z",
     "iopub.status.busy": "2022-03-16T09:20:44.435487Z",
     "iopub.status.idle": "2022-03-16T09:20:44.438180Z",
     "shell.execute_reply": "2022-03-16T09:20:44.438592Z"
    },
    "papermill": {
     "duration": 14.079336,
     "end_time": "2022-03-16T09:20:44.438732",
     "exception": false,
     "start_time": "2022-03-16T09:20:30.359396",
     "status": "completed"
    },
    "tags": []
   },
   "outputs": [
    {
     "data": {
      "text/plain": [
       "array([2, 2, 2, ..., 1, 1, 1])"
      ]
     },
     "execution_count": 83,
     "metadata": {},
     "output_type": "execute_result"
    }
   ],
   "source": [
    "classes_x_biLSTM"
   ]
  },
  {
   "cell_type": "code",
   "execution_count": 84,
   "id": "c27b4ecc",
   "metadata": {
    "execution": {
     "iopub.execute_input": "2022-03-16T09:21:13.398471Z",
     "iopub.status.busy": "2022-03-16T09:21:13.397724Z",
     "iopub.status.idle": "2022-03-16T09:21:13.412809Z",
     "shell.execute_reply": "2022-03-16T09:21:13.412214Z"
    },
    "papermill": {
     "duration": 14.915185,
     "end_time": "2022-03-16T09:21:13.412956",
     "exception": false,
     "start_time": "2022-03-16T09:20:58.497771",
     "status": "completed"
    },
    "tags": []
   },
   "outputs": [],
   "source": [
    "submission_file =pd.read_csv('/kaggle/input/sentiment-analysis-on-movie-reviews/sampleSubmission.csv',sep=',')\n",
    "submission_file['Sentiment']=classes_x_biLSTM\n",
    "submission_file.to_csv('Submission_biLSTM.csv',index=False)"
   ]
  },
  {
   "cell_type": "markdown",
   "id": "b0bed49c",
   "metadata": {
    "papermill": {
     "duration": 14.430997,
     "end_time": "2022-03-16T09:21:42.002397",
     "exception": false,
     "start_time": "2022-03-16T09:21:27.571400",
     "status": "completed"
    },
    "tags": []
   },
   "source": [
    "# MACHINE LEARNING MODELS-CUML"
   ]
  },
  {
   "cell_type": "markdown",
   "id": "af9d312a",
   "metadata": {
    "papermill": {
     "duration": 14.740408,
     "end_time": "2022-03-16T09:22:10.786682",
     "exception": false,
     "start_time": "2022-03-16T09:21:56.046274",
     "status": "completed"
    },
    "tags": []
   },
   "source": [
    "**1) Logistic Regression**"
   ]
  },
  {
   "cell_type": "code",
   "execution_count": 85,
   "id": "2ee3bf97",
   "metadata": {
    "execution": {
     "iopub.execute_input": "2022-03-16T09:22:39.287829Z",
     "iopub.status.busy": "2022-03-16T09:22:39.286957Z",
     "iopub.status.idle": "2022-03-16T09:22:39.288627Z",
     "shell.execute_reply": "2022-03-16T09:22:39.289092Z"
    },
    "papermill": {
     "duration": 14.376156,
     "end_time": "2022-03-16T09:22:39.289223",
     "exception": false,
     "start_time": "2022-03-16T09:22:24.913067",
     "status": "completed"
    },
    "tags": []
   },
   "outputs": [],
   "source": [
    "#Calling the model\n",
    "log_reg = OneVsRestClassifier(LogisticRegression())"
   ]
  },
  {
   "cell_type": "code",
   "execution_count": 86,
   "id": "9f333faf",
   "metadata": {
    "execution": {
     "iopub.execute_input": "2022-03-16T09:23:07.551566Z",
     "iopub.status.busy": "2022-03-16T09:23:07.550325Z",
     "iopub.status.idle": "2022-03-16T09:23:13.197412Z",
     "shell.execute_reply": "2022-03-16T09:23:13.196747Z"
    },
    "papermill": {
     "duration": 19.635451,
     "end_time": "2022-03-16T09:23:13.197555",
     "exception": false,
     "start_time": "2022-03-16T09:22:53.562104",
     "status": "completed"
    },
    "tags": []
   },
   "outputs": [
    {
     "name": "stdout",
     "output_type": "stream",
     "text": [
      "[W] [09:23:10.875335] L-BFGS: max iterations reached\n",
      "[W] [09:23:10.875607] Maximum iterations reached before solver is converged. To increase model accuracy you can increase the number of iterations (max_iter) or improve the scaling of the input data.\n",
      "[W] [09:23:11.620770] L-BFGS: max iterations reached\n",
      "[W] [09:23:11.621521] Maximum iterations reached before solver is converged. To increase model accuracy you can increase the number of iterations (max_iter) or improve the scaling of the input data.\n",
      "[W] [09:23:11.714024] L-BFGS stopped, because the line search failed to advance (step delta = 0.000000)\n",
      "[W] [09:23:12.440013] L-BFGS: max iterations reached\n",
      "[W] [09:23:12.440768] Maximum iterations reached before solver is converged. To increase model accuracy you can increase the number of iterations (max_iter) or improve the scaling of the input data.\n",
      "[W] [09:23:13.186736] L-BFGS: max iterations reached\n",
      "[W] [09:23:13.187501] Maximum iterations reached before solver is converged. To increase model accuracy you can increase the number of iterations (max_iter) or improve the scaling of the input data.\n"
     ]
    },
    {
     "data": {
      "text/plain": [
       "OneVsRestClassifier()"
      ]
     },
     "execution_count": 86,
     "metadata": {},
     "output_type": "execute_result"
    }
   ],
   "source": [
    "#Fitting the model\n",
    "log_reg.fit(X_train.astype('float32'),y_train.astype('float32'))"
   ]
  },
  {
   "cell_type": "code",
   "execution_count": 87,
   "id": "2b54280c",
   "metadata": {
    "execution": {
     "iopub.execute_input": "2022-03-16T09:23:41.409844Z",
     "iopub.status.busy": "2022-03-16T09:23:41.408817Z",
     "iopub.status.idle": "2022-03-16T09:23:41.432666Z",
     "shell.execute_reply": "2022-03-16T09:23:41.432112Z"
    },
    "papermill": {
     "duration": 13.998433,
     "end_time": "2022-03-16T09:23:41.432798",
     "exception": false,
     "start_time": "2022-03-16T09:23:27.434365",
     "status": "completed"
    },
    "tags": []
   },
   "outputs": [],
   "source": [
    "#Making Predictions\n",
    "y_pred_log_reg = log_reg.predict(X_test.astype('float32'))"
   ]
  },
  {
   "cell_type": "code",
   "execution_count": 88,
   "id": "895cb7aa",
   "metadata": {
    "execution": {
     "iopub.execute_input": "2022-03-16T09:24:10.361978Z",
     "iopub.status.busy": "2022-03-16T09:24:10.361097Z",
     "iopub.status.idle": "2022-03-16T09:24:10.363435Z",
     "shell.execute_reply": "2022-03-16T09:24:10.362880Z"
    },
    "papermill": {
     "duration": 14.232187,
     "end_time": "2022-03-16T09:24:10.363556",
     "exception": false,
     "start_time": "2022-03-16T09:23:56.131369",
     "status": "completed"
    },
    "tags": []
   },
   "outputs": [],
   "source": [
    "y_pred_log_reg=y_pred_log_reg.astype('int32')"
   ]
  },
  {
   "cell_type": "code",
   "execution_count": 89,
   "id": "b889cd57",
   "metadata": {
    "execution": {
     "iopub.execute_input": "2022-03-16T09:24:38.773118Z",
     "iopub.status.busy": "2022-03-16T09:24:38.771941Z",
     "iopub.status.idle": "2022-03-16T09:24:38.775636Z",
     "shell.execute_reply": "2022-03-16T09:24:38.775163Z"
    },
    "papermill": {
     "duration": 13.997993,
     "end_time": "2022-03-16T09:24:38.775750",
     "exception": false,
     "start_time": "2022-03-16T09:24:24.777757",
     "status": "completed"
    },
    "tags": []
   },
   "outputs": [
    {
     "data": {
      "text/plain": [
       "array([2, 2, 2, ..., 2, 2, 2], dtype=int32)"
      ]
     },
     "execution_count": 89,
     "metadata": {},
     "output_type": "execute_result"
    }
   ],
   "source": [
    "y_pred_log_reg"
   ]
  },
  {
   "cell_type": "code",
   "execution_count": 90,
   "id": "ce881196",
   "metadata": {
    "execution": {
     "iopub.execute_input": "2022-03-16T09:25:07.714509Z",
     "iopub.status.busy": "2022-03-16T09:25:07.713462Z",
     "iopub.status.idle": "2022-03-16T09:25:08.200175Z",
     "shell.execute_reply": "2022-03-16T09:25:08.199682Z"
    },
    "papermill": {
     "duration": 14.679291,
     "end_time": "2022-03-16T09:25:08.200336",
     "exception": false,
     "start_time": "2022-03-16T09:24:53.521045",
     "status": "completed"
    },
    "tags": []
   },
   "outputs": [
    {
     "data": {
      "text/plain": [
       "array([1, 2, 3, 4], dtype=int32)"
      ]
     },
     "execution_count": 90,
     "metadata": {},
     "output_type": "execute_result"
    }
   ],
   "source": [
    "cp.unique(y_pred_log_reg)"
   ]
  },
  {
   "cell_type": "code",
   "execution_count": 91,
   "id": "750539c7",
   "metadata": {
    "execution": {
     "iopub.execute_input": "2022-03-16T09:25:36.737669Z",
     "iopub.status.busy": "2022-03-16T09:25:36.736733Z",
     "iopub.status.idle": "2022-03-16T09:25:36.740982Z",
     "shell.execute_reply": "2022-03-16T09:25:36.741986Z"
    },
    "papermill": {
     "duration": 14.069235,
     "end_time": "2022-03-16T09:25:36.742630",
     "exception": false,
     "start_time": "2022-03-16T09:25:22.673395",
     "status": "completed"
    },
    "tags": []
   },
   "outputs": [],
   "source": [
    "#Accurcy score\n",
    "cu_score_log_reg = cuml.metrics.accuracy_score(y_train, y_pred_log_reg )"
   ]
  },
  {
   "cell_type": "code",
   "execution_count": 92,
   "id": "5eb1f90f",
   "metadata": {
    "execution": {
     "iopub.execute_input": "2022-03-16T09:26:05.607482Z",
     "iopub.status.busy": "2022-03-16T09:26:05.606735Z",
     "iopub.status.idle": "2022-03-16T09:26:05.609534Z",
     "shell.execute_reply": "2022-03-16T09:26:05.609928Z"
    },
    "papermill": {
     "duration": 14.064509,
     "end_time": "2022-03-16T09:26:05.610061",
     "exception": false,
     "start_time": "2022-03-16T09:25:51.545552",
     "status": "completed"
    },
    "tags": []
   },
   "outputs": [
    {
     "data": {
      "text/plain": [
       "0.5128974914550781"
      ]
     },
     "execution_count": 92,
     "metadata": {},
     "output_type": "execute_result"
    }
   ],
   "source": [
    "cu_score_log_reg"
   ]
  },
  {
   "cell_type": "code",
   "execution_count": 93,
   "id": "2f5fa668",
   "metadata": {
    "execution": {
     "iopub.execute_input": "2022-03-16T09:26:34.420842Z",
     "iopub.status.busy": "2022-03-16T09:26:34.420294Z",
     "iopub.status.idle": "2022-03-16T09:26:34.431421Z",
     "shell.execute_reply": "2022-03-16T09:26:34.430968Z"
    },
    "papermill": {
     "duration": 14.792213,
     "end_time": "2022-03-16T09:26:34.431554",
     "exception": false,
     "start_time": "2022-03-16T09:26:19.639341",
     "status": "completed"
    },
    "tags": []
   },
   "outputs": [],
   "source": [
    "#Creating a submission\n",
    "submission_file =pd.read_csv('/kaggle/input/sentiment-analysis-on-movie-reviews/sampleSubmission.csv',sep=',')\n",
    "submission_file['Sentiment']=y_pred_log_reg\n",
    "submission_file.to_csv('Submission_LogisticRegression.csv',index=False)"
   ]
  },
  {
   "cell_type": "markdown",
   "id": "ceebfcd6",
   "metadata": {
    "papermill": {
     "duration": 14.581098,
     "end_time": "2022-03-16T09:27:03.028521",
     "exception": false,
     "start_time": "2022-03-16T09:26:48.447423",
     "status": "completed"
    },
    "tags": []
   },
   "source": [
    "**2)Random Forest**"
   ]
  },
  {
   "cell_type": "code",
   "execution_count": 94,
   "id": "1b3ee998",
   "metadata": {
    "execution": {
     "iopub.execute_input": "2022-03-16T09:27:31.863618Z",
     "iopub.status.busy": "2022-03-16T09:27:31.862780Z",
     "iopub.status.idle": "2022-03-16T09:27:31.864792Z",
     "shell.execute_reply": "2022-03-16T09:27:31.865190Z"
    },
    "papermill": {
     "duration": 14.555298,
     "end_time": "2022-03-16T09:27:31.865438",
     "exception": false,
     "start_time": "2022-03-16T09:27:17.310140",
     "status": "completed"
    },
    "tags": []
   },
   "outputs": [],
   "source": [
    "cuml_model = cuRFC(max_features=1.0,\n",
    "                   n_bins=8,\n",
    "                   n_estimators=40)"
   ]
  },
  {
   "cell_type": "code",
   "execution_count": 95,
   "id": "0f0b7171",
   "metadata": {
    "execution": {
     "iopub.execute_input": "2022-03-16T09:28:00.508716Z",
     "iopub.status.busy": "2022-03-16T09:28:00.507681Z",
     "iopub.status.idle": "2022-03-16T09:28:01.685970Z",
     "shell.execute_reply": "2022-03-16T09:28:01.686539Z"
    },
    "papermill": {
     "duration": 15.758315,
     "end_time": "2022-03-16T09:28:01.686712",
     "exception": false,
     "start_time": "2022-03-16T09:27:45.928397",
     "status": "completed"
    },
    "tags": []
   },
   "outputs": [
    {
     "data": {
      "text/plain": [
       "RandomForestClassifier()"
      ]
     },
     "execution_count": 95,
     "metadata": {},
     "output_type": "execute_result"
    }
   ],
   "source": [
    "cuml_model.fit(X_train.astype('float32'),y_train.astype('float32'))"
   ]
  },
  {
   "cell_type": "code",
   "execution_count": 96,
   "id": "076c46db",
   "metadata": {
    "execution": {
     "iopub.execute_input": "2022-03-16T09:28:29.598174Z",
     "iopub.status.busy": "2022-03-16T09:28:29.597143Z",
     "iopub.status.idle": "2022-03-16T09:28:29.849017Z",
     "shell.execute_reply": "2022-03-16T09:28:29.849463Z"
    },
    "papermill": {
     "duration": 14.189515,
     "end_time": "2022-03-16T09:28:29.849625",
     "exception": false,
     "start_time": "2022-03-16T09:28:15.660110",
     "status": "completed"
    },
    "tags": []
   },
   "outputs": [],
   "source": [
    "y_pred_random_forest_classifier = cuml_model.predict(X_test.astype('float32'))"
   ]
  },
  {
   "cell_type": "code",
   "execution_count": 97,
   "id": "b218ea3b",
   "metadata": {
    "execution": {
     "iopub.execute_input": "2022-03-16T09:28:58.804061Z",
     "iopub.status.busy": "2022-03-16T09:28:58.803142Z",
     "iopub.status.idle": "2022-03-16T09:28:58.804995Z",
     "shell.execute_reply": "2022-03-16T09:28:58.805413Z"
    },
    "papermill": {
     "duration": 14.253853,
     "end_time": "2022-03-16T09:28:58.805566",
     "exception": false,
     "start_time": "2022-03-16T09:28:44.551713",
     "status": "completed"
    },
    "tags": []
   },
   "outputs": [],
   "source": [
    "y_pred_random_forest_classifier=y_pred_random_forest_classifier.astype('int32')"
   ]
  },
  {
   "cell_type": "code",
   "execution_count": 98,
   "id": "97052cf2",
   "metadata": {
    "execution": {
     "iopub.execute_input": "2022-03-16T09:29:27.270821Z",
     "iopub.status.busy": "2022-03-16T09:29:27.270030Z",
     "iopub.status.idle": "2022-03-16T09:29:27.272776Z",
     "shell.execute_reply": "2022-03-16T09:29:27.273175Z"
    },
    "papermill": {
     "duration": 13.898135,
     "end_time": "2022-03-16T09:29:27.273335",
     "exception": false,
     "start_time": "2022-03-16T09:29:13.375200",
     "status": "completed"
    },
    "tags": []
   },
   "outputs": [
    {
     "data": {
      "text/plain": [
       "array([3, 3, 2, ..., 2, 2, 2], dtype=int32)"
      ]
     },
     "execution_count": 98,
     "metadata": {},
     "output_type": "execute_result"
    }
   ],
   "source": [
    "y_pred_random_forest_classifier"
   ]
  },
  {
   "cell_type": "code",
   "execution_count": 99,
   "id": "9cb86840",
   "metadata": {
    "execution": {
     "iopub.execute_input": "2022-03-16T09:29:55.966108Z",
     "iopub.status.busy": "2022-03-16T09:29:55.965288Z",
     "iopub.status.idle": "2022-03-16T09:29:55.971754Z",
     "shell.execute_reply": "2022-03-16T09:29:55.971301Z"
    },
    "papermill": {
     "duration": 13.898382,
     "end_time": "2022-03-16T09:29:55.971869",
     "exception": false,
     "start_time": "2022-03-16T09:29:42.073487",
     "status": "completed"
    },
    "tags": []
   },
   "outputs": [
    {
     "data": {
      "text/plain": [
       "array([0, 1, 2, 3, 4], dtype=int32)"
      ]
     },
     "execution_count": 99,
     "metadata": {},
     "output_type": "execute_result"
    }
   ],
   "source": [
    "cp.unique(y_pred_random_forest_classifier)"
   ]
  },
  {
   "cell_type": "code",
   "execution_count": 100,
   "id": "a3788ca9",
   "metadata": {
    "execution": {
     "iopub.execute_input": "2022-03-16T09:30:24.771177Z",
     "iopub.status.busy": "2022-03-16T09:30:24.770259Z",
     "iopub.status.idle": "2022-03-16T09:30:24.775710Z",
     "shell.execute_reply": "2022-03-16T09:30:24.775233Z"
    },
    "papermill": {
     "duration": 14.820238,
     "end_time": "2022-03-16T09:30:24.775833",
     "exception": false,
     "start_time": "2022-03-16T09:30:09.955595",
     "status": "completed"
    },
    "tags": []
   },
   "outputs": [],
   "source": [
    "cu_score_random_forest = cuml.metrics.accuracy_score(y_train, y_pred_random_forest_classifier )"
   ]
  },
  {
   "cell_type": "code",
   "execution_count": 101,
   "id": "25677445",
   "metadata": {
    "execution": {
     "iopub.execute_input": "2022-03-16T09:30:53.459983Z",
     "iopub.status.busy": "2022-03-16T09:30:53.459125Z",
     "iopub.status.idle": "2022-03-16T09:30:53.461932Z",
     "shell.execute_reply": "2022-03-16T09:30:53.462334Z"
    },
    "papermill": {
     "duration": 14.685521,
     "end_time": "2022-03-16T09:30:53.462479",
     "exception": false,
     "start_time": "2022-03-16T09:30:38.776958",
     "status": "completed"
    },
    "tags": []
   },
   "outputs": [
    {
     "data": {
      "text/plain": [
       "0.4602515995502472"
      ]
     },
     "execution_count": 101,
     "metadata": {},
     "output_type": "execute_result"
    }
   ],
   "source": [
    "cu_score_random_forest"
   ]
  },
  {
   "cell_type": "code",
   "execution_count": 102,
   "id": "7195241e",
   "metadata": {
    "execution": {
     "iopub.execute_input": "2022-03-16T09:31:22.229471Z",
     "iopub.status.busy": "2022-03-16T09:31:22.228846Z",
     "iopub.status.idle": "2022-03-16T09:31:22.241486Z",
     "shell.execute_reply": "2022-03-16T09:31:22.241036Z"
    },
    "papermill": {
     "duration": 14.495314,
     "end_time": "2022-03-16T09:31:22.241608",
     "exception": false,
     "start_time": "2022-03-16T09:31:07.746294",
     "status": "completed"
    },
    "tags": []
   },
   "outputs": [],
   "source": [
    "submission_file =pd.read_csv('/kaggle/input/sentiment-analysis-on-movie-reviews/sampleSubmission.csv',sep=',')\n",
    "submission_file['Sentiment']=y_pred_random_forest_classifier\n",
    "submission_file.to_csv('Submission_RandomForest.csv',index=False)"
   ]
  },
  {
   "cell_type": "markdown",
   "id": "d2e32642",
   "metadata": {
    "papermill": {
     "duration": 14.600201,
     "end_time": "2022-03-16T09:31:50.861871",
     "exception": false,
     "start_time": "2022-03-16T09:31:36.261670",
     "status": "completed"
    },
    "tags": []
   },
   "source": [
    "**3)Naive Bayes**"
   ]
  },
  {
   "cell_type": "code",
   "execution_count": 103,
   "id": "d5649b54",
   "metadata": {
    "execution": {
     "iopub.execute_input": "2022-03-16T09:32:19.295313Z",
     "iopub.status.busy": "2022-03-16T09:32:19.293771Z",
     "iopub.status.idle": "2022-03-16T09:32:22.282841Z",
     "shell.execute_reply": "2022-03-16T09:32:22.282161Z"
    },
    "papermill": {
     "duration": 16.984014,
     "end_time": "2022-03-16T09:32:22.282966",
     "exception": false,
     "start_time": "2022-03-16T09:32:05.298952",
     "status": "completed"
    },
    "tags": []
   },
   "outputs": [
    {
     "data": {
      "text/plain": [
       "MultinomialNB()"
      ]
     },
     "execution_count": 103,
     "metadata": {},
     "output_type": "execute_result"
    }
   ],
   "source": [
    "nb = MultinomialNB()\n",
    "nb.fit(X_train, y_train)"
   ]
  },
  {
   "cell_type": "code",
   "execution_count": 104,
   "id": "462936df",
   "metadata": {
    "execution": {
     "iopub.execute_input": "2022-03-16T09:32:51.082043Z",
     "iopub.status.busy": "2022-03-16T09:32:51.080534Z",
     "iopub.status.idle": "2022-03-16T09:32:52.253306Z",
     "shell.execute_reply": "2022-03-16T09:32:52.252822Z"
    },
    "papermill": {
     "duration": 15.217271,
     "end_time": "2022-03-16T09:32:52.253456",
     "exception": false,
     "start_time": "2022-03-16T09:32:37.036185",
     "status": "completed"
    },
    "tags": []
   },
   "outputs": [],
   "source": [
    "nb_predict=nb.predict(X_test)"
   ]
  },
  {
   "cell_type": "code",
   "execution_count": 105,
   "id": "f2739f89",
   "metadata": {
    "execution": {
     "iopub.execute_input": "2022-03-16T09:33:21.071782Z",
     "iopub.status.busy": "2022-03-16T09:33:21.070379Z",
     "iopub.status.idle": "2022-03-16T09:33:21.074034Z",
     "shell.execute_reply": "2022-03-16T09:33:21.073588Z"
    },
    "papermill": {
     "duration": 14.241126,
     "end_time": "2022-03-16T09:33:21.074150",
     "exception": false,
     "start_time": "2022-03-16T09:33:06.833024",
     "status": "completed"
    },
    "tags": []
   },
   "outputs": [
    {
     "data": {
      "text/plain": [
       "array([0, 0, 2, ..., 2, 2, 2], dtype=int32)"
      ]
     },
     "execution_count": 105,
     "metadata": {},
     "output_type": "execute_result"
    }
   ],
   "source": [
    "nb_predict"
   ]
  },
  {
   "cell_type": "code",
   "execution_count": 106,
   "id": "23393737",
   "metadata": {
    "execution": {
     "iopub.execute_input": "2022-03-16T09:33:49.712719Z",
     "iopub.status.busy": "2022-03-16T09:33:49.711826Z",
     "iopub.status.idle": "2022-03-16T09:33:49.717727Z",
     "shell.execute_reply": "2022-03-16T09:33:49.717288Z"
    },
    "papermill": {
     "duration": 13.994369,
     "end_time": "2022-03-16T09:33:49.717839",
     "exception": false,
     "start_time": "2022-03-16T09:33:35.723470",
     "status": "completed"
    },
    "tags": []
   },
   "outputs": [
    {
     "data": {
      "text/plain": [
       "array([0, 1, 2, 3, 4], dtype=int32)"
      ]
     },
     "execution_count": 106,
     "metadata": {},
     "output_type": "execute_result"
    }
   ],
   "source": [
    "cp.unique(nb_predict)"
   ]
  },
  {
   "cell_type": "code",
   "execution_count": 107,
   "id": "25469e79",
   "metadata": {
    "execution": {
     "iopub.execute_input": "2022-03-16T09:34:18.604258Z",
     "iopub.status.busy": "2022-03-16T09:34:18.603340Z",
     "iopub.status.idle": "2022-03-16T09:34:18.608194Z",
     "shell.execute_reply": "2022-03-16T09:34:18.607788Z"
    },
    "papermill": {
     "duration": 14.004448,
     "end_time": "2022-03-16T09:34:18.608338",
     "exception": false,
     "start_time": "2022-03-16T09:34:04.603890",
     "status": "completed"
    },
    "tags": []
   },
   "outputs": [],
   "source": [
    "cu_score_naive_bayes = cuml.metrics.accuracy_score(y_train, nb_predict )"
   ]
  },
  {
   "cell_type": "code",
   "execution_count": 108,
   "id": "6780b3eb",
   "metadata": {
    "execution": {
     "iopub.execute_input": "2022-03-16T09:34:47.451463Z",
     "iopub.status.busy": "2022-03-16T09:34:47.450789Z",
     "iopub.status.idle": "2022-03-16T09:34:47.453536Z",
     "shell.execute_reply": "2022-03-16T09:34:47.453931Z"
    },
    "papermill": {
     "duration": 14.342787,
     "end_time": "2022-03-16T09:34:47.454080",
     "exception": false,
     "start_time": "2022-03-16T09:34:33.111293",
     "status": "completed"
    },
    "tags": []
   },
   "outputs": [
    {
     "data": {
      "text/plain": [
       "0.424983412027359"
      ]
     },
     "execution_count": 108,
     "metadata": {},
     "output_type": "execute_result"
    }
   ],
   "source": [
    "cu_score_naive_bayes"
   ]
  },
  {
   "cell_type": "code",
   "execution_count": 109,
   "id": "627fe549",
   "metadata": {
    "execution": {
     "iopub.execute_input": "2022-03-16T09:35:16.083563Z",
     "iopub.status.busy": "2022-03-16T09:35:16.083025Z",
     "iopub.status.idle": "2022-03-16T09:35:16.092868Z",
     "shell.execute_reply": "2022-03-16T09:35:16.093278Z"
    },
    "papermill": {
     "duration": 14.601982,
     "end_time": "2022-03-16T09:35:16.093422",
     "exception": false,
     "start_time": "2022-03-16T09:35:01.491440",
     "status": "completed"
    },
    "tags": []
   },
   "outputs": [],
   "source": [
    "submission_file =pd.read_csv('/kaggle/input/sentiment-analysis-on-movie-reviews/sampleSubmission.csv',sep=',')\n",
    "submission_file['Sentiment']=nb_predict\n",
    "submission_file.to_csv('Submission_NaiveBayes.csv',index=False)"
   ]
  },
  {
   "cell_type": "markdown",
   "id": "39a6d12a",
   "metadata": {
    "papermill": {
     "duration": 14.766165,
     "end_time": "2022-03-16T09:35:44.854986",
     "exception": false,
     "start_time": "2022-03-16T09:35:30.088821",
     "status": "completed"
    },
    "tags": []
   },
   "source": [
    "**4)KNeighbors Classifier**"
   ]
  },
  {
   "cell_type": "markdown",
   "id": "0351e212",
   "metadata": {
    "papermill": {
     "duration": 14.382997,
     "end_time": "2022-03-16T09:36:13.232675",
     "exception": false,
     "start_time": "2022-03-16T09:35:58.849678",
     "status": "completed"
    },
    "tags": []
   },
   "source": [
    "Runtime error in KNN"
   ]
  },
  {
   "cell_type": "code",
   "execution_count": 110,
   "id": "59363ece",
   "metadata": {
    "execution": {
     "iopub.execute_input": "2022-03-16T09:36:41.906610Z",
     "iopub.status.busy": "2022-03-16T09:36:41.905733Z",
     "iopub.status.idle": "2022-03-16T09:36:41.907814Z",
     "shell.execute_reply": "2022-03-16T09:36:41.907353Z"
    },
    "papermill": {
     "duration": 14.460093,
     "end_time": "2022-03-16T09:36:41.907926",
     "exception": false,
     "start_time": "2022-03-16T09:36:27.447833",
     "status": "completed"
    },
    "tags": []
   },
   "outputs": [],
   "source": [
    "# from cuml.neighbors import KNeighborsClassifier\n",
    "# knn = KNeighborsClassifier(n_neighbors=3)\n",
    "# knn.fit(X_train,y_train)"
   ]
  },
  {
   "cell_type": "code",
   "execution_count": 111,
   "id": "c6e91ea5",
   "metadata": {
    "execution": {
     "iopub.execute_input": "2022-03-16T09:37:10.341757Z",
     "iopub.status.busy": "2022-03-16T09:37:10.340828Z",
     "iopub.status.idle": "2022-03-16T09:37:10.343057Z",
     "shell.execute_reply": "2022-03-16T09:37:10.342544Z"
    },
    "papermill": {
     "duration": 14.435382,
     "end_time": "2022-03-16T09:37:10.343180",
     "exception": false,
     "start_time": "2022-03-16T09:36:55.907798",
     "status": "completed"
    },
    "tags": []
   },
   "outputs": [],
   "source": [
    "\n",
    "# knn_predict=knn.predict(X_test)"
   ]
  },
  {
   "cell_type": "code",
   "execution_count": 112,
   "id": "9d753d85",
   "metadata": {
    "execution": {
     "iopub.execute_input": "2022-03-16T09:37:39.111634Z",
     "iopub.status.busy": "2022-03-16T09:37:39.110757Z",
     "iopub.status.idle": "2022-03-16T09:37:39.112357Z",
     "shell.execute_reply": "2022-03-16T09:37:39.112791Z"
    },
    "papermill": {
     "duration": 14.122879,
     "end_time": "2022-03-16T09:37:39.112930",
     "exception": false,
     "start_time": "2022-03-16T09:37:24.990051",
     "status": "completed"
    },
    "tags": []
   },
   "outputs": [],
   "source": [
    "# knn_predict"
   ]
  },
  {
   "cell_type": "code",
   "execution_count": 113,
   "id": "eb646c35",
   "metadata": {
    "execution": {
     "iopub.execute_input": "2022-03-16T09:38:08.108416Z",
     "iopub.status.busy": "2022-03-16T09:38:08.107539Z",
     "iopub.status.idle": "2022-03-16T09:38:08.110025Z",
     "shell.execute_reply": "2022-03-16T09:38:08.109524Z"
    },
    "papermill": {
     "duration": 14.329638,
     "end_time": "2022-03-16T09:38:08.110138",
     "exception": false,
     "start_time": "2022-03-16T09:37:53.780500",
     "status": "completed"
    },
    "tags": []
   },
   "outputs": [],
   "source": [
    "# cp.unique(knn_predict)"
   ]
  },
  {
   "cell_type": "code",
   "execution_count": 114,
   "id": "d6e6d557",
   "metadata": {
    "execution": {
     "iopub.execute_input": "2022-03-16T09:38:36.746078Z",
     "iopub.status.busy": "2022-03-16T09:38:36.745185Z",
     "iopub.status.idle": "2022-03-16T09:38:36.747759Z",
     "shell.execute_reply": "2022-03-16T09:38:36.747276Z"
    },
    "papermill": {
     "duration": 14.104425,
     "end_time": "2022-03-16T09:38:36.747876",
     "exception": false,
     "start_time": "2022-03-16T09:38:22.643451",
     "status": "completed"
    },
    "tags": []
   },
   "outputs": [],
   "source": [
    "# cu_score_knn = cuml.metrics.accuracy_score(y_train, knn_predict )"
   ]
  },
  {
   "cell_type": "code",
   "execution_count": 115,
   "id": "d56637d8",
   "metadata": {
    "execution": {
     "iopub.execute_input": "2022-03-16T09:39:05.512273Z",
     "iopub.status.busy": "2022-03-16T09:39:05.511293Z",
     "iopub.status.idle": "2022-03-16T09:39:05.513746Z",
     "shell.execute_reply": "2022-03-16T09:39:05.513176Z"
    },
    "papermill": {
     "duration": 14.53181,
     "end_time": "2022-03-16T09:39:05.513866",
     "exception": false,
     "start_time": "2022-03-16T09:38:50.982056",
     "status": "completed"
    },
    "tags": []
   },
   "outputs": [],
   "source": [
    "# cu_score_knn"
   ]
  },
  {
   "cell_type": "code",
   "execution_count": 116,
   "id": "282238a8",
   "metadata": {
    "execution": {
     "iopub.execute_input": "2022-03-16T09:39:34.354093Z",
     "iopub.status.busy": "2022-03-16T09:39:34.353203Z",
     "iopub.status.idle": "2022-03-16T09:39:34.355490Z",
     "shell.execute_reply": "2022-03-16T09:39:34.354944Z"
    },
    "papermill": {
     "duration": 14.828602,
     "end_time": "2022-03-16T09:39:34.355609",
     "exception": false,
     "start_time": "2022-03-16T09:39:19.527007",
     "status": "completed"
    },
    "tags": []
   },
   "outputs": [],
   "source": [
    "# submission_file =pd.read_csv('/kaggle/input/sentiment-analysis-on-movie-reviews/sampleSubmission.csv',sep=',')\n",
    "# submission_file['Sentiment']=knn_predict\n",
    "# submission_file.to_csv('Submission_KNN.csv',index=False)"
   ]
  },
  {
   "cell_type": "markdown",
   "id": "1ecb83ee",
   "metadata": {
    "papermill": {
     "duration": 14.674305,
     "end_time": "2022-03-16T09:40:03.116320",
     "exception": false,
     "start_time": "2022-03-16T09:39:48.442015",
     "status": "completed"
    },
    "tags": []
   },
   "source": [
    "**5) SVM Classifier**"
   ]
  },
  {
   "cell_type": "markdown",
   "id": "2a29854f",
   "metadata": {
    "papermill": {
     "duration": 14.011995,
     "end_time": "2022-03-16T09:40:31.356690",
     "exception": false,
     "start_time": "2022-03-16T09:40:17.344695",
     "status": "completed"
    },
    "tags": []
   },
   "source": [
    "SVM was taking a very long time to run and was consuming entire RAM, so commented it"
   ]
  },
  {
   "cell_type": "code",
   "execution_count": 117,
   "id": "deb16ef5",
   "metadata": {
    "execution": {
     "iopub.execute_input": "2022-03-16T09:40:59.951808Z",
     "iopub.status.busy": "2022-03-16T09:40:59.950929Z",
     "iopub.status.idle": "2022-03-16T09:40:59.953337Z",
     "shell.execute_reply": "2022-03-16T09:40:59.952908Z"
    },
    "papermill": {
     "duration": 14.125466,
     "end_time": "2022-03-16T09:40:59.953465",
     "exception": false,
     "start_time": "2022-03-16T09:40:45.827999",
     "status": "completed"
    },
    "tags": []
   },
   "outputs": [],
   "source": [
    "# svc_gpu = SVC(kernel='poly', degree=2, gamma='auto', C=1)\n",
    "# svc_gpu.fit(X_train, y_train)"
   ]
  },
  {
   "cell_type": "code",
   "execution_count": 118,
   "id": "275a7944",
   "metadata": {
    "execution": {
     "iopub.execute_input": "2022-03-16T09:41:28.663320Z",
     "iopub.status.busy": "2022-03-16T09:41:28.662485Z",
     "iopub.status.idle": "2022-03-16T09:41:28.665012Z",
     "shell.execute_reply": "2022-03-16T09:41:28.664579Z"
    },
    "papermill": {
     "duration": 14.004587,
     "end_time": "2022-03-16T09:41:28.665125",
     "exception": false,
     "start_time": "2022-03-16T09:41:14.660538",
     "status": "completed"
    },
    "tags": []
   },
   "outputs": [],
   "source": [
    "# svc_gpu_predict=svc_gpu.predict(X_test)"
   ]
  },
  {
   "cell_type": "code",
   "execution_count": 119,
   "id": "a29898a0",
   "metadata": {
    "execution": {
     "iopub.execute_input": "2022-03-16T09:41:57.554133Z",
     "iopub.status.busy": "2022-03-16T09:41:57.553267Z",
     "iopub.status.idle": "2022-03-16T09:41:57.555530Z",
     "shell.execute_reply": "2022-03-16T09:41:57.554997Z"
    },
    "papermill": {
     "duration": 14.375544,
     "end_time": "2022-03-16T09:41:57.555648",
     "exception": false,
     "start_time": "2022-03-16T09:41:43.180104",
     "status": "completed"
    },
    "tags": []
   },
   "outputs": [],
   "source": [
    "# submission_file =pd.read_csv('/kaggle/input/sentiment-analysis-on-movie-reviews/sampleSubmission.csv',sep=',')\n",
    "# submission_file['Sentiment']=svc_gpu_predict\n",
    "# submission_file.to_csv('Submission_SVM.csv',index=False)"
   ]
  },
  {
   "cell_type": "markdown",
   "id": "94cb05e4",
   "metadata": {
    "papermill": {
     "duration": 14.545389,
     "end_time": "2022-03-16T09:42:26.162555",
     "exception": false,
     "start_time": "2022-03-16T09:42:11.617166",
     "status": "completed"
    },
    "tags": []
   },
   "source": [
    "# MACHINE LEARNING MODELS-SKLEARNB"
   ]
  },
  {
   "cell_type": "markdown",
   "id": "3edecd57",
   "metadata": {
    "papermill": {
     "duration": 14.622576,
     "end_time": "2022-03-16T09:42:55.257465",
     "exception": false,
     "start_time": "2022-03-16T09:42:40.634889",
     "status": "completed"
    },
    "tags": []
   },
   "source": [
    "**1)Logistic Regression**"
   ]
  },
  {
   "cell_type": "markdown",
   "id": "ec943ca2",
   "metadata": {
    "papermill": {
     "duration": 14.902457,
     "end_time": "2022-03-16T09:43:24.232888",
     "exception": false,
     "start_time": "2022-03-16T09:43:09.330431",
     "status": "completed"
    },
    "tags": []
   },
   "source": [
    "****"
   ]
  },
  {
   "cell_type": "code",
   "execution_count": 120,
   "id": "7addc462",
   "metadata": {
    "execution": {
     "iopub.execute_input": "2022-03-16T09:43:52.989683Z",
     "iopub.status.busy": "2022-03-16T09:43:52.988817Z",
     "iopub.status.idle": "2022-03-16T09:43:53.065849Z",
     "shell.execute_reply": "2022-03-16T09:43:53.065362Z",
     "shell.execute_reply.started": "2022-03-16T04:46:16.793264Z"
    },
    "papermill": {
     "duration": 14.654969,
     "end_time": "2022-03-16T09:43:53.065967",
     "exception": false,
     "start_time": "2022-03-16T09:43:38.410998",
     "status": "completed"
    },
    "tags": []
   },
   "outputs": [],
   "source": [
    "#Machine Learning-sklearn libraries\n",
    "from sklearn.linear_model import LogisticRegression\n",
    "from sklearn.ensemble import RandomForestClassifier\n",
    "from sklearn.naive_bayes import GaussianNB\n",
    "from sklearn.neighbors import KNeighborsClassifier\n",
    "from sklearn import svm\n",
    "from xgboost import XGBClassifier\n",
    "from sklearn import metrics\n",
    "from sklearn.model_selection import train_test_split\n",
    "from sklearn.metrics import confusion_matrix,accuracy_score,roc_auc_score,roc_curve,auc,f1_score"
   ]
  },
  {
   "cell_type": "code",
   "execution_count": 121,
   "id": "4af9e24f",
   "metadata": {
    "execution": {
     "iopub.execute_input": "2022-03-16T09:44:21.446862Z",
     "iopub.status.busy": "2022-03-16T09:44:21.445948Z",
     "iopub.status.idle": "2022-03-16T09:44:21.448200Z",
     "shell.execute_reply": "2022-03-16T09:44:21.448642Z",
     "shell.execute_reply.started": "2022-03-16T04:46:18.850055Z"
    },
    "papermill": {
     "duration": 14.290841,
     "end_time": "2022-03-16T09:44:21.448789",
     "exception": false,
     "start_time": "2022-03-16T09:44:07.157948",
     "status": "completed"
    },
    "tags": []
   },
   "outputs": [],
   "source": [
    "lr_sklearn = LogisticRegression(random_state=0)"
   ]
  },
  {
   "cell_type": "code",
   "execution_count": 122,
   "id": "ab820093",
   "metadata": {
    "execution": {
     "iopub.execute_input": "2022-03-16T09:44:50.192865Z",
     "iopub.status.busy": "2022-03-16T09:44:50.191660Z",
     "iopub.status.idle": "2022-03-16T09:44:59.533939Z",
     "shell.execute_reply": "2022-03-16T09:44:59.535121Z",
     "shell.execute_reply.started": "2022-03-16T04:46:19.993302Z"
    },
    "papermill": {
     "duration": 23.484296,
     "end_time": "2022-03-16T09:44:59.535392",
     "exception": false,
     "start_time": "2022-03-16T09:44:36.051096",
     "status": "completed"
    },
    "tags": []
   },
   "outputs": [
    {
     "name": "stderr",
     "output_type": "stream",
     "text": [
      "/opt/conda/lib/python3.7/site-packages/sklearn/linear_model/_logistic.py:818: ConvergenceWarning: lbfgs failed to converge (status=1):\n",
      "STOP: TOTAL NO. of ITERATIONS REACHED LIMIT.\n",
      "\n",
      "Increase the number of iterations (max_iter) or scale the data as shown in:\n",
      "    https://scikit-learn.org/stable/modules/preprocessing.html\n",
      "Please also refer to the documentation for alternative solver options:\n",
      "    https://scikit-learn.org/stable/modules/linear_model.html#logistic-regression\n",
      "  extra_warning_msg=_LOGISTIC_SOLVER_CONVERGENCE_MSG,\n"
     ]
    },
    {
     "data": {
      "text/plain": [
       "LogisticRegression(random_state=0)"
      ]
     },
     "execution_count": 122,
     "metadata": {},
     "output_type": "execute_result"
    }
   ],
   "source": [
    "lr_sklearn.fit(X_train,y_train)"
   ]
  },
  {
   "cell_type": "code",
   "execution_count": 123,
   "id": "3c988763",
   "metadata": {
    "execution": {
     "iopub.execute_input": "2022-03-16T09:45:28.123175Z",
     "iopub.status.busy": "2022-03-16T09:45:28.122096Z",
     "iopub.status.idle": "2022-03-16T09:45:28.133904Z",
     "shell.execute_reply": "2022-03-16T09:45:28.134839Z",
     "shell.execute_reply.started": "2022-03-16T04:46:34.854393Z"
    },
    "papermill": {
     "duration": 14.299068,
     "end_time": "2022-03-16T09:45:28.135077",
     "exception": false,
     "start_time": "2022-03-16T09:45:13.836009",
     "status": "completed"
    },
    "tags": []
   },
   "outputs": [],
   "source": [
    "pred_lr_sklearn=lr_sklearn.predict(X_test)"
   ]
  },
  {
   "cell_type": "code",
   "execution_count": 124,
   "id": "a445d3e6",
   "metadata": {
    "execution": {
     "iopub.execute_input": "2022-03-16T09:45:57.133040Z",
     "iopub.status.busy": "2022-03-16T09:45:57.132210Z",
     "iopub.status.idle": "2022-03-16T09:45:57.134996Z",
     "shell.execute_reply": "2022-03-16T09:45:57.135403Z",
     "shell.execute_reply.started": "2022-03-16T04:46:37.905539Z"
    },
    "papermill": {
     "duration": 14.145657,
     "end_time": "2022-03-16T09:45:57.135539",
     "exception": false,
     "start_time": "2022-03-16T09:45:42.989882",
     "status": "completed"
    },
    "tags": []
   },
   "outputs": [
    {
     "data": {
      "text/plain": [
       "array([2, 2, 2, ..., 2, 2, 2])"
      ]
     },
     "execution_count": 124,
     "metadata": {},
     "output_type": "execute_result"
    }
   ],
   "source": [
    "pred_lr_sklearn"
   ]
  },
  {
   "cell_type": "code",
   "execution_count": 125,
   "id": "c8691f5b",
   "metadata": {
    "execution": {
     "iopub.execute_input": "2022-03-16T09:46:26.250135Z",
     "iopub.status.busy": "2022-03-16T09:46:26.249210Z",
     "iopub.status.idle": "2022-03-16T09:46:26.254360Z",
     "shell.execute_reply": "2022-03-16T09:46:26.253904Z",
     "shell.execute_reply.started": "2022-03-16T04:46:43.370359Z"
    },
    "papermill": {
     "duration": 14.093862,
     "end_time": "2022-03-16T09:46:26.254506",
     "exception": false,
     "start_time": "2022-03-16T09:46:12.160644",
     "status": "completed"
    },
    "tags": []
   },
   "outputs": [
    {
     "data": {
      "text/plain": [
       "array([0, 1, 2, 3, 4])"
      ]
     },
     "execution_count": 125,
     "metadata": {},
     "output_type": "execute_result"
    }
   ],
   "source": [
    "np.unique(pred_lr_sklearn)"
   ]
  },
  {
   "cell_type": "code",
   "execution_count": 126,
   "id": "3eab624e",
   "metadata": {
    "execution": {
     "iopub.execute_input": "2022-03-16T09:46:55.349990Z",
     "iopub.status.busy": "2022-03-16T09:46:55.349330Z",
     "iopub.status.idle": "2022-03-16T09:46:55.360460Z",
     "shell.execute_reply": "2022-03-16T09:46:55.359550Z",
     "shell.execute_reply.started": "2022-03-16T04:46:49.087594Z"
    },
    "papermill": {
     "duration": 14.334603,
     "end_time": "2022-03-16T09:46:55.360591",
     "exception": false,
     "start_time": "2022-03-16T09:46:41.025988",
     "status": "completed"
    },
    "tags": []
   },
   "outputs": [],
   "source": [
    "submission_file =pd.read_csv('/kaggle/input/sentiment-analysis-on-movie-reviews/sampleSubmission.csv',sep=',')\n",
    "submission_file['Sentiment']=pred_lr_sklearn\n",
    "submission_file.to_csv('Submission_LogisticRegression_sklearn.csv',index=False)"
   ]
  },
  {
   "cell_type": "markdown",
   "id": "63b0cfef",
   "metadata": {
    "papermill": {
     "duration": 14.243916,
     "end_time": "2022-03-16T09:47:24.261661",
     "exception": false,
     "start_time": "2022-03-16T09:47:10.017745",
     "status": "completed"
    },
    "tags": []
   },
   "source": [
    "**2)Random Forest**"
   ]
  },
  {
   "cell_type": "code",
   "execution_count": 127,
   "id": "3e44ed2c",
   "metadata": {
    "execution": {
     "iopub.execute_input": "2022-03-16T09:47:53.458030Z",
     "iopub.status.busy": "2022-03-16T09:47:53.457103Z",
     "iopub.status.idle": "2022-03-16T09:47:53.459062Z",
     "shell.execute_reply": "2022-03-16T09:47:53.459525Z",
     "shell.execute_reply.started": "2022-03-16T04:50:05.273394Z"
    },
    "papermill": {
     "duration": 14.667075,
     "end_time": "2022-03-16T09:47:53.459671",
     "exception": false,
     "start_time": "2022-03-16T09:47:38.792596",
     "status": "completed"
    },
    "tags": []
   },
   "outputs": [],
   "source": [
    "rf_sklearn = RandomForestClassifier(n_estimators=100,criterion='gini',random_state=42)"
   ]
  },
  {
   "cell_type": "code",
   "execution_count": 128,
   "id": "1860608d",
   "metadata": {
    "execution": {
     "iopub.execute_input": "2022-03-16T09:48:22.503924Z",
     "iopub.status.busy": "2022-03-16T09:48:22.502799Z",
     "iopub.status.idle": "2022-03-16T09:48:52.277807Z",
     "shell.execute_reply": "2022-03-16T09:48:52.278275Z",
     "shell.execute_reply.started": "2022-03-16T04:50:05.508813Z"
    },
    "papermill": {
     "duration": 44.615759,
     "end_time": "2022-03-16T09:48:52.278423",
     "exception": false,
     "start_time": "2022-03-16T09:48:07.662664",
     "status": "completed"
    },
    "tags": []
   },
   "outputs": [
    {
     "data": {
      "text/plain": [
       "RandomForestClassifier(random_state=42)"
      ]
     },
     "execution_count": 128,
     "metadata": {},
     "output_type": "execute_result"
    }
   ],
   "source": [
    "rf_sklearn.fit(X_train,y_train)"
   ]
  },
  {
   "cell_type": "code",
   "execution_count": 129,
   "id": "f25ac428",
   "metadata": {
    "execution": {
     "iopub.execute_input": "2022-03-16T09:49:21.230352Z",
     "iopub.status.busy": "2022-03-16T09:49:21.229482Z",
     "iopub.status.idle": "2022-03-16T09:49:23.296159Z",
     "shell.execute_reply": "2022-03-16T09:49:23.295673Z",
     "shell.execute_reply.started": "2022-03-16T04:50:38.256355Z"
    },
    "papermill": {
     "duration": 16.612921,
     "end_time": "2022-03-16T09:49:23.296310",
     "exception": false,
     "start_time": "2022-03-16T09:49:06.683389",
     "status": "completed"
    },
    "tags": []
   },
   "outputs": [],
   "source": [
    "rf_sklearn_predict=rf_sklearn.predict(X_test)"
   ]
  },
  {
   "cell_type": "code",
   "execution_count": 130,
   "id": "7d897328",
   "metadata": {
    "execution": {
     "iopub.execute_input": "2022-03-16T09:49:52.271347Z",
     "iopub.status.busy": "2022-03-16T09:49:52.270632Z",
     "iopub.status.idle": "2022-03-16T09:49:52.273581Z",
     "shell.execute_reply": "2022-03-16T09:49:52.273981Z",
     "shell.execute_reply.started": "2022-03-16T04:50:40.559634Z"
    },
    "papermill": {
     "duration": 14.848205,
     "end_time": "2022-03-16T09:49:52.274118",
     "exception": false,
     "start_time": "2022-03-16T09:49:37.425913",
     "status": "completed"
    },
    "tags": []
   },
   "outputs": [
    {
     "data": {
      "text/plain": [
       "array([2, 2, 2, ..., 1, 1, 2])"
      ]
     },
     "execution_count": 130,
     "metadata": {},
     "output_type": "execute_result"
    }
   ],
   "source": [
    "rf_sklearn_predict"
   ]
  },
  {
   "cell_type": "code",
   "execution_count": 131,
   "id": "6163b606",
   "metadata": {
    "execution": {
     "iopub.execute_input": "2022-03-16T09:50:21.512579Z",
     "iopub.status.busy": "2022-03-16T09:50:21.512024Z",
     "iopub.status.idle": "2022-03-16T09:50:21.522979Z",
     "shell.execute_reply": "2022-03-16T09:50:21.522556Z",
     "shell.execute_reply.started": "2022-03-16T04:50:40.569361Z"
    },
    "papermill": {
     "duration": 14.563378,
     "end_time": "2022-03-16T09:50:21.523100",
     "exception": false,
     "start_time": "2022-03-16T09:50:06.959722",
     "status": "completed"
    },
    "tags": []
   },
   "outputs": [],
   "source": [
    "submission_file =pd.read_csv('/kaggle/input/sentiment-analysis-on-movie-reviews/sampleSubmission.csv',sep=',')\n",
    "submission_file['Sentiment']=rf_sklearn_predict\n",
    "submission_file.to_csv('Submission_RandomForest_sklearn.csv',index=False)"
   ]
  },
  {
   "cell_type": "markdown",
   "id": "5c4c09b8",
   "metadata": {
    "papermill": {
     "duration": 14.271964,
     "end_time": "2022-03-16T09:50:50.212611",
     "exception": false,
     "start_time": "2022-03-16T09:50:35.940647",
     "status": "completed"
    },
    "tags": []
   },
   "source": [
    "**3)Naive Bayes**"
   ]
  },
  {
   "cell_type": "code",
   "execution_count": 132,
   "id": "f85b3a7b",
   "metadata": {
    "execution": {
     "iopub.execute_input": "2022-03-16T09:51:19.486089Z",
     "iopub.status.busy": "2022-03-16T09:51:19.484399Z",
     "iopub.status.idle": "2022-03-16T09:51:19.486703Z",
     "shell.execute_reply": "2022-03-16T09:51:19.487101Z",
     "shell.execute_reply.started": "2022-03-16T04:49:01.672576Z"
    },
    "papermill": {
     "duration": 14.538599,
     "end_time": "2022-03-16T09:51:19.487253",
     "exception": false,
     "start_time": "2022-03-16T09:51:04.948654",
     "status": "completed"
    },
    "tags": []
   },
   "outputs": [],
   "source": [
    "nb_sklearn=MultinomialNB()"
   ]
  },
  {
   "cell_type": "code",
   "execution_count": 133,
   "id": "dd0286b7",
   "metadata": {
    "execution": {
     "iopub.execute_input": "2022-03-16T09:51:48.446602Z",
     "iopub.status.busy": "2022-03-16T09:51:48.444885Z",
     "iopub.status.idle": "2022-03-16T09:51:48.459519Z",
     "shell.execute_reply": "2022-03-16T09:51:48.459045Z",
     "shell.execute_reply.started": "2022-03-16T04:50:40.650660Z"
    },
    "papermill": {
     "duration": 14.22966,
     "end_time": "2022-03-16T09:51:48.459645",
     "exception": false,
     "start_time": "2022-03-16T09:51:34.229985",
     "status": "completed"
    },
    "tags": []
   },
   "outputs": [
    {
     "data": {
      "text/plain": [
       "MultinomialNB()"
      ]
     },
     "execution_count": 133,
     "metadata": {},
     "output_type": "execute_result"
    }
   ],
   "source": [
    "nb_sklearn.fit(X_train,y_train)"
   ]
  },
  {
   "cell_type": "code",
   "execution_count": 134,
   "id": "e71cdf6b",
   "metadata": {
    "execution": {
     "iopub.execute_input": "2022-03-16T09:52:17.921020Z",
     "iopub.status.busy": "2022-03-16T09:52:17.920113Z",
     "iopub.status.idle": "2022-03-16T09:52:17.927566Z",
     "shell.execute_reply": "2022-03-16T09:52:17.927068Z",
     "shell.execute_reply.started": "2022-03-16T04:50:41.161144Z"
    },
    "papermill": {
     "duration": 14.585599,
     "end_time": "2022-03-16T09:52:17.927699",
     "exception": false,
     "start_time": "2022-03-16T09:52:03.342100",
     "status": "completed"
    },
    "tags": []
   },
   "outputs": [],
   "source": [
    "nb_sklearn_predict=nb_sklearn.predict(X_test)"
   ]
  },
  {
   "cell_type": "code",
   "execution_count": 135,
   "id": "d35ad0ee",
   "metadata": {
    "execution": {
     "iopub.execute_input": "2022-03-16T09:52:46.916651Z",
     "iopub.status.busy": "2022-03-16T09:52:46.915898Z",
     "iopub.status.idle": "2022-03-16T09:52:46.918628Z",
     "shell.execute_reply": "2022-03-16T09:52:46.919025Z",
     "shell.execute_reply.started": "2022-03-16T04:50:41.181565Z"
    },
    "papermill": {
     "duration": 14.471703,
     "end_time": "2022-03-16T09:52:46.919162",
     "exception": false,
     "start_time": "2022-03-16T09:52:32.447459",
     "status": "completed"
    },
    "tags": []
   },
   "outputs": [
    {
     "data": {
      "text/plain": [
       "array([0, 0, 2, ..., 2, 2, 2], dtype=int32)"
      ]
     },
     "execution_count": 135,
     "metadata": {},
     "output_type": "execute_result"
    }
   ],
   "source": [
    "nb_sklearn_predict"
   ]
  },
  {
   "cell_type": "code",
   "execution_count": 136,
   "id": "510c2d5d",
   "metadata": {
    "execution": {
     "iopub.execute_input": "2022-03-16T09:53:15.916087Z",
     "iopub.status.busy": "2022-03-16T09:53:15.915540Z",
     "iopub.status.idle": "2022-03-16T09:53:15.927149Z",
     "shell.execute_reply": "2022-03-16T09:53:15.926703Z",
     "shell.execute_reply.started": "2022-03-16T04:50:41.753945Z"
    },
    "papermill": {
     "duration": 14.219242,
     "end_time": "2022-03-16T09:53:15.927319",
     "exception": false,
     "start_time": "2022-03-16T09:53:01.708077",
     "status": "completed"
    },
    "tags": []
   },
   "outputs": [],
   "source": [
    "submission_file =pd.read_csv('/kaggle/input/sentiment-analysis-on-movie-reviews/sampleSubmission.csv',sep=',')\n",
    "submission_file['Sentiment']=nb_sklearn_predict\n",
    "submission_file.to_csv('Submission_NaiveBayes_sklearn.csv',index=False)"
   ]
  },
  {
   "cell_type": "markdown",
   "id": "1977b159",
   "metadata": {
    "papermill": {
     "duration": 14.774327,
     "end_time": "2022-03-16T09:53:45.296877",
     "exception": false,
     "start_time": "2022-03-16T09:53:30.522550",
     "status": "completed"
    },
    "tags": []
   },
   "source": [
    "**4)KNeighbors Classifier**"
   ]
  },
  {
   "cell_type": "code",
   "execution_count": 137,
   "id": "d4dc7813",
   "metadata": {
    "execution": {
     "iopub.execute_input": "2022-03-16T09:54:14.282476Z",
     "iopub.status.busy": "2022-03-16T09:54:14.281636Z",
     "iopub.status.idle": "2022-03-16T09:54:14.284053Z",
     "shell.execute_reply": "2022-03-16T09:54:14.283632Z"
    },
    "papermill": {
     "duration": 14.824422,
     "end_time": "2022-03-16T09:54:14.284163",
     "exception": false,
     "start_time": "2022-03-16T09:53:59.459741",
     "status": "completed"
    },
    "tags": []
   },
   "outputs": [],
   "source": [
    "knn_sklearn = KNeighborsClassifier(n_neighbors=3)"
   ]
  },
  {
   "cell_type": "code",
   "execution_count": 138,
   "id": "80a13470",
   "metadata": {
    "execution": {
     "iopub.execute_input": "2022-03-16T09:54:43.057167Z",
     "iopub.status.busy": "2022-03-16T09:54:43.056409Z",
     "iopub.status.idle": "2022-03-16T09:54:43.068700Z",
     "shell.execute_reply": "2022-03-16T09:54:43.069136Z"
    },
    "papermill": {
     "duration": 14.590267,
     "end_time": "2022-03-16T09:54:43.069293",
     "exception": false,
     "start_time": "2022-03-16T09:54:28.479026",
     "status": "completed"
    },
    "tags": []
   },
   "outputs": [
    {
     "data": {
      "text/plain": [
       "KNeighborsClassifier(n_neighbors=3)"
      ]
     },
     "execution_count": 138,
     "metadata": {},
     "output_type": "execute_result"
    }
   ],
   "source": [
    "knn_sklearn.fit(X_train,y_train)"
   ]
  },
  {
   "cell_type": "code",
   "execution_count": 139,
   "id": "64f57a4f",
   "metadata": {
    "execution": {
     "iopub.execute_input": "2022-03-16T09:55:11.878860Z",
     "iopub.status.busy": "2022-03-16T09:55:11.877700Z",
     "iopub.status.idle": "2022-03-16T09:57:35.977795Z",
     "shell.execute_reply": "2022-03-16T09:57:35.976881Z"
    },
    "papermill": {
     "duration": 158.639289,
     "end_time": "2022-03-16T09:57:35.977969",
     "exception": false,
     "start_time": "2022-03-16T09:54:57.338680",
     "status": "completed"
    },
    "tags": []
   },
   "outputs": [],
   "source": [
    "knn_sklearn_predict=knn_sklearn.predict(X_test)"
   ]
  },
  {
   "cell_type": "code",
   "execution_count": 140,
   "id": "b36a4dbf",
   "metadata": {
    "execution": {
     "iopub.execute_input": "2022-03-16T09:58:04.694969Z",
     "iopub.status.busy": "2022-03-16T09:58:04.694139Z",
     "iopub.status.idle": "2022-03-16T09:58:04.696875Z",
     "shell.execute_reply": "2022-03-16T09:58:04.697280Z"
    },
    "papermill": {
     "duration": 14.776067,
     "end_time": "2022-03-16T09:58:04.697418",
     "exception": false,
     "start_time": "2022-03-16T09:57:49.921351",
     "status": "completed"
    },
    "tags": []
   },
   "outputs": [
    {
     "data": {
      "text/plain": [
       "array([1, 1, 2, ..., 2, 2, 2])"
      ]
     },
     "execution_count": 140,
     "metadata": {},
     "output_type": "execute_result"
    }
   ],
   "source": [
    "knn_sklearn_predict"
   ]
  },
  {
   "cell_type": "code",
   "execution_count": 141,
   "id": "42fbeb69",
   "metadata": {
    "execution": {
     "iopub.execute_input": "2022-03-16T09:58:33.598359Z",
     "iopub.status.busy": "2022-03-16T09:58:33.597800Z",
     "iopub.status.idle": "2022-03-16T09:58:33.610976Z",
     "shell.execute_reply": "2022-03-16T09:58:33.610545Z"
    },
    "papermill": {
     "duration": 14.861436,
     "end_time": "2022-03-16T09:58:33.611102",
     "exception": false,
     "start_time": "2022-03-16T09:58:18.749666",
     "status": "completed"
    },
    "tags": []
   },
   "outputs": [],
   "source": [
    "submission_file =pd.read_csv('/kaggle/input/sentiment-analysis-on-movie-reviews/sampleSubmission.csv',sep=',')\n",
    "submission_file['Sentiment']=knn_sklearn_predict\n",
    "submission_file.to_csv('Submission_KNN_sklearn.csv',index=False)"
   ]
  },
  {
   "cell_type": "markdown",
   "id": "26012ee2",
   "metadata": {
    "papermill": {
     "duration": 15.50337,
     "end_time": "2022-03-16T09:59:03.655280",
     "exception": false,
     "start_time": "2022-03-16T09:58:48.151910",
     "status": "completed"
    },
    "tags": []
   },
   "source": [
    "**5)SVM CLASSIFIER**"
   ]
  },
  {
   "cell_type": "markdown",
   "id": "8ff5eaad",
   "metadata": {
    "papermill": {
     "duration": 14.309777,
     "end_time": "2022-03-16T09:59:32.139841",
     "exception": false,
     "start_time": "2022-03-16T09:59:17.830064",
     "status": "completed"
    },
    "tags": []
   },
   "source": [
    "SVM was taking a very long time to run and was consuming entire RAM, so commented it"
   ]
  },
  {
   "cell_type": "code",
   "execution_count": 142,
   "id": "04cbbd69",
   "metadata": {
    "execution": {
     "iopub.execute_input": "2022-03-16T10:00:01.186827Z",
     "iopub.status.busy": "2022-03-16T10:00:01.185225Z",
     "iopub.status.idle": "2022-03-16T10:00:01.187436Z",
     "shell.execute_reply": "2022-03-16T10:00:01.187890Z"
    },
    "papermill": {
     "duration": 14.3663,
     "end_time": "2022-03-16T10:00:01.188042",
     "exception": false,
     "start_time": "2022-03-16T09:59:46.821742",
     "status": "completed"
    },
    "tags": []
   },
   "outputs": [],
   "source": [
    "# svc = svm.SVC(decision_function_shape='ovo')\n",
    "# svc.fit(X_train, y_train)"
   ]
  },
  {
   "cell_type": "code",
   "execution_count": 143,
   "id": "77144422",
   "metadata": {
    "execution": {
     "iopub.execute_input": "2022-03-16T10:00:29.986123Z",
     "iopub.status.busy": "2022-03-16T10:00:29.984522Z",
     "iopub.status.idle": "2022-03-16T10:00:29.986717Z",
     "shell.execute_reply": "2022-03-16T10:00:29.987112Z"
    },
    "papermill": {
     "duration": 14.078466,
     "end_time": "2022-03-16T10:00:29.987272",
     "exception": false,
     "start_time": "2022-03-16T10:00:15.908806",
     "status": "completed"
    },
    "tags": []
   },
   "outputs": [],
   "source": [
    "# svm_pred=svc.predict(X_test)"
   ]
  },
  {
   "cell_type": "code",
   "execution_count": 144,
   "id": "3b6ed154",
   "metadata": {
    "execution": {
     "iopub.execute_input": "2022-03-16T10:00:58.668919Z",
     "iopub.status.busy": "2022-03-16T10:00:58.667300Z",
     "iopub.status.idle": "2022-03-16T10:00:58.669526Z",
     "shell.execute_reply": "2022-03-16T10:00:58.669932Z"
    },
    "papermill": {
     "duration": 14.037032,
     "end_time": "2022-03-16T10:00:58.670090",
     "exception": false,
     "start_time": "2022-03-16T10:00:44.633058",
     "status": "completed"
    },
    "tags": []
   },
   "outputs": [],
   "source": [
    "# submission_file =pd.read_csv('/kaggle/input/sentiment-analysis-on-movie-reviews/sampleSubmission.csv',sep=',')\n",
    "# submission_file['Sentiment']=knn_sklearn_predict\n",
    "# submission_file.to_csv('Submission_KNN_sklearn.csv',index=False)"
   ]
  },
  {
   "cell_type": "markdown",
   "id": "25482312",
   "metadata": {
    "papermill": {
     "duration": 13.919147,
     "end_time": "2022-03-16T10:01:27.313813",
     "exception": false,
     "start_time": "2022-03-16T10:01:13.394666",
     "status": "completed"
    },
    "tags": []
   },
   "source": [
    "**6)XGBOOST CLASSIFIER**"
   ]
  },
  {
   "cell_type": "code",
   "execution_count": 145,
   "id": "fa39bcf4",
   "metadata": {
    "execution": {
     "iopub.execute_input": "2022-03-16T10:01:56.225809Z",
     "iopub.status.busy": "2022-03-16T10:01:56.224781Z",
     "iopub.status.idle": "2022-03-16T10:01:56.227066Z",
     "shell.execute_reply": "2022-03-16T10:01:56.227561Z",
     "shell.execute_reply.started": "2022-03-16T04:55:08.840193Z"
    },
    "papermill": {
     "duration": 14.878444,
     "end_time": "2022-03-16T10:01:56.227718",
     "exception": false,
     "start_time": "2022-03-16T10:01:41.349274",
     "status": "completed"
    },
    "tags": []
   },
   "outputs": [],
   "source": [
    "xgb = XGBClassifier(silent=False, \n",
    "                      scale_pos_weight=1,\n",
    "                      learning_rate=0.01,  \n",
    "                      colsample_bytree = 0.4,\n",
    "                      subsample = 0.8,\n",
    "                      n_estimators=1000, \n",
    "                      reg_alpha = 0.3,\n",
    "                      max_depth=4, \n",
    "                      gamma=10)"
   ]
  },
  {
   "cell_type": "code",
   "execution_count": 146,
   "id": "f9889138",
   "metadata": {
    "execution": {
     "iopub.execute_input": "2022-03-16T10:02:24.613693Z",
     "iopub.status.busy": "2022-03-16T10:02:24.612842Z",
     "iopub.status.idle": "2022-03-16T10:09:11.707740Z",
     "shell.execute_reply": "2022-03-16T10:09:11.708594Z",
     "shell.execute_reply.started": "2022-03-16T04:55:09.313831Z"
    },
    "papermill": {
     "duration": 421.541587,
     "end_time": "2022-03-16T10:09:11.708808",
     "exception": false,
     "start_time": "2022-03-16T10:02:10.167221",
     "status": "completed"
    },
    "tags": []
   },
   "outputs": [
    {
     "name": "stderr",
     "output_type": "stream",
     "text": [
      "/opt/conda/lib/python3.7/site-packages/xgboost/sklearn.py:1224: UserWarning: The use of label encoder in XGBClassifier is deprecated and will be removed in a future release. To remove this warning, do the following: 1) Pass option use_label_encoder=False when constructing XGBClassifier object; and 2) Encode your labels (y) as integers starting with 0, i.e. 0, 1, 2, ..., [num_class - 1].\n",
      "  warnings.warn(label_encoder_deprecation_msg, UserWarning)\n"
     ]
    },
    {
     "name": "stdout",
     "output_type": "stream",
     "text": [
      "[10:02:24] WARNING: ../src/learner.cc:576: \n",
      "Parameters: { \"scale_pos_weight\", \"silent\" } might not be used.\n",
      "\n",
      "  This could be a false alarm, with some parameters getting used by language bindings but\n",
      "  then being mistakenly passed down to XGBoost core, or some parameter actually being used\n",
      "  but getting flagged wrongly here. Please open an issue if you find any such cases.\n",
      "\n",
      "\n",
      "[10:02:25] WARNING: ../src/learner.cc:1115: Starting in XGBoost 1.3.0, the default evaluation metric used with the objective 'multi:softprob' was changed from 'merror' to 'mlogloss'. Explicitly set eval_metric if you'd like to restore the old behavior.\n"
     ]
    },
    {
     "data": {
      "text/plain": [
       "XGBClassifier(base_score=0.5, booster='gbtree', colsample_bylevel=1,\n",
       "              colsample_bynode=1, colsample_bytree=0.4,\n",
       "              enable_categorical=False, gamma=10, gpu_id=-1,\n",
       "              importance_type=None, interaction_constraints='',\n",
       "              learning_rate=0.01, max_delta_step=0, max_depth=4,\n",
       "              min_child_weight=1, missing=nan, monotone_constraints='()',\n",
       "              n_estimators=1000, n_jobs=2, num_parallel_tree=1,\n",
       "              objective='multi:softprob', predictor='auto', random_state=0,\n",
       "              reg_alpha=0.3, reg_lambda=1, scale_pos_weight=1, silent=False,\n",
       "              subsample=0.8, tree_method='exact', validate_parameters=1,\n",
       "              verbosity=None)"
      ]
     },
     "execution_count": 146,
     "metadata": {},
     "output_type": "execute_result"
    }
   ],
   "source": [
    "xgb.fit(X_train,y_train)"
   ]
  },
  {
   "cell_type": "code",
   "execution_count": 147,
   "id": "c5d0fedf",
   "metadata": {
    "execution": {
     "iopub.execute_input": "2022-03-16T10:09:40.520187Z",
     "iopub.status.busy": "2022-03-16T10:09:40.519381Z",
     "iopub.status.idle": "2022-03-16T10:09:42.975528Z",
     "shell.execute_reply": "2022-03-16T10:09:42.976401Z"
    },
    "papermill": {
     "duration": 16.387839,
     "end_time": "2022-03-16T10:09:42.976582",
     "exception": false,
     "start_time": "2022-03-16T10:09:26.588743",
     "status": "completed"
    },
    "tags": []
   },
   "outputs": [],
   "source": [
    "xgb_predict=xgb.predict(X_test)"
   ]
  },
  {
   "cell_type": "code",
   "execution_count": 148,
   "id": "4a8d7e97",
   "metadata": {
    "execution": {
     "iopub.execute_input": "2022-03-16T10:10:11.824796Z",
     "iopub.status.busy": "2022-03-16T10:10:11.824124Z",
     "iopub.status.idle": "2022-03-16T10:10:11.826882Z",
     "shell.execute_reply": "2022-03-16T10:10:11.827303Z"
    },
    "papermill": {
     "duration": 14.937313,
     "end_time": "2022-03-16T10:10:11.827441",
     "exception": false,
     "start_time": "2022-03-16T10:09:56.890128",
     "status": "completed"
    },
    "tags": []
   },
   "outputs": [
    {
     "data": {
      "text/plain": [
       "array([2, 2, 2, ..., 2, 2, 2])"
      ]
     },
     "execution_count": 148,
     "metadata": {},
     "output_type": "execute_result"
    }
   ],
   "source": [
    "xgb_predict"
   ]
  },
  {
   "cell_type": "code",
   "execution_count": 149,
   "id": "d01f44d4",
   "metadata": {
    "execution": {
     "iopub.execute_input": "2022-03-16T10:10:40.411973Z",
     "iopub.status.busy": "2022-03-16T10:10:40.411120Z",
     "iopub.status.idle": "2022-03-16T10:10:40.416503Z",
     "shell.execute_reply": "2022-03-16T10:10:40.416906Z"
    },
    "papermill": {
     "duration": 14.650704,
     "end_time": "2022-03-16T10:10:40.417052",
     "exception": false,
     "start_time": "2022-03-16T10:10:25.766348",
     "status": "completed"
    },
    "tags": []
   },
   "outputs": [
    {
     "data": {
      "text/plain": [
       "array([0, 1, 2, 3, 4])"
      ]
     },
     "execution_count": 149,
     "metadata": {},
     "output_type": "execute_result"
    }
   ],
   "source": [
    "np.unique(xgb_predict)"
   ]
  },
  {
   "cell_type": "code",
   "execution_count": 150,
   "id": "e9d379ef",
   "metadata": {
    "execution": {
     "iopub.execute_input": "2022-03-16T10:11:09.133929Z",
     "iopub.status.busy": "2022-03-16T10:11:09.133271Z",
     "iopub.status.idle": "2022-03-16T10:11:09.149981Z",
     "shell.execute_reply": "2022-03-16T10:11:09.149482Z"
    },
    "papermill": {
     "duration": 14.538717,
     "end_time": "2022-03-16T10:11:09.150102",
     "exception": false,
     "start_time": "2022-03-16T10:10:54.611385",
     "status": "completed"
    },
    "tags": []
   },
   "outputs": [],
   "source": [
    "submission_file =pd.read_csv('/kaggle/input/sentiment-analysis-on-movie-reviews/sampleSubmission.csv',sep=',')\n",
    "submission_file['Sentiment']=xgb_predict\n",
    "submission_file.to_csv('Submission_XGB.csv',index=False)"
   ]
  },
  {
   "cell_type": "code",
   "execution_count": null,
   "id": "d2fc1627",
   "metadata": {
    "papermill": {
     "duration": 13.958844,
     "end_time": "2022-03-16T10:11:37.115013",
     "exception": false,
     "start_time": "2022-03-16T10:11:23.156169",
     "status": "completed"
    },
    "tags": []
   },
   "outputs": [],
   "source": []
  }
 ],
 "metadata": {
  "kernelspec": {
   "display_name": "Python 3",
   "language": "python",
   "name": "python3"
  },
  "language_info": {
   "codemirror_mode": {
    "name": "ipython",
    "version": 3
   },
   "file_extension": ".py",
   "mimetype": "text/x-python",
   "name": "python",
   "nbconvert_exporter": "python",
   "pygments_lexer": "ipython3",
   "version": "3.7.12"
  },
  "papermill": {
   "default_parameters": {},
   "duration": 9135.477026,
   "end_time": "2022-03-16T10:11:55.516904",
   "environment_variables": {},
   "exception": null,
   "input_path": "__notebook__.ipynb",
   "output_path": "__notebook__.ipynb",
   "parameters": {},
   "start_time": "2022-03-16T07:39:40.039878",
   "version": "2.3.3"
  }
 },
 "nbformat": 4,
 "nbformat_minor": 5
}
