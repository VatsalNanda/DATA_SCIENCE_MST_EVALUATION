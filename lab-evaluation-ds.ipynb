{
 "cells": [
  {
   "cell_type": "code",
   "execution_count": 1,
   "id": "52f73e94",
   "metadata": {
    "_cell_guid": "b1076dfc-b9ad-4769-8c92-a6c4dae69d19",
    "_uuid": "8f2839f25d086af736a60e9eeb907d3b93b6e0e5",
    "execution": {
     "iopub.execute_input": "2022-03-15T17:49:31.761874Z",
     "iopub.status.busy": "2022-03-15T17:49:31.761253Z",
     "iopub.status.idle": "2022-03-15T17:49:31.767099Z",
     "shell.execute_reply": "2022-03-15T17:49:31.767561Z",
     "shell.execute_reply.started": "2022-03-15T17:05:48.111019Z"
    },
    "papermill": {
     "duration": 0.160616,
     "end_time": "2022-03-15T17:49:31.767775",
     "exception": false,
     "start_time": "2022-03-15T17:49:31.607159",
     "status": "completed"
    },
    "tags": []
   },
   "outputs": [
    {
     "name": "stdout",
     "output_type": "stream",
     "text": [
      "/kaggle/input/sentiment-analysis-on-movie-reviews/sampleSubmission.csv\n",
      "/kaggle/input/sentiment-analysis-on-movie-reviews/train.tsv.zip\n",
      "/kaggle/input/sentiment-analysis-on-movie-reviews/test.tsv.zip\n"
     ]
    }
   ],
   "source": [
    "# This Python 3 environment comes with many helpful analytics libraries installed\n",
    "# It is defined by the kaggle/python Docker image: https://github.com/kaggle/docker-python\n",
    "# For example, here's several helpful packages to load\n",
    "\n",
    "import numpy as np # linear algebra\n",
    "import pandas as pd # data processing, CSV file I/O (e.g. pd.read_csv)\n",
    "\n",
    "# Input data files are available in the read-only \"../input/\" directory\n",
    "# For example, running this (by clicking run or pressing Shift+Enter) will list all files under the input directory\n",
    "\n",
    "import os\n",
    "for dirname, _, filenames in os.walk('/kaggle/input'):\n",
    "    for filename in filenames:\n",
    "        print(os.path.join(dirname, filename))\n",
    "\n",
    "# You can write up to 20GB to the current directory (/kaggle/working/) that gets preserved as output when you create a version using \"Save & Run All\" \n",
    "# You can also write temporary files to /kaggle/temp/, but they won't be saved outside of the current session"
   ]
  },
  {
   "cell_type": "markdown",
   "id": "5155fa39",
   "metadata": {
    "papermill": {
     "duration": 0.178148,
     "end_time": "2022-03-15T17:49:32.114600",
     "exception": false,
     "start_time": "2022-03-15T17:49:31.936452",
     "status": "completed"
    },
    "tags": []
   },
   "source": [
    "**Importing the libraries**"
   ]
  },
  {
   "cell_type": "code",
   "execution_count": 2,
   "id": "48934e75",
   "metadata": {
    "execution": {
     "iopub.execute_input": "2022-03-15T17:49:32.445082Z",
     "iopub.status.busy": "2022-03-15T17:49:32.444481Z",
     "iopub.status.idle": "2022-03-15T17:49:41.393929Z",
     "shell.execute_reply": "2022-03-15T17:49:41.395009Z",
     "shell.execute_reply.started": "2022-03-15T17:05:48.124129Z"
    },
    "papermill": {
     "duration": 9.144358,
     "end_time": "2022-03-15T17:49:41.395213",
     "exception": false,
     "start_time": "2022-03-15T17:49:32.250855",
     "status": "completed"
    },
    "tags": []
   },
   "outputs": [],
   "source": [
    "#GPU Libraries\n",
    "import cudf as pd\n",
    "import cupy as cp\n",
    "import cuml\n",
    "from cuml.linear_model import LogisticRegression\n",
    "from cuml.ensemble import RandomForestClassifier as cuRFC\n",
    "from cuml.naive_bayes import MultinomialNB\n",
    "from cuml.svm import SVC\n",
    "from cuml.linear_model import LogisticRegression\n",
    "from cuml.multiclass import MulticlassClassifier\n",
    "from cuml.multiclass import OneVsRestClassifier\n",
    "\n",
    "\n",
    "#Graph Plotting and Visualisation Library\n",
    "import matplotlib.pyplot as plt\n",
    "import seaborn as sns\n",
    "\n",
    "\n",
    "#Text Preprocessing Libraries\n",
    "import nltk\n",
    "from nltk.corpus import stopwords\n",
    "from nltk.stem.porter import PorterStemmer\n",
    "from nltk.tokenize import word_tokenize\n",
    "from sklearn.feature_extraction.text import CountVectorizer\n",
    "vect = CountVectorizer()\n",
    "import re\n",
    "import string\n",
    "\n",
    "#Deep Learning Libraries\n",
    "import keras\n",
    "from tensorflow.keras.preprocessing import sequence\n",
    "from tensorflow.keras.models import Sequential\n",
    "from tensorflow.keras.layers import Dense, Embedding\n",
    "from tensorflow.keras.layers import LSTM\n",
    "from tensorflow.keras.utils import to_categorical\n",
    "from tensorflow.keras.preprocessing.text import Tokenizer\n",
    "from tensorflow.keras.preprocessing.sequence import pad_sequences\n",
    "from keras.models import Sequential\n",
    "from keras.layers import Dense\n",
    "from keras.layers import LSTM\n",
    "from keras.layers import Activation\n",
    "from keras.layers import Embedding\n",
    "from keras.layers import Bidirectional\n",
    "from tensorflow.keras.optimizers import Adam\n",
    "from keras.preprocessing import sequence\n",
    "from keras.preprocessing.text import Tokenizer\n",
    "from keras.layers import Dense,Dropout,Embedding,LSTM\n",
    "from keras.callbacks import EarlyStopping\n",
    "from keras.losses import categorical_crossentropy\n",
    "from tensorflow.keras.optimizers import Adam\n",
    "from keras.models import Sequential\n",
    "\n",
    "\n"
   ]
  },
  {
   "cell_type": "markdown",
   "id": "76c461a2",
   "metadata": {
    "papermill": {
     "duration": 0.141517,
     "end_time": "2022-03-15T17:49:41.754700",
     "exception": false,
     "start_time": "2022-03-15T17:49:41.613183",
     "status": "completed"
    },
    "tags": []
   },
   "source": [
    "**Reading the dataset**"
   ]
  },
  {
   "cell_type": "code",
   "execution_count": 3,
   "id": "acdd1c85",
   "metadata": {
    "execution": {
     "iopub.execute_input": "2022-03-15T17:49:42.052391Z",
     "iopub.status.busy": "2022-03-15T17:49:42.051678Z",
     "iopub.status.idle": "2022-03-15T17:49:47.043655Z",
     "shell.execute_reply": "2022-03-15T17:49:47.043151Z",
     "shell.execute_reply.started": "2022-03-15T17:05:56.341798Z"
    },
    "papermill": {
     "duration": 5.144079,
     "end_time": "2022-03-15T17:49:47.043810",
     "exception": false,
     "start_time": "2022-03-15T17:49:41.899731",
     "status": "completed"
    },
    "tags": []
   },
   "outputs": [],
   "source": [
    "train_df=pd.read_csv('/kaggle/input/sentiment-analysis-on-movie-reviews/train.tsv.zip',sep='\\t')\n",
    "test_df=pd.read_csv('/kaggle/input/sentiment-analysis-on-movie-reviews/test.tsv.zip',sep='\\t')"
   ]
  },
  {
   "cell_type": "code",
   "execution_count": 4,
   "id": "9bebf3e6",
   "metadata": {
    "execution": {
     "iopub.execute_input": "2022-03-15T17:49:47.333079Z",
     "iopub.status.busy": "2022-03-15T17:49:47.332232Z",
     "iopub.status.idle": "2022-03-15T17:49:47.363681Z",
     "shell.execute_reply": "2022-03-15T17:49:47.363007Z",
     "shell.execute_reply.started": "2022-03-15T17:06:01.503512Z"
    },
    "papermill": {
     "duration": 0.180012,
     "end_time": "2022-03-15T17:49:47.363812",
     "exception": false,
     "start_time": "2022-03-15T17:49:47.183800",
     "status": "completed"
    },
    "tags": []
   },
   "outputs": [
    {
     "data": {
      "text/html": [
       "<div>\n",
       "<style scoped>\n",
       "    .dataframe tbody tr th:only-of-type {\n",
       "        vertical-align: middle;\n",
       "    }\n",
       "\n",
       "    .dataframe tbody tr th {\n",
       "        vertical-align: top;\n",
       "    }\n",
       "\n",
       "    .dataframe thead th {\n",
       "        text-align: right;\n",
       "    }\n",
       "</style>\n",
       "<table border=\"1\" class=\"dataframe\">\n",
       "  <thead>\n",
       "    <tr style=\"text-align: right;\">\n",
       "      <th></th>\n",
       "      <th>PhraseId</th>\n",
       "      <th>SentenceId</th>\n",
       "      <th>Phrase</th>\n",
       "      <th>Sentiment</th>\n",
       "    </tr>\n",
       "  </thead>\n",
       "  <tbody>\n",
       "    <tr>\n",
       "      <th>0</th>\n",
       "      <td>1</td>\n",
       "      <td>1</td>\n",
       "      <td>A series of escapades demonstrating the adage ...</td>\n",
       "      <td>1</td>\n",
       "    </tr>\n",
       "    <tr>\n",
       "      <th>1</th>\n",
       "      <td>2</td>\n",
       "      <td>1</td>\n",
       "      <td>A series of escapades demonstrating the adage ...</td>\n",
       "      <td>2</td>\n",
       "    </tr>\n",
       "    <tr>\n",
       "      <th>2</th>\n",
       "      <td>3</td>\n",
       "      <td>1</td>\n",
       "      <td>A series</td>\n",
       "      <td>2</td>\n",
       "    </tr>\n",
       "    <tr>\n",
       "      <th>3</th>\n",
       "      <td>4</td>\n",
       "      <td>1</td>\n",
       "      <td>A</td>\n",
       "      <td>2</td>\n",
       "    </tr>\n",
       "    <tr>\n",
       "      <th>4</th>\n",
       "      <td>5</td>\n",
       "      <td>1</td>\n",
       "      <td>series</td>\n",
       "      <td>2</td>\n",
       "    </tr>\n",
       "  </tbody>\n",
       "</table>\n",
       "</div>"
      ],
      "text/plain": [
       "   PhraseId  SentenceId                                             Phrase  \\\n",
       "0         1           1  A series of escapades demonstrating the adage ...   \n",
       "1         2           1  A series of escapades demonstrating the adage ...   \n",
       "2         3           1                                           A series   \n",
       "3         4           1                                                  A   \n",
       "4         5           1                                             series   \n",
       "\n",
       "   Sentiment  \n",
       "0          1  \n",
       "1          2  \n",
       "2          2  \n",
       "3          2  \n",
       "4          2  "
      ]
     },
     "execution_count": 4,
     "metadata": {},
     "output_type": "execute_result"
    }
   ],
   "source": [
    "train_df.head()"
   ]
  },
  {
   "cell_type": "code",
   "execution_count": 5,
   "id": "797f3595",
   "metadata": {
    "execution": {
     "iopub.execute_input": "2022-03-15T17:49:47.639560Z",
     "iopub.status.busy": "2022-03-15T17:49:47.635628Z",
     "iopub.status.idle": "2022-03-15T17:49:47.651863Z",
     "shell.execute_reply": "2022-03-15T17:49:47.652274Z",
     "shell.execute_reply.started": "2022-03-15T17:06:01.544211Z"
    },
    "papermill": {
     "duration": 0.154883,
     "end_time": "2022-03-15T17:49:47.652397",
     "exception": false,
     "start_time": "2022-03-15T17:49:47.497514",
     "status": "completed"
    },
    "tags": []
   },
   "outputs": [
    {
     "name": "stdout",
     "output_type": "stream",
     "text": [
      "<class 'cudf.core.dataframe.DataFrame'>\n",
      "RangeIndex: 156060 entries, 0 to 156059\n",
      "Data columns (total 4 columns):\n",
      " #   Column      Non-Null Count   Dtype\n",
      "---  ------      --------------   -----\n",
      " 0   PhraseId    156060 non-null  int64\n",
      " 1   SentenceId  156060 non-null  int64\n",
      " 2   Phrase      156060 non-null  object\n",
      " 3   Sentiment   156060 non-null  int64\n",
      "dtypes: int64(3), object(1)\n",
      "memory usage: 10.2+ MB\n"
     ]
    }
   ],
   "source": [
    "train_df.info()"
   ]
  },
  {
   "cell_type": "code",
   "execution_count": 6,
   "id": "874be5eb",
   "metadata": {
    "execution": {
     "iopub.execute_input": "2022-03-15T17:49:47.927844Z",
     "iopub.status.busy": "2022-03-15T17:49:47.927219Z",
     "iopub.status.idle": "2022-03-15T17:49:48.538452Z",
     "shell.execute_reply": "2022-03-15T17:49:48.537977Z",
     "shell.execute_reply.started": "2022-03-15T17:06:01.561221Z"
    },
    "papermill": {
     "duration": 0.751021,
     "end_time": "2022-03-15T17:49:48.538570",
     "exception": false,
     "start_time": "2022-03-15T17:49:47.787549",
     "status": "completed"
    },
    "tags": []
   },
   "outputs": [
    {
     "data": {
      "text/html": [
       "<div>\n",
       "<style scoped>\n",
       "    .dataframe tbody tr th:only-of-type {\n",
       "        vertical-align: middle;\n",
       "    }\n",
       "\n",
       "    .dataframe tbody tr th {\n",
       "        vertical-align: top;\n",
       "    }\n",
       "\n",
       "    .dataframe thead th {\n",
       "        text-align: right;\n",
       "    }\n",
       "</style>\n",
       "<table border=\"1\" class=\"dataframe\">\n",
       "  <thead>\n",
       "    <tr style=\"text-align: right;\">\n",
       "      <th></th>\n",
       "      <th>PhraseId</th>\n",
       "      <th>SentenceId</th>\n",
       "      <th>Sentiment</th>\n",
       "    </tr>\n",
       "  </thead>\n",
       "  <tbody>\n",
       "    <tr>\n",
       "      <th>count</th>\n",
       "      <td>156060.000000</td>\n",
       "      <td>156060.000000</td>\n",
       "      <td>156060.000000</td>\n",
       "    </tr>\n",
       "    <tr>\n",
       "      <th>mean</th>\n",
       "      <td>78030.500000</td>\n",
       "      <td>4079.732744</td>\n",
       "      <td>2.063578</td>\n",
       "    </tr>\n",
       "    <tr>\n",
       "      <th>std</th>\n",
       "      <td>45050.785842</td>\n",
       "      <td>2502.764394</td>\n",
       "      <td>0.893832</td>\n",
       "    </tr>\n",
       "    <tr>\n",
       "      <th>min</th>\n",
       "      <td>1.000000</td>\n",
       "      <td>1.000000</td>\n",
       "      <td>0.000000</td>\n",
       "    </tr>\n",
       "    <tr>\n",
       "      <th>25%</th>\n",
       "      <td>39015.750000</td>\n",
       "      <td>1861.750000</td>\n",
       "      <td>2.000000</td>\n",
       "    </tr>\n",
       "    <tr>\n",
       "      <th>50%</th>\n",
       "      <td>78030.500000</td>\n",
       "      <td>4017.000000</td>\n",
       "      <td>2.000000</td>\n",
       "    </tr>\n",
       "    <tr>\n",
       "      <th>75%</th>\n",
       "      <td>117045.250000</td>\n",
       "      <td>6244.000000</td>\n",
       "      <td>3.000000</td>\n",
       "    </tr>\n",
       "    <tr>\n",
       "      <th>max</th>\n",
       "      <td>156060.000000</td>\n",
       "      <td>8544.000000</td>\n",
       "      <td>4.000000</td>\n",
       "    </tr>\n",
       "  </tbody>\n",
       "</table>\n",
       "</div>"
      ],
      "text/plain": [
       "            PhraseId     SentenceId      Sentiment\n",
       "count  156060.000000  156060.000000  156060.000000\n",
       "mean    78030.500000    4079.732744       2.063578\n",
       "std     45050.785842    2502.764394       0.893832\n",
       "min         1.000000       1.000000       0.000000\n",
       "25%     39015.750000    1861.750000       2.000000\n",
       "50%     78030.500000    4017.000000       2.000000\n",
       "75%    117045.250000    6244.000000       3.000000\n",
       "max    156060.000000    8544.000000       4.000000"
      ]
     },
     "execution_count": 6,
     "metadata": {},
     "output_type": "execute_result"
    }
   ],
   "source": [
    "train_df.describe()"
   ]
  },
  {
   "cell_type": "code",
   "execution_count": 7,
   "id": "bb216d23",
   "metadata": {
    "execution": {
     "iopub.execute_input": "2022-03-15T17:49:48.824503Z",
     "iopub.status.busy": "2022-03-15T17:49:48.823735Z",
     "iopub.status.idle": "2022-03-15T17:49:48.826621Z",
     "shell.execute_reply": "2022-03-15T17:49:48.827029Z",
     "shell.execute_reply.started": "2022-03-15T17:06:02.168774Z"
    },
    "papermill": {
     "duration": 0.147879,
     "end_time": "2022-03-15T17:49:48.827177",
     "exception": false,
     "start_time": "2022-03-15T17:49:48.679298",
     "status": "completed"
    },
    "tags": []
   },
   "outputs": [
    {
     "data": {
      "text/plain": [
       "(156060, 4)"
      ]
     },
     "execution_count": 7,
     "metadata": {},
     "output_type": "execute_result"
    }
   ],
   "source": [
    "train_df.shape"
   ]
  },
  {
   "cell_type": "code",
   "execution_count": 8,
   "id": "a6d59ca6",
   "metadata": {
    "execution": {
     "iopub.execute_input": "2022-03-15T17:49:49.113413Z",
     "iopub.status.busy": "2022-03-15T17:49:49.112656Z",
     "iopub.status.idle": "2022-03-15T17:49:49.125482Z",
     "shell.execute_reply": "2022-03-15T17:49:49.125890Z",
     "shell.execute_reply.started": "2022-03-15T17:06:02.175719Z"
    },
    "papermill": {
     "duration": 0.160421,
     "end_time": "2022-03-15T17:49:49.126031",
     "exception": false,
     "start_time": "2022-03-15T17:49:48.965610",
     "status": "completed"
    },
    "tags": []
   },
   "outputs": [
    {
     "data": {
      "text/html": [
       "<div>\n",
       "<style scoped>\n",
       "    .dataframe tbody tr th:only-of-type {\n",
       "        vertical-align: middle;\n",
       "    }\n",
       "\n",
       "    .dataframe tbody tr th {\n",
       "        vertical-align: top;\n",
       "    }\n",
       "\n",
       "    .dataframe thead th {\n",
       "        text-align: right;\n",
       "    }\n",
       "</style>\n",
       "<table border=\"1\" class=\"dataframe\">\n",
       "  <thead>\n",
       "    <tr style=\"text-align: right;\">\n",
       "      <th></th>\n",
       "      <th>PhraseId</th>\n",
       "      <th>SentenceId</th>\n",
       "      <th>Phrase</th>\n",
       "    </tr>\n",
       "  </thead>\n",
       "  <tbody>\n",
       "    <tr>\n",
       "      <th>0</th>\n",
       "      <td>156061</td>\n",
       "      <td>8545</td>\n",
       "      <td>An intermittently pleasing but mostly routine ...</td>\n",
       "    </tr>\n",
       "    <tr>\n",
       "      <th>1</th>\n",
       "      <td>156062</td>\n",
       "      <td>8545</td>\n",
       "      <td>An intermittently pleasing but mostly routine ...</td>\n",
       "    </tr>\n",
       "    <tr>\n",
       "      <th>2</th>\n",
       "      <td>156063</td>\n",
       "      <td>8545</td>\n",
       "      <td>An</td>\n",
       "    </tr>\n",
       "    <tr>\n",
       "      <th>3</th>\n",
       "      <td>156064</td>\n",
       "      <td>8545</td>\n",
       "      <td>intermittently pleasing but mostly routine effort</td>\n",
       "    </tr>\n",
       "    <tr>\n",
       "      <th>4</th>\n",
       "      <td>156065</td>\n",
       "      <td>8545</td>\n",
       "      <td>intermittently pleasing but mostly routine</td>\n",
       "    </tr>\n",
       "  </tbody>\n",
       "</table>\n",
       "</div>"
      ],
      "text/plain": [
       "   PhraseId  SentenceId                                             Phrase\n",
       "0    156061        8545  An intermittently pleasing but mostly routine ...\n",
       "1    156062        8545  An intermittently pleasing but mostly routine ...\n",
       "2    156063        8545                                                 An\n",
       "3    156064        8545  intermittently pleasing but mostly routine effort\n",
       "4    156065        8545         intermittently pleasing but mostly routine"
      ]
     },
     "execution_count": 8,
     "metadata": {},
     "output_type": "execute_result"
    }
   ],
   "source": [
    "test_df.head()"
   ]
  },
  {
   "cell_type": "code",
   "execution_count": 9,
   "id": "b8590ad1",
   "metadata": {
    "execution": {
     "iopub.execute_input": "2022-03-15T17:49:49.404231Z",
     "iopub.status.busy": "2022-03-15T17:49:49.403445Z",
     "iopub.status.idle": "2022-03-15T17:49:49.411004Z",
     "shell.execute_reply": "2022-03-15T17:49:49.411373Z",
     "shell.execute_reply.started": "2022-03-15T17:06:02.198521Z"
    },
    "papermill": {
     "duration": 0.147613,
     "end_time": "2022-03-15T17:49:49.411516",
     "exception": false,
     "start_time": "2022-03-15T17:49:49.263903",
     "status": "completed"
    },
    "tags": []
   },
   "outputs": [
    {
     "name": "stdout",
     "output_type": "stream",
     "text": [
      "<class 'cudf.core.dataframe.DataFrame'>\n",
      "RangeIndex: 66292 entries, 0 to 66291\n",
      "Data columns (total 3 columns):\n",
      " #   Column      Non-Null Count  Dtype\n",
      "---  ------      --------------  -----\n",
      " 0   PhraseId    66292 non-null  int64\n",
      " 1   SentenceId  66292 non-null  int64\n",
      " 2   Phrase      66292 non-null  object\n",
      "dtypes: int64(2), object(1)\n",
      "memory usage: 3.6+ MB\n"
     ]
    }
   ],
   "source": [
    "test_df.info()"
   ]
  },
  {
   "cell_type": "code",
   "execution_count": 10,
   "id": "289d07e4",
   "metadata": {
    "execution": {
     "iopub.execute_input": "2022-03-15T17:49:49.691121Z",
     "iopub.status.busy": "2022-03-15T17:49:49.690326Z",
     "iopub.status.idle": "2022-03-15T17:49:49.722144Z",
     "shell.execute_reply": "2022-03-15T17:49:49.722545Z",
     "shell.execute_reply.started": "2022-03-15T17:06:02.213002Z"
    },
    "papermill": {
     "duration": 0.173859,
     "end_time": "2022-03-15T17:49:49.722673",
     "exception": false,
     "start_time": "2022-03-15T17:49:49.548814",
     "status": "completed"
    },
    "tags": []
   },
   "outputs": [
    {
     "data": {
      "text/html": [
       "<div>\n",
       "<style scoped>\n",
       "    .dataframe tbody tr th:only-of-type {\n",
       "        vertical-align: middle;\n",
       "    }\n",
       "\n",
       "    .dataframe tbody tr th {\n",
       "        vertical-align: top;\n",
       "    }\n",
       "\n",
       "    .dataframe thead th {\n",
       "        text-align: right;\n",
       "    }\n",
       "</style>\n",
       "<table border=\"1\" class=\"dataframe\">\n",
       "  <thead>\n",
       "    <tr style=\"text-align: right;\">\n",
       "      <th></th>\n",
       "      <th>PhraseId</th>\n",
       "      <th>SentenceId</th>\n",
       "    </tr>\n",
       "  </thead>\n",
       "  <tbody>\n",
       "    <tr>\n",
       "      <th>count</th>\n",
       "      <td>66292.00000</td>\n",
       "      <td>66292.000000</td>\n",
       "    </tr>\n",
       "    <tr>\n",
       "      <th>mean</th>\n",
       "      <td>189206.50000</td>\n",
       "      <td>10114.909144</td>\n",
       "    </tr>\n",
       "    <tr>\n",
       "      <th>std</th>\n",
       "      <td>19136.99636</td>\n",
       "      <td>966.787807</td>\n",
       "    </tr>\n",
       "    <tr>\n",
       "      <th>min</th>\n",
       "      <td>156061.00000</td>\n",
       "      <td>8545.000000</td>\n",
       "    </tr>\n",
       "    <tr>\n",
       "      <th>25%</th>\n",
       "      <td>172633.75000</td>\n",
       "      <td>9266.000000</td>\n",
       "    </tr>\n",
       "    <tr>\n",
       "      <th>50%</th>\n",
       "      <td>189206.50000</td>\n",
       "      <td>10086.000000</td>\n",
       "    </tr>\n",
       "    <tr>\n",
       "      <th>75%</th>\n",
       "      <td>205779.25000</td>\n",
       "      <td>10941.000000</td>\n",
       "    </tr>\n",
       "    <tr>\n",
       "      <th>max</th>\n",
       "      <td>222352.00000</td>\n",
       "      <td>11855.000000</td>\n",
       "    </tr>\n",
       "  </tbody>\n",
       "</table>\n",
       "</div>"
      ],
      "text/plain": [
       "           PhraseId    SentenceId\n",
       "count   66292.00000  66292.000000\n",
       "mean   189206.50000  10114.909144\n",
       "std     19136.99636    966.787807\n",
       "min    156061.00000   8545.000000\n",
       "25%    172633.75000   9266.000000\n",
       "50%    189206.50000  10086.000000\n",
       "75%    205779.25000  10941.000000\n",
       "max    222352.00000  11855.000000"
      ]
     },
     "execution_count": 10,
     "metadata": {},
     "output_type": "execute_result"
    }
   ],
   "source": [
    "test_df.describe()"
   ]
  },
  {
   "cell_type": "code",
   "execution_count": 11,
   "id": "2ba2a131",
   "metadata": {
    "execution": {
     "iopub.execute_input": "2022-03-15T17:49:50.003225Z",
     "iopub.status.busy": "2022-03-15T17:49:50.001876Z",
     "iopub.status.idle": "2022-03-15T17:49:50.005559Z",
     "shell.execute_reply": "2022-03-15T17:49:50.005116Z",
     "shell.execute_reply.started": "2022-03-15T17:06:02.250151Z"
    },
    "papermill": {
     "duration": 0.14554,
     "end_time": "2022-03-15T17:49:50.005669",
     "exception": false,
     "start_time": "2022-03-15T17:49:49.860129",
     "status": "completed"
    },
    "tags": []
   },
   "outputs": [
    {
     "data": {
      "text/plain": [
       "(66292, 3)"
      ]
     },
     "execution_count": 11,
     "metadata": {},
     "output_type": "execute_result"
    }
   ],
   "source": [
    "test_df.shape"
   ]
  },
  {
   "cell_type": "markdown",
   "id": "149190c5",
   "metadata": {
    "papermill": {
     "duration": 0.138238,
     "end_time": "2022-03-15T17:49:50.282074",
     "exception": false,
     "start_time": "2022-03-15T17:49:50.143836",
     "status": "completed"
    },
    "tags": []
   },
   "source": [
    "**DATA PREPROCESSING**"
   ]
  },
  {
   "cell_type": "code",
   "execution_count": 12,
   "id": "d5289e28",
   "metadata": {
    "execution": {
     "iopub.execute_input": "2022-03-15T17:49:50.565254Z",
     "iopub.status.busy": "2022-03-15T17:49:50.564670Z",
     "iopub.status.idle": "2022-03-15T17:49:50.574630Z",
     "shell.execute_reply": "2022-03-15T17:49:50.575140Z",
     "shell.execute_reply.started": "2022-03-15T17:06:02.257090Z"
    },
    "papermill": {
     "duration": 0.156451,
     "end_time": "2022-03-15T17:49:50.575275",
     "exception": false,
     "start_time": "2022-03-15T17:49:50.418824",
     "status": "completed"
    },
    "tags": []
   },
   "outputs": [
    {
     "data": {
      "text/plain": [
       "PhraseId      0\n",
       "SentenceId    0\n",
       "Phrase        0\n",
       "Sentiment     0\n",
       "dtype: uint64"
      ]
     },
     "execution_count": 12,
     "metadata": {},
     "output_type": "execute_result"
    }
   ],
   "source": [
    "#Checking the sum of null values in the train and test dataset\n",
    "train_df.isnull().sum()"
   ]
  },
  {
   "cell_type": "code",
   "execution_count": 13,
   "id": "5a0e4ab5",
   "metadata": {
    "execution": {
     "iopub.execute_input": "2022-03-15T17:49:50.855168Z",
     "iopub.status.busy": "2022-03-15T17:49:50.854284Z",
     "iopub.status.idle": "2022-03-15T17:49:50.862566Z",
     "shell.execute_reply": "2022-03-15T17:49:50.862163Z",
     "shell.execute_reply.started": "2022-03-15T17:06:02.272874Z"
    },
    "papermill": {
     "duration": 0.150698,
     "end_time": "2022-03-15T17:49:50.862677",
     "exception": false,
     "start_time": "2022-03-15T17:49:50.711979",
     "status": "completed"
    },
    "tags": []
   },
   "outputs": [
    {
     "data": {
      "text/plain": [
       "PhraseId      0\n",
       "SentenceId    0\n",
       "Phrase        0\n",
       "dtype: uint64"
      ]
     },
     "execution_count": 13,
     "metadata": {},
     "output_type": "execute_result"
    }
   ],
   "source": [
    "test_df.isnull().sum()"
   ]
  },
  {
   "cell_type": "code",
   "execution_count": 14,
   "id": "4d8db9b1",
   "metadata": {
    "execution": {
     "iopub.execute_input": "2022-03-15T17:49:51.151694Z",
     "iopub.status.busy": "2022-03-15T17:49:51.150747Z",
     "iopub.status.idle": "2022-03-15T17:49:51.154628Z",
     "shell.execute_reply": "2022-03-15T17:49:51.154227Z",
     "shell.execute_reply.started": "2022-03-15T17:06:02.285568Z"
    },
    "papermill": {
     "duration": 0.151691,
     "end_time": "2022-03-15T17:49:51.154737",
     "exception": false,
     "start_time": "2022-03-15T17:49:51.003046",
     "status": "completed"
    },
    "tags": []
   },
   "outputs": [
    {
     "data": {
      "text/plain": [
       "False"
      ]
     },
     "execution_count": 14,
     "metadata": {},
     "output_type": "execute_result"
    }
   ],
   "source": [
    "train_df.isnull().any().any()"
   ]
  },
  {
   "cell_type": "code",
   "execution_count": 15,
   "id": "f36a036e",
   "metadata": {
    "execution": {
     "iopub.execute_input": "2022-03-15T17:49:51.434412Z",
     "iopub.status.busy": "2022-03-15T17:49:51.433613Z",
     "iopub.status.idle": "2022-03-15T17:49:51.439271Z",
     "shell.execute_reply": "2022-03-15T17:49:51.439711Z",
     "shell.execute_reply.started": "2022-03-15T17:06:02.295817Z"
    },
    "papermill": {
     "duration": 0.146509,
     "end_time": "2022-03-15T17:49:51.439867",
     "exception": false,
     "start_time": "2022-03-15T17:49:51.293358",
     "status": "completed"
    },
    "tags": []
   },
   "outputs": [
    {
     "data": {
      "text/plain": [
       "False"
      ]
     },
     "execution_count": 15,
     "metadata": {},
     "output_type": "execute_result"
    }
   ],
   "source": [
    "test_df.isnull().any().any()"
   ]
  },
  {
   "cell_type": "markdown",
   "id": "c938d543",
   "metadata": {
    "papermill": {
     "duration": 0.139611,
     "end_time": "2022-03-15T17:49:51.717718",
     "exception": false,
     "start_time": "2022-03-15T17:49:51.578107",
     "status": "completed"
    },
    "tags": []
   },
   "source": [
    "There are no null values in the dataset"
   ]
  },
  {
   "cell_type": "markdown",
   "id": "9984a8f4",
   "metadata": {
    "papermill": {
     "duration": 0.137806,
     "end_time": "2022-03-15T17:49:52.002620",
     "exception": false,
     "start_time": "2022-03-15T17:49:51.864814",
     "status": "completed"
    },
    "tags": []
   },
   "source": [
    "The sentiment labels are:\n",
    "\n",
    "0 - negative\n",
    "\n",
    "1 - somewhat negative\n",
    "\n",
    "2 - neutral\n",
    "\n",
    "3 - somewhat positive\n",
    "\n",
    "4 - positive"
   ]
  },
  {
   "cell_type": "code",
   "execution_count": 16,
   "id": "8c022473",
   "metadata": {
    "execution": {
     "iopub.execute_input": "2022-03-15T17:49:52.292421Z",
     "iopub.status.busy": "2022-03-15T17:49:52.291624Z",
     "iopub.status.idle": "2022-03-15T17:49:52.312255Z",
     "shell.execute_reply": "2022-03-15T17:49:52.312650Z",
     "shell.execute_reply.started": "2022-03-15T17:06:02.307165Z"
    },
    "papermill": {
     "duration": 0.17027,
     "end_time": "2022-03-15T17:49:52.312832",
     "exception": false,
     "start_time": "2022-03-15T17:49:52.142562",
     "status": "completed"
    },
    "tags": []
   },
   "outputs": [
    {
     "data": {
      "text/plain": [
       "2    79582\n",
       "3    32927\n",
       "1    27273\n",
       "4     9206\n",
       "0     7072\n",
       "Name: Sentiment, dtype: int32"
      ]
     },
     "execution_count": 16,
     "metadata": {},
     "output_type": "execute_result"
    }
   ],
   "source": [
    "train_df['Sentiment'].value_counts()"
   ]
  },
  {
   "cell_type": "markdown",
   "id": "b08244c9",
   "metadata": {
    "papermill": {
     "duration": 0.146913,
     "end_time": "2022-03-15T17:49:52.598411",
     "exception": false,
     "start_time": "2022-03-15T17:49:52.451498",
     "status": "completed"
    },
    "tags": []
   },
   "source": [
    "We see that label-2 which is the neutral label, has the highest number of examples"
   ]
  },
  {
   "cell_type": "code",
   "execution_count": 17,
   "id": "c2341629",
   "metadata": {
    "execution": {
     "iopub.execute_input": "2022-03-15T17:49:52.900953Z",
     "iopub.status.busy": "2022-03-15T17:49:52.900089Z",
     "iopub.status.idle": "2022-03-15T17:49:53.196989Z",
     "shell.execute_reply": "2022-03-15T17:49:53.196489Z",
     "shell.execute_reply.started": "2022-03-15T17:06:02.331051Z"
    },
    "papermill": {
     "duration": 0.443882,
     "end_time": "2022-03-15T17:49:53.197127",
     "exception": false,
     "start_time": "2022-03-15T17:49:52.753245",
     "status": "completed"
    },
    "tags": []
   },
   "outputs": [
    {
     "data": {
      "text/plain": [
       "<AxesSubplot:xlabel='Sentiment', ylabel='count'>"
      ]
     },
     "execution_count": 17,
     "metadata": {},
     "output_type": "execute_result"
    },
    {
     "data": {
      "image/png": "[encoded data removed]",
      "text/plain": [
       "<Figure size 432x288 with 1 Axes>"
      ]
     },
     "metadata": {
      "needs_background": "light"
     },
     "output_type": "display_data"
    }
   ],
   "source": [
    "train=train_df.to_pandas()\n",
    "sns.countplot(x ='Sentiment', data = train)"
   ]
  },
  {
   "cell_type": "code",
   "execution_count": 18,
   "id": "54a4ad31",
   "metadata": {
    "execution": {
     "iopub.execute_input": "2022-03-15T17:49:53.501983Z",
     "iopub.status.busy": "2022-03-15T17:49:53.501285Z",
     "iopub.status.idle": "2022-03-15T17:49:54.424953Z",
     "shell.execute_reply": "2022-03-15T17:49:54.424502Z",
     "shell.execute_reply.started": "2022-03-15T17:06:02.607285Z"
    },
    "papermill": {
     "duration": 1.074005,
     "end_time": "2022-03-15T17:49:54.425081",
     "exception": false,
     "start_time": "2022-03-15T17:49:53.351076",
     "status": "completed"
    },
    "tags": []
   },
   "outputs": [
    {
     "data": {
      "text/plain": [
       "'A series of escapades demonstrating the adage that what is good for the goose is also good for the gander , some of which occasionally amuses but none of which amounts to much of a story .'"
      ]
     },
     "execution_count": 18,
     "metadata": {},
     "output_type": "execute_result"
    }
   ],
   "source": [
    "train_df['Phrase'][0]"
   ]
  },
  {
   "cell_type": "markdown",
   "id": "ec4dac82",
   "metadata": {
    "papermill": {
     "duration": 0.140078,
     "end_time": "2022-03-15T17:49:54.706639",
     "exception": false,
     "start_time": "2022-03-15T17:49:54.566561",
     "status": "completed"
    },
    "tags": []
   },
   "source": [
    "**Text Preprocessing**"
   ]
  },
  {
   "cell_type": "markdown",
   "id": "bcee6097",
   "metadata": {
    "papermill": {
     "duration": 0.139966,
     "end_time": "2022-03-15T17:49:54.991098",
     "exception": false,
     "start_time": "2022-03-15T17:49:54.851132",
     "status": "completed"
    },
    "tags": []
   },
   "source": [
    "Steps-\n",
    "\n",
    "1) Remove Punctuations\n",
    "\n",
    "2) Remove HTML Tags\n",
    "\n",
    "3) Convert text to lowercase\n",
    "\n",
    "4) Remove all special characters \n",
    "\n",
    "5) Remove stopwords\n",
    "\n",
    "6) Perform Stemming\n",
    "\n",
    "7) Join back after stemming"
   ]
  },
  {
   "cell_type": "code",
   "execution_count": 19,
   "id": "1b318f0d",
   "metadata": {
    "execution": {
     "iopub.execute_input": "2022-03-15T17:49:55.293331Z",
     "iopub.status.busy": "2022-03-15T17:49:55.277633Z",
     "iopub.status.idle": "2022-03-15T17:49:56.603455Z",
     "shell.execute_reply": "2022-03-15T17:49:56.603919Z",
     "shell.execute_reply.started": "2022-03-15T17:06:03.549721Z"
    },
    "papermill": {
     "duration": 1.471531,
     "end_time": "2022-03-15T17:49:56.604071",
     "exception": false,
     "start_time": "2022-03-15T17:49:55.132540",
     "status": "completed"
    },
    "tags": []
   },
   "outputs": [
    {
     "data": {
      "text/plain": [
       "<AxesSubplot:>"
      ]
     },
     "execution_count": 19,
     "metadata": {},
     "output_type": "execute_result"
    },
    {
     "data": {
      "image/png": "[encoded data removed]",
      "text/plain": [
       "<Figure size 432x288 with 2 Axes>"
      ]
     },
     "metadata": {
      "needs_background": "light"
     },
     "output_type": "display_data"
    }
   ],
   "source": [
    "sns.heatmap(train.isnull(),cmap='plasma')"
   ]
  },
  {
   "cell_type": "code",
   "execution_count": 20,
   "id": "4110b60b",
   "metadata": {
    "execution": {
     "iopub.execute_input": "2022-03-15T17:49:56.900392Z",
     "iopub.status.busy": "2022-03-15T17:49:56.897949Z",
     "iopub.status.idle": "2022-03-15T17:49:56.934185Z",
     "shell.execute_reply": "2022-03-15T17:49:56.934584Z",
     "shell.execute_reply.started": "2022-03-15T17:06:04.573223Z"
    },
    "papermill": {
     "duration": 0.18282,
     "end_time": "2022-03-15T17:49:56.934742",
     "exception": false,
     "start_time": "2022-03-15T17:49:56.751922",
     "status": "completed"
    },
    "tags": []
   },
   "outputs": [],
   "source": [
    "test=test_df.to_pandas()"
   ]
  },
  {
   "cell_type": "code",
   "execution_count": 21,
   "id": "e7b24d90",
   "metadata": {
    "execution": {
     "iopub.execute_input": "2022-03-15T17:49:57.232973Z",
     "iopub.status.busy": "2022-03-15T17:49:57.232092Z",
     "iopub.status.idle": "2022-03-15T17:49:57.798399Z",
     "shell.execute_reply": "2022-03-15T17:49:57.799058Z",
     "shell.execute_reply.started": "2022-03-15T17:06:04.613441Z"
    },
    "papermill": {
     "duration": 0.721563,
     "end_time": "2022-03-15T17:49:57.799213",
     "exception": false,
     "start_time": "2022-03-15T17:49:57.077650",
     "status": "completed"
    },
    "tags": []
   },
   "outputs": [
    {
     "data": {
      "text/plain": [
       "<AxesSubplot:>"
      ]
     },
     "execution_count": 21,
     "metadata": {},
     "output_type": "execute_result"
    },
    {
     "data": {
      "image/png": "[encoded data removed]",
      "text/plain": [
       "<Figure size 432x288 with 2 Axes>"
      ]
     },
     "metadata": {
      "needs_background": "light"
     },
     "output_type": "display_data"
    }
   ],
   "source": [
    "sns.heatmap(test.isnull(),cmap='plasma')"
   ]
  },
  {
   "cell_type": "code",
   "execution_count": 22,
   "id": "c8e85065",
   "metadata": {
    "execution": {
     "iopub.execute_input": "2022-03-15T17:49:58.096007Z",
     "iopub.status.busy": "2022-03-15T17:49:58.094844Z",
     "iopub.status.idle": "2022-03-15T17:49:58.098011Z",
     "shell.execute_reply": "2022-03-15T17:49:58.098431Z",
     "shell.execute_reply.started": "2022-03-15T17:06:05.172739Z"
    },
    "papermill": {
     "duration": 0.156183,
     "end_time": "2022-03-15T17:49:58.098559",
     "exception": false,
     "start_time": "2022-03-15T17:49:57.942376",
     "status": "completed"
    },
    "tags": []
   },
   "outputs": [
    {
     "data": {
      "text/plain": [
       "'!\"#$%&\\'()*+,-./:;<=>?@[\\\\]^_`{|}~'"
      ]
     },
     "execution_count": 22,
     "metadata": {},
     "output_type": "execute_result"
    }
   ],
   "source": [
    "import string\n",
    "import re\n",
    "string.punctuation"
   ]
  },
  {
   "cell_type": "code",
   "execution_count": 23,
   "id": "3fa22645",
   "metadata": {
    "execution": {
     "iopub.execute_input": "2022-03-15T17:49:58.392081Z",
     "iopub.status.busy": "2022-03-15T17:49:58.391154Z",
     "iopub.status.idle": "2022-03-15T17:49:59.126413Z",
     "shell.execute_reply": "2022-03-15T17:49:59.125775Z",
     "shell.execute_reply.started": "2022-03-15T17:06:05.179448Z"
    },
    "papermill": {
     "duration": 0.884834,
     "end_time": "2022-03-15T17:49:59.126545",
     "exception": false,
     "start_time": "2022-03-15T17:49:58.241711",
     "status": "completed"
    },
    "tags": []
   },
   "outputs": [],
   "source": [
    "#removing punctuations\n",
    "train['Phrase']=train['Phrase'].apply(lambda x: x.translate(str.maketrans('','',string.punctuation)).lower())\n",
    "#removing punctuations\n",
    "test['Phrase']=test['Phrase'].apply(lambda x: x.translate(str.maketrans('','',string.punctuation)).lower())"
   ]
  },
  {
   "cell_type": "code",
   "execution_count": 24,
   "id": "f4dbf374",
   "metadata": {
    "execution": {
     "iopub.execute_input": "2022-03-15T17:49:59.424026Z",
     "iopub.status.busy": "2022-03-15T17:49:59.423437Z",
     "iopub.status.idle": "2022-03-15T17:49:59.426722Z",
     "shell.execute_reply": "2022-03-15T17:49:59.426321Z",
     "shell.execute_reply.started": "2022-03-15T17:06:05.909285Z"
    },
    "papermill": {
     "duration": 0.152786,
     "end_time": "2022-03-15T17:49:59.426869",
     "exception": false,
     "start_time": "2022-03-15T17:49:59.274083",
     "status": "completed"
    },
    "tags": []
   },
   "outputs": [],
   "source": [
    "#remove html tags\n",
    "def clean_html(text):\n",
    "    clean=re.compile('<.*?>')\n",
    "    return re.sub(clean,'',text)"
   ]
  },
  {
   "cell_type": "code",
   "execution_count": 25,
   "id": "263dc415",
   "metadata": {
    "execution": {
     "iopub.execute_input": "2022-03-15T17:49:59.734752Z",
     "iopub.status.busy": "2022-03-15T17:49:59.733952Z",
     "iopub.status.idle": "2022-03-15T17:50:00.288256Z",
     "shell.execute_reply": "2022-03-15T17:50:00.288740Z",
     "shell.execute_reply.started": "2022-03-15T17:06:05.915460Z"
    },
    "papermill": {
     "duration": 0.717459,
     "end_time": "2022-03-15T17:50:00.288922",
     "exception": false,
     "start_time": "2022-03-15T17:49:59.571463",
     "status": "completed"
    },
    "tags": []
   },
   "outputs": [],
   "source": [
    "train['Phrase']=train['Phrase'].apply(clean_html)\n",
    "test['Phrase']=test['Phrase'].apply(clean_html)"
   ]
  },
  {
   "cell_type": "code",
   "execution_count": 26,
   "id": "0fdee85b",
   "metadata": {
    "execution": {
     "iopub.execute_input": "2022-03-15T17:50:00.582476Z",
     "iopub.status.busy": "2022-03-15T17:50:00.581958Z",
     "iopub.status.idle": "2022-03-15T17:50:00.585584Z",
     "shell.execute_reply": "2022-03-15T17:50:00.585180Z",
     "shell.execute_reply.started": "2022-03-15T17:06:06.469913Z"
    },
    "papermill": {
     "duration": 0.150548,
     "end_time": "2022-03-15T17:50:00.585691",
     "exception": false,
     "start_time": "2022-03-15T17:50:00.435143",
     "status": "completed"
    },
    "tags": []
   },
   "outputs": [],
   "source": [
    "#convert text to lowercase\n",
    "def convert_lower(text):\n",
    "    return text.lower()"
   ]
  },
  {
   "cell_type": "code",
   "execution_count": 27,
   "id": "b48bcee8",
   "metadata": {
    "execution": {
     "iopub.execute_input": "2022-03-15T17:50:00.883957Z",
     "iopub.status.busy": "2022-03-15T17:50:00.883166Z",
     "iopub.status.idle": "2022-03-15T17:50:00.962263Z",
     "shell.execute_reply": "2022-03-15T17:50:00.961741Z",
     "shell.execute_reply.started": "2022-03-15T17:06:06.476513Z"
    },
    "papermill": {
     "duration": 0.230159,
     "end_time": "2022-03-15T17:50:00.962396",
     "exception": false,
     "start_time": "2022-03-15T17:50:00.732237",
     "status": "completed"
    },
    "tags": []
   },
   "outputs": [],
   "source": [
    "train['Phrase']=train['Phrase'].apply(convert_lower)\n",
    "test['Phrase']=test['Phrase'].apply(convert_lower)"
   ]
  },
  {
   "cell_type": "code",
   "execution_count": 28,
   "id": "cd366b0d",
   "metadata": {
    "execution": {
     "iopub.execute_input": "2022-03-15T17:50:01.267059Z",
     "iopub.status.busy": "2022-03-15T17:50:01.266241Z",
     "iopub.status.idle": "2022-03-15T17:50:01.268632Z",
     "shell.execute_reply": "2022-03-15T17:50:01.268234Z",
     "shell.execute_reply.started": "2022-03-15T17:06:06.568726Z"
    },
    "papermill": {
     "duration": 0.161505,
     "end_time": "2022-03-15T17:50:01.268739",
     "exception": false,
     "start_time": "2022-03-15T17:50:01.107234",
     "status": "completed"
    },
    "tags": []
   },
   "outputs": [],
   "source": [
    "#remove special characters\n",
    "def remove_special(text):\n",
    "    x=''\n",
    "    \n",
    "    for i in text:\n",
    "        if i.isalnum():\n",
    "            x=x+i\n",
    "        else:\n",
    "            x=x+' '\n",
    "    return x"
   ]
  },
  {
   "cell_type": "code",
   "execution_count": 29,
   "id": "4ca7b664",
   "metadata": {
    "execution": {
     "iopub.execute_input": "2022-03-15T17:50:01.561169Z",
     "iopub.status.busy": "2022-03-15T17:50:01.560247Z",
     "iopub.status.idle": "2022-03-15T17:50:02.871181Z",
     "shell.execute_reply": "2022-03-15T17:50:02.871620Z",
     "shell.execute_reply.started": "2022-03-15T17:06:06.574576Z"
    },
    "papermill": {
     "duration": 1.458868,
     "end_time": "2022-03-15T17:50:02.871810",
     "exception": false,
     "start_time": "2022-03-15T17:50:01.412942",
     "status": "completed"
    },
    "tags": []
   },
   "outputs": [],
   "source": [
    "train['Phrase']=train['Phrase'].apply(remove_special)\n",
    "test['Phrase']=test['Phrase'].apply(remove_special)"
   ]
  },
  {
   "cell_type": "code",
   "execution_count": 30,
   "id": "40051b8f",
   "metadata": {
    "execution": {
     "iopub.execute_input": "2022-03-15T17:50:03.169181Z",
     "iopub.status.busy": "2022-03-15T17:50:03.168508Z",
     "iopub.status.idle": "2022-03-15T17:50:03.179662Z",
     "shell.execute_reply": "2022-03-15T17:50:03.179248Z",
     "shell.execute_reply.started": "2022-03-15T17:06:07.908571Z"
    },
    "papermill": {
     "duration": 0.161444,
     "end_time": "2022-03-15T17:50:03.179788",
     "exception": false,
     "start_time": "2022-03-15T17:50:03.018344",
     "status": "completed"
    },
    "tags": []
   },
   "outputs": [
    {
     "data": {
      "text/plain": [
       "['i',\n",
       " 'me',\n",
       " 'my',\n",
       " 'myself',\n",
       " 'we',\n",
       " 'our',\n",
       " 'ours',\n",
       " 'ourselves',\n",
       " 'you',\n",
       " \"you're\",\n",
       " \"you've\",\n",
       " \"you'll\",\n",
       " \"you'd\",\n",
       " 'your',\n",
       " 'yours',\n",
       " 'yourself',\n",
       " 'yourselves',\n",
       " 'he',\n",
       " 'him',\n",
       " 'his',\n",
       " 'himself',\n",
       " 'she',\n",
       " \"she's\",\n",
       " 'her',\n",
       " 'hers',\n",
       " 'herself',\n",
       " 'it',\n",
       " \"it's\",\n",
       " 'its',\n",
       " 'itself',\n",
       " 'they',\n",
       " 'them',\n",
       " 'their',\n",
       " 'theirs',\n",
       " 'themselves',\n",
       " 'what',\n",
       " 'which',\n",
       " 'who',\n",
       " 'whom',\n",
       " 'this',\n",
       " 'that',\n",
       " \"that'll\",\n",
       " 'these',\n",
       " 'those',\n",
       " 'am',\n",
       " 'is',\n",
       " 'are',\n",
       " 'was',\n",
       " 'were',\n",
       " 'be',\n",
       " 'been',\n",
       " 'being',\n",
       " 'have',\n",
       " 'has',\n",
       " 'had',\n",
       " 'having',\n",
       " 'do',\n",
       " 'does',\n",
       " 'did',\n",
       " 'doing',\n",
       " 'a',\n",
       " 'an',\n",
       " 'the',\n",
       " 'and',\n",
       " 'but',\n",
       " 'if',\n",
       " 'or',\n",
       " 'because',\n",
       " 'as',\n",
       " 'until',\n",
       " 'while',\n",
       " 'of',\n",
       " 'at',\n",
       " 'by',\n",
       " 'for',\n",
       " 'with',\n",
       " 'about',\n",
       " 'against',\n",
       " 'between',\n",
       " 'into',\n",
       " 'through',\n",
       " 'during',\n",
       " 'before',\n",
       " 'after',\n",
       " 'above',\n",
       " 'below',\n",
       " 'to',\n",
       " 'from',\n",
       " 'up',\n",
       " 'down',\n",
       " 'in',\n",
       " 'out',\n",
       " 'on',\n",
       " 'off',\n",
       " 'over',\n",
       " 'under',\n",
       " 'again',\n",
       " 'further',\n",
       " 'then',\n",
       " 'once',\n",
       " 'here',\n",
       " 'there',\n",
       " 'when',\n",
       " 'where',\n",
       " 'why',\n",
       " 'how',\n",
       " 'all',\n",
       " 'any',\n",
       " 'both',\n",
       " 'each',\n",
       " 'few',\n",
       " 'more',\n",
       " 'most',\n",
       " 'other',\n",
       " 'some',\n",
       " 'such',\n",
       " 'no',\n",
       " 'nor',\n",
       " 'not',\n",
       " 'only',\n",
       " 'own',\n",
       " 'same',\n",
       " 'so',\n",
       " 'than',\n",
       " 'too',\n",
       " 'very',\n",
       " 's',\n",
       " 't',\n",
       " 'can',\n",
       " 'will',\n",
       " 'just',\n",
       " 'don',\n",
       " \"don't\",\n",
       " 'should',\n",
       " \"should've\",\n",
       " 'now',\n",
       " 'd',\n",
       " 'll',\n",
       " 'm',\n",
       " 'o',\n",
       " 're',\n",
       " 've',\n",
       " 'y',\n",
       " 'ain',\n",
       " 'aren',\n",
       " \"aren't\",\n",
       " 'couldn',\n",
       " \"couldn't\",\n",
       " 'didn',\n",
       " \"didn't\",\n",
       " 'doesn',\n",
       " \"doesn't\",\n",
       " 'hadn',\n",
       " \"hadn't\",\n",
       " 'hasn',\n",
       " \"hasn't\",\n",
       " 'haven',\n",
       " \"haven't\",\n",
       " 'isn',\n",
       " \"isn't\",\n",
       " 'ma',\n",
       " 'mightn',\n",
       " \"mightn't\",\n",
       " 'mustn',\n",
       " \"mustn't\",\n",
       " 'needn',\n",
       " \"needn't\",\n",
       " 'shan',\n",
       " \"shan't\",\n",
       " 'shouldn',\n",
       " \"shouldn't\",\n",
       " 'wasn',\n",
       " \"wasn't\",\n",
       " 'weren',\n",
       " \"weren't\",\n",
       " 'won',\n",
       " \"won't\",\n",
       " 'wouldn',\n",
       " \"wouldn't\"]"
      ]
     },
     "execution_count": 30,
     "metadata": {},
     "output_type": "execute_result"
    }
   ],
   "source": [
    "stopwords.words('english')"
   ]
  },
  {
   "cell_type": "code",
   "execution_count": 31,
   "id": "1cbec696",
   "metadata": {
    "execution": {
     "iopub.execute_input": "2022-03-15T17:50:03.472679Z",
     "iopub.status.busy": "2022-03-15T17:50:03.470664Z",
     "iopub.status.idle": "2022-03-15T17:50:03.475025Z",
     "shell.execute_reply": "2022-03-15T17:50:03.474506Z",
     "shell.execute_reply.started": "2022-03-15T17:06:07.937702Z"
    },
    "papermill": {
     "duration": 0.152904,
     "end_time": "2022-03-15T17:50:03.475139",
     "exception": false,
     "start_time": "2022-03-15T17:50:03.322235",
     "status": "completed"
    },
    "tags": []
   },
   "outputs": [],
   "source": [
    "#remove stopwords\n",
    "def remove_stopwords(text):\n",
    "    x=[]\n",
    "    for i in text.split():\n",
    "        \n",
    "        if i not in stopwords.words('english'):\n",
    "            x.append(i)\n",
    "    \n",
    "    y=x[:]\n",
    "    x.clear()\n",
    "    return y"
   ]
  },
  {
   "cell_type": "code",
   "execution_count": 32,
   "id": "cf36f073",
   "metadata": {
    "execution": {
     "iopub.execute_input": "2022-03-15T17:50:03.766944Z",
     "iopub.status.busy": "2022-03-15T17:50:03.766108Z",
     "iopub.status.idle": "2022-03-15T17:52:53.808299Z",
     "shell.execute_reply": "2022-03-15T17:52:53.807700Z",
     "shell.execute_reply.started": "2022-03-15T17:06:07.947541Z"
    },
    "papermill": {
     "duration": 170.189958,
     "end_time": "2022-03-15T17:52:53.808456",
     "exception": false,
     "start_time": "2022-03-15T17:50:03.618498",
     "status": "completed"
    },
    "tags": []
   },
   "outputs": [],
   "source": [
    "train['Phrase']=train['Phrase'].apply(remove_stopwords)\n",
    "test['Phrase']=test['Phrase'].apply(remove_stopwords)"
   ]
  },
  {
   "cell_type": "code",
   "execution_count": 33,
   "id": "950775c4",
   "metadata": {
    "execution": {
     "iopub.execute_input": "2022-03-15T17:52:54.110360Z",
     "iopub.status.busy": "2022-03-15T17:52:54.109596Z",
     "iopub.status.idle": "2022-03-15T17:52:54.112128Z",
     "shell.execute_reply": "2022-03-15T17:52:54.111640Z",
     "shell.execute_reply.started": "2022-03-15T17:08:51.237772Z"
    },
    "papermill": {
     "duration": 0.153755,
     "end_time": "2022-03-15T17:52:54.112262",
     "exception": false,
     "start_time": "2022-03-15T17:52:53.958507",
     "status": "completed"
    },
    "tags": []
   },
   "outputs": [],
   "source": [
    "ps=PorterStemmer()"
   ]
  },
  {
   "cell_type": "code",
   "execution_count": 34,
   "id": "7ac39382",
   "metadata": {
    "execution": {
     "iopub.execute_input": "2022-03-15T17:52:54.402914Z",
     "iopub.status.busy": "2022-03-15T17:52:54.402149Z",
     "iopub.status.idle": "2022-03-15T17:52:54.404671Z",
     "shell.execute_reply": "2022-03-15T17:52:54.404237Z",
     "shell.execute_reply.started": "2022-03-15T17:08:51.245299Z"
    },
    "papermill": {
     "duration": 0.148494,
     "end_time": "2022-03-15T17:52:54.404795",
     "exception": false,
     "start_time": "2022-03-15T17:52:54.256301",
     "status": "completed"
    },
    "tags": []
   },
   "outputs": [],
   "source": [
    "y=[]\n",
    "#stem the words\n",
    "def stem_words(text):\n",
    "    for i in text:\n",
    "        y.append(ps.stem(i))\n",
    "    z=y[:]\n",
    "    y.clear()\n",
    "    return z"
   ]
  },
  {
   "cell_type": "code",
   "execution_count": 35,
   "id": "14129a78",
   "metadata": {
    "execution": {
     "iopub.execute_input": "2022-03-15T17:52:54.709261Z",
     "iopub.status.busy": "2022-03-15T17:52:54.704548Z",
     "iopub.status.idle": "2022-03-15T17:53:18.022271Z",
     "shell.execute_reply": "2022-03-15T17:53:18.021743Z",
     "shell.execute_reply.started": "2022-03-15T17:08:51.255844Z"
    },
    "papermill": {
     "duration": 23.475757,
     "end_time": "2022-03-15T17:53:18.022404",
     "exception": false,
     "start_time": "2022-03-15T17:52:54.546647",
     "status": "completed"
    },
    "tags": []
   },
   "outputs": [],
   "source": [
    "train['Phrase']=train['Phrase'].apply(stem_words)\n",
    "test['Phrase']=test['Phrase'].apply(stem_words)"
   ]
  },
  {
   "cell_type": "code",
   "execution_count": 36,
   "id": "1f79641a",
   "metadata": {
    "execution": {
     "iopub.execute_input": "2022-03-15T17:53:18.314515Z",
     "iopub.status.busy": "2022-03-15T17:53:18.312909Z",
     "iopub.status.idle": "2022-03-15T17:53:18.315106Z",
     "shell.execute_reply": "2022-03-15T17:53:18.315499Z",
     "shell.execute_reply.started": "2022-03-15T17:09:15.355808Z"
    },
    "papermill": {
     "duration": 0.147985,
     "end_time": "2022-03-15T17:53:18.315624",
     "exception": false,
     "start_time": "2022-03-15T17:53:18.167639",
     "status": "completed"
    },
    "tags": []
   },
   "outputs": [],
   "source": [
    "#join the stem words together\n",
    "def join_back(list_input):\n",
    "    return \" \".join(list_input)"
   ]
  },
  {
   "cell_type": "code",
   "execution_count": 37,
   "id": "9f5ba492",
   "metadata": {
    "execution": {
     "iopub.execute_input": "2022-03-15T17:53:18.611058Z",
     "iopub.status.busy": "2022-03-15T17:53:18.605709Z",
     "iopub.status.idle": "2022-03-15T17:53:18.711457Z",
     "shell.execute_reply": "2022-03-15T17:53:18.710967Z",
     "shell.execute_reply.started": "2022-03-15T17:09:15.362613Z"
    },
    "papermill": {
     "duration": 0.253968,
     "end_time": "2022-03-15T17:53:18.711578",
     "exception": false,
     "start_time": "2022-03-15T17:53:18.457610",
     "status": "completed"
    },
    "tags": []
   },
   "outputs": [],
   "source": [
    "train['Phrase']=train['Phrase'].apply(join_back)\n",
    "test['Phrase']=test['Phrase'].apply(join_back)"
   ]
  },
  {
   "cell_type": "code",
   "execution_count": 38,
   "id": "809069a6",
   "metadata": {
    "execution": {
     "iopub.execute_input": "2022-03-15T17:53:19.052211Z",
     "iopub.status.busy": "2022-03-15T17:53:19.031490Z",
     "iopub.status.idle": "2022-03-15T17:53:20.476560Z",
     "shell.execute_reply": "2022-03-15T17:53:20.475630Z",
     "shell.execute_reply.started": "2022-03-15T17:09:15.498499Z"
    },
    "papermill": {
     "duration": 1.613768,
     "end_time": "2022-03-15T17:53:20.476701",
     "exception": false,
     "start_time": "2022-03-15T17:53:18.862933",
     "status": "completed"
    },
    "tags": []
   },
   "outputs": [],
   "source": [
    "X_train =train['Phrase']\n",
    "y_train = train['Sentiment']\n",
    "tokenize = Tokenizer()\n",
    "#Tokenize the text\n",
    "tokenize.fit_on_texts(X_train.values)"
   ]
  },
  {
   "cell_type": "code",
   "execution_count": 39,
   "id": "43de8bae",
   "metadata": {
    "execution": {
     "iopub.execute_input": "2022-03-15T17:53:20.803068Z",
     "iopub.status.busy": "2022-03-15T17:53:20.802242Z",
     "iopub.status.idle": "2022-03-15T17:53:22.812235Z",
     "shell.execute_reply": "2022-03-15T17:53:22.811659Z",
     "shell.execute_reply.started": "2022-03-15T17:09:16.945091Z"
    },
    "papermill": {
     "duration": 2.190666,
     "end_time": "2022-03-15T17:53:22.812377",
     "exception": false,
     "start_time": "2022-03-15T17:53:20.621711",
     "status": "completed"
    },
    "tags": []
   },
   "outputs": [],
   "source": [
    "X_test = test['Phrase']\n",
    "X_train = tokenize.texts_to_sequences(X_train)\n",
    "X_test = tokenize.texts_to_sequences(X_test)"
   ]
  },
  {
   "cell_type": "code",
   "execution_count": 40,
   "id": "6d7bb567",
   "metadata": {
    "execution": {
     "iopub.execute_input": "2022-03-15T17:53:23.146502Z",
     "iopub.status.busy": "2022-03-15T17:53:23.126086Z",
     "iopub.status.idle": "2022-03-15T17:53:24.115051Z",
     "shell.execute_reply": "2022-03-15T17:53:24.115817Z",
     "shell.execute_reply.started": "2022-03-15T17:09:19.024399Z"
    },
    "papermill": {
     "duration": 1.160829,
     "end_time": "2022-03-15T17:53:24.115980",
     "exception": false,
     "start_time": "2022-03-15T17:53:22.955151",
     "status": "completed"
    },
    "tags": []
   },
   "outputs": [],
   "source": [
    "#add padding using pre-method\n",
    "max_sequence_len = max([len(s.split()) for s in train['Phrase']])\n",
    "X_train = pad_sequences(X_train, max_sequence_len,padding='pre')\n",
    "X_test = pad_sequences(X_test, max_sequence_len,padding='pre')"
   ]
  },
  {
   "cell_type": "code",
   "execution_count": 41,
   "id": "897f53a7",
   "metadata": {
    "execution": {
     "iopub.execute_input": "2022-03-15T17:53:24.416875Z",
     "iopub.status.busy": "2022-03-15T17:53:24.416155Z",
     "iopub.status.idle": "2022-03-15T17:53:24.418896Z",
     "shell.execute_reply": "2022-03-15T17:53:24.419293Z",
     "shell.execute_reply.started": "2022-03-15T17:09:20.041260Z"
    },
    "papermill": {
     "duration": 0.155206,
     "end_time": "2022-03-15T17:53:24.419428",
     "exception": false,
     "start_time": "2022-03-15T17:53:24.264222",
     "status": "completed"
    },
    "tags": []
   },
   "outputs": [
    {
     "data": {
      "text/plain": [
       "array([[   0,    0,    0, ...,  622,   15,    8],\n",
       "       [   0,    0,    0, ..., 5288,   12, 3081],\n",
       "       [   0,    0,    0, ...,    0,    0,  260],\n",
       "       ...,\n",
       "       [   0,    0,    0, ...,    0, 7384, 7385],\n",
       "       [   0,    0,    0, ...,    0,    0, 7384],\n",
       "       [   0,    0,    0, ...,    0,    0, 7385]], dtype=int32)"
      ]
     },
     "execution_count": 41,
     "metadata": {},
     "output_type": "execute_result"
    }
   ],
   "source": [
    "X_train"
   ]
  },
  {
   "cell_type": "code",
   "execution_count": 42,
   "id": "0da77d7e",
   "metadata": {
    "execution": {
     "iopub.execute_input": "2022-03-15T17:53:24.715737Z",
     "iopub.status.busy": "2022-03-15T17:53:24.715131Z",
     "iopub.status.idle": "2022-03-15T17:53:24.718472Z",
     "shell.execute_reply": "2022-03-15T17:53:24.719163Z",
     "shell.execute_reply.started": "2022-03-15T17:09:20.049433Z"
    },
    "papermill": {
     "duration": 0.157432,
     "end_time": "2022-03-15T17:53:24.719354",
     "exception": false,
     "start_time": "2022-03-15T17:53:24.561922",
     "status": "completed"
    },
    "tags": []
   },
   "outputs": [
    {
     "name": "stdout",
     "output_type": "stream",
     "text": [
      "(156060, 30)\n",
      "(66292, 30)\n"
     ]
    }
   ],
   "source": [
    "print(X_train.shape)\n",
    "print(X_test.shape)"
   ]
  },
  {
   "cell_type": "markdown",
   "id": "0d80aef1",
   "metadata": {
    "papermill": {
     "duration": 0.272246,
     "end_time": "2022-03-15T17:53:25.214650",
     "exception": false,
     "start_time": "2022-03-15T17:53:24.942404",
     "status": "completed"
    },
    "tags": []
   },
   "source": [
    "# DEEP LEARNING MODELS"
   ]
  },
  {
   "cell_type": "markdown",
   "id": "bf3931cf",
   "metadata": {
    "papermill": {
     "duration": 0.198511,
     "end_time": "2022-03-15T17:53:25.622091",
     "exception": false,
     "start_time": "2022-03-15T17:53:25.423580",
     "status": "completed"
    },
    "tags": []
   },
   "source": [
    "**1)LSTM MODEL**"
   ]
  },
  {
   "cell_type": "code",
   "execution_count": 43,
   "id": "728c0413",
   "metadata": {
    "execution": {
     "iopub.execute_input": "2022-03-15T17:53:26.095858Z",
     "iopub.status.busy": "2022-03-15T17:53:26.095047Z",
     "iopub.status.idle": "2022-03-15T17:53:26.812734Z",
     "shell.execute_reply": "2022-03-15T17:53:26.812190Z",
     "shell.execute_reply.started": "2022-03-15T17:09:20.058827Z"
    },
    "papermill": {
     "duration": 0.963354,
     "end_time": "2022-03-15T17:53:26.812899",
     "exception": false,
     "start_time": "2022-03-15T17:53:25.849545",
     "status": "completed"
    },
    "tags": []
   },
   "outputs": [
    {
     "name": "stderr",
     "output_type": "stream",
     "text": [
      "2022-03-15 17:53:26.126229: I tensorflow/stream_executor/cuda/cuda_gpu_executor.cc:937] successful NUMA node read from SysFS had negative value (-1), but there must be at least one NUMA node, so returning NUMA node zero\n",
      "2022-03-15 17:53:26.132563: I tensorflow/stream_executor/cuda/cuda_gpu_executor.cc:937] successful NUMA node read from SysFS had negative value (-1), but there must be at least one NUMA node, so returning NUMA node zero\n",
      "2022-03-15 17:53:26.133731: I tensorflow/stream_executor/cuda/cuda_gpu_executor.cc:937] successful NUMA node read from SysFS had negative value (-1), but there must be at least one NUMA node, so returning NUMA node zero\n",
      "2022-03-15 17:53:26.136355: I tensorflow/core/platform/cpu_feature_guard.cc:142] This TensorFlow binary is optimized with oneAPI Deep Neural Network Library (oneDNN) to use the following CPU instructions in performance-critical operations:  AVX2 AVX512F FMA\n",
      "To enable them in other operations, rebuild TensorFlow with the appropriate compiler flags.\n",
      "2022-03-15 17:53:26.137588: I tensorflow/stream_executor/cuda/cuda_gpu_executor.cc:937] successful NUMA node read from SysFS had negative value (-1), but there must be at least one NUMA node, so returning NUMA node zero\n",
      "2022-03-15 17:53:26.138731: I tensorflow/stream_executor/cuda/cuda_gpu_executor.cc:937] successful NUMA node read from SysFS had negative value (-1), but there must be at least one NUMA node, so returning NUMA node zero\n",
      "2022-03-15 17:53:26.139752: I tensorflow/stream_executor/cuda/cuda_gpu_executor.cc:937] successful NUMA node read from SysFS had negative value (-1), but there must be at least one NUMA node, so returning NUMA node zero\n",
      "2022-03-15 17:53:26.144398: I tensorflow/stream_executor/cuda/cuda_gpu_executor.cc:937] successful NUMA node read from SysFS had negative value (-1), but there must be at least one NUMA node, so returning NUMA node zero\n",
      "2022-03-15 17:53:26.145518: I tensorflow/stream_executor/cuda/cuda_gpu_executor.cc:937] successful NUMA node read from SysFS had negative value (-1), but there must be at least one NUMA node, so returning NUMA node zero\n",
      "2022-03-15 17:53:26.146608: I tensorflow/stream_executor/cuda/cuda_gpu_executor.cc:937] successful NUMA node read from SysFS had negative value (-1), but there must be at least one NUMA node, so returning NUMA node zero\n",
      "2022-03-15 17:53:26.147543: I tensorflow/core/common_runtime/gpu/gpu_device.cc:1510] Created device /job:localhost/replica:0/task:0/device:GPU:0 with 14995 MB memory:  -> device: 0, name: Tesla P100-PCIE-16GB, pci bus id: 0000:00:04.0, compute capability: 6.0\n"
     ]
    }
   ],
   "source": [
    "#LSTM Model\n",
    "embedding_dimension = 100\n",
    "input_val = len(tokenize.word_index)+1\n",
    "model_lstm = Sequential()\n",
    "model_lstm.add(Embedding(input_val, embedding_dimension, input_length=max_sequence_len))\n",
    "model_lstm.add(LSTM(units=128, dropout=0.2, recurrent_dropout=0.2 ))\n",
    "model_lstm.add(Dense(units=64,activation='relu'))\n",
    "model_lstm.add(Dropout(0.2))\n",
    "model_lstm.add(Dense(32,activation='relu'))\n",
    "model_lstm.add(Dropout(0.2))\n",
    "model_lstm.add(Dense(5, activation='softmax'))# 5 as we are required to predict 5 labels-0,1,2,3,4\n"
   ]
  },
  {
   "cell_type": "code",
   "execution_count": 44,
   "id": "f7d821e7",
   "metadata": {
    "execution": {
     "iopub.execute_input": "2022-03-15T17:53:27.116544Z",
     "iopub.status.busy": "2022-03-15T17:53:27.116035Z",
     "iopub.status.idle": "2022-03-15T17:53:27.123929Z",
     "shell.execute_reply": "2022-03-15T17:53:27.123029Z",
     "shell.execute_reply.started": "2022-03-15T17:09:20.065423Z"
    },
    "papermill": {
     "duration": 0.157457,
     "end_time": "2022-03-15T17:53:27.124075",
     "exception": false,
     "start_time": "2022-03-15T17:53:26.966618",
     "status": "completed"
    },
    "tags": []
   },
   "outputs": [
    {
     "name": "stdout",
     "output_type": "stream",
     "text": [
      "Model: \"sequential\"\n",
      "_________________________________________________________________\n",
      "Layer (type)                 Output Shape              Param #   \n",
      "=================================================================\n",
      "embedding (Embedding)        (None, 30, 100)           1187800   \n",
      "_________________________________________________________________\n",
      "lstm (LSTM)                  (None, 128)               117248    \n",
      "_________________________________________________________________\n",
      "dense (Dense)                (None, 64)                8256      \n",
      "_________________________________________________________________\n",
      "dropout (Dropout)            (None, 64)                0         \n",
      "_________________________________________________________________\n",
      "dense_1 (Dense)              (None, 32)                2080      \n",
      "_________________________________________________________________\n",
      "dropout_1 (Dropout)          (None, 32)                0         \n",
      "_________________________________________________________________\n",
      "dense_2 (Dense)              (None, 5)                 165       \n",
      "=================================================================\n",
      "Total params: 1,315,549\n",
      "Trainable params: 1,315,549\n",
      "Non-trainable params: 0\n",
      "_________________________________________________________________\n"
     ]
    }
   ],
   "source": [
    "model_lstm.summary()"
   ]
  },
  {
   "cell_type": "code",
   "execution_count": 45,
   "id": "db3a1131",
   "metadata": {
    "execution": {
     "iopub.execute_input": "2022-03-15T17:53:27.416153Z",
     "iopub.status.busy": "2022-03-15T17:53:27.415462Z",
     "iopub.status.idle": "2022-03-15T17:53:27.417878Z",
     "shell.execute_reply": "2022-03-15T17:53:27.417436Z",
     "shell.execute_reply.started": "2022-03-15T17:09:20.073996Z"
    },
    "papermill": {
     "duration": 0.149591,
     "end_time": "2022-03-15T17:53:27.417991",
     "exception": false,
     "start_time": "2022-03-15T17:53:27.268400",
     "status": "completed"
    },
    "tags": []
   },
   "outputs": [],
   "source": [
    "early_stopping = EarlyStopping(min_delta = 0.001,\n",
    "                               mode = 'max',\n",
    "                               monitor = 'val_acc',\n",
    "                               patience = 2)\n",
    "callback = [early_stopping]"
   ]
  },
  {
   "cell_type": "code",
   "execution_count": 46,
   "id": "ad15234e",
   "metadata": {
    "execution": {
     "iopub.execute_input": "2022-03-15T17:53:27.718374Z",
     "iopub.status.busy": "2022-03-15T17:53:27.717590Z",
     "iopub.status.idle": "2022-03-15T17:53:27.727109Z",
     "shell.execute_reply": "2022-03-15T17:53:27.726683Z",
     "shell.execute_reply.started": "2022-03-15T17:09:20.080858Z"
    },
    "papermill": {
     "duration": 0.16574,
     "end_time": "2022-03-15T17:53:27.727217",
     "exception": false,
     "start_time": "2022-03-15T17:53:27.561477",
     "status": "completed"
    },
    "tags": []
   },
   "outputs": [],
   "source": [
    "#Compiling the model\n",
    "model_lstm.compile(loss='sparse_categorical_crossentropy', optimizer='adam', metrics=['accuracy'])"
   ]
  },
  {
   "cell_type": "code",
   "execution_count": 47,
   "id": "242e9bad",
   "metadata": {
    "execution": {
     "iopub.execute_input": "2022-03-15T17:53:28.038190Z",
     "iopub.status.busy": "2022-03-15T17:53:28.037201Z",
     "iopub.status.idle": "2022-03-15T18:08:52.355722Z",
     "shell.execute_reply": "2022-03-15T18:08:52.356190Z",
     "shell.execute_reply.started": "2022-03-15T17:09:20.090056Z"
    },
    "papermill": {
     "duration": 924.475095,
     "end_time": "2022-03-15T18:08:52.356361",
     "exception": false,
     "start_time": "2022-03-15T17:53:27.881266",
     "status": "completed"
    },
    "tags": []
   },
   "outputs": [
    {
     "name": "stderr",
     "output_type": "stream",
     "text": [
      "2022-03-15 17:53:28.097469: I tensorflow/compiler/mlir/mlir_graph_optimization_pass.cc:185] None of the MLIR Optimization Passes are enabled (registered 2)\n"
     ]
    },
    {
     "name": "stdout",
     "output_type": "stream",
     "text": [
      "Epoch 1/20\n",
      "305/305 [==============================] - 46s 140ms/step - loss: 1.1477 - accuracy: 0.5468\n",
      "Epoch 2/20\n",
      "305/305 [==============================] - 42s 139ms/step - loss: 0.8748 - accuracy: 0.6500\n",
      "Epoch 3/20\n",
      "305/305 [==============================] - 44s 144ms/step - loss: 0.8087 - accuracy: 0.6697\n",
      "Epoch 4/20\n",
      "305/305 [==============================] - 43s 140ms/step - loss: 0.7736 - accuracy: 0.6805\n",
      "Epoch 5/20\n",
      "305/305 [==============================] - 44s 143ms/step - loss: 0.7439 - accuracy: 0.6894\n",
      "Epoch 6/20\n",
      "305/305 [==============================] - 44s 144ms/step - loss: 0.7161 - accuracy: 0.6992\n",
      "Epoch 7/20\n",
      "305/305 [==============================] - 42s 139ms/step - loss: 0.6958 - accuracy: 0.7047\n",
      "Epoch 8/20\n",
      "305/305 [==============================] - 45s 148ms/step - loss: 0.6771 - accuracy: 0.7114\n",
      "Epoch 9/20\n",
      "305/305 [==============================] - 44s 146ms/step - loss: 0.6615 - accuracy: 0.7159\n",
      "Epoch 10/20\n",
      "305/305 [==============================] - 44s 143ms/step - loss: 0.6486 - accuracy: 0.7186\n",
      "Epoch 11/20\n",
      "305/305 [==============================] - 45s 148ms/step - loss: 0.6363 - accuracy: 0.7241\n",
      "Epoch 12/20\n",
      "305/305 [==============================] - 45s 147ms/step - loss: 0.6244 - accuracy: 0.7271\n",
      "Epoch 13/20\n",
      "305/305 [==============================] - 44s 145ms/step - loss: 0.6146 - accuracy: 0.7307\n",
      "Epoch 14/20\n",
      "305/305 [==============================] - 46s 152ms/step - loss: 0.6064 - accuracy: 0.7343\n",
      "Epoch 15/20\n",
      "305/305 [==============================] - 44s 145ms/step - loss: 0.5968 - accuracy: 0.7362\n",
      "Epoch 16/20\n",
      "305/305 [==============================] - 45s 147ms/step - loss: 0.5892 - accuracy: 0.7391\n",
      "Epoch 17/20\n",
      "305/305 [==============================] - 46s 149ms/step - loss: 0.5812 - accuracy: 0.7410\n",
      "Epoch 18/20\n",
      "305/305 [==============================] - 47s 154ms/step - loss: 0.5738 - accuracy: 0.7426\n",
      "Epoch 19/20\n",
      "305/305 [==============================] - 47s 152ms/step - loss: 0.5669 - accuracy: 0.7447\n",
      "Epoch 20/20\n",
      "305/305 [==============================] - 45s 146ms/step - loss: 0.5591 - accuracy: 0.7474\n"
     ]
    }
   ],
   "source": [
    "#Fit the model\n",
    "history_lstm=model_lstm.fit(X_train, y_train,batch_size=512, epochs=20, verbose=1,callbacks=callback)"
   ]
  },
  {
   "cell_type": "code",
   "execution_count": 48,
   "id": "7b84d07c",
   "metadata": {
    "execution": {
     "iopub.execute_input": "2022-03-15T18:08:56.429314Z",
     "iopub.status.busy": "2022-03-15T18:08:56.428414Z",
     "iopub.status.idle": "2022-03-15T18:08:56.479275Z",
     "shell.execute_reply": "2022-03-15T18:08:56.478361Z",
     "shell.execute_reply.started": "2022-03-15T17:09:20.097512Z"
    },
    "papermill": {
     "duration": 2.068156,
     "end_time": "2022-03-15T18:08:56.479407",
     "exception": false,
     "start_time": "2022-03-15T18:08:54.411251",
     "status": "completed"
    },
    "tags": []
   },
   "outputs": [],
   "source": [
    "#Saving the model\n",
    "model_lstm.save('LSTM_Model.h5')"
   ]
  },
  {
   "cell_type": "code",
   "execution_count": 49,
   "id": "0eefb339",
   "metadata": {
    "execution": {
     "iopub.execute_input": "2022-03-15T18:09:00.945667Z",
     "iopub.status.busy": "2022-03-15T18:09:00.944748Z",
     "iopub.status.idle": "2022-03-15T18:09:01.117818Z",
     "shell.execute_reply": "2022-03-15T18:09:01.117369Z",
     "shell.execute_reply.started": "2022-03-15T17:09:20.106115Z"
    },
    "papermill": {
     "duration": 2.518789,
     "end_time": "2022-03-15T18:09:01.117947",
     "exception": false,
     "start_time": "2022-03-15T18:08:58.599158",
     "status": "completed"
    },
    "tags": []
   },
   "outputs": [
    {
     "data": {
      "image/png": "[encoded data removed]",
      "text/plain": [
       "<Figure size 432x288 with 1 Axes>"
      ]
     },
     "metadata": {
      "needs_background": "light"
     },
     "output_type": "display_data"
    }
   ],
   "source": [
    "loss_train = history_lstm.history['loss']\n",
    "epochs = range(1,21)\n",
    "plt.plot(epochs, loss_train, 'g', label='Training loss')\n",
    "plt.title('Training loss')\n",
    "plt.xlabel('Epochs')\n",
    "plt.ylabel('Loss')\n",
    "plt.legend()\n",
    "plt.show()"
   ]
  },
  {
   "cell_type": "code",
   "execution_count": 50,
   "id": "608e839b",
   "metadata": {
    "execution": {
     "iopub.execute_input": "2022-03-15T18:09:05.218970Z",
     "iopub.status.busy": "2022-03-15T18:09:05.218068Z",
     "iopub.status.idle": "2022-03-15T18:09:05.405255Z",
     "shell.execute_reply": "2022-03-15T18:09:05.404832Z",
     "shell.execute_reply.started": "2022-03-15T17:09:20.113068Z"
    },
    "papermill": {
     "duration": 2.212104,
     "end_time": "2022-03-15T18:09:05.405373",
     "exception": false,
     "start_time": "2022-03-15T18:09:03.193269",
     "status": "completed"
    },
    "tags": []
   },
   "outputs": [
    {
     "data": {
      "image/png": "[encoded data removed]",
      "text/plain": [
       "<Figure size 432x288 with 1 Axes>"
      ]
     },
     "metadata": {
      "needs_background": "light"
     },
     "output_type": "display_data"
    }
   ],
   "source": [
    "accuracy_train = history_lstm.history['accuracy']\n",
    "epochs = range(1,21)\n",
    "plt.plot(epochs, accuracy_train, 'g', label='Training Accuracy')\n",
    "plt.title('Training Accuracy')\n",
    "plt.xlabel('Epochs')\n",
    "plt.ylabel('Accuracy')\n",
    "plt.legend()\n",
    "plt.show()"
   ]
  },
  {
   "cell_type": "code",
   "execution_count": 51,
   "id": "8ef2b24d",
   "metadata": {
    "execution": {
     "iopub.execute_input": "2022-03-15T18:09:10.165687Z",
     "iopub.status.busy": "2022-03-15T18:09:10.164295Z",
     "iopub.status.idle": "2022-03-15T18:09:27.230481Z",
     "shell.execute_reply": "2022-03-15T18:09:27.230948Z",
     "shell.execute_reply.started": "2022-03-15T17:09:20.123467Z"
    },
    "papermill": {
     "duration": 19.192857,
     "end_time": "2022-03-15T18:09:27.231122",
     "exception": false,
     "start_time": "2022-03-15T18:09:08.038265",
     "status": "completed"
    },
    "tags": []
   },
   "outputs": [],
   "source": [
    "#Predictions on the model\n",
    "predict_x=model_lstm.predict(X_test) \n",
    "classes_x=np.argmax(predict_x,axis=1)"
   ]
  },
  {
   "cell_type": "code",
   "execution_count": 52,
   "id": "a5cea38f",
   "metadata": {
    "execution": {
     "iopub.execute_input": "2022-03-15T18:09:31.382408Z",
     "iopub.status.busy": "2022-03-15T18:09:31.381676Z",
     "iopub.status.idle": "2022-03-15T18:09:31.384438Z",
     "shell.execute_reply": "2022-03-15T18:09:31.384876Z",
     "shell.execute_reply.started": "2022-03-15T17:09:20.131579Z"
    },
    "papermill": {
     "duration": 2.074195,
     "end_time": "2022-03-15T18:09:31.385017",
     "exception": false,
     "start_time": "2022-03-15T18:09:29.310822",
     "status": "completed"
    },
    "tags": []
   },
   "outputs": [
    {
     "data": {
      "text/plain": [
       "array([3, 3, 2, ..., 1, 1, 1])"
      ]
     },
     "execution_count": 52,
     "metadata": {},
     "output_type": "execute_result"
    }
   ],
   "source": [
    "classes_x"
   ]
  },
  {
   "cell_type": "code",
   "execution_count": 53,
   "id": "1d1b4329",
   "metadata": {
    "execution": {
     "iopub.execute_input": "2022-03-15T18:09:35.926092Z",
     "iopub.status.busy": "2022-03-15T18:09:35.925316Z",
     "iopub.status.idle": "2022-03-15T18:09:35.956233Z",
     "shell.execute_reply": "2022-03-15T18:09:35.956611Z",
     "shell.execute_reply.started": "2022-03-15T17:09:20.139472Z"
    },
    "papermill": {
     "duration": 2.158519,
     "end_time": "2022-03-15T18:09:35.956776",
     "exception": false,
     "start_time": "2022-03-15T18:09:33.798257",
     "status": "completed"
    },
    "tags": []
   },
   "outputs": [],
   "source": [
    "#Submission of all the predictions\n",
    "submission_file =pd.read_csv('/kaggle/input/sentiment-analysis-on-movie-reviews/sampleSubmission.csv',sep=',')\n",
    "submission_file['Sentiment']=classes_x\n",
    "submission_file.to_csv('Submission_LSTM.csv',index=False)"
   ]
  },
  {
   "cell_type": "markdown",
   "id": "8fc14a69",
   "metadata": {
    "papermill": {
     "duration": 2.529856,
     "end_time": "2022-03-15T18:09:40.544062",
     "exception": false,
     "start_time": "2022-03-15T18:09:38.014206",
     "status": "completed"
    },
    "tags": []
   },
   "source": [
    "**2)ANN MODEL**"
   ]
  },
  {
   "cell_type": "code",
   "execution_count": 54,
   "id": "13e2c92b",
   "metadata": {
    "execution": {
     "iopub.execute_input": "2022-03-15T18:09:45.037534Z",
     "iopub.status.busy": "2022-03-15T18:09:45.036655Z",
     "iopub.status.idle": "2022-03-15T18:09:45.062654Z",
     "shell.execute_reply": "2022-03-15T18:09:45.062208Z",
     "shell.execute_reply.started": "2022-03-15T17:09:20.147287Z"
    },
    "papermill": {
     "duration": 2.338712,
     "end_time": "2022-03-15T18:09:45.062789",
     "exception": false,
     "start_time": "2022-03-15T18:09:42.724077",
     "status": "completed"
    },
    "tags": []
   },
   "outputs": [],
   "source": [
    "import tensorflow as tf\n",
    "embedding_dimension = 100\n",
    "input_val = len(tokenize.word_index)+1\n",
    "model_ANN = tf.keras.Sequential([\n",
    "    tf.keras.layers.Embedding(input_val, embedding_dimension, input_length=max_sequence_len),\n",
    "    tf.keras.layers.Flatten(),\n",
    "    tf.keras.layers.Dense(256, activation='relu'),\n",
    "    tf.keras.layers.Dense(5, activation='softmax')\n",
    "])"
   ]
  },
  {
   "cell_type": "code",
   "execution_count": 55,
   "id": "6883781b",
   "metadata": {
    "execution": {
     "iopub.execute_input": "2022-03-15T18:09:49.198658Z",
     "iopub.status.busy": "2022-03-15T18:09:49.196963Z",
     "iopub.status.idle": "2022-03-15T18:09:49.203579Z",
     "shell.execute_reply": "2022-03-15T18:09:49.204206Z",
     "shell.execute_reply.started": "2022-03-15T17:09:20.154977Z"
    },
    "papermill": {
     "duration": 2.083522,
     "end_time": "2022-03-15T18:09:49.204403",
     "exception": false,
     "start_time": "2022-03-15T18:09:47.120881",
     "status": "completed"
    },
    "tags": []
   },
   "outputs": [
    {
     "name": "stdout",
     "output_type": "stream",
     "text": [
      "Model: \"sequential_1\"\n",
      "_________________________________________________________________\n",
      "Layer (type)                 Output Shape              Param #   \n",
      "=================================================================\n",
      "embedding_1 (Embedding)      (None, 30, 100)           1187800   \n",
      "_________________________________________________________________\n",
      "flatten (Flatten)            (None, 3000)              0         \n",
      "_________________________________________________________________\n",
      "dense_3 (Dense)              (None, 256)               768256    \n",
      "_________________________________________________________________\n",
      "dense_4 (Dense)              (None, 5)                 1285      \n",
      "=================================================================\n",
      "Total params: 1,957,341\n",
      "Trainable params: 1,957,341\n",
      "Non-trainable params: 0\n",
      "_________________________________________________________________\n"
     ]
    }
   ],
   "source": [
    "model_ANN.summary()"
   ]
  },
  {
   "cell_type": "code",
   "execution_count": 56,
   "id": "4a8b0f35",
   "metadata": {
    "execution": {
     "iopub.execute_input": "2022-03-15T18:09:53.450545Z",
     "iopub.status.busy": "2022-03-15T18:09:53.449643Z",
     "iopub.status.idle": "2022-03-15T18:09:53.454777Z",
     "shell.execute_reply": "2022-03-15T18:09:53.454343Z",
     "shell.execute_reply.started": "2022-03-15T17:09:20.162809Z"
    },
    "papermill": {
     "duration": 2.184717,
     "end_time": "2022-03-15T18:09:53.454916",
     "exception": false,
     "start_time": "2022-03-15T18:09:51.270199",
     "status": "completed"
    },
    "tags": []
   },
   "outputs": [],
   "source": [
    "model_ANN.compile(loss='sparse_categorical_crossentropy', optimizer='adam', metrics=['accuracy'])"
   ]
  },
  {
   "cell_type": "code",
   "execution_count": 57,
   "id": "4b5a20fb",
   "metadata": {
    "execution": {
     "iopub.execute_input": "2022-03-15T18:09:57.882960Z",
     "iopub.status.busy": "2022-03-15T18:09:57.881917Z",
     "iopub.status.idle": "2022-03-15T18:11:20.163308Z",
     "shell.execute_reply": "2022-03-15T18:11:20.163744Z",
     "shell.execute_reply.started": "2022-03-15T17:09:20.169903Z"
    },
    "papermill": {
     "duration": 84.396886,
     "end_time": "2022-03-15T18:11:20.163963",
     "exception": false,
     "start_time": "2022-03-15T18:09:55.767077",
     "status": "completed"
    },
    "tags": []
   },
   "outputs": [
    {
     "name": "stdout",
     "output_type": "stream",
     "text": [
      "Epoch 1/50\n",
      "305/305 [==============================] - 1s 4ms/step - loss: 1.0156 - accuracy: 0.5945\n",
      "Epoch 2/50\n",
      "305/305 [==============================] - 1s 4ms/step - loss: 0.7822 - accuracy: 0.6791\n",
      "Epoch 3/50\n",
      "305/305 [==============================] - 1s 4ms/step - loss: 0.7037 - accuracy: 0.7053\n",
      "Epoch 4/50\n",
      "305/305 [==============================] - 1s 4ms/step - loss: 0.6544 - accuracy: 0.7221\n",
      "Epoch 5/50\n",
      "305/305 [==============================] - 1s 4ms/step - loss: 0.6199 - accuracy: 0.7320\n",
      "Epoch 6/50\n",
      "305/305 [==============================] - 1s 4ms/step - loss: 0.5924 - accuracy: 0.7402\n",
      "Epoch 7/50\n",
      "305/305 [==============================] - 1s 4ms/step - loss: 0.5698 - accuracy: 0.7477\n",
      "Epoch 8/50\n",
      "305/305 [==============================] - 1s 4ms/step - loss: 0.5504 - accuracy: 0.7511\n",
      "Epoch 9/50\n",
      "305/305 [==============================] - 1s 4ms/step - loss: 0.5343 - accuracy: 0.7571\n",
      "Epoch 10/50\n",
      "305/305 [==============================] - 1s 4ms/step - loss: 0.5193 - accuracy: 0.7607\n",
      "Epoch 11/50\n",
      "305/305 [==============================] - 1s 4ms/step - loss: 0.5063 - accuracy: 0.7649\n",
      "Epoch 12/50\n",
      "305/305 [==============================] - 1s 5ms/step - loss: 0.4948 - accuracy: 0.7680\n",
      "Epoch 13/50\n",
      "305/305 [==============================] - 1s 4ms/step - loss: 0.4836 - accuracy: 0.7717\n",
      "Epoch 14/50\n",
      "305/305 [==============================] - 1s 4ms/step - loss: 0.4741 - accuracy: 0.7738\n",
      "Epoch 15/50\n",
      "305/305 [==============================] - 1s 4ms/step - loss: 0.4657 - accuracy: 0.7765\n",
      "Epoch 16/50\n",
      "305/305 [==============================] - 1s 4ms/step - loss: 0.4570 - accuracy: 0.7782\n",
      "Epoch 17/50\n",
      "305/305 [==============================] - 1s 4ms/step - loss: 0.4490 - accuracy: 0.7804\n",
      "Epoch 18/50\n",
      "305/305 [==============================] - 1s 4ms/step - loss: 0.4424 - accuracy: 0.7832\n",
      "Epoch 19/50\n",
      "305/305 [==============================] - 1s 4ms/step - loss: 0.4354 - accuracy: 0.7856\n",
      "Epoch 20/50\n",
      "305/305 [==============================] - 1s 4ms/step - loss: 0.4290 - accuracy: 0.7871\n",
      "Epoch 21/50\n",
      "305/305 [==============================] - 1s 4ms/step - loss: 0.4238 - accuracy: 0.7884\n",
      "Epoch 22/50\n",
      "305/305 [==============================] - 1s 4ms/step - loss: 0.4182 - accuracy: 0.7899\n",
      "Epoch 23/50\n",
      "305/305 [==============================] - 1s 4ms/step - loss: 0.4126 - accuracy: 0.7925\n",
      "Epoch 24/50\n",
      "305/305 [==============================] - 1s 4ms/step - loss: 0.4080 - accuracy: 0.7945\n",
      "Epoch 25/50\n",
      "305/305 [==============================] - 1s 4ms/step - loss: 0.4038 - accuracy: 0.7952\n",
      "Epoch 26/50\n",
      "305/305 [==============================] - 1s 4ms/step - loss: 0.3992 - accuracy: 0.7966\n",
      "Epoch 27/50\n",
      "305/305 [==============================] - 1s 5ms/step - loss: 0.3957 - accuracy: 0.7968\n",
      "Epoch 28/50\n",
      "305/305 [==============================] - 1s 4ms/step - loss: 0.3921 - accuracy: 0.7977\n",
      "Epoch 29/50\n",
      "305/305 [==============================] - 1s 5ms/step - loss: 0.3878 - accuracy: 0.7993\n",
      "Epoch 30/50\n",
      "305/305 [==============================] - 1s 4ms/step - loss: 0.3851 - accuracy: 0.7997\n",
      "Epoch 31/50\n",
      "305/305 [==============================] - 1s 4ms/step - loss: 0.3814 - accuracy: 0.8012\n",
      "Epoch 32/50\n",
      "305/305 [==============================] - 1s 4ms/step - loss: 0.3783 - accuracy: 0.8024\n",
      "Epoch 33/50\n",
      "305/305 [==============================] - 1s 4ms/step - loss: 0.3754 - accuracy: 0.8029\n",
      "Epoch 34/50\n",
      "305/305 [==============================] - 1s 4ms/step - loss: 0.3726 - accuracy: 0.8031\n",
      "Epoch 35/50\n",
      "305/305 [==============================] - 1s 4ms/step - loss: 0.3696 - accuracy: 0.8042\n",
      "Epoch 36/50\n",
      "305/305 [==============================] - 1s 4ms/step - loss: 0.3675 - accuracy: 0.8042\n",
      "Epoch 37/50\n",
      "305/305 [==============================] - 1s 4ms/step - loss: 0.3657 - accuracy: 0.8049\n",
      "Epoch 38/50\n",
      "305/305 [==============================] - 1s 4ms/step - loss: 0.3628 - accuracy: 0.8060\n",
      "Epoch 39/50\n",
      "305/305 [==============================] - 1s 5ms/step - loss: 0.3608 - accuracy: 0.8069\n",
      "Epoch 40/50\n",
      "305/305 [==============================] - 1s 4ms/step - loss: 0.3591 - accuracy: 0.8069\n",
      "Epoch 41/50\n",
      "305/305 [==============================] - 1s 4ms/step - loss: 0.3569 - accuracy: 0.8067\n",
      "Epoch 42/50\n",
      "305/305 [==============================] - 1s 4ms/step - loss: 0.3547 - accuracy: 0.8080\n",
      "Epoch 43/50\n",
      "305/305 [==============================] - 1s 4ms/step - loss: 0.3530 - accuracy: 0.8071\n",
      "Epoch 44/50\n",
      "305/305 [==============================] - 1s 4ms/step - loss: 0.3517 - accuracy: 0.8076\n",
      "Epoch 45/50\n",
      "305/305 [==============================] - 1s 4ms/step - loss: 0.3495 - accuracy: 0.8082\n",
      "Epoch 46/50\n",
      "305/305 [==============================] - 1s 4ms/step - loss: 0.3489 - accuracy: 0.8079\n",
      "Epoch 47/50\n",
      "305/305 [==============================] - 1s 4ms/step - loss: 0.3476 - accuracy: 0.8085\n",
      "Epoch 48/50\n",
      "305/305 [==============================] - 1s 4ms/step - loss: 0.3455 - accuracy: 0.8096\n",
      "Epoch 49/50\n",
      "305/305 [==============================] - 1s 4ms/step - loss: 0.3444 - accuracy: 0.8097\n",
      "Epoch 50/50\n",
      "305/305 [==============================] - 1s 4ms/step - loss: 0.3429 - accuracy: 0.8099\n"
     ]
    }
   ],
   "source": [
    "history_ANN=model_ANN.fit(X_train, y_train,batch_size=512, epochs=50, verbose=1,callbacks=callback)"
   ]
  },
  {
   "cell_type": "code",
   "execution_count": 58,
   "id": "f570a544",
   "metadata": {
    "execution": {
     "iopub.execute_input": "2022-03-15T18:11:25.307036Z",
     "iopub.status.busy": "2022-03-15T18:11:25.306194Z",
     "iopub.status.idle": "2022-03-15T18:11:25.355544Z",
     "shell.execute_reply": "2022-03-15T18:11:25.355073Z",
     "shell.execute_reply.started": "2022-03-15T17:09:20.177558Z"
    },
    "papermill": {
     "duration": 2.710837,
     "end_time": "2022-03-15T18:11:25.355661",
     "exception": false,
     "start_time": "2022-03-15T18:11:22.644824",
     "status": "completed"
    },
    "tags": []
   },
   "outputs": [],
   "source": [
    "model_ANN.save('ANN_Model.h5')"
   ]
  },
  {
   "cell_type": "code",
   "execution_count": 59,
   "id": "91471d83",
   "metadata": {
    "execution": {
     "iopub.execute_input": "2022-03-15T18:11:30.234614Z",
     "iopub.status.busy": "2022-03-15T18:11:30.233730Z",
     "iopub.status.idle": "2022-03-15T18:11:30.401418Z",
     "shell.execute_reply": "2022-03-15T18:11:30.401832Z",
     "shell.execute_reply.started": "2022-03-15T17:09:20.184816Z"
    },
    "papermill": {
     "duration": 2.561515,
     "end_time": "2022-03-15T18:11:30.401982",
     "exception": false,
     "start_time": "2022-03-15T18:11:27.840467",
     "status": "completed"
    },
    "tags": []
   },
   "outputs": [
    {
     "data": {
      "image/png": "[encoded data removed]",
      "text/plain": [
       "<Figure size 432x288 with 1 Axes>"
      ]
     },
     "metadata": {
      "needs_background": "light"
     },
     "output_type": "display_data"
    }
   ],
   "source": [
    "loss_train_ANN = history_ANN.history['loss']\n",
    "epochs = range(1,51)\n",
    "plt.plot(epochs, loss_train_ANN, 'g', label='Training loss')\n",
    "plt.title('Training loss')\n",
    "plt.xlabel('Epochs')\n",
    "plt.ylabel('Loss')\n",
    "plt.legend()\n",
    "plt.show()"
   ]
  },
  {
   "cell_type": "code",
   "execution_count": 60,
   "id": "cb9084ff",
   "metadata": {
    "execution": {
     "iopub.execute_input": "2022-03-15T18:11:35.585238Z",
     "iopub.status.busy": "2022-03-15T18:11:35.582051Z",
     "iopub.status.idle": "2022-03-15T18:11:35.741633Z",
     "shell.execute_reply": "2022-03-15T18:11:35.742231Z",
     "shell.execute_reply.started": "2022-03-15T17:09:20.191894Z"
    },
    "papermill": {
     "duration": 2.885241,
     "end_time": "2022-03-15T18:11:35.742386",
     "exception": false,
     "start_time": "2022-03-15T18:11:32.857145",
     "status": "completed"
    },
    "tags": []
   },
   "outputs": [
    {
     "data": {
      "image/png": "[encoded data removed]",
      "text/plain": [
       "<Figure size 432x288 with 1 Axes>"
      ]
     },
     "metadata": {
      "needs_background": "light"
     },
     "output_type": "display_data"
    }
   ],
   "source": [
    "accuracy_train_ANN = history_ANN.history['accuracy']\n",
    "epochs = range(1,51)\n",
    "plt.plot(epochs, accuracy_train_ANN, 'g', label='Training Accuracy')\n",
    "plt.title('Training Accuracy')\n",
    "plt.xlabel('Epochs')\n",
    "plt.ylabel('Accuracy')\n",
    "plt.legend()\n",
    "plt.show()"
   ]
  },
  {
   "cell_type": "code",
   "execution_count": 61,
   "id": "45121481",
   "metadata": {
    "execution": {
     "iopub.execute_input": "2022-03-15T18:11:40.680334Z",
     "iopub.status.busy": "2022-03-15T18:11:40.679038Z",
     "iopub.status.idle": "2022-03-15T18:11:42.361118Z",
     "shell.execute_reply": "2022-03-15T18:11:42.361569Z",
     "shell.execute_reply.started": "2022-03-15T17:09:20.199047Z"
    },
    "papermill": {
     "duration": 4.106309,
     "end_time": "2022-03-15T18:11:42.361733",
     "exception": false,
     "start_time": "2022-03-15T18:11:38.255424",
     "status": "completed"
    },
    "tags": []
   },
   "outputs": [],
   "source": [
    "predict_x=model_ANN.predict(X_test) \n",
    "classes_x_ANN=np.argmax(predict_x,axis=1)"
   ]
  },
  {
   "cell_type": "code",
   "execution_count": 62,
   "id": "9d80ae92",
   "metadata": {
    "execution": {
     "iopub.execute_input": "2022-03-15T18:11:47.741722Z",
     "iopub.status.busy": "2022-03-15T18:11:47.740712Z",
     "iopub.status.idle": "2022-03-15T18:11:47.745083Z",
     "shell.execute_reply": "2022-03-15T18:11:47.742576Z",
     "shell.execute_reply.started": "2022-03-15T17:09:20.207008Z"
    },
    "papermill": {
     "duration": 2.887205,
     "end_time": "2022-03-15T18:11:47.745269",
     "exception": false,
     "start_time": "2022-03-15T18:11:44.858064",
     "status": "completed"
    },
    "tags": []
   },
   "outputs": [
    {
     "data": {
      "text/plain": [
       "array([3, 3, 2, ..., 1, 1, 1])"
      ]
     },
     "execution_count": 62,
     "metadata": {},
     "output_type": "execute_result"
    }
   ],
   "source": [
    "classes_x_ANN"
   ]
  },
  {
   "cell_type": "code",
   "execution_count": 63,
   "id": "d3f652d4",
   "metadata": {
    "execution": {
     "iopub.execute_input": "2022-03-15T18:11:52.943342Z",
     "iopub.status.busy": "2022-03-15T18:11:52.942749Z",
     "iopub.status.idle": "2022-03-15T18:11:52.954750Z",
     "shell.execute_reply": "2022-03-15T18:11:52.955188Z",
     "shell.execute_reply.started": "2022-03-15T17:09:20.215521Z"
    },
    "papermill": {
     "duration": 2.477496,
     "end_time": "2022-03-15T18:11:52.955326",
     "exception": false,
     "start_time": "2022-03-15T18:11:50.477830",
     "status": "completed"
    },
    "tags": []
   },
   "outputs": [],
   "source": [
    "submission_file =pd.read_csv('/kaggle/input/sentiment-analysis-on-movie-reviews/sampleSubmission.csv',sep=',')\n",
    "submission_file['Sentiment']=classes_x_ANN\n",
    "submission_file.to_csv('Submission_ANN.csv',index=False)"
   ]
  },
  {
   "cell_type": "markdown",
   "id": "fd1436ed",
   "metadata": {
    "papermill": {
     "duration": 2.664297,
     "end_time": "2022-03-15T18:11:58.033188",
     "exception": false,
     "start_time": "2022-03-15T18:11:55.368891",
     "status": "completed"
    },
    "tags": []
   },
   "source": [
    "**3)CNN MODEL**"
   ]
  },
  {
   "cell_type": "code",
   "execution_count": 64,
   "id": "53d7b016",
   "metadata": {
    "execution": {
     "iopub.execute_input": "2022-03-15T18:12:02.985863Z",
     "iopub.status.busy": "2022-03-15T18:12:02.984899Z",
     "iopub.status.idle": "2022-03-15T18:12:03.048218Z",
     "shell.execute_reply": "2022-03-15T18:12:03.047336Z",
     "shell.execute_reply.started": "2022-03-15T17:09:20.223228Z"
    },
    "papermill": {
     "duration": 2.557454,
     "end_time": "2022-03-15T18:12:03.048343",
     "exception": false,
     "start_time": "2022-03-15T18:12:00.490889",
     "status": "completed"
    },
    "tags": []
   },
   "outputs": [],
   "source": [
    "import tensorflow as tf\n",
    "embedding_dimension = 100\n",
    "input_val = len(tokenize.word_index)+1\n",
    "model_CNN = tf.keras.Sequential([\n",
    "    tf.keras.layers.Embedding(input_val, embedding_dimension, input_length=max_sequence_len),\n",
    "    tf.keras.layers.Conv1D(128, 2, padding='same',activation='relu'),\n",
    "    tf.keras.layers.Dropout(0.2),\n",
    "    tf.keras.layers.Conv1D(64, 2, padding='same',activation='relu'),\n",
    "    tf.keras.layers.Dropout(0.2),\n",
    "    tf.keras.layers.MaxPooling1D(pool_size=2),\n",
    "    tf.keras.layers.Flatten(),\n",
    "    tf.keras.layers.Dense(256, activation='relu'),\n",
    "    tf.keras.layers.Dropout(0.3),\n",
    "    tf.keras.layers.Dense(128, activation='relu'),\n",
    "    tf.keras.layers.Dropout(0.3),\n",
    "    tf.keras.layers.Dense(5, activation='softmax')\n",
    "])"
   ]
  },
  {
   "cell_type": "code",
   "execution_count": 65,
   "id": "4c6b0d56",
   "metadata": {
    "execution": {
     "iopub.execute_input": "2022-03-15T18:12:08.305220Z",
     "iopub.status.busy": "2022-03-15T18:12:08.304305Z",
     "iopub.status.idle": "2022-03-15T18:12:08.310354Z",
     "shell.execute_reply": "2022-03-15T18:12:08.311051Z",
     "shell.execute_reply.started": "2022-03-15T17:09:20.232317Z"
    },
    "papermill": {
     "duration": 2.738929,
     "end_time": "2022-03-15T18:12:08.311243",
     "exception": false,
     "start_time": "2022-03-15T18:12:05.572314",
     "status": "completed"
    },
    "tags": []
   },
   "outputs": [
    {
     "name": "stdout",
     "output_type": "stream",
     "text": [
      "Model: \"sequential_2\"\n",
      "_________________________________________________________________\n",
      "Layer (type)                 Output Shape              Param #   \n",
      "=================================================================\n",
      "embedding_2 (Embedding)      (None, 30, 100)           1187800   \n",
      "_________________________________________________________________\n",
      "conv1d (Conv1D)              (None, 30, 128)           25728     \n",
      "_________________________________________________________________\n",
      "dropout_2 (Dropout)          (None, 30, 128)           0         \n",
      "_________________________________________________________________\n",
      "conv1d_1 (Conv1D)            (None, 30, 64)            16448     \n",
      "_________________________________________________________________\n",
      "dropout_3 (Dropout)          (None, 30, 64)            0         \n",
      "_________________________________________________________________\n",
      "max_pooling1d (MaxPooling1D) (None, 15, 64)            0         \n",
      "_________________________________________________________________\n",
      "flatten_1 (Flatten)          (None, 960)               0         \n",
      "_________________________________________________________________\n",
      "dense_5 (Dense)              (None, 256)               246016    \n",
      "_________________________________________________________________\n",
      "dropout_4 (Dropout)          (None, 256)               0         \n",
      "_________________________________________________________________\n",
      "dense_6 (Dense)              (None, 128)               32896     \n",
      "_________________________________________________________________\n",
      "dropout_5 (Dropout)          (None, 128)               0         \n",
      "_________________________________________________________________\n",
      "dense_7 (Dense)              (None, 5)                 645       \n",
      "=================================================================\n",
      "Total params: 1,509,533\n",
      "Trainable params: 1,509,533\n",
      "Non-trainable params: 0\n",
      "_________________________________________________________________\n"
     ]
    }
   ],
   "source": [
    "model_CNN.summary()"
   ]
  },
  {
   "cell_type": "code",
   "execution_count": 66,
   "id": "00fdd8a3",
   "metadata": {
    "execution": {
     "iopub.execute_input": "2022-03-15T18:12:13.238515Z",
     "iopub.status.busy": "2022-03-15T18:12:13.237891Z",
     "iopub.status.idle": "2022-03-15T18:12:13.244166Z",
     "shell.execute_reply": "2022-03-15T18:12:13.243702Z",
     "shell.execute_reply.started": "2022-03-15T17:09:20.238484Z"
    },
    "papermill": {
     "duration": 2.446772,
     "end_time": "2022-03-15T18:12:13.244286",
     "exception": false,
     "start_time": "2022-03-15T18:12:10.797514",
     "status": "completed"
    },
    "tags": []
   },
   "outputs": [],
   "source": [
    "model_CNN.compile(loss='sparse_categorical_crossentropy', optimizer='adam', metrics=['accuracy'])"
   ]
  },
  {
   "cell_type": "code",
   "execution_count": 67,
   "id": "73634e40",
   "metadata": {
    "execution": {
     "iopub.execute_input": "2022-03-15T18:12:18.355271Z",
     "iopub.status.busy": "2022-03-15T18:12:18.353935Z",
     "iopub.status.idle": "2022-03-15T18:14:14.107536Z",
     "shell.execute_reply": "2022-03-15T18:14:14.107073Z",
     "shell.execute_reply.started": "2022-03-15T17:09:20.245126Z"
    },
    "papermill": {
     "duration": 118.433868,
     "end_time": "2022-03-15T18:14:14.107659",
     "exception": false,
     "start_time": "2022-03-15T18:12:15.673791",
     "status": "completed"
    },
    "tags": []
   },
   "outputs": [
    {
     "name": "stdout",
     "output_type": "stream",
     "text": [
      "Epoch 1/50\n"
     ]
    },
    {
     "name": "stderr",
     "output_type": "stream",
     "text": [
      "2022-03-15 18:12:19.651311: I tensorflow/stream_executor/cuda/cuda_dnn.cc:369] Loaded cuDNN version 8005\n"
     ]
    },
    {
     "name": "stdout",
     "output_type": "stream",
     "text": [
      "305/305 [==============================] - 8s 7ms/step - loss: 1.1092 - accuracy: 0.5589\n",
      "Epoch 2/50\n",
      "305/305 [==============================] - 2s 7ms/step - loss: 0.8585 - accuracy: 0.6495\n",
      "Epoch 3/50\n",
      "305/305 [==============================] - 2s 7ms/step - loss: 0.7790 - accuracy: 0.6776\n",
      "Epoch 4/50\n",
      "305/305 [==============================] - 2s 7ms/step - loss: 0.7326 - accuracy: 0.6924\n",
      "Epoch 5/50\n",
      "305/305 [==============================] - 2s 7ms/step - loss: 0.6982 - accuracy: 0.7039\n",
      "Epoch 6/50\n",
      "305/305 [==============================] - 2s 7ms/step - loss: 0.6701 - accuracy: 0.7137\n",
      "Epoch 7/50\n",
      "305/305 [==============================] - 2s 7ms/step - loss: 0.6508 - accuracy: 0.7206\n",
      "Epoch 8/50\n",
      "305/305 [==============================] - 2s 7ms/step - loss: 0.6333 - accuracy: 0.7262\n",
      "Epoch 9/50\n",
      "305/305 [==============================] - 2s 7ms/step - loss: 0.6189 - accuracy: 0.7305\n",
      "Epoch 10/50\n",
      "305/305 [==============================] - 2s 7ms/step - loss: 0.6029 - accuracy: 0.7369\n",
      "Epoch 11/50\n",
      "305/305 [==============================] - 2s 7ms/step - loss: 0.5915 - accuracy: 0.7389\n",
      "Epoch 12/50\n",
      "305/305 [==============================] - 2s 8ms/step - loss: 0.5813 - accuracy: 0.7426\n",
      "Epoch 13/50\n",
      "305/305 [==============================] - 3s 10ms/step - loss: 0.5702 - accuracy: 0.7462\n",
      "Epoch 14/50\n",
      "305/305 [==============================] - 2s 8ms/step - loss: 0.5619 - accuracy: 0.7490\n",
      "Epoch 15/50\n",
      "305/305 [==============================] - 2s 7ms/step - loss: 0.5550 - accuracy: 0.7509\n",
      "Epoch 16/50\n",
      "305/305 [==============================] - 2s 7ms/step - loss: 0.5480 - accuracy: 0.7526\n",
      "Epoch 17/50\n",
      "305/305 [==============================] - 2s 7ms/step - loss: 0.5402 - accuracy: 0.7552\n",
      "Epoch 18/50\n",
      "305/305 [==============================] - 2s 7ms/step - loss: 0.5354 - accuracy: 0.7567\n",
      "Epoch 19/50\n",
      "305/305 [==============================] - 2s 7ms/step - loss: 0.5292 - accuracy: 0.7587\n",
      "Epoch 20/50\n",
      "305/305 [==============================] - 2s 7ms/step - loss: 0.5227 - accuracy: 0.7606\n",
      "Epoch 21/50\n",
      "305/305 [==============================] - 2s 7ms/step - loss: 0.5189 - accuracy: 0.7612\n",
      "Epoch 22/50\n",
      "305/305 [==============================] - 2s 7ms/step - loss: 0.5135 - accuracy: 0.7630\n",
      "Epoch 23/50\n",
      "305/305 [==============================] - 2s 7ms/step - loss: 0.5089 - accuracy: 0.7648\n",
      "Epoch 24/50\n",
      "305/305 [==============================] - 2s 7ms/step - loss: 0.5038 - accuracy: 0.7680\n",
      "Epoch 25/50\n",
      "305/305 [==============================] - 2s 7ms/step - loss: 0.5005 - accuracy: 0.7666\n",
      "Epoch 26/50\n",
      "305/305 [==============================] - 2s 7ms/step - loss: 0.4961 - accuracy: 0.7687\n",
      "Epoch 27/50\n",
      "305/305 [==============================] - 2s 7ms/step - loss: 0.4929 - accuracy: 0.7708\n",
      "Epoch 28/50\n",
      "305/305 [==============================] - 3s 9ms/step - loss: 0.4907 - accuracy: 0.7709\n",
      "Epoch 29/50\n",
      "305/305 [==============================] - 2s 8ms/step - loss: 0.4863 - accuracy: 0.7727\n",
      "Epoch 30/50\n",
      "305/305 [==============================] - 2s 8ms/step - loss: 0.4831 - accuracy: 0.7736\n",
      "Epoch 31/50\n",
      "305/305 [==============================] - 2s 7ms/step - loss: 0.4808 - accuracy: 0.7750\n",
      "Epoch 32/50\n",
      "305/305 [==============================] - 2s 7ms/step - loss: 0.4787 - accuracy: 0.7745\n",
      "Epoch 33/50\n",
      "305/305 [==============================] - 2s 7ms/step - loss: 0.4738 - accuracy: 0.7765\n",
      "Epoch 34/50\n",
      "305/305 [==============================] - 2s 7ms/step - loss: 0.4724 - accuracy: 0.7763\n",
      "Epoch 35/50\n",
      "305/305 [==============================] - 2s 7ms/step - loss: 0.4697 - accuracy: 0.7780\n",
      "Epoch 36/50\n",
      "305/305 [==============================] - 2s 7ms/step - loss: 0.4679 - accuracy: 0.7786\n",
      "Epoch 37/50\n",
      "305/305 [==============================] - 2s 7ms/step - loss: 0.4652 - accuracy: 0.7794\n",
      "Epoch 38/50\n",
      "305/305 [==============================] - 2s 7ms/step - loss: 0.4634 - accuracy: 0.7795\n",
      "Epoch 39/50\n",
      "305/305 [==============================] - 2s 7ms/step - loss: 0.4621 - accuracy: 0.7804\n",
      "Epoch 40/50\n",
      "305/305 [==============================] - 2s 7ms/step - loss: 0.4580 - accuracy: 0.7805\n",
      "Epoch 41/50\n",
      "305/305 [==============================] - 2s 7ms/step - loss: 0.4582 - accuracy: 0.7818\n",
      "Epoch 42/50\n",
      "305/305 [==============================] - 2s 7ms/step - loss: 0.4553 - accuracy: 0.7836\n",
      "Epoch 43/50\n",
      "305/305 [==============================] - 3s 8ms/step - loss: 0.4537 - accuracy: 0.7833\n",
      "Epoch 44/50\n",
      "305/305 [==============================] - 2s 7ms/step - loss: 0.4513 - accuracy: 0.7847\n",
      "Epoch 45/50\n",
      "305/305 [==============================] - 2s 8ms/step - loss: 0.4493 - accuracy: 0.7851\n",
      "Epoch 46/50\n",
      "305/305 [==============================] - 2s 8ms/step - loss: 0.4473 - accuracy: 0.7859\n",
      "Epoch 47/50\n",
      "305/305 [==============================] - 2s 8ms/step - loss: 0.4473 - accuracy: 0.7858\n",
      "Epoch 48/50\n",
      "305/305 [==============================] - 2s 7ms/step - loss: 0.4445 - accuracy: 0.7868\n",
      "Epoch 49/50\n",
      "305/305 [==============================] - 2s 7ms/step - loss: 0.4416 - accuracy: 0.7872\n",
      "Epoch 50/50\n",
      "305/305 [==============================] - 2s 7ms/step - loss: 0.4426 - accuracy: 0.7879\n"
     ]
    }
   ],
   "source": [
    "history_CNN=model_CNN.fit(X_train, y_train,batch_size=512, epochs=50, verbose=1,callbacks=callback)"
   ]
  },
  {
   "cell_type": "code",
   "execution_count": 68,
   "id": "0894e907",
   "metadata": {
    "execution": {
     "iopub.execute_input": "2022-03-15T18:14:20.713701Z",
     "iopub.status.busy": "2022-03-15T18:14:20.712737Z",
     "iopub.status.idle": "2022-03-15T18:14:20.768719Z",
     "shell.execute_reply": "2022-03-15T18:14:20.768258Z",
     "shell.execute_reply.started": "2022-03-15T17:09:20.253055Z"
    },
    "papermill": {
     "duration": 3.572438,
     "end_time": "2022-03-15T18:14:20.768871",
     "exception": false,
     "start_time": "2022-03-15T18:14:17.196433",
     "status": "completed"
    },
    "tags": []
   },
   "outputs": [],
   "source": [
    "model_CNN.save('CNN_Model.h5')"
   ]
  },
  {
   "cell_type": "code",
   "execution_count": 69,
   "id": "5d1b62df",
   "metadata": {
    "execution": {
     "iopub.execute_input": "2022-03-15T18:14:27.094692Z",
     "iopub.status.busy": "2022-03-15T18:14:27.078549Z",
     "iopub.status.idle": "2022-03-15T18:14:27.250048Z",
     "shell.execute_reply": "2022-03-15T18:14:27.250432Z",
     "shell.execute_reply.started": "2022-03-15T17:09:20.258448Z"
    },
    "papermill": {
     "duration": 3.311263,
     "end_time": "2022-03-15T18:14:27.250582",
     "exception": false,
     "start_time": "2022-03-15T18:14:23.939319",
     "status": "completed"
    },
    "tags": []
   },
   "outputs": [
    {
     "data": {
      "image/png": "[encoded data removed]",
      "text/plain": [
       "<Figure size 432x288 with 1 Axes>"
      ]
     },
     "metadata": {
      "needs_background": "light"
     },
     "output_type": "display_data"
    }
   ],
   "source": [
    "loss_train_CNN = history_CNN.history['loss']\n",
    "epochs = range(1,51)\n",
    "plt.plot(epochs, loss_train_CNN, 'g', label='Training loss')\n",
    "plt.title('Training loss')\n",
    "plt.xlabel('Epochs')\n",
    "plt.ylabel('Loss')\n",
    "plt.legend()\n",
    "plt.show()"
   ]
  },
  {
   "cell_type": "code",
   "execution_count": 70,
   "id": "2c4e2c3f",
   "metadata": {
    "execution": {
     "iopub.execute_input": "2022-03-15T18:14:34.259724Z",
     "iopub.status.busy": "2022-03-15T18:14:34.258827Z",
     "iopub.status.idle": "2022-03-15T18:14:34.423941Z",
     "shell.execute_reply": "2022-03-15T18:14:34.423383Z",
     "shell.execute_reply.started": "2022-03-15T17:09:20.265953Z"
    },
    "papermill": {
     "duration": 3.267188,
     "end_time": "2022-03-15T18:14:34.424061",
     "exception": false,
     "start_time": "2022-03-15T18:14:31.156873",
     "status": "completed"
    },
    "tags": []
   },
   "outputs": [
    {
     "data": {
      "image/png": "[encoded data removed]",
      "text/plain": [
       "<Figure size 432x288 with 1 Axes>"
      ]
     },
     "metadata": {
      "needs_background": "light"
     },
     "output_type": "display_data"
    }
   ],
   "source": [
    "accuracy_train_CNN = history_CNN.history['accuracy']\n",
    "epochs = range(1,51)\n",
    "plt.plot(epochs, accuracy_train_CNN, 'g', label='Training Accuracy')\n",
    "plt.title('Training Accuracy')\n",
    "plt.xlabel('Epochs')\n",
    "plt.ylabel('Accuracy')\n",
    "plt.legend()\n",
    "plt.show()"
   ]
  },
  {
   "cell_type": "code",
   "execution_count": 71,
   "id": "528a47f5",
   "metadata": {
    "execution": {
     "iopub.execute_input": "2022-03-15T18:14:40.632259Z",
     "iopub.status.busy": "2022-03-15T18:14:40.631246Z",
     "iopub.status.idle": "2022-03-15T18:14:43.261092Z",
     "shell.execute_reply": "2022-03-15T18:14:43.260559Z",
     "shell.execute_reply.started": "2022-03-15T17:09:20.273070Z"
    },
    "papermill": {
     "duration": 5.706985,
     "end_time": "2022-03-15T18:14:43.261234",
     "exception": false,
     "start_time": "2022-03-15T18:14:37.554249",
     "status": "completed"
    },
    "tags": []
   },
   "outputs": [],
   "source": [
    "predict_x_CNN=model_CNN.predict(X_test) \n",
    "classes_x_CNN=np.argmax(predict_x_CNN,axis=1)"
   ]
  },
  {
   "cell_type": "code",
   "execution_count": 72,
   "id": "d3ba6ceb",
   "metadata": {
    "execution": {
     "iopub.execute_input": "2022-03-15T18:14:49.611910Z",
     "iopub.status.busy": "2022-03-15T18:14:49.610938Z",
     "iopub.status.idle": "2022-03-15T18:14:51.306590Z",
     "shell.execute_reply": "2022-03-15T18:14:51.306165Z",
     "shell.execute_reply.started": "2022-03-15T17:09:20.280832Z"
    },
    "papermill": {
     "duration": 4.857836,
     "end_time": "2022-03-15T18:14:51.306710",
     "exception": false,
     "start_time": "2022-03-15T18:14:46.448874",
     "status": "completed"
    },
    "tags": []
   },
   "outputs": [
    {
     "data": {
      "text/plain": [
       "array([0, 1, 2, 3, 4])"
      ]
     },
     "execution_count": 72,
     "metadata": {},
     "output_type": "execute_result"
    }
   ],
   "source": [
    "cp.unique(classes_x_CNN)"
   ]
  },
  {
   "cell_type": "code",
   "execution_count": 73,
   "id": "4049c244",
   "metadata": {
    "execution": {
     "iopub.execute_input": "2022-03-15T18:14:57.799199Z",
     "iopub.status.busy": "2022-03-15T18:14:57.798360Z",
     "iopub.status.idle": "2022-03-15T18:14:57.801072Z",
     "shell.execute_reply": "2022-03-15T18:14:57.801471Z",
     "shell.execute_reply.started": "2022-03-15T17:09:20.291069Z"
    },
    "papermill": {
     "duration": 3.182104,
     "end_time": "2022-03-15T18:14:57.801601",
     "exception": false,
     "start_time": "2022-03-15T18:14:54.619497",
     "status": "completed"
    },
    "tags": []
   },
   "outputs": [
    {
     "data": {
      "text/plain": [
       "array([2, 2, 2, ..., 1, 1, 1])"
      ]
     },
     "execution_count": 73,
     "metadata": {},
     "output_type": "execute_result"
    }
   ],
   "source": [
    "classes_x_CNN"
   ]
  },
  {
   "cell_type": "code",
   "execution_count": 74,
   "id": "9e5bb84c",
   "metadata": {
    "execution": {
     "iopub.execute_input": "2022-03-15T18:15:04.822089Z",
     "iopub.status.busy": "2022-03-15T18:15:04.821298Z",
     "iopub.status.idle": "2022-03-15T18:15:04.832629Z",
     "shell.execute_reply": "2022-03-15T18:15:04.832164Z",
     "shell.execute_reply.started": "2022-03-15T17:09:20.296779Z"
    },
    "papermill": {
     "duration": 3.464178,
     "end_time": "2022-03-15T18:15:04.832746",
     "exception": false,
     "start_time": "2022-03-15T18:15:01.368568",
     "status": "completed"
    },
    "tags": []
   },
   "outputs": [],
   "source": [
    "submission_file =pd.read_csv('/kaggle/input/sentiment-analysis-on-movie-reviews/sampleSubmission.csv',sep=',')\n",
    "submission_file['Sentiment']=classes_x_CNN\n",
    "submission_file.to_csv('Submission_CNN.csv',index=False)"
   ]
  },
  {
   "cell_type": "markdown",
   "id": "da811e0c",
   "metadata": {
    "papermill": {
     "duration": 3.102238,
     "end_time": "2022-03-15T18:15:11.086349",
     "exception": false,
     "start_time": "2022-03-15T18:15:07.984111",
     "status": "completed"
    },
    "tags": []
   },
   "source": [
    "**4)BI-LSTM MODEL**"
   ]
  },
  {
   "cell_type": "code",
   "execution_count": 75,
   "id": "18a90c04",
   "metadata": {
    "execution": {
     "iopub.execute_input": "2022-03-15T18:15:17.596722Z",
     "iopub.status.busy": "2022-03-15T18:15:17.588850Z",
     "iopub.status.idle": "2022-03-15T18:15:18.681298Z",
     "shell.execute_reply": "2022-03-15T18:15:18.680413Z",
     "shell.execute_reply.started": "2022-03-15T17:09:20.304133Z"
    },
    "papermill": {
     "duration": 4.234338,
     "end_time": "2022-03-15T18:15:18.681440",
     "exception": false,
     "start_time": "2022-03-15T18:15:14.447102",
     "status": "completed"
    },
    "tags": []
   },
   "outputs": [],
   "source": [
    "import tensorflow as tf\n",
    "embedding_dimension = 100\n",
    "input_val = len(tokenize.word_index)+1\n",
    "model_biLSTM = tf.keras.Sequential([\n",
    "    tf.keras.layers.Embedding(input_val, embedding_dimension, input_length=max_sequence_len),\n",
    "     tf.keras.layers.Bidirectional(tf.keras.layers.LSTM(64, return_sequences=True)),\n",
    "    tf.keras.layers.Bidirectional(tf.keras.layers.LSTM(64, return_sequences=True)),\n",
    "    tf.keras.layers.Bidirectional(tf.keras.layers.LSTM(64)),\n",
    "    tf.keras.layers.Dropout(0.5),\n",
    "    tf.keras.layers.Dense(256, activation='relu'),\n",
    "    tf.keras.layers.Dropout(0.5),\n",
    "    tf.keras.layers.Dense(5, activation='softmax')\n",
    "])"
   ]
  },
  {
   "cell_type": "code",
   "execution_count": 76,
   "id": "56721d36",
   "metadata": {
    "execution": {
     "iopub.execute_input": "2022-03-15T18:15:25.106367Z",
     "iopub.status.busy": "2022-03-15T18:15:25.105502Z",
     "iopub.status.idle": "2022-03-15T18:15:25.112954Z",
     "shell.execute_reply": "2022-03-15T18:15:25.113634Z",
     "shell.execute_reply.started": "2022-03-15T17:09:20.312979Z"
    },
    "papermill": {
     "duration": 3.297971,
     "end_time": "2022-03-15T18:15:25.113844",
     "exception": false,
     "start_time": "2022-03-15T18:15:21.815873",
     "status": "completed"
    },
    "tags": []
   },
   "outputs": [
    {
     "name": "stdout",
     "output_type": "stream",
     "text": [
      "Model: \"sequential_3\"\n",
      "_________________________________________________________________\n",
      "Layer (type)                 Output Shape              Param #   \n",
      "=================================================================\n",
      "embedding_3 (Embedding)      (None, 30, 100)           1187800   \n",
      "_________________________________________________________________\n",
      "bidirectional (Bidirectional (None, 30, 128)           84480     \n",
      "_________________________________________________________________\n",
      "bidirectional_1 (Bidirection (None, 30, 128)           98816     \n",
      "_________________________________________________________________\n",
      "bidirectional_2 (Bidirection (None, 128)               98816     \n",
      "_________________________________________________________________\n",
      "dropout_6 (Dropout)          (None, 128)               0         \n",
      "_________________________________________________________________\n",
      "dense_8 (Dense)              (None, 256)               33024     \n",
      "_________________________________________________________________\n",
      "dropout_7 (Dropout)          (None, 256)               0         \n",
      "_________________________________________________________________\n",
      "dense_9 (Dense)              (None, 5)                 1285      \n",
      "=================================================================\n",
      "Total params: 1,504,221\n",
      "Trainable params: 1,504,221\n",
      "Non-trainable params: 0\n",
      "_________________________________________________________________\n"
     ]
    }
   ],
   "source": [
    "model_biLSTM.summary()"
   ]
  },
  {
   "cell_type": "code",
   "execution_count": 77,
   "id": "1b06596f",
   "metadata": {
    "execution": {
     "iopub.execute_input": "2022-03-15T18:15:31.567081Z",
     "iopub.status.busy": "2022-03-15T18:15:31.566444Z",
     "iopub.status.idle": "2022-03-15T18:15:31.572965Z",
     "shell.execute_reply": "2022-03-15T18:15:31.572441Z",
     "shell.execute_reply.started": "2022-03-15T17:09:20.321713Z"
    },
    "papermill": {
     "duration": 3.118097,
     "end_time": "2022-03-15T18:15:31.573095",
     "exception": false,
     "start_time": "2022-03-15T18:15:28.454998",
     "status": "completed"
    },
    "tags": []
   },
   "outputs": [],
   "source": [
    "model_biLSTM.compile(loss='sparse_categorical_crossentropy', optimizer='adam', metrics=['accuracy'])"
   ]
  },
  {
   "cell_type": "code",
   "execution_count": 78,
   "id": "cc8edaee",
   "metadata": {
    "execution": {
     "iopub.execute_input": "2022-03-15T18:15:38.966161Z",
     "iopub.status.busy": "2022-03-15T18:15:38.965247Z",
     "iopub.status.idle": "2022-03-15T18:21:24.436109Z",
     "shell.execute_reply": "2022-03-15T18:21:24.436523Z",
     "shell.execute_reply.started": "2022-03-15T17:09:20.327244Z"
    },
    "papermill": {
     "duration": 349.048997,
     "end_time": "2022-03-15T18:21:24.436672",
     "exception": false,
     "start_time": "2022-03-15T18:15:35.387675",
     "status": "completed"
    },
    "tags": []
   },
   "outputs": [
    {
     "name": "stdout",
     "output_type": "stream",
     "text": [
      "Epoch 1/30\n",
      "610/610 [==============================] - 18s 18ms/step - loss: 1.0680 - accuracy: 0.5751\n",
      "Epoch 2/30\n",
      "610/610 [==============================] - 11s 18ms/step - loss: 0.8479 - accuracy: 0.6543\n",
      "Epoch 3/30\n",
      "610/610 [==============================] - 12s 20ms/step - loss: 0.7848 - accuracy: 0.6756\n",
      "Epoch 4/30\n",
      "610/610 [==============================] - 11s 18ms/step - loss: 0.7440 - accuracy: 0.6892\n",
      "Epoch 5/30\n",
      "610/610 [==============================] - 11s 19ms/step - loss: 0.7108 - accuracy: 0.6991\n",
      "Epoch 6/30\n",
      "610/610 [==============================] - 12s 19ms/step - loss: 0.6864 - accuracy: 0.7074\n",
      "Epoch 7/30\n",
      "610/610 [==============================] - 11s 18ms/step - loss: 0.6630 - accuracy: 0.7145\n",
      "Epoch 8/30\n",
      "610/610 [==============================] - 11s 18ms/step - loss: 0.6430 - accuracy: 0.7203\n",
      "Epoch 9/30\n",
      "610/610 [==============================] - 12s 19ms/step - loss: 0.6250 - accuracy: 0.7273\n",
      "Epoch 10/30\n",
      "610/610 [==============================] - 11s 19ms/step - loss: 0.6082 - accuracy: 0.7307\n",
      "Epoch 11/30\n",
      "610/610 [==============================] - 11s 18ms/step - loss: 0.5918 - accuracy: 0.7347\n",
      "Epoch 12/30\n",
      "610/610 [==============================] - 11s 18ms/step - loss: 0.5783 - accuracy: 0.7401\n",
      "Epoch 13/30\n",
      "610/610 [==============================] - 12s 19ms/step - loss: 0.5657 - accuracy: 0.7432\n",
      "Epoch 14/30\n",
      "610/610 [==============================] - 11s 18ms/step - loss: 0.5517 - accuracy: 0.7466\n",
      "Epoch 15/30\n",
      "610/610 [==============================] - 11s 18ms/step - loss: 0.5385 - accuracy: 0.7504\n",
      "Epoch 16/30\n",
      "610/610 [==============================] - 12s 20ms/step - loss: 0.5286 - accuracy: 0.7532\n",
      "Epoch 17/30\n",
      "610/610 [==============================] - 11s 18ms/step - loss: 0.5173 - accuracy: 0.7561\n",
      "Epoch 18/30\n",
      "610/610 [==============================] - 11s 18ms/step - loss: 0.5067 - accuracy: 0.7577\n",
      "Epoch 19/30\n",
      "610/610 [==============================] - 11s 18ms/step - loss: 0.4974 - accuracy: 0.7612\n",
      "Epoch 20/30\n",
      "610/610 [==============================] - 11s 18ms/step - loss: 0.4893 - accuracy: 0.7628\n",
      "Epoch 21/30\n",
      "610/610 [==============================] - 11s 18ms/step - loss: 0.4812 - accuracy: 0.7655\n",
      "Epoch 22/30\n",
      "610/610 [==============================] - 13s 21ms/step - loss: 0.4732 - accuracy: 0.7672\n",
      "Epoch 23/30\n",
      "610/610 [==============================] - 11s 18ms/step - loss: 0.4683 - accuracy: 0.7683\n",
      "Epoch 24/30\n",
      "610/610 [==============================] - 11s 18ms/step - loss: 0.4579 - accuracy: 0.7710\n",
      "Epoch 25/30\n",
      "610/610 [==============================] - 11s 18ms/step - loss: 0.4515 - accuracy: 0.7728\n",
      "Epoch 26/30\n",
      "610/610 [==============================] - 11s 18ms/step - loss: 0.4468 - accuracy: 0.7742\n",
      "Epoch 27/30\n",
      "610/610 [==============================] - 11s 18ms/step - loss: 0.4402 - accuracy: 0.7752\n",
      "Epoch 28/30\n",
      "610/610 [==============================] - 12s 20ms/step - loss: 0.4346 - accuracy: 0.7782\n",
      "Epoch 29/30\n",
      "610/610 [==============================] - 11s 19ms/step - loss: 0.4299 - accuracy: 0.7801\n",
      "Epoch 30/30\n",
      "610/610 [==============================] - 11s 18ms/step - loss: 0.4260 - accuracy: 0.7810\n"
     ]
    }
   ],
   "source": [
    "history_biLSTM=model_biLSTM.fit(X_train, y_train,batch_size=256, epochs=30, verbose=1,callbacks=callback)"
   ]
  },
  {
   "cell_type": "code",
   "execution_count": 79,
   "id": "2474a19a",
   "metadata": {
    "execution": {
     "iopub.execute_input": "2022-03-15T18:21:35.382074Z",
     "iopub.status.busy": "2022-03-15T18:21:35.381079Z",
     "iopub.status.idle": "2022-03-15T18:21:35.461426Z",
     "shell.execute_reply": "2022-03-15T18:21:35.460484Z",
     "shell.execute_reply.started": "2022-03-15T17:09:20.333548Z"
    },
    "papermill": {
     "duration": 5.096755,
     "end_time": "2022-03-15T18:21:35.461552",
     "exception": false,
     "start_time": "2022-03-15T18:21:30.364797",
     "status": "completed"
    },
    "tags": []
   },
   "outputs": [],
   "source": [
    "model_biLSTM.save('biLSTM_Model.h5')"
   ]
  },
  {
   "cell_type": "code",
   "execution_count": 80,
   "id": "436bd4b0",
   "metadata": {
    "execution": {
     "iopub.execute_input": "2022-03-15T18:21:45.932420Z",
     "iopub.status.busy": "2022-03-15T18:21:45.931338Z",
     "iopub.status.idle": "2022-03-15T18:21:46.117239Z",
     "shell.execute_reply": "2022-03-15T18:21:46.116825Z",
     "shell.execute_reply.started": "2022-03-15T17:09:20.340215Z"
    },
    "papermill": {
     "duration": 5.35703,
     "end_time": "2022-03-15T18:21:46.117354",
     "exception": false,
     "start_time": "2022-03-15T18:21:40.760324",
     "status": "completed"
    },
    "tags": []
   },
   "outputs": [
    {
     "data": {
      "image/png": "[encoded data removed]",
      "text/plain": [
       "<Figure size 432x288 with 1 Axes>"
      ]
     },
     "metadata": {
      "needs_background": "light"
     },
     "output_type": "display_data"
    }
   ],
   "source": [
    "loss_train_biLSTM = history_biLSTM.history['loss']\n",
    "epochs = range(1,31)\n",
    "plt.plot(epochs, loss_train_biLSTM, 'g', label='Training loss')\n",
    "plt.title('Training loss')\n",
    "plt.xlabel('Epochs')\n",
    "plt.ylabel('Loss')\n",
    "plt.legend()\n",
    "plt.show()"
   ]
  },
  {
   "cell_type": "code",
   "execution_count": 81,
   "id": "7ea966d5",
   "metadata": {
    "execution": {
     "iopub.execute_input": "2022-03-15T18:21:56.719721Z",
     "iopub.status.busy": "2022-03-15T18:21:56.717097Z",
     "iopub.status.idle": "2022-03-15T18:21:56.879119Z",
     "shell.execute_reply": "2022-03-15T18:21:56.878344Z",
     "shell.execute_reply.started": "2022-03-15T17:09:20.346687Z"
    },
    "papermill": {
     "duration": 5.314626,
     "end_time": "2022-03-15T18:21:56.879245",
     "exception": false,
     "start_time": "2022-03-15T18:21:51.564619",
     "status": "completed"
    },
    "tags": []
   },
   "outputs": [
    {
     "data": {
      "image/png": "[encoded data removed]",
      "text/plain": [
       "<Figure size 432x288 with 1 Axes>"
      ]
     },
     "metadata": {
      "needs_background": "light"
     },
     "output_type": "display_data"
    }
   ],
   "source": [
    "accuracy_train_biLSTM = history_biLSTM.history['accuracy']\n",
    "epochs = range(1,31)\n",
    "plt.plot(epochs, accuracy_train_biLSTM, 'g', label='Training Accuracy')\n",
    "plt.title('Training Accuracy')\n",
    "plt.xlabel('Epochs')\n",
    "plt.ylabel('Accuracy')\n",
    "plt.legend()\n",
    "plt.show()"
   ]
  },
  {
   "cell_type": "code",
   "execution_count": 82,
   "id": "f37b394a",
   "metadata": {
    "execution": {
     "iopub.execute_input": "2022-03-15T18:22:07.744309Z",
     "iopub.status.busy": "2022-03-15T18:22:07.743263Z",
     "iopub.status.idle": "2022-03-15T18:22:29.544589Z",
     "shell.execute_reply": "2022-03-15T18:22:29.545080Z",
     "shell.execute_reply.started": "2022-03-15T17:09:20.361933Z"
    },
    "papermill": {
     "duration": 26.804529,
     "end_time": "2022-03-15T18:22:29.545253",
     "exception": false,
     "start_time": "2022-03-15T18:22:02.740724",
     "status": "completed"
    },
    "tags": []
   },
   "outputs": [],
   "source": [
    "predict_x_biLSTM=model_biLSTM.predict(X_test) \n",
    "classes_x_biLSTM=np.argmax(predict_x_biLSTM,axis=1)"
   ]
  },
  {
   "cell_type": "code",
   "execution_count": 83,
   "id": "bf05cc0c",
   "metadata": {
    "execution": {
     "iopub.execute_input": "2022-03-15T18:22:40.393231Z",
     "iopub.status.busy": "2022-03-15T18:22:40.392497Z",
     "iopub.status.idle": "2022-03-15T18:22:40.395285Z",
     "shell.execute_reply": "2022-03-15T18:22:40.393803Z",
     "shell.execute_reply.started": "2022-03-15T17:09:20.367380Z"
    },
    "papermill": {
     "duration": 5.051829,
     "end_time": "2022-03-15T18:22:40.395395",
     "exception": false,
     "start_time": "2022-03-15T18:22:35.343566",
     "status": "completed"
    },
    "tags": []
   },
   "outputs": [
    {
     "data": {
      "text/plain": [
       "array([3, 3, 2, ..., 1, 1, 1])"
      ]
     },
     "execution_count": 83,
     "metadata": {},
     "output_type": "execute_result"
    }
   ],
   "source": [
    "classes_x_biLSTM"
   ]
  },
  {
   "cell_type": "code",
   "execution_count": 84,
   "id": "92fb6d8d",
   "metadata": {
    "execution": {
     "iopub.execute_input": "2022-03-15T18:22:50.760886Z",
     "iopub.status.busy": "2022-03-15T18:22:50.760271Z",
     "iopub.status.idle": "2022-03-15T18:22:50.777385Z",
     "shell.execute_reply": "2022-03-15T18:22:50.776873Z",
     "shell.execute_reply.started": "2022-03-15T17:09:20.374079Z"
    },
    "papermill": {
     "duration": 5.100542,
     "end_time": "2022-03-15T18:22:50.777999",
     "exception": false,
     "start_time": "2022-03-15T18:22:45.677457",
     "status": "completed"
    },
    "tags": []
   },
   "outputs": [],
   "source": [
    "submission_file =pd.read_csv('/kaggle/input/sentiment-analysis-on-movie-reviews/sampleSubmission.csv',sep=',')\n",
    "submission_file['Sentiment']=classes_x_biLSTM\n",
    "submission_file.to_csv('Submission_biLSTM.csv',index=False)"
   ]
  },
  {
   "cell_type": "markdown",
   "id": "376ba805",
   "metadata": {
    "papermill": {
     "duration": 5.235893,
     "end_time": "2022-03-15T18:23:01.306804",
     "exception": false,
     "start_time": "2022-03-15T18:22:56.070911",
     "status": "completed"
    },
    "tags": []
   },
   "source": [
    "# MACHINE LEARNING MODELS-CUML"
   ]
  },
  {
   "cell_type": "markdown",
   "id": "64a5ceba",
   "metadata": {
    "papermill": {
     "duration": 5.355208,
     "end_time": "2022-03-15T18:23:12.321646",
     "exception": false,
     "start_time": "2022-03-15T18:23:06.966438",
     "status": "completed"
    },
    "tags": []
   },
   "source": [
    "**1) Logistic Regression**"
   ]
  },
  {
   "cell_type": "code",
   "execution_count": 85,
   "id": "103eff1d",
   "metadata": {
    "execution": {
     "iopub.execute_input": "2022-03-15T18:23:22.729205Z",
     "iopub.status.busy": "2022-03-15T18:23:22.728353Z",
     "iopub.status.idle": "2022-03-15T18:23:22.730949Z",
     "shell.execute_reply": "2022-03-15T18:23:22.730486Z",
     "shell.execute_reply.started": "2022-03-15T17:09:20.383866Z"
    },
    "papermill": {
     "duration": 5.403958,
     "end_time": "2022-03-15T18:23:22.731071",
     "exception": false,
     "start_time": "2022-03-15T18:23:17.327113",
     "status": "completed"
    },
    "tags": []
   },
   "outputs": [],
   "source": [
    "#Calling the model\n",
    "log_reg = OneVsRestClassifier(LogisticRegression())"
   ]
  },
  {
   "cell_type": "code",
   "execution_count": 86,
   "id": "fb825a99",
   "metadata": {
    "execution": {
     "iopub.execute_input": "2022-03-15T18:23:33.128761Z",
     "iopub.status.busy": "2022-03-15T18:23:33.127517Z",
     "iopub.status.idle": "2022-03-15T18:23:38.600347Z",
     "shell.execute_reply": "2022-03-15T18:23:38.600909Z",
     "shell.execute_reply.started": "2022-03-15T17:09:20.389526Z"
    },
    "papermill": {
     "duration": 10.717432,
     "end_time": "2022-03-15T18:23:38.601105",
     "exception": false,
     "start_time": "2022-03-15T18:23:27.883673",
     "status": "completed"
    },
    "tags": []
   },
   "outputs": [
    {
     "name": "stdout",
     "output_type": "stream",
     "text": [
      "[W] [18:23:36.023967] L-BFGS: max iterations reached\n",
      "[W] [18:23:36.024302] Maximum iterations reached before solver is converged. To increase model accuracy you can increase the number of iterations (max_iter) or improve the scaling of the input data.\n",
      "[W] [18:23:36.827803] L-BFGS: max iterations reached\n",
      "[W] [18:23:36.831071] Maximum iterations reached before solver is converged. To increase model accuracy you can increase the number of iterations (max_iter) or improve the scaling of the input data.\n",
      "[W] [18:23:36.987540] L-BFGS stopped, because the line search failed to advance (step delta = 0.000000)\n",
      "[W] [18:23:37.858220] L-BFGS: max iterations reached\n",
      "[W] [18:23:37.858902] Maximum iterations reached before solver is converged. To increase model accuracy you can increase the number of iterations (max_iter) or improve the scaling of the input data.\n",
      "[W] [18:23:38.589614] L-BFGS: max iterations reached\n",
      "[W] [18:23:38.590269] Maximum iterations reached before solver is converged. To increase model accuracy you can increase the number of iterations (max_iter) or improve the scaling of the input data.\n"
     ]
    },
    {
     "data": {
      "text/plain": [
       "OneVsRestClassifier()"
      ]
     },
     "execution_count": 86,
     "metadata": {},
     "output_type": "execute_result"
    }
   ],
   "source": [
    "#Fitting the model\n",
    "log_reg.fit(X_train.astype('float32'),y_train.astype('float32'))"
   ]
  },
  {
   "cell_type": "code",
   "execution_count": 87,
   "id": "4a911eba",
   "metadata": {
    "execution": {
     "iopub.execute_input": "2022-03-15T18:23:49.095177Z",
     "iopub.status.busy": "2022-03-15T18:23:49.094041Z",
     "iopub.status.idle": "2022-03-15T18:23:49.118548Z",
     "shell.execute_reply": "2022-03-15T18:23:49.118095Z",
     "shell.execute_reply.started": "2022-03-15T17:09:20.396899Z"
    },
    "papermill": {
     "duration": 5.212612,
     "end_time": "2022-03-15T18:23:49.118675",
     "exception": false,
     "start_time": "2022-03-15T18:23:43.906063",
     "status": "completed"
    },
    "tags": []
   },
   "outputs": [],
   "source": [
    "#Making Predictions\n",
    "y_pred_log_reg = log_reg.predict(X_test.astype('float32'))"
   ]
  },
  {
   "cell_type": "code",
   "execution_count": 88,
   "id": "a41dd3f6",
   "metadata": {
    "execution": {
     "iopub.execute_input": "2022-03-15T18:23:59.783793Z",
     "iopub.status.busy": "2022-03-15T18:23:59.782366Z",
     "iopub.status.idle": "2022-03-15T18:23:59.784494Z",
     "shell.execute_reply": "2022-03-15T18:23:59.785009Z",
     "shell.execute_reply.started": "2022-03-15T17:09:20.404218Z"
    },
    "papermill": {
     "duration": 5.023559,
     "end_time": "2022-03-15T18:23:59.785165",
     "exception": false,
     "start_time": "2022-03-15T18:23:54.761606",
     "status": "completed"
    },
    "tags": []
   },
   "outputs": [],
   "source": [
    "y_pred_log_reg=y_pred_log_reg.astype('int32')"
   ]
  },
  {
   "cell_type": "code",
   "execution_count": 89,
   "id": "7d2925b1",
   "metadata": {
    "execution": {
     "iopub.execute_input": "2022-03-15T18:24:10.574634Z",
     "iopub.status.busy": "2022-03-15T18:24:10.573968Z",
     "iopub.status.idle": "2022-03-15T18:24:10.576814Z",
     "shell.execute_reply": "2022-03-15T18:24:10.577387Z",
     "shell.execute_reply.started": "2022-03-15T17:09:20.411037Z"
    },
    "papermill": {
     "duration": 5.463188,
     "end_time": "2022-03-15T18:24:10.577537",
     "exception": false,
     "start_time": "2022-03-15T18:24:05.114349",
     "status": "completed"
    },
    "tags": []
   },
   "outputs": [
    {
     "data": {
      "text/plain": [
       "array([2, 2, 2, ..., 2, 2, 2], dtype=int32)"
      ]
     },
     "execution_count": 89,
     "metadata": {},
     "output_type": "execute_result"
    }
   ],
   "source": [
    "y_pred_log_reg"
   ]
  },
  {
   "cell_type": "code",
   "execution_count": 90,
   "id": "c55584f4",
   "metadata": {
    "execution": {
     "iopub.execute_input": "2022-03-15T18:24:21.272696Z",
     "iopub.status.busy": "2022-03-15T18:24:21.271751Z",
     "iopub.status.idle": "2022-03-15T18:24:21.777562Z",
     "shell.execute_reply": "2022-03-15T18:24:21.778062Z",
     "shell.execute_reply.started": "2022-03-15T17:09:20.418761Z"
    },
    "papermill": {
     "duration": 5.76031,
     "end_time": "2022-03-15T18:24:21.778222",
     "exception": false,
     "start_time": "2022-03-15T18:24:16.017912",
     "status": "completed"
    },
    "tags": []
   },
   "outputs": [
    {
     "data": {
      "text/plain": [
       "array([0, 1, 2, 3, 4], dtype=int32)"
      ]
     },
     "execution_count": 90,
     "metadata": {},
     "output_type": "execute_result"
    }
   ],
   "source": [
    "cp.unique(y_pred_log_reg)"
   ]
  },
  {
   "cell_type": "code",
   "execution_count": 91,
   "id": "15c2d491",
   "metadata": {
    "execution": {
     "iopub.execute_input": "2022-03-15T18:24:32.450077Z",
     "iopub.status.busy": "2022-03-15T18:24:32.449109Z",
     "iopub.status.idle": "2022-03-15T18:24:32.456891Z",
     "shell.execute_reply": "2022-03-15T18:24:32.456448Z",
     "shell.execute_reply.started": "2022-03-15T17:09:20.425281Z"
    },
    "papermill": {
     "duration": 5.111622,
     "end_time": "2022-03-15T18:24:32.457027",
     "exception": false,
     "start_time": "2022-03-15T18:24:27.345405",
     "status": "completed"
    },
    "tags": []
   },
   "outputs": [],
   "source": [
    "#Accurcy score\n",
    "cu_score_log_reg = cuml.metrics.accuracy_score(y_train, y_pred_log_reg )"
   ]
  },
  {
   "cell_type": "code",
   "execution_count": 92,
   "id": "40ed2086",
   "metadata": {
    "execution": {
     "iopub.execute_input": "2022-03-15T18:24:43.338461Z",
     "iopub.status.busy": "2022-03-15T18:24:43.337679Z",
     "iopub.status.idle": "2022-03-15T18:24:43.340649Z",
     "shell.execute_reply": "2022-03-15T18:24:43.341086Z",
     "shell.execute_reply.started": "2022-03-15T17:09:20.432298Z"
    },
    "papermill": {
     "duration": 5.5111,
     "end_time": "2022-03-15T18:24:43.341220",
     "exception": false,
     "start_time": "2022-03-15T18:24:37.830120",
     "status": "completed"
    },
    "tags": []
   },
   "outputs": [
    {
     "data": {
      "text/plain": [
       "0.5115096569061279"
      ]
     },
     "execution_count": 92,
     "metadata": {},
     "output_type": "execute_result"
    }
   ],
   "source": [
    "cu_score_log_reg"
   ]
  },
  {
   "cell_type": "code",
   "execution_count": 93,
   "id": "bd43a751",
   "metadata": {
    "execution": {
     "iopub.execute_input": "2022-03-15T18:24:53.801041Z",
     "iopub.status.busy": "2022-03-15T18:24:53.800416Z",
     "iopub.status.idle": "2022-03-15T18:24:53.810050Z",
     "shell.execute_reply": "2022-03-15T18:24:53.809556Z",
     "shell.execute_reply.started": "2022-03-15T17:09:20.438937Z"
    },
    "papermill": {
     "duration": 5.153753,
     "end_time": "2022-03-15T18:24:53.810174",
     "exception": false,
     "start_time": "2022-03-15T18:24:48.656421",
     "status": "completed"
    },
    "tags": []
   },
   "outputs": [],
   "source": [
    "#Creating a submission\n",
    "submission_file =pd.read_csv('/kaggle/input/sentiment-analysis-on-movie-reviews/sampleSubmission.csv',sep=',')\n",
    "submission_file['Sentiment']=y_pred_log_reg\n",
    "submission_file.to_csv('Submission_LogisticRegression.csv',index=False)"
   ]
  },
  {
   "cell_type": "markdown",
   "id": "6959d98c",
   "metadata": {
    "papermill": {
     "duration": 5.070542,
     "end_time": "2022-03-15T18:25:04.202612",
     "exception": false,
     "start_time": "2022-03-15T18:24:59.132070",
     "status": "completed"
    },
    "tags": []
   },
   "source": [
    "**2)Random Forest**"
   ]
  },
  {
   "cell_type": "code",
   "execution_count": 94,
   "id": "1ae74e1f",
   "metadata": {
    "execution": {
     "iopub.execute_input": "2022-03-15T18:25:15.081999Z",
     "iopub.status.busy": "2022-03-15T18:25:15.081200Z",
     "iopub.status.idle": "2022-03-15T18:25:15.083719Z",
     "shell.execute_reply": "2022-03-15T18:25:15.083269Z",
     "shell.execute_reply.started": "2022-03-15T17:09:20.446003Z"
    },
    "papermill": {
     "duration": 5.604002,
     "end_time": "2022-03-15T18:25:15.083857",
     "exception": false,
     "start_time": "2022-03-15T18:25:09.479855",
     "status": "completed"
    },
    "tags": []
   },
   "outputs": [],
   "source": [
    "cuml_model = cuRFC(max_features=1.0,\n",
    "                   n_bins=8,\n",
    "                   n_estimators=40)"
   ]
  },
  {
   "cell_type": "code",
   "execution_count": 95,
   "id": "31d9fcdc",
   "metadata": {
    "execution": {
     "iopub.execute_input": "2022-03-15T18:25:25.602194Z",
     "iopub.status.busy": "2022-03-15T18:25:25.600845Z",
     "iopub.status.idle": "2022-03-15T18:25:26.787413Z",
     "shell.execute_reply": "2022-03-15T18:25:26.788203Z",
     "shell.execute_reply.started": "2022-03-15T17:09:20.453888Z"
    },
    "papermill": {
     "duration": 6.394973,
     "end_time": "2022-03-15T18:25:26.788376",
     "exception": false,
     "start_time": "2022-03-15T18:25:20.393403",
     "status": "completed"
    },
    "tags": []
   },
   "outputs": [
    {
     "data": {
      "text/plain": [
       "RandomForestClassifier()"
      ]
     },
     "execution_count": 95,
     "metadata": {},
     "output_type": "execute_result"
    }
   ],
   "source": [
    "cuml_model.fit(X_train.astype('float32'),y_train.astype('float32'))"
   ]
  },
  {
   "cell_type": "code",
   "execution_count": 96,
   "id": "19940cca",
   "metadata": {
    "execution": {
     "iopub.execute_input": "2022-03-15T18:25:37.092589Z",
     "iopub.status.busy": "2022-03-15T18:25:37.091573Z",
     "iopub.status.idle": "2022-03-15T18:25:37.328849Z",
     "shell.execute_reply": "2022-03-15T18:25:37.329611Z",
     "shell.execute_reply.started": "2022-03-15T17:09:20.460457Z"
    },
    "papermill": {
     "duration": 5.202079,
     "end_time": "2022-03-15T18:25:37.329805",
     "exception": false,
     "start_time": "2022-03-15T18:25:32.127726",
     "status": "completed"
    },
    "tags": []
   },
   "outputs": [],
   "source": [
    "y_pred_random_forest_classifier = cuml_model.predict(X_test.astype('float32'))"
   ]
  },
  {
   "cell_type": "code",
   "execution_count": 97,
   "id": "ffacad32",
   "metadata": {
    "execution": {
     "iopub.execute_input": "2022-03-15T18:25:48.066121Z",
     "iopub.status.busy": "2022-03-15T18:25:48.065257Z",
     "iopub.status.idle": "2022-03-15T18:25:48.067120Z",
     "shell.execute_reply": "2022-03-15T18:25:48.067531Z",
     "shell.execute_reply.started": "2022-03-15T17:09:20.467513Z"
    },
    "papermill": {
     "duration": 5.406667,
     "end_time": "2022-03-15T18:25:48.067664",
     "exception": false,
     "start_time": "2022-03-15T18:25:42.660997",
     "status": "completed"
    },
    "tags": []
   },
   "outputs": [],
   "source": [
    "y_pred_random_forest_classifier=y_pred_random_forest_classifier.astype('int32')"
   ]
  },
  {
   "cell_type": "code",
   "execution_count": 98,
   "id": "3a8bb75e",
   "metadata": {
    "execution": {
     "iopub.execute_input": "2022-03-15T18:25:58.370894Z",
     "iopub.status.busy": "2022-03-15T18:25:58.370237Z",
     "iopub.status.idle": "2022-03-15T18:25:58.373150Z",
     "shell.execute_reply": "2022-03-15T18:25:58.373676Z",
     "shell.execute_reply.started": "2022-03-15T17:09:20.475357Z"
    },
    "papermill": {
     "duration": 5.041459,
     "end_time": "2022-03-15T18:25:58.373863",
     "exception": false,
     "start_time": "2022-03-15T18:25:53.332404",
     "status": "completed"
    },
    "tags": []
   },
   "outputs": [
    {
     "data": {
      "text/plain": [
       "array([3, 3, 2, ..., 2, 2, 2], dtype=int32)"
      ]
     },
     "execution_count": 98,
     "metadata": {},
     "output_type": "execute_result"
    }
   ],
   "source": [
    "y_pred_random_forest_classifier"
   ]
  },
  {
   "cell_type": "code",
   "execution_count": 99,
   "id": "6a746256",
   "metadata": {
    "execution": {
     "iopub.execute_input": "2022-03-15T18:26:08.641594Z",
     "iopub.status.busy": "2022-03-15T18:26:08.640783Z",
     "iopub.status.idle": "2022-03-15T18:26:08.646234Z",
     "shell.execute_reply": "2022-03-15T18:26:08.646630Z",
     "shell.execute_reply.started": "2022-03-15T17:09:20.482749Z"
    },
    "papermill": {
     "duration": 5.012501,
     "end_time": "2022-03-15T18:26:08.646799",
     "exception": false,
     "start_time": "2022-03-15T18:26:03.634298",
     "status": "completed"
    },
    "tags": []
   },
   "outputs": [
    {
     "data": {
      "text/plain": [
       "array([0, 1, 2, 3, 4], dtype=int32)"
      ]
     },
     "execution_count": 99,
     "metadata": {},
     "output_type": "execute_result"
    }
   ],
   "source": [
    "cp.unique(y_pred_random_forest_classifier)"
   ]
  },
  {
   "cell_type": "code",
   "execution_count": 100,
   "id": "509520fd",
   "metadata": {
    "execution": {
     "iopub.execute_input": "2022-03-15T18:26:19.368589Z",
     "iopub.status.busy": "2022-03-15T18:26:19.367702Z",
     "iopub.status.idle": "2022-03-15T18:26:19.373486Z",
     "shell.execute_reply": "2022-03-15T18:26:19.373057Z",
     "shell.execute_reply.started": "2022-03-15T17:09:20.490275Z"
    },
    "papermill": {
     "duration": 5.718347,
     "end_time": "2022-03-15T18:26:19.373596",
     "exception": false,
     "start_time": "2022-03-15T18:26:13.655249",
     "status": "completed"
    },
    "tags": []
   },
   "outputs": [],
   "source": [
    "cu_score_random_forest = cuml.metrics.accuracy_score(y_train, y_pred_random_forest_classifier )"
   ]
  },
  {
   "cell_type": "code",
   "execution_count": 101,
   "id": "a3c40600",
   "metadata": {
    "execution": {
     "iopub.execute_input": "2022-03-15T18:26:29.736808Z",
     "iopub.status.busy": "2022-03-15T18:26:29.736218Z",
     "iopub.status.idle": "2022-03-15T18:26:29.739070Z",
     "shell.execute_reply": "2022-03-15T18:26:29.739470Z",
     "shell.execute_reply.started": "2022-03-15T17:09:20.497270Z"
    },
    "papermill": {
     "duration": 5.304297,
     "end_time": "2022-03-15T18:26:29.739597",
     "exception": false,
     "start_time": "2022-03-15T18:26:24.435300",
     "status": "completed"
    },
    "tags": []
   },
   "outputs": [
    {
     "data": {
      "text/plain": [
       "0.4602515995502472"
      ]
     },
     "execution_count": 101,
     "metadata": {},
     "output_type": "execute_result"
    }
   ],
   "source": [
    "cu_score_random_forest"
   ]
  },
  {
   "cell_type": "code",
   "execution_count": 102,
   "id": "f77b6b7b",
   "metadata": {
    "execution": {
     "iopub.execute_input": "2022-03-15T18:26:39.941712Z",
     "iopub.status.busy": "2022-03-15T18:26:39.941165Z",
     "iopub.status.idle": "2022-03-15T18:26:39.950583Z",
     "shell.execute_reply": "2022-03-15T18:26:39.950165Z",
     "shell.execute_reply.started": "2022-03-15T17:09:20.503558Z"
    },
    "papermill": {
     "duration": 5.279721,
     "end_time": "2022-03-15T18:26:39.950700",
     "exception": false,
     "start_time": "2022-03-15T18:26:34.670979",
     "status": "completed"
    },
    "tags": []
   },
   "outputs": [],
   "source": [
    "submission_file =pd.read_csv('/kaggle/input/sentiment-analysis-on-movie-reviews/sampleSubmission.csv',sep=',')\n",
    "submission_file['Sentiment']=y_pred_random_forest_classifier\n",
    "submission_file.to_csv('Submission_RandomForest.csv',index=False)"
   ]
  },
  {
   "cell_type": "markdown",
   "id": "343b6f7e",
   "metadata": {
    "papermill": {
     "duration": 5.915821,
     "end_time": "2022-03-15T18:26:50.922592",
     "exception": false,
     "start_time": "2022-03-15T18:26:45.006771",
     "status": "completed"
    },
    "tags": []
   },
   "source": [
    "**3)Naive Bayes**"
   ]
  },
  {
   "cell_type": "code",
   "execution_count": 103,
   "id": "4cbe85cc",
   "metadata": {
    "execution": {
     "iopub.execute_input": "2022-03-15T18:27:01.267569Z",
     "iopub.status.busy": "2022-03-15T18:27:01.266023Z",
     "iopub.status.idle": "2022-03-15T18:27:04.227594Z",
     "shell.execute_reply": "2022-03-15T18:27:04.228123Z",
     "shell.execute_reply.started": "2022-03-15T17:09:20.510806Z"
    },
    "papermill": {
     "duration": 8.288637,
     "end_time": "2022-03-15T18:27:04.228288",
     "exception": false,
     "start_time": "2022-03-15T18:26:55.939651",
     "status": "completed"
    },
    "tags": []
   },
   "outputs": [
    {
     "data": {
      "text/plain": [
       "MultinomialNB()"
      ]
     },
     "execution_count": 103,
     "metadata": {},
     "output_type": "execute_result"
    }
   ],
   "source": [
    "nb = MultinomialNB()\n",
    "nb.fit(X_train, y_train)"
   ]
  },
  {
   "cell_type": "code",
   "execution_count": 104,
   "id": "1093c1fb",
   "metadata": {
    "execution": {
     "iopub.execute_input": "2022-03-15T18:27:14.514382Z",
     "iopub.status.busy": "2022-03-15T18:27:14.513027Z",
     "iopub.status.idle": "2022-03-15T18:27:15.692256Z",
     "shell.execute_reply": "2022-03-15T18:27:15.691715Z",
     "shell.execute_reply.started": "2022-03-15T17:09:20.517290Z"
    },
    "papermill": {
     "duration": 6.229498,
     "end_time": "2022-03-15T18:27:15.692396",
     "exception": false,
     "start_time": "2022-03-15T18:27:09.462898",
     "status": "completed"
    },
    "tags": []
   },
   "outputs": [],
   "source": [
    "nb_predict=nb.predict(X_test)"
   ]
  },
  {
   "cell_type": "code",
   "execution_count": 105,
   "id": "c52907db",
   "metadata": {
    "execution": {
     "iopub.execute_input": "2022-03-15T18:27:26.549016Z",
     "iopub.status.busy": "2022-03-15T18:27:26.548249Z",
     "iopub.status.idle": "2022-03-15T18:27:26.551186Z",
     "shell.execute_reply": "2022-03-15T18:27:26.551651Z",
     "shell.execute_reply.started": "2022-03-15T17:09:20.524486Z"
    },
    "papermill": {
     "duration": 5.526575,
     "end_time": "2022-03-15T18:27:26.551805",
     "exception": false,
     "start_time": "2022-03-15T18:27:21.025230",
     "status": "completed"
    },
    "tags": []
   },
   "outputs": [
    {
     "data": {
      "text/plain": [
       "array([0, 0, 2, ..., 2, 2, 2], dtype=int32)"
      ]
     },
     "execution_count": 105,
     "metadata": {},
     "output_type": "execute_result"
    }
   ],
   "source": [
    "nb_predict"
   ]
  },
  {
   "cell_type": "code",
   "execution_count": 106,
   "id": "6520e47b",
   "metadata": {
    "execution": {
     "iopub.execute_input": "2022-03-15T18:27:36.917647Z",
     "iopub.status.busy": "2022-03-15T18:27:36.916707Z",
     "iopub.status.idle": "2022-03-15T18:27:36.923305Z",
     "shell.execute_reply": "2022-03-15T18:27:36.922869Z",
     "shell.execute_reply.started": "2022-03-15T17:09:20.531412Z"
    },
    "papermill": {
     "duration": 5.087303,
     "end_time": "2022-03-15T18:27:36.923415",
     "exception": false,
     "start_time": "2022-03-15T18:27:31.836112",
     "status": "completed"
    },
    "tags": []
   },
   "outputs": [
    {
     "data": {
      "text/plain": [
       "array([0, 1, 2, 3, 4], dtype=int32)"
      ]
     },
     "execution_count": 106,
     "metadata": {},
     "output_type": "execute_result"
    }
   ],
   "source": [
    "cp.unique(nb_predict)"
   ]
  },
  {
   "cell_type": "code",
   "execution_count": 107,
   "id": "be998eda",
   "metadata": {
    "execution": {
     "iopub.execute_input": "2022-03-15T18:27:47.390488Z",
     "iopub.status.busy": "2022-03-15T18:27:47.389585Z",
     "iopub.status.idle": "2022-03-15T18:27:47.395387Z",
     "shell.execute_reply": "2022-03-15T18:27:47.394926Z",
     "shell.execute_reply.started": "2022-03-15T17:09:20.539102Z"
    },
    "papermill": {
     "duration": 5.154189,
     "end_time": "2022-03-15T18:27:47.395507",
     "exception": false,
     "start_time": "2022-03-15T18:27:42.241318",
     "status": "completed"
    },
    "tags": []
   },
   "outputs": [],
   "source": [
    "cu_score_naive_bayes = cuml.metrics.accuracy_score(y_train, nb_predict )"
   ]
  },
  {
   "cell_type": "code",
   "execution_count": 108,
   "id": "c10a258d",
   "metadata": {
    "execution": {
     "iopub.execute_input": "2022-03-15T18:27:58.433169Z",
     "iopub.status.busy": "2022-03-15T18:27:58.432532Z",
     "iopub.status.idle": "2022-03-15T18:27:58.435312Z",
     "shell.execute_reply": "2022-03-15T18:27:58.435744Z",
     "shell.execute_reply.started": "2022-03-15T17:09:20.545516Z"
    },
    "papermill": {
     "duration": 5.844555,
     "end_time": "2022-03-15T18:27:58.435891",
     "exception": false,
     "start_time": "2022-03-15T18:27:52.591336",
     "status": "completed"
    },
    "tags": []
   },
   "outputs": [
    {
     "data": {
      "text/plain": [
       "0.424983412027359"
      ]
     },
     "execution_count": 108,
     "metadata": {},
     "output_type": "execute_result"
    }
   ],
   "source": [
    "cu_score_naive_bayes"
   ]
  },
  {
   "cell_type": "code",
   "execution_count": 109,
   "id": "b9779b96",
   "metadata": {
    "execution": {
     "iopub.execute_input": "2022-03-15T18:28:08.914609Z",
     "iopub.status.busy": "2022-03-15T18:28:08.913885Z",
     "iopub.status.idle": "2022-03-15T18:28:08.923585Z",
     "shell.execute_reply": "2022-03-15T18:28:08.923184Z",
     "shell.execute_reply.started": "2022-03-15T17:09:20.551904Z"
    },
    "papermill": {
     "duration": 5.372285,
     "end_time": "2022-03-15T18:28:08.923705",
     "exception": false,
     "start_time": "2022-03-15T18:28:03.551420",
     "status": "completed"
    },
    "tags": []
   },
   "outputs": [],
   "source": [
    "submission_file =pd.read_csv('/kaggle/input/sentiment-analysis-on-movie-reviews/sampleSubmission.csv',sep=',')\n",
    "submission_file['Sentiment']=nb_predict\n",
    "submission_file.to_csv('Submission_NaiveBayes.csv',index=False)"
   ]
  },
  {
   "cell_type": "markdown",
   "id": "ec2ed2a5",
   "metadata": {
    "papermill": {
     "duration": 5.441929,
     "end_time": "2022-03-15T18:28:19.423578",
     "exception": false,
     "start_time": "2022-03-15T18:28:13.981649",
     "status": "completed"
    },
    "tags": []
   },
   "source": [
    "**4)KNeighbors Classifier**"
   ]
  },
  {
   "cell_type": "markdown",
   "id": "68db71c6",
   "metadata": {
    "papermill": {
     "duration": 5.958068,
     "end_time": "2022-03-15T18:28:30.539966",
     "exception": false,
     "start_time": "2022-03-15T18:28:24.581898",
     "status": "completed"
    },
    "tags": []
   },
   "source": [
    "Runtime error in KNN"
   ]
  },
  {
   "cell_type": "code",
   "execution_count": 110,
   "id": "e0b8d3a7",
   "metadata": {
    "execution": {
     "iopub.execute_input": "2022-03-15T18:28:40.927107Z",
     "iopub.status.busy": "2022-03-15T18:28:40.926190Z",
     "iopub.status.idle": "2022-03-15T18:28:40.928409Z",
     "shell.execute_reply": "2022-03-15T18:28:40.927990Z",
     "shell.execute_reply.started": "2022-03-15T17:09:20.561307Z"
    },
    "papermill": {
     "duration": 5.355937,
     "end_time": "2022-03-15T18:28:40.928528",
     "exception": false,
     "start_time": "2022-03-15T18:28:35.572591",
     "status": "completed"
    },
    "tags": []
   },
   "outputs": [],
   "source": [
    "# from cuml.neighbors import KNeighborsClassifier\n",
    "# knn = KNeighborsClassifier(n_neighbors=3)\n",
    "# knn.fit(X_train,y_train)"
   ]
  },
  {
   "cell_type": "code",
   "execution_count": 111,
   "id": "0b5eca63",
   "metadata": {
    "execution": {
     "iopub.execute_input": "2022-03-15T18:28:51.466907Z",
     "iopub.status.busy": "2022-03-15T18:28:51.466026Z",
     "iopub.status.idle": "2022-03-15T18:28:51.467937Z",
     "shell.execute_reply": "2022-03-15T18:28:51.468311Z",
     "shell.execute_reply.started": "2022-03-15T17:09:20.568919Z"
    },
    "papermill": {
     "duration": 5.442357,
     "end_time": "2022-03-15T18:28:51.468449",
     "exception": false,
     "start_time": "2022-03-15T18:28:46.026092",
     "status": "completed"
    },
    "tags": []
   },
   "outputs": [],
   "source": [
    "\n",
    "# knn_predict=knn.predict(X_test)"
   ]
  },
  {
   "cell_type": "code",
   "execution_count": 112,
   "id": "8f272b21",
   "metadata": {
    "execution": {
     "iopub.execute_input": "2022-03-15T18:29:02.345882Z",
     "iopub.status.busy": "2022-03-15T18:29:02.345098Z",
     "iopub.status.idle": "2022-03-15T18:29:02.347531Z",
     "shell.execute_reply": "2022-03-15T18:29:02.347112Z",
     "shell.execute_reply.started": "2022-03-15T17:09:20.576259Z"
    },
    "papermill": {
     "duration": 5.848215,
     "end_time": "2022-03-15T18:29:02.347638",
     "exception": false,
     "start_time": "2022-03-15T18:28:56.499423",
     "status": "completed"
    },
    "tags": []
   },
   "outputs": [],
   "source": [
    "# knn_predict"
   ]
  },
  {
   "cell_type": "code",
   "execution_count": 113,
   "id": "324553d8",
   "metadata": {
    "execution": {
     "iopub.execute_input": "2022-03-15T18:29:12.832031Z",
     "iopub.status.busy": "2022-03-15T18:29:12.831038Z",
     "iopub.status.idle": "2022-03-15T18:29:12.832839Z",
     "shell.execute_reply": "2022-03-15T18:29:12.833310Z",
     "shell.execute_reply.started": "2022-03-15T17:09:20.583114Z"
    },
    "papermill": {
     "duration": 5.40622,
     "end_time": "2022-03-15T18:29:12.833459",
     "exception": false,
     "start_time": "2022-03-15T18:29:07.427239",
     "status": "completed"
    },
    "tags": []
   },
   "outputs": [],
   "source": [
    "# cp.unique(knn_predict)"
   ]
  },
  {
   "cell_type": "code",
   "execution_count": 114,
   "id": "eea9d57b",
   "metadata": {
    "execution": {
     "iopub.execute_input": "2022-03-15T18:29:23.343564Z",
     "iopub.status.busy": "2022-03-15T18:29:23.342514Z",
     "iopub.status.idle": "2022-03-15T18:29:23.344896Z",
     "shell.execute_reply": "2022-03-15T18:29:23.344342Z",
     "shell.execute_reply.started": "2022-03-15T17:09:20.589450Z"
    },
    "papermill": {
     "duration": 5.383988,
     "end_time": "2022-03-15T18:29:23.345037",
     "exception": false,
     "start_time": "2022-03-15T18:29:17.961049",
     "status": "completed"
    },
    "tags": []
   },
   "outputs": [],
   "source": [
    "# cu_score_knn = cuml.metrics.accuracy_score(y_train, knn_predict )"
   ]
  },
  {
   "cell_type": "code",
   "execution_count": 115,
   "id": "f19afecc",
   "metadata": {
    "execution": {
     "iopub.execute_input": "2022-03-15T18:29:34.481655Z",
     "iopub.status.busy": "2022-03-15T18:29:34.480816Z",
     "iopub.status.idle": "2022-03-15T18:29:34.483283Z",
     "shell.execute_reply": "2022-03-15T18:29:34.482855Z",
     "shell.execute_reply.started": "2022-03-15T17:09:20.597131Z"
    },
    "papermill": {
     "duration": 6.016077,
     "end_time": "2022-03-15T18:29:34.483390",
     "exception": false,
     "start_time": "2022-03-15T18:29:28.467313",
     "status": "completed"
    },
    "tags": []
   },
   "outputs": [],
   "source": [
    "# cu_score_knn"
   ]
  },
  {
   "cell_type": "code",
   "execution_count": 116,
   "id": "0ae7ad45",
   "metadata": {
    "execution": {
     "iopub.execute_input": "2022-03-15T18:29:44.928386Z",
     "iopub.status.busy": "2022-03-15T18:29:44.927525Z",
     "iopub.status.idle": "2022-03-15T18:29:44.929589Z",
     "shell.execute_reply": "2022-03-15T18:29:44.929975Z",
     "shell.execute_reply.started": "2022-03-15T17:09:20.603250Z"
    },
    "papermill": {
     "duration": 5.356654,
     "end_time": "2022-03-15T18:29:44.930117",
     "exception": false,
     "start_time": "2022-03-15T18:29:39.573463",
     "status": "completed"
    },
    "tags": []
   },
   "outputs": [],
   "source": [
    "# submission_file =pd.read_csv('/kaggle/input/sentiment-analysis-on-movie-reviews/sampleSubmission.csv',sep=',')\n",
    "# submission_file['Sentiment']=knn_predict\n",
    "# submission_file.to_csv('Submission_KNN.csv',index=False)"
   ]
  },
  {
   "cell_type": "markdown",
   "id": "321682c9",
   "metadata": {
    "papermill": {
     "duration": 5.29724,
     "end_time": "2022-03-15T18:29:55.228936",
     "exception": false,
     "start_time": "2022-03-15T18:29:49.931696",
     "status": "completed"
    },
    "tags": []
   },
   "source": [
    "**5) SVM Classifier**"
   ]
  },
  {
   "cell_type": "markdown",
   "id": "77d6e622",
   "metadata": {
    "papermill": {
     "duration": 5.78675,
     "end_time": "2022-03-15T18:30:06.009851",
     "exception": false,
     "start_time": "2022-03-15T18:30:00.223101",
     "status": "completed"
    },
    "tags": []
   },
   "source": [
    "SVM was taking a very long time to run and was consuming entire RAM, so commented it"
   ]
  },
  {
   "cell_type": "code",
   "execution_count": 117,
   "id": "01bb6056",
   "metadata": {
    "execution": {
     "iopub.execute_input": "2022-03-15T18:30:16.274230Z",
     "iopub.status.busy": "2022-03-15T18:30:16.273450Z",
     "iopub.status.idle": "2022-03-15T18:30:16.277246Z",
     "shell.execute_reply": "2022-03-15T18:30:16.276611Z"
    },
    "papermill": {
     "duration": 5.194725,
     "end_time": "2022-03-15T18:30:16.277405",
     "exception": false,
     "start_time": "2022-03-15T18:30:11.082680",
     "status": "completed"
    },
    "tags": []
   },
   "outputs": [],
   "source": [
    "# svc_gpu = SVC(kernel='poly', degree=2, gamma='auto', C=1)\n",
    "# svc_gpu.fit(X_train, y_train)"
   ]
  },
  {
   "cell_type": "code",
   "execution_count": 118,
   "id": "99c54e91",
   "metadata": {
    "execution": {
     "iopub.execute_input": "2022-03-15T18:30:26.392219Z",
     "iopub.status.busy": "2022-03-15T18:30:26.391322Z",
     "iopub.status.idle": "2022-03-15T18:30:26.392969Z",
     "shell.execute_reply": "2022-03-15T18:30:26.393452Z"
    },
    "papermill": {
     "duration": 5.02006,
     "end_time": "2022-03-15T18:30:26.393583",
     "exception": false,
     "start_time": "2022-03-15T18:30:21.373523",
     "status": "completed"
    },
    "tags": []
   },
   "outputs": [],
   "source": [
    "# svc_gpu_predict=svc_gpu.predict(X_test)"
   ]
  },
  {
   "cell_type": "code",
   "execution_count": 119,
   "id": "c2cfce35",
   "metadata": {
    "execution": {
     "iopub.execute_input": "2022-03-15T18:30:37.248085Z",
     "iopub.status.busy": "2022-03-15T18:30:37.247045Z",
     "iopub.status.idle": "2022-03-15T18:30:37.248843Z",
     "shell.execute_reply": "2022-03-15T18:30:37.249267Z"
    },
    "papermill": {
     "duration": 5.600767,
     "end_time": "2022-03-15T18:30:37.249404",
     "exception": false,
     "start_time": "2022-03-15T18:30:31.648637",
     "status": "completed"
    },
    "tags": []
   },
   "outputs": [],
   "source": [
    "# submission_file =pd.read_csv('/kaggle/input/sentiment-analysis-on-movie-reviews/sampleSubmission.csv',sep=',')\n",
    "# submission_file['Sentiment']=svc_gpu_predict\n",
    "# submission_file.to_csv('Submission_SVM.csv',index=False)"
   ]
  },
  {
   "cell_type": "markdown",
   "id": "92ed5338",
   "metadata": {
    "papermill": {
     "duration": 5.046647,
     "end_time": "2022-03-15T18:30:47.744600",
     "exception": false,
     "start_time": "2022-03-15T18:30:42.697953",
     "status": "completed"
    },
    "tags": []
   },
   "source": [
    "# MACHINE LEARNING MODELS-SKLEARNB"
   ]
  },
  {
   "cell_type": "markdown",
   "id": "807a9c08",
   "metadata": {
    "papermill": {
     "duration": 5.024566,
     "end_time": "2022-03-15T18:30:58.008382",
     "exception": false,
     "start_time": "2022-03-15T18:30:52.983816",
     "status": "completed"
    },
    "tags": []
   },
   "source": [
    "**1)Logistic Regression**"
   ]
  },
  {
   "cell_type": "markdown",
   "id": "2937a8ec",
   "metadata": {
    "papermill": {
     "duration": 5.587913,
     "end_time": "2022-03-15T18:31:08.890801",
     "exception": false,
     "start_time": "2022-03-15T18:31:03.302888",
     "status": "completed"
    },
    "tags": []
   },
   "source": [
    "****"
   ]
  },
  {
   "cell_type": "code",
   "execution_count": 120,
   "id": "e6397ed0",
   "metadata": {
    "execution": {
     "iopub.execute_input": "2022-03-15T18:31:19.189294Z",
     "iopub.status.busy": "2022-03-15T18:31:19.188528Z",
     "iopub.status.idle": "2022-03-15T18:31:19.258411Z",
     "shell.execute_reply": "2022-03-15T18:31:19.257918Z",
     "shell.execute_reply.started": "2022-03-15T17:09:20.610399Z"
    },
    "papermill": {
     "duration": 5.02661,
     "end_time": "2022-03-15T18:31:19.258534",
     "exception": false,
     "start_time": "2022-03-15T18:31:14.231924",
     "status": "completed"
    },
    "tags": []
   },
   "outputs": [],
   "source": [
    "#Machine Learning-sklearn libraries\n",
    "from sklearn.linear_model import LogisticRegression\n",
    "from sklearn.ensemble import RandomForestClassifier\n",
    "from sklearn.naive_bayes import GaussianNB\n",
    "from sklearn.neighbors import KNeighborsClassifier\n",
    "from sklearn import svm\n",
    "from xgboost import XGBClassifier"
   ]
  },
  {
   "cell_type": "code",
   "execution_count": 121,
   "id": "5eba6af8",
   "metadata": {
    "execution": {
     "iopub.execute_input": "2022-03-15T18:31:29.619029Z",
     "iopub.status.busy": "2022-03-15T18:31:29.617679Z",
     "iopub.status.idle": "2022-03-15T18:31:29.619696Z",
     "shell.execute_reply": "2022-03-15T18:31:29.620132Z",
     "shell.execute_reply.started": "2022-03-15T17:09:20.616686Z"
    },
    "papermill": {
     "duration": 5.050216,
     "end_time": "2022-03-15T18:31:29.620267",
     "exception": false,
     "start_time": "2022-03-15T18:31:24.570051",
     "status": "completed"
    },
    "tags": []
   },
   "outputs": [],
   "source": [
    "lr_sklearn = LogisticRegression(random_state=0)"
   ]
  },
  {
   "cell_type": "code",
   "execution_count": 122,
   "id": "08aadd6e",
   "metadata": {
    "execution": {
     "iopub.execute_input": "2022-03-15T18:31:40.436817Z",
     "iopub.status.busy": "2022-03-15T18:31:40.435669Z",
     "iopub.status.idle": "2022-03-15T18:31:48.748907Z",
     "shell.execute_reply": "2022-03-15T18:31:48.749962Z",
     "shell.execute_reply.started": "2022-03-15T17:09:20.623694Z"
    },
    "papermill": {
     "duration": 13.904001,
     "end_time": "2022-03-15T18:31:48.750233",
     "exception": false,
     "start_time": "2022-03-15T18:31:34.846232",
     "status": "completed"
    },
    "tags": []
   },
   "outputs": [
    {
     "name": "stderr",
     "output_type": "stream",
     "text": [
      "/opt/conda/lib/python3.7/site-packages/sklearn/linear_model/_logistic.py:818: ConvergenceWarning: lbfgs failed to converge (status=1):\n",
      "STOP: TOTAL NO. of ITERATIONS REACHED LIMIT.\n",
      "\n",
      "Increase the number of iterations (max_iter) or scale the data as shown in:\n",
      "    https://scikit-learn.org/stable/modules/preprocessing.html\n",
      "Please also refer to the documentation for alternative solver options:\n",
      "    https://scikit-learn.org/stable/modules/linear_model.html#logistic-regression\n",
      "  extra_warning_msg=_LOGISTIC_SOLVER_CONVERGENCE_MSG,\n"
     ]
    },
    {
     "data": {
      "text/plain": [
       "LogisticRegression(random_state=0)"
      ]
     },
     "execution_count": 122,
     "metadata": {},
     "output_type": "execute_result"
    }
   ],
   "source": [
    "lr_sklearn.fit(X_train,y_train)"
   ]
  },
  {
   "cell_type": "code",
   "execution_count": 123,
   "id": "c8adae18",
   "metadata": {
    "execution": {
     "iopub.execute_input": "2022-03-15T18:31:59.057435Z",
     "iopub.status.busy": "2022-03-15T18:31:59.056468Z",
     "iopub.status.idle": "2022-03-15T18:31:59.068419Z",
     "shell.execute_reply": "2022-03-15T18:31:59.069292Z",
     "shell.execute_reply.started": "2022-03-15T17:09:20.629834Z"
    },
    "papermill": {
     "duration": 5.217347,
     "end_time": "2022-03-15T18:31:59.069514",
     "exception": false,
     "start_time": "2022-03-15T18:31:53.852167",
     "status": "completed"
    },
    "tags": []
   },
   "outputs": [],
   "source": [
    "pred_lr_sklearn=lr_sklearn.predict(X_test)"
   ]
  },
  {
   "cell_type": "code",
   "execution_count": 124,
   "id": "7d699df6",
   "metadata": {
    "execution": {
     "iopub.execute_input": "2022-03-15T18:32:09.629497Z",
     "iopub.status.busy": "2022-03-15T18:32:09.628664Z",
     "iopub.status.idle": "2022-03-15T18:32:09.631635Z",
     "shell.execute_reply": "2022-03-15T18:32:09.632086Z",
     "shell.execute_reply.started": "2022-03-15T17:09:20.636666Z"
    },
    "papermill": {
     "duration": 5.502267,
     "end_time": "2022-03-15T18:32:09.632226",
     "exception": false,
     "start_time": "2022-03-15T18:32:04.129959",
     "status": "completed"
    },
    "tags": []
   },
   "outputs": [
    {
     "data": {
      "text/plain": [
       "array([2, 2, 2, ..., 2, 2, 2])"
      ]
     },
     "execution_count": 124,
     "metadata": {},
     "output_type": "execute_result"
    }
   ],
   "source": [
    "pred_lr_sklearn"
   ]
  },
  {
   "cell_type": "code",
   "execution_count": 125,
   "id": "6d30350c",
   "metadata": {
    "execution": {
     "iopub.execute_input": "2022-03-15T18:32:20.454017Z",
     "iopub.status.busy": "2022-03-15T18:32:20.453360Z",
     "iopub.status.idle": "2022-03-15T18:32:20.457895Z",
     "shell.execute_reply": "2022-03-15T18:32:20.457443Z",
     "shell.execute_reply.started": "2022-03-15T17:09:20.643566Z"
    },
    "papermill": {
     "duration": 5.289044,
     "end_time": "2022-03-15T18:32:20.458018",
     "exception": false,
     "start_time": "2022-03-15T18:32:15.168974",
     "status": "completed"
    },
    "tags": []
   },
   "outputs": [
    {
     "data": {
      "text/plain": [
       "array([0, 1, 2, 3, 4])"
      ]
     },
     "execution_count": 125,
     "metadata": {},
     "output_type": "execute_result"
    }
   ],
   "source": [
    "np.unique(pred_lr_sklearn)"
   ]
  },
  {
   "cell_type": "code",
   "execution_count": 126,
   "id": "878f8b4d",
   "metadata": {
    "execution": {
     "iopub.execute_input": "2022-03-15T18:32:30.875816Z",
     "iopub.status.busy": "2022-03-15T18:32:30.875142Z",
     "iopub.status.idle": "2022-03-15T18:32:30.885672Z",
     "shell.execute_reply": "2022-03-15T18:32:30.885245Z",
     "shell.execute_reply.started": "2022-03-15T17:09:20.649825Z"
    },
    "papermill": {
     "duration": 5.234816,
     "end_time": "2022-03-15T18:32:30.885815",
     "exception": false,
     "start_time": "2022-03-15T18:32:25.650999",
     "status": "completed"
    },
    "tags": []
   },
   "outputs": [],
   "source": [
    "submission_file =pd.read_csv('/kaggle/input/sentiment-analysis-on-movie-reviews/sampleSubmission.csv',sep=',')\n",
    "submission_file['Sentiment']=pred_lr_sklearn\n",
    "submission_file.to_csv('Submission_LogisticRegression_sklearn.csv',index=False)"
   ]
  },
  {
   "cell_type": "markdown",
   "id": "d4b4cb73",
   "metadata": {
    "papermill": {
     "duration": 5.414761,
     "end_time": "2022-03-15T18:32:41.483651",
     "exception": false,
     "start_time": "2022-03-15T18:32:36.068890",
     "status": "completed"
    },
    "tags": []
   },
   "source": [
    "**2)Random Forest**"
   ]
  },
  {
   "cell_type": "code",
   "execution_count": 127,
   "id": "99d0ae12",
   "metadata": {
    "execution": {
     "iopub.execute_input": "2022-03-15T18:32:52.394035Z",
     "iopub.status.busy": "2022-03-15T18:32:52.390583Z",
     "iopub.status.idle": "2022-03-15T18:32:52.395932Z",
     "shell.execute_reply": "2022-03-15T18:32:52.396467Z",
     "shell.execute_reply.started": "2022-03-15T17:09:20.657569Z"
    },
    "papermill": {
     "duration": 5.346985,
     "end_time": "2022-03-15T18:32:52.396626",
     "exception": false,
     "start_time": "2022-03-15T18:32:47.049641",
     "status": "completed"
    },
    "tags": []
   },
   "outputs": [],
   "source": [
    "rf_sklearn = RandomForestClassifier(max_depth=10, random_state=0)"
   ]
  },
  {
   "cell_type": "code",
   "execution_count": 128,
   "id": "9c6ad58e",
   "metadata": {
    "execution": {
     "iopub.execute_input": "2022-03-15T18:33:02.803944Z",
     "iopub.status.busy": "2022-03-15T18:33:02.802969Z",
     "iopub.status.idle": "2022-03-15T18:33:15.928962Z",
     "shell.execute_reply": "2022-03-15T18:33:15.928128Z",
     "shell.execute_reply.started": "2022-03-15T17:09:20.664294Z"
    },
    "papermill": {
     "duration": 18.427993,
     "end_time": "2022-03-15T18:33:15.929099",
     "exception": false,
     "start_time": "2022-03-15T18:32:57.501106",
     "status": "completed"
    },
    "tags": []
   },
   "outputs": [
    {
     "data": {
      "text/plain": [
       "RandomForestClassifier(max_depth=10, random_state=0)"
      ]
     },
     "execution_count": 128,
     "metadata": {},
     "output_type": "execute_result"
    }
   ],
   "source": [
    "rf_sklearn.fit(X_train,y_train)"
   ]
  },
  {
   "cell_type": "code",
   "execution_count": 129,
   "id": "2723fa3b",
   "metadata": {
    "execution": {
     "iopub.execute_input": "2022-03-15T18:33:26.307688Z",
     "iopub.status.busy": "2022-03-15T18:33:26.306814Z",
     "iopub.status.idle": "2022-03-15T18:33:26.942952Z",
     "shell.execute_reply": "2022-03-15T18:33:26.942443Z",
     "shell.execute_reply.started": "2022-03-15T17:09:20.671388Z"
    },
    "papermill": {
     "duration": 5.991895,
     "end_time": "2022-03-15T18:33:26.943083",
     "exception": false,
     "start_time": "2022-03-15T18:33:20.951188",
     "status": "completed"
    },
    "tags": []
   },
   "outputs": [],
   "source": [
    "rf_sklearn_predict=rf_sklearn.predict(X_test)"
   ]
  },
  {
   "cell_type": "code",
   "execution_count": 130,
   "id": "b01d471f",
   "metadata": {
    "execution": {
     "iopub.execute_input": "2022-03-15T18:33:37.420600Z",
     "iopub.status.busy": "2022-03-15T18:33:37.420043Z",
     "iopub.status.idle": "2022-03-15T18:33:37.424719Z",
     "shell.execute_reply": "2022-03-15T18:33:37.424267Z",
     "shell.execute_reply.started": "2022-03-15T17:09:20.679319Z"
    },
    "papermill": {
     "duration": 5.449926,
     "end_time": "2022-03-15T18:33:37.424886",
     "exception": false,
     "start_time": "2022-03-15T18:33:31.974960",
     "status": "completed"
    },
    "tags": []
   },
   "outputs": [
    {
     "data": {
      "text/plain": [
       "array([2, 2, 2, ..., 2, 2, 2])"
      ]
     },
     "execution_count": 130,
     "metadata": {},
     "output_type": "execute_result"
    }
   ],
   "source": [
    "rf_sklearn_predict"
   ]
  },
  {
   "cell_type": "code",
   "execution_count": 131,
   "id": "304fe3ee",
   "metadata": {
    "execution": {
     "iopub.execute_input": "2022-03-15T18:33:48.490933Z",
     "iopub.status.busy": "2022-03-15T18:33:48.490266Z",
     "iopub.status.idle": "2022-03-15T18:33:48.501627Z",
     "shell.execute_reply": "2022-03-15T18:33:48.501214Z",
     "shell.execute_reply.started": "2022-03-15T17:09:20.686106Z"
    },
    "papermill": {
     "duration": 5.926208,
     "end_time": "2022-03-15T18:33:48.501745",
     "exception": false,
     "start_time": "2022-03-15T18:33:42.575537",
     "status": "completed"
    },
    "tags": []
   },
   "outputs": [],
   "source": [
    "submission_file =pd.read_csv('/kaggle/input/sentiment-analysis-on-movie-reviews/sampleSubmission.csv',sep=',')\n",
    "submission_file['Sentiment']=rf_sklearn_predict\n",
    "submission_file.to_csv('Submission_RandomForest_sklearn.csv',index=False)"
   ]
  },
  {
   "cell_type": "markdown",
   "id": "9f6f53c3",
   "metadata": {
    "papermill": {
     "duration": 5.373348,
     "end_time": "2022-03-15T18:33:58.850750",
     "exception": false,
     "start_time": "2022-03-15T18:33:53.477402",
     "status": "completed"
    },
    "tags": []
   },
   "source": [
    "**3)Naive Bayes**"
   ]
  },
  {
   "cell_type": "code",
   "execution_count": 132,
   "id": "e4eb1df0",
   "metadata": {
    "execution": {
     "iopub.execute_input": "2022-03-15T18:34:09.344324Z",
     "iopub.status.busy": "2022-03-15T18:34:09.342909Z",
     "iopub.status.idle": "2022-03-15T18:34:09.345012Z",
     "shell.execute_reply": "2022-03-15T18:34:09.345411Z",
     "shell.execute_reply.started": "2022-03-15T17:09:20.693262Z"
    },
    "papermill": {
     "duration": 5.318711,
     "end_time": "2022-03-15T18:34:09.345564",
     "exception": false,
     "start_time": "2022-03-15T18:34:04.026853",
     "status": "completed"
    },
    "tags": []
   },
   "outputs": [],
   "source": [
    "nb_sklearn=GaussianNB()"
   ]
  },
  {
   "cell_type": "code",
   "execution_count": 133,
   "id": "1e459ba8",
   "metadata": {
    "execution": {
     "iopub.execute_input": "2022-03-15T18:34:20.354982Z",
     "iopub.status.busy": "2022-03-15T18:34:20.354107Z",
     "iopub.status.idle": "2022-03-15T18:34:20.433599Z",
     "shell.execute_reply": "2022-03-15T18:34:20.434105Z",
     "shell.execute_reply.started": "2022-03-15T17:09:20.699769Z"
    },
    "papermill": {
     "duration": 5.96026,
     "end_time": "2022-03-15T18:34:20.434260",
     "exception": false,
     "start_time": "2022-03-15T18:34:14.474000",
     "status": "completed"
    },
    "tags": []
   },
   "outputs": [
    {
     "data": {
      "text/plain": [
       "GaussianNB()"
      ]
     },
     "execution_count": 133,
     "metadata": {},
     "output_type": "execute_result"
    }
   ],
   "source": [
    "nb_sklearn.fit(X_train,y_train)"
   ]
  },
  {
   "cell_type": "code",
   "execution_count": 134,
   "id": "1462534b",
   "metadata": {
    "execution": {
     "iopub.execute_input": "2022-03-15T18:34:30.840974Z",
     "iopub.status.busy": "2022-03-15T18:34:30.840140Z",
     "iopub.status.idle": "2022-03-15T18:34:30.888148Z",
     "shell.execute_reply": "2022-03-15T18:34:30.887639Z",
     "shell.execute_reply.started": "2022-03-15T17:09:20.706741Z"
    },
    "papermill": {
     "duration": 5.368736,
     "end_time": "2022-03-15T18:34:30.888280",
     "exception": false,
     "start_time": "2022-03-15T18:34:25.519544",
     "status": "completed"
    },
    "tags": []
   },
   "outputs": [],
   "source": [
    "nb_sklearn_predict=nb_sklearn.predict(X_test)"
   ]
  },
  {
   "cell_type": "code",
   "execution_count": 135,
   "id": "c8d1a4ed",
   "metadata": {
    "execution": {
     "iopub.execute_input": "2022-03-15T18:34:41.193919Z",
     "iopub.status.busy": "2022-03-15T18:34:41.193269Z",
     "iopub.status.idle": "2022-03-15T18:34:41.195989Z",
     "shell.execute_reply": "2022-03-15T18:34:41.196383Z",
     "shell.execute_reply.started": "2022-03-15T17:09:20.713633Z"
    },
    "papermill": {
     "duration": 5.275634,
     "end_time": "2022-03-15T18:34:41.196514",
     "exception": false,
     "start_time": "2022-03-15T18:34:35.920880",
     "status": "completed"
    },
    "tags": []
   },
   "outputs": [
    {
     "data": {
      "text/plain": [
       "array([2, 2, 2, ..., 2, 2, 2])"
      ]
     },
     "execution_count": 135,
     "metadata": {},
     "output_type": "execute_result"
    }
   ],
   "source": [
    "nb_sklearn_predict"
   ]
  },
  {
   "cell_type": "code",
   "execution_count": 136,
   "id": "5cbc1346",
   "metadata": {
    "execution": {
     "iopub.execute_input": "2022-03-15T18:34:52.037459Z",
     "iopub.status.busy": "2022-03-15T18:34:52.036706Z",
     "iopub.status.idle": "2022-03-15T18:34:52.045788Z",
     "shell.execute_reply": "2022-03-15T18:34:52.045155Z",
     "shell.execute_reply.started": "2022-03-15T17:09:20.720013Z"
    },
    "papermill": {
     "duration": 5.820502,
     "end_time": "2022-03-15T18:34:52.045925",
     "exception": false,
     "start_time": "2022-03-15T18:34:46.225423",
     "status": "completed"
    },
    "tags": []
   },
   "outputs": [],
   "source": [
    "submission_file =pd.read_csv('/kaggle/input/sentiment-analysis-on-movie-reviews/sampleSubmission.csv',sep=',')\n",
    "submission_file['Sentiment']=nb_sklearn_predict\n",
    "submission_file.to_csv('Submission_NaiveBayes_sklearn.csv',index=False)"
   ]
  },
  {
   "cell_type": "markdown",
   "id": "38bf062b",
   "metadata": {
    "papermill": {
     "duration": 5.294873,
     "end_time": "2022-03-15T18:35:02.429731",
     "exception": false,
     "start_time": "2022-03-15T18:34:57.134858",
     "status": "completed"
    },
    "tags": []
   },
   "source": [
    "**4)KNeighbors Classifier**"
   ]
  },
  {
   "cell_type": "code",
   "execution_count": 137,
   "id": "fe888ced",
   "metadata": {
    "execution": {
     "iopub.execute_input": "2022-03-15T18:35:12.554078Z",
     "iopub.status.busy": "2022-03-15T18:35:12.553159Z",
     "iopub.status.idle": "2022-03-15T18:35:12.555003Z",
     "shell.execute_reply": "2022-03-15T18:35:12.555405Z",
     "shell.execute_reply.started": "2022-03-15T17:09:20.728397Z"
    },
    "papermill": {
     "duration": 5.04906,
     "end_time": "2022-03-15T18:35:12.555544",
     "exception": false,
     "start_time": "2022-03-15T18:35:07.506484",
     "status": "completed"
    },
    "tags": []
   },
   "outputs": [],
   "source": [
    "knn_sklearn = KNeighborsClassifier(n_neighbors=3)"
   ]
  },
  {
   "cell_type": "code",
   "execution_count": 138,
   "id": "a24d2a30",
   "metadata": {
    "execution": {
     "iopub.execute_input": "2022-03-15T18:35:23.269882Z",
     "iopub.status.busy": "2022-03-15T18:35:23.268877Z",
     "iopub.status.idle": "2022-03-15T18:35:23.283382Z",
     "shell.execute_reply": "2022-03-15T18:35:23.283974Z",
     "shell.execute_reply.started": "2022-03-15T17:09:20.736694Z"
    },
    "papermill": {
     "duration": 5.375708,
     "end_time": "2022-03-15T18:35:23.284166",
     "exception": false,
     "start_time": "2022-03-15T18:35:17.908458",
     "status": "completed"
    },
    "tags": []
   },
   "outputs": [
    {
     "data": {
      "text/plain": [
       "KNeighborsClassifier(n_neighbors=3)"
      ]
     },
     "execution_count": 138,
     "metadata": {},
     "output_type": "execute_result"
    }
   ],
   "source": [
    "knn_sklearn.fit(X_train,y_train)"
   ]
  },
  {
   "cell_type": "code",
   "execution_count": 139,
   "id": "27f23d45",
   "metadata": {
    "execution": {
     "iopub.execute_input": "2022-03-15T18:35:33.869609Z",
     "iopub.status.busy": "2022-03-15T18:35:33.868322Z",
     "iopub.status.idle": "2022-03-15T18:37:58.432808Z",
     "shell.execute_reply": "2022-03-15T18:37:58.433275Z",
     "shell.execute_reply.started": "2022-03-15T17:09:20.744000Z"
    },
    "papermill": {
     "duration": 149.596681,
     "end_time": "2022-03-15T18:37:58.433473",
     "exception": false,
     "start_time": "2022-03-15T18:35:28.836792",
     "status": "completed"
    },
    "tags": []
   },
   "outputs": [],
   "source": [
    "knn_sklearn_predict=knn_sklearn.predict(X_test)"
   ]
  },
  {
   "cell_type": "code",
   "execution_count": 140,
   "id": "e020ee93",
   "metadata": {
    "execution": {
     "iopub.execute_input": "2022-03-15T18:38:09.207295Z",
     "iopub.status.busy": "2022-03-15T18:38:09.205784Z",
     "iopub.status.idle": "2022-03-15T18:38:09.210282Z",
     "shell.execute_reply": "2022-03-15T18:38:09.210680Z",
     "shell.execute_reply.started": "2022-03-15T17:09:20.750352Z"
    },
    "papermill": {
     "duration": 5.745041,
     "end_time": "2022-03-15T18:38:09.210882",
     "exception": false,
     "start_time": "2022-03-15T18:38:03.465841",
     "status": "completed"
    },
    "tags": []
   },
   "outputs": [
    {
     "data": {
      "text/plain": [
       "array([1, 1, 2, ..., 2, 2, 2])"
      ]
     },
     "execution_count": 140,
     "metadata": {},
     "output_type": "execute_result"
    }
   ],
   "source": [
    "knn_sklearn_predict"
   ]
  },
  {
   "cell_type": "code",
   "execution_count": 141,
   "id": "49953a80",
   "metadata": {
    "execution": {
     "iopub.execute_input": "2022-03-15T18:38:19.439197Z",
     "iopub.status.busy": "2022-03-15T18:38:19.438568Z",
     "iopub.status.idle": "2022-03-15T18:38:19.449734Z",
     "shell.execute_reply": "2022-03-15T18:38:19.449224Z",
     "shell.execute_reply.started": "2022-03-15T17:09:20.757953Z"
    },
    "papermill": {
     "duration": 5.075821,
     "end_time": "2022-03-15T18:38:19.449879",
     "exception": false,
     "start_time": "2022-03-15T18:38:14.374058",
     "status": "completed"
    },
    "tags": []
   },
   "outputs": [],
   "source": [
    "submission_file =pd.read_csv('/kaggle/input/sentiment-analysis-on-movie-reviews/sampleSubmission.csv',sep=',')\n",
    "submission_file['Sentiment']=knn_sklearn_predict\n",
    "submission_file.to_csv('Submission_KNN_sklearn.csv',index=False)"
   ]
  },
  {
   "cell_type": "markdown",
   "id": "446aa324",
   "metadata": {
    "papermill": {
     "duration": 5.074566,
     "end_time": "2022-03-15T18:38:29.975153",
     "exception": false,
     "start_time": "2022-03-15T18:38:24.900587",
     "status": "completed"
    },
    "tags": []
   },
   "source": [
    "**5)SVM CLASSIFIER**"
   ]
  },
  {
   "cell_type": "markdown",
   "id": "004f1439",
   "metadata": {
    "papermill": {
     "duration": 5.564926,
     "end_time": "2022-03-15T18:38:40.845226",
     "exception": false,
     "start_time": "2022-03-15T18:38:35.280300",
     "status": "completed"
    },
    "tags": []
   },
   "source": [
    "SVM was taking a very long time to run and was consuming entire RAM, so commented it"
   ]
  },
  {
   "cell_type": "code",
   "execution_count": 142,
   "id": "691593e4",
   "metadata": {
    "execution": {
     "iopub.execute_input": "2022-03-15T18:38:51.215753Z",
     "iopub.status.busy": "2022-03-15T18:38:51.214836Z",
     "iopub.status.idle": "2022-03-15T18:38:51.217139Z",
     "shell.execute_reply": "2022-03-15T18:38:51.216600Z"
    },
    "papermill": {
     "duration": 5.026997,
     "end_time": "2022-03-15T18:38:51.217254",
     "exception": false,
     "start_time": "2022-03-15T18:38:46.190257",
     "status": "completed"
    },
    "tags": []
   },
   "outputs": [],
   "source": [
    "# svc = svm.SVC(decision_function_shape='ovo')\n",
    "# svc.fit(X_train, y_train)"
   ]
  },
  {
   "cell_type": "code",
   "execution_count": 143,
   "id": "7b54aa13",
   "metadata": {
    "execution": {
     "iopub.execute_input": "2022-03-15T18:39:01.764029Z",
     "iopub.status.busy": "2022-03-15T18:39:01.763104Z",
     "iopub.status.idle": "2022-03-15T18:39:01.765250Z",
     "shell.execute_reply": "2022-03-15T18:39:01.764797Z"
    },
    "papermill": {
     "duration": 5.133111,
     "end_time": "2022-03-15T18:39:01.765358",
     "exception": false,
     "start_time": "2022-03-15T18:38:56.632247",
     "status": "completed"
    },
    "tags": []
   },
   "outputs": [],
   "source": [
    "# svm_pred=svc.predict(X_test)"
   ]
  },
  {
   "cell_type": "code",
   "execution_count": 144,
   "id": "9934b427",
   "metadata": {
    "execution": {
     "iopub.execute_input": "2022-03-15T18:39:12.771255Z",
     "iopub.status.busy": "2022-03-15T18:39:12.770312Z",
     "iopub.status.idle": "2022-03-15T18:39:12.772262Z",
     "shell.execute_reply": "2022-03-15T18:39:12.772677Z"
    },
    "papermill": {
     "duration": 5.579235,
     "end_time": "2022-03-15T18:39:12.772843",
     "exception": false,
     "start_time": "2022-03-15T18:39:07.193608",
     "status": "completed"
    },
    "tags": []
   },
   "outputs": [],
   "source": [
    "# submission_file =pd.read_csv('/kaggle/input/sentiment-analysis-on-movie-reviews/sampleSubmission.csv',sep=',')\n",
    "# submission_file['Sentiment']=knn_sklearn_predict\n",
    "# submission_file.to_csv('Submission_KNN_sklearn.csv',index=False)"
   ]
  },
  {
   "cell_type": "markdown",
   "id": "704aaa1e",
   "metadata": {
    "papermill": {
     "duration": 4.997286,
     "end_time": "2022-03-15T18:39:23.094462",
     "exception": false,
     "start_time": "2022-03-15T18:39:18.097176",
     "status": "completed"
    },
    "tags": []
   },
   "source": [
    "**6)XGBOOST CLASSIFIER**"
   ]
  },
  {
   "cell_type": "code",
   "execution_count": 145,
   "id": "71eb7b17",
   "metadata": {
    "execution": {
     "iopub.execute_input": "2022-03-15T18:39:33.459782Z",
     "iopub.status.busy": "2022-03-15T18:39:33.458987Z",
     "iopub.status.idle": "2022-03-15T18:41:21.535980Z",
     "shell.execute_reply": "2022-03-15T18:41:21.536545Z",
     "shell.execute_reply.started": "2022-03-15T17:09:20.771622Z"
    },
    "papermill": {
     "duration": 113.136676,
     "end_time": "2022-03-15T18:41:21.536703",
     "exception": false,
     "start_time": "2022-03-15T18:39:28.400027",
     "status": "completed"
    },
    "tags": []
   },
   "outputs": [
    {
     "name": "stderr",
     "output_type": "stream",
     "text": [
      "/opt/conda/lib/python3.7/site-packages/xgboost/sklearn.py:1224: UserWarning: The use of label encoder in XGBClassifier is deprecated and will be removed in a future release. To remove this warning, do the following: 1) Pass option use_label_encoder=False when constructing XGBClassifier object; and 2) Encode your labels (y) as integers starting with 0, i.e. 0, 1, 2, ..., [num_class - 1].\n",
      "  warnings.warn(label_encoder_deprecation_msg, UserWarning)\n"
     ]
    },
    {
     "name": "stdout",
     "output_type": "stream",
     "text": [
      "[18:39:34] WARNING: ../src/learner.cc:1115: Starting in XGBoost 1.3.0, the default evaluation metric used with the objective 'multi:softprob' was changed from 'merror' to 'mlogloss'. Explicitly set eval_metric if you'd like to restore the old behavior.\n"
     ]
    },
    {
     "data": {
      "text/plain": [
       "XGBClassifier(base_score=0.5, booster='gbtree', colsample_bylevel=1,\n",
       "              colsample_bynode=1, colsample_bytree=1, enable_categorical=False,\n",
       "              gamma=0, gpu_id=-1, importance_type=None,\n",
       "              interaction_constraints='', learning_rate=0.300000012,\n",
       "              max_delta_step=0, max_depth=6, min_child_weight=1, missing=nan,\n",
       "              monotone_constraints='()', n_estimators=100, n_jobs=2,\n",
       "              num_parallel_tree=1, objective='multi:softprob', predictor='auto',\n",
       "              random_state=0, reg_alpha=0, reg_lambda=1, scale_pos_weight=None,\n",
       "              subsample=1, tree_method='exact', validate_parameters=1,\n",
       "              verbosity=None)"
      ]
     },
     "execution_count": 145,
     "metadata": {},
     "output_type": "execute_result"
    }
   ],
   "source": [
    "xgb = XGBClassifier()\n",
    "xgb.fit(X_train, y_train)"
   ]
  },
  {
   "cell_type": "code",
   "execution_count": 146,
   "id": "6fc4ca5e",
   "metadata": {
    "execution": {
     "iopub.execute_input": "2022-03-15T18:41:31.924602Z",
     "iopub.status.busy": "2022-03-15T18:41:31.923614Z",
     "iopub.status.idle": "2022-03-15T18:41:32.474509Z",
     "shell.execute_reply": "2022-03-15T18:41:32.475021Z",
     "shell.execute_reply.started": "2022-03-15T17:10:57.746153Z"
    },
    "papermill": {
     "duration": 5.819813,
     "end_time": "2022-03-15T18:41:32.475198",
     "exception": false,
     "start_time": "2022-03-15T18:41:26.655385",
     "status": "completed"
    },
    "tags": []
   },
   "outputs": [],
   "source": [
    "xgb_predict=xgb.predict(X_test)"
   ]
  },
  {
   "cell_type": "code",
   "execution_count": 147,
   "id": "f1c9c2e5",
   "metadata": {
    "execution": {
     "iopub.execute_input": "2022-03-15T18:41:42.835408Z",
     "iopub.status.busy": "2022-03-15T18:41:42.834804Z",
     "iopub.status.idle": "2022-03-15T18:41:42.837644Z",
     "shell.execute_reply": "2022-03-15T18:41:42.838097Z",
     "shell.execute_reply.started": "2022-03-15T17:10:58.285621Z"
    },
    "papermill": {
     "duration": 5.343198,
     "end_time": "2022-03-15T18:41:42.838237",
     "exception": false,
     "start_time": "2022-03-15T18:41:37.495039",
     "status": "completed"
    },
    "tags": []
   },
   "outputs": [
    {
     "data": {
      "text/plain": [
       "array([2, 2, 2, ..., 2, 2, 2])"
      ]
     },
     "execution_count": 147,
     "metadata": {},
     "output_type": "execute_result"
    }
   ],
   "source": [
    "xgb_predict"
   ]
  },
  {
   "cell_type": "code",
   "execution_count": 148,
   "id": "ff3f2154",
   "metadata": {
    "execution": {
     "iopub.execute_input": "2022-03-15T18:41:53.160251Z",
     "iopub.status.busy": "2022-03-15T18:41:53.159416Z",
     "iopub.status.idle": "2022-03-15T18:41:53.164657Z",
     "shell.execute_reply": "2022-03-15T18:41:53.164221Z",
     "shell.execute_reply.started": "2022-03-15T17:14:12.424414Z"
    },
    "papermill": {
     "duration": 5.312636,
     "end_time": "2022-03-15T18:41:53.164785",
     "exception": false,
     "start_time": "2022-03-15T18:41:47.852149",
     "status": "completed"
    },
    "tags": []
   },
   "outputs": [
    {
     "data": {
      "text/plain": [
       "array([0, 1, 2, 3, 4])"
      ]
     },
     "execution_count": 148,
     "metadata": {},
     "output_type": "execute_result"
    }
   ],
   "source": [
    "np.unique(xgb_predict)"
   ]
  },
  {
   "cell_type": "code",
   "execution_count": 149,
   "id": "037a8b78",
   "metadata": {
    "execution": {
     "iopub.execute_input": "2022-03-15T18:42:04.095452Z",
     "iopub.status.busy": "2022-03-15T18:42:04.094811Z",
     "iopub.status.idle": "2022-03-15T18:42:04.106575Z",
     "shell.execute_reply": "2022-03-15T18:42:04.107379Z",
     "shell.execute_reply.started": "2022-03-15T17:10:58.292911Z"
    },
    "papermill": {
     "duration": 5.477183,
     "end_time": "2022-03-15T18:42:04.107660",
     "exception": false,
     "start_time": "2022-03-15T18:41:58.630477",
     "status": "completed"
    },
    "tags": []
   },
   "outputs": [],
   "source": [
    "submission_file =pd.read_csv('/kaggle/input/sentiment-analysis-on-movie-reviews/sampleSubmission.csv',sep=',')\n",
    "submission_file['Sentiment']=xgb_predict\n",
    "submission_file.to_csv('Submission_XGB.csv',index=False)"
   ]
  },
  {
   "cell_type": "code",
   "execution_count": null,
   "id": "cef0819e",
   "metadata": {
    "papermill": {
     "duration": 5.433251,
     "end_time": "2022-03-15T18:42:14.645281",
     "exception": false,
     "start_time": "2022-03-15T18:42:09.212030",
     "status": "completed"
    },
    "tags": []
   },
   "outputs": [],
   "source": []
  }
 ],
 "metadata": {
  "kernelspec": {
   "display_name": "Python 3",
   "language": "python",
   "name": "python3"
  },
  "language_info": {
   "codemirror_mode": {
    "name": "ipython",
    "version": 3
   },
   "file_extension": ".py",
   "mimetype": "text/x-python",
   "name": "python",
   "nbconvert_exporter": "python",
   "pygments_lexer": "ipython3",
   "version": "3.7.12"
  },
  "papermill": {
   "default_parameters": {},
   "duration": 3179.315058,
   "end_time": "2022-03-15T18:42:23.185155",
   "environment_variables": {},
   "exception": null,
   "input_path": "__notebook__.ipynb",
   "output_path": "__notebook__.ipynb",
   "parameters": {},
   "start_time": "2022-03-15T17:49:23.870097",
   "version": "2.3.3"
  }
 },
 "nbformat": 4,
 "nbformat_minor": 5
}
