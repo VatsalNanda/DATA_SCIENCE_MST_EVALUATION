{
 "cells": [
  {
   "cell_type": "code",
   "execution_count": 1,
   "id": "5e1fa6d4",
   "metadata": {
    "_cell_guid": "b1076dfc-b9ad-4769-8c92-a6c4dae69d19",
    "_uuid": "8f2839f25d086af736a60e9eeb907d3b93b6e0e5",
    "execution": {
     "iopub.execute_input": "2022-03-16T13:57:39.013191Z",
     "iopub.status.busy": "2022-03-16T13:57:39.012005Z",
     "iopub.status.idle": "2022-03-16T13:57:39.017944Z",
     "shell.execute_reply": "2022-03-16T13:57:39.018470Z",
     "shell.execute_reply.started": "2022-03-16T10:58:24.425297Z"
    },
    "papermill": {
     "duration": 0.145812,
     "end_time": "2022-03-16T13:57:39.018695",
     "exception": false,
     "start_time": "2022-03-16T13:57:38.872883",
     "status": "completed"
    },
    "tags": []
   },
   "outputs": [
    {
     "name": "stdout",
     "output_type": "stream",
     "text": [
      "/kaggle/input/sentiment-analysis-on-movie-reviews/sampleSubmission.csv\n",
      "/kaggle/input/sentiment-analysis-on-movie-reviews/train.tsv.zip\n",
      "/kaggle/input/sentiment-analysis-on-movie-reviews/test.tsv.zip\n"
     ]
    }
   ],
   "source": [
    "# This Python 3 environment comes with many helpful analytics libraries installed\n",
    "# It is defined by the kaggle/python Docker image: https://github.com/kaggle/docker-python\n",
    "# For example, here's several helpful packages to load\n",
    "\n",
    "import numpy as np # linear algebra\n",
    "import pandas as pd # data processing, CSV file I/O (e.g. pd.read_csv)\n",
    "\n",
    "# Input data files are available in the read-only \"../input/\" directory\n",
    "# For example, running this (by clicking run or pressing Shift+Enter) will list all files under the input directory\n",
    "\n",
    "import os\n",
    "for dirname, _, filenames in os.walk('/kaggle/input'):\n",
    "    for filename in filenames:\n",
    "        print(os.path.join(dirname, filename))\n",
    "\n",
    "# You can write up to 20GB to the current directory (/kaggle/working/) that gets preserved as output when you create a version using \"Save & Run All\" \n",
    "# You can also write temporary files to /kaggle/temp/, but they won't be saved outside of the current session"
   ]
  },
  {
   "cell_type": "markdown",
   "id": "6b954505",
   "metadata": {
    "papermill": {
     "duration": 0.125629,
     "end_time": "2022-03-16T13:57:39.315473",
     "exception": false,
     "start_time": "2022-03-16T13:57:39.189844",
     "status": "completed"
    },
    "tags": []
   },
   "source": [
    "**Importing the libraries**"
   ]
  },
  {
   "cell_type": "code",
   "execution_count": 2,
   "id": "d07eb6cd",
   "metadata": {
    "execution": {
     "iopub.execute_input": "2022-03-16T13:57:39.612801Z",
     "iopub.status.busy": "2022-03-16T13:57:39.612063Z",
     "iopub.status.idle": "2022-03-16T13:57:48.731419Z",
     "shell.execute_reply": "2022-03-16T13:57:48.730407Z",
     "shell.execute_reply.started": "2022-03-16T10:58:37.891480Z"
    },
    "papermill": {
     "duration": 9.291431,
     "end_time": "2022-03-16T13:57:48.731607",
     "exception": false,
     "start_time": "2022-03-16T13:57:39.440176",
     "status": "completed"
    },
    "tags": []
   },
   "outputs": [],
   "source": [
    "#GPU Libraries\n",
    "import cudf as pd\n",
    "import cupy as cp\n",
    "import cuml\n",
    "from cuml.linear_model import LogisticRegression\n",
    "from cuml.ensemble import RandomForestClassifier as cuRFC\n",
    "from cuml.naive_bayes import MultinomialNB\n",
    "from cuml.svm import SVC\n",
    "from cuml.linear_model import LogisticRegression\n",
    "from cuml.multiclass import MulticlassClassifier\n",
    "from cuml.multiclass import OneVsRestClassifier\n",
    "\n",
    "\n",
    "#Graph Plotting and Visualisation Library\n",
    "import matplotlib.pyplot as plt\n",
    "import seaborn as sns\n",
    "\n",
    "\n",
    "#Text Preprocessing Libraries\n",
    "import nltk\n",
    "from nltk.corpus import stopwords\n",
    "from nltk.stem.porter import PorterStemmer\n",
    "from nltk.tokenize import word_tokenize\n",
    "from sklearn.feature_extraction.text import TfidfVectorizer,CountVectorizer\n",
    "import re\n",
    "import string\n",
    "\n",
    "#Deep Learning Libraries\n",
    "import keras\n",
    "from tensorflow.keras.preprocessing import sequence\n",
    "from tensorflow.keras.models import Sequential\n",
    "from tensorflow.keras.layers import Dense, Embedding\n",
    "from tensorflow.keras.layers import LSTM\n",
    "from tensorflow.keras.utils import to_categorical\n",
    "from tensorflow.keras.preprocessing.text import Tokenizer\n",
    "from tensorflow.keras.preprocessing.sequence import pad_sequences\n",
    "from keras.models import Sequential\n",
    "from keras.layers import Dense\n",
    "from keras.layers import LSTM\n",
    "from keras.layers import Activation\n",
    "from keras.layers import Embedding\n",
    "from keras.layers import Bidirectional\n",
    "from tensorflow.keras.optimizers import Adam\n",
    "from keras.preprocessing import sequence\n",
    "from keras.preprocessing.text import Tokenizer\n",
    "from keras.layers import Dense,Dropout,Embedding,LSTM\n",
    "from keras.callbacks import EarlyStopping\n",
    "from keras.losses import categorical_crossentropy\n",
    "from tensorflow.keras.optimizers import Adam\n",
    "from keras.models import Sequential\n",
    "\n",
    "\n"
   ]
  },
  {
   "cell_type": "markdown",
   "id": "e980ae6c",
   "metadata": {
    "papermill": {
     "duration": 0.1342,
     "end_time": "2022-03-16T13:57:49.001741",
     "exception": false,
     "start_time": "2022-03-16T13:57:48.867541",
     "status": "completed"
    },
    "tags": []
   },
   "source": [
    "**Reading the dataset**"
   ]
  },
  {
   "cell_type": "code",
   "execution_count": 3,
   "id": "3f863a87",
   "metadata": {
    "execution": {
     "iopub.execute_input": "2022-03-16T13:57:49.284410Z",
     "iopub.status.busy": "2022-03-16T13:57:49.283748Z",
     "iopub.status.idle": "2022-03-16T13:57:54.416295Z",
     "shell.execute_reply": "2022-03-16T13:57:54.415814Z",
     "shell.execute_reply.started": "2022-03-16T10:58:46.618874Z"
    },
    "papermill": {
     "duration": 5.276656,
     "end_time": "2022-03-16T13:57:54.416426",
     "exception": false,
     "start_time": "2022-03-16T13:57:49.139770",
     "status": "completed"
    },
    "tags": []
   },
   "outputs": [],
   "source": [
    "train_df=pd.read_csv('/kaggle/input/sentiment-analysis-on-movie-reviews/train.tsv.zip',sep='\\t')\n",
    "test_df=pd.read_csv('/kaggle/input/sentiment-analysis-on-movie-reviews/test.tsv.zip',sep='\\t')"
   ]
  },
  {
   "cell_type": "code",
   "execution_count": 4,
   "id": "6c30b5d4",
   "metadata": {
    "execution": {
     "iopub.execute_input": "2022-03-16T13:57:54.677156Z",
     "iopub.status.busy": "2022-03-16T13:57:54.676277Z",
     "iopub.status.idle": "2022-03-16T13:57:54.706211Z",
     "shell.execute_reply": "2022-03-16T13:57:54.706642Z",
     "shell.execute_reply.started": "2022-03-16T10:58:51.585489Z"
    },
    "papermill": {
     "duration": 0.16593,
     "end_time": "2022-03-16T13:57:54.706790",
     "exception": false,
     "start_time": "2022-03-16T13:57:54.540860",
     "status": "completed"
    },
    "tags": []
   },
   "outputs": [
    {
     "data": {
      "text/html": [
       "<div>\n",
       "<style scoped>\n",
       "    .dataframe tbody tr th:only-of-type {\n",
       "        vertical-align: middle;\n",
       "    }\n",
       "\n",
       "    .dataframe tbody tr th {\n",
       "        vertical-align: top;\n",
       "    }\n",
       "\n",
       "    .dataframe thead th {\n",
       "        text-align: right;\n",
       "    }\n",
       "</style>\n",
       "<table border=\"1\" class=\"dataframe\">\n",
       "  <thead>\n",
       "    <tr style=\"text-align: right;\">\n",
       "      <th></th>\n",
       "      <th>PhraseId</th>\n",
       "      <th>SentenceId</th>\n",
       "      <th>Phrase</th>\n",
       "      <th>Sentiment</th>\n",
       "    </tr>\n",
       "  </thead>\n",
       "  <tbody>\n",
       "    <tr>\n",
       "      <th>0</th>\n",
       "      <td>1</td>\n",
       "      <td>1</td>\n",
       "      <td>A series of escapades demonstrating the adage ...</td>\n",
       "      <td>1</td>\n",
       "    </tr>\n",
       "    <tr>\n",
       "      <th>1</th>\n",
       "      <td>2</td>\n",
       "      <td>1</td>\n",
       "      <td>A series of escapades demonstrating the adage ...</td>\n",
       "      <td>2</td>\n",
       "    </tr>\n",
       "    <tr>\n",
       "      <th>2</th>\n",
       "      <td>3</td>\n",
       "      <td>1</td>\n",
       "      <td>A series</td>\n",
       "      <td>2</td>\n",
       "    </tr>\n",
       "    <tr>\n",
       "      <th>3</th>\n",
       "      <td>4</td>\n",
       "      <td>1</td>\n",
       "      <td>A</td>\n",
       "      <td>2</td>\n",
       "    </tr>\n",
       "    <tr>\n",
       "      <th>4</th>\n",
       "      <td>5</td>\n",
       "      <td>1</td>\n",
       "      <td>series</td>\n",
       "      <td>2</td>\n",
       "    </tr>\n",
       "  </tbody>\n",
       "</table>\n",
       "</div>"
      ],
      "text/plain": [
       "   PhraseId  SentenceId                                             Phrase  \\\n",
       "0         1           1  A series of escapades demonstrating the adage ...   \n",
       "1         2           1  A series of escapades demonstrating the adage ...   \n",
       "2         3           1                                           A series   \n",
       "3         4           1                                                  A   \n",
       "4         5           1                                             series   \n",
       "\n",
       "   Sentiment  \n",
       "0          1  \n",
       "1          2  \n",
       "2          2  \n",
       "3          2  \n",
       "4          2  "
      ]
     },
     "execution_count": 4,
     "metadata": {},
     "output_type": "execute_result"
    }
   ],
   "source": [
    "train_df.head()"
   ]
  },
  {
   "cell_type": "code",
   "execution_count": 5,
   "id": "d6f3eae0",
   "metadata": {
    "execution": {
     "iopub.execute_input": "2022-03-16T13:57:54.958377Z",
     "iopub.status.busy": "2022-03-16T13:57:54.957620Z",
     "iopub.status.idle": "2022-03-16T13:57:54.974277Z",
     "shell.execute_reply": "2022-03-16T13:57:54.973656Z",
     "shell.execute_reply.started": "2022-03-16T10:58:51.626096Z"
    },
    "papermill": {
     "duration": 0.142724,
     "end_time": "2022-03-16T13:57:54.974427",
     "exception": false,
     "start_time": "2022-03-16T13:57:54.831703",
     "status": "completed"
    },
    "tags": []
   },
   "outputs": [
    {
     "name": "stdout",
     "output_type": "stream",
     "text": [
      "<class 'cudf.core.dataframe.DataFrame'>\n",
      "RangeIndex: 156060 entries, 0 to 156059\n",
      "Data columns (total 4 columns):\n",
      " #   Column      Non-Null Count   Dtype\n",
      "---  ------      --------------   -----\n",
      " 0   PhraseId    156060 non-null  int64\n",
      " 1   SentenceId  156060 non-null  int64\n",
      " 2   Phrase      156060 non-null  object\n",
      " 3   Sentiment   156060 non-null  int64\n",
      "dtypes: int64(3), object(1)\n",
      "memory usage: 10.2+ MB\n"
     ]
    }
   ],
   "source": [
    "train_df.info()"
   ]
  },
  {
   "cell_type": "code",
   "execution_count": 6,
   "id": "c23194cd",
   "metadata": {
    "execution": {
     "iopub.execute_input": "2022-03-16T13:57:55.235027Z",
     "iopub.status.busy": "2022-03-16T13:57:55.234499Z",
     "iopub.status.idle": "2022-03-16T13:57:55.847077Z",
     "shell.execute_reply": "2022-03-16T13:57:55.847463Z",
     "shell.execute_reply.started": "2022-03-16T10:58:51.643757Z"
    },
    "papermill": {
     "duration": 0.748031,
     "end_time": "2022-03-16T13:57:55.847613",
     "exception": false,
     "start_time": "2022-03-16T13:57:55.099582",
     "status": "completed"
    },
    "tags": []
   },
   "outputs": [
    {
     "data": {
      "text/html": [
       "<div>\n",
       "<style scoped>\n",
       "    .dataframe tbody tr th:only-of-type {\n",
       "        vertical-align: middle;\n",
       "    }\n",
       "\n",
       "    .dataframe tbody tr th {\n",
       "        vertical-align: top;\n",
       "    }\n",
       "\n",
       "    .dataframe thead th {\n",
       "        text-align: right;\n",
       "    }\n",
       "</style>\n",
       "<table border=\"1\" class=\"dataframe\">\n",
       "  <thead>\n",
       "    <tr style=\"text-align: right;\">\n",
       "      <th></th>\n",
       "      <th>PhraseId</th>\n",
       "      <th>SentenceId</th>\n",
       "      <th>Sentiment</th>\n",
       "    </tr>\n",
       "  </thead>\n",
       "  <tbody>\n",
       "    <tr>\n",
       "      <th>count</th>\n",
       "      <td>156060.000000</td>\n",
       "      <td>156060.000000</td>\n",
       "      <td>156060.000000</td>\n",
       "    </tr>\n",
       "    <tr>\n",
       "      <th>mean</th>\n",
       "      <td>78030.500000</td>\n",
       "      <td>4079.732744</td>\n",
       "      <td>2.063578</td>\n",
       "    </tr>\n",
       "    <tr>\n",
       "      <th>std</th>\n",
       "      <td>45050.785842</td>\n",
       "      <td>2502.764394</td>\n",
       "      <td>0.893832</td>\n",
       "    </tr>\n",
       "    <tr>\n",
       "      <th>min</th>\n",
       "      <td>1.000000</td>\n",
       "      <td>1.000000</td>\n",
       "      <td>0.000000</td>\n",
       "    </tr>\n",
       "    <tr>\n",
       "      <th>25%</th>\n",
       "      <td>39015.750000</td>\n",
       "      <td>1861.750000</td>\n",
       "      <td>2.000000</td>\n",
       "    </tr>\n",
       "    <tr>\n",
       "      <th>50%</th>\n",
       "      <td>78030.500000</td>\n",
       "      <td>4017.000000</td>\n",
       "      <td>2.000000</td>\n",
       "    </tr>\n",
       "    <tr>\n",
       "      <th>75%</th>\n",
       "      <td>117045.250000</td>\n",
       "      <td>6244.000000</td>\n",
       "      <td>3.000000</td>\n",
       "    </tr>\n",
       "    <tr>\n",
       "      <th>max</th>\n",
       "      <td>156060.000000</td>\n",
       "      <td>8544.000000</td>\n",
       "      <td>4.000000</td>\n",
       "    </tr>\n",
       "  </tbody>\n",
       "</table>\n",
       "</div>"
      ],
      "text/plain": [
       "            PhraseId     SentenceId      Sentiment\n",
       "count  156060.000000  156060.000000  156060.000000\n",
       "mean    78030.500000    4079.732744       2.063578\n",
       "std     45050.785842    2502.764394       0.893832\n",
       "min         1.000000       1.000000       0.000000\n",
       "25%     39015.750000    1861.750000       2.000000\n",
       "50%     78030.500000    4017.000000       2.000000\n",
       "75%    117045.250000    6244.000000       3.000000\n",
       "max    156060.000000    8544.000000       4.000000"
      ]
     },
     "execution_count": 6,
     "metadata": {},
     "output_type": "execute_result"
    }
   ],
   "source": [
    "train_df.describe()"
   ]
  },
  {
   "cell_type": "code",
   "execution_count": 7,
   "id": "4390addc",
   "metadata": {
    "execution": {
     "iopub.execute_input": "2022-03-16T13:57:56.102741Z",
     "iopub.status.busy": "2022-03-16T13:57:56.102132Z",
     "iopub.status.idle": "2022-03-16T13:57:56.104812Z",
     "shell.execute_reply": "2022-03-16T13:57:56.105212Z",
     "shell.execute_reply.started": "2022-03-16T10:58:52.430448Z"
    },
    "papermill": {
     "duration": 0.133775,
     "end_time": "2022-03-16T13:57:56.105342",
     "exception": false,
     "start_time": "2022-03-16T13:57:55.971567",
     "status": "completed"
    },
    "tags": []
   },
   "outputs": [
    {
     "data": {
      "text/plain": [
       "(156060, 4)"
      ]
     },
     "execution_count": 7,
     "metadata": {},
     "output_type": "execute_result"
    }
   ],
   "source": [
    "train_df.shape"
   ]
  },
  {
   "cell_type": "code",
   "execution_count": 8,
   "id": "28251376",
   "metadata": {
    "execution": {
     "iopub.execute_input": "2022-03-16T13:57:56.362796Z",
     "iopub.status.busy": "2022-03-16T13:57:56.362032Z",
     "iopub.status.idle": "2022-03-16T13:57:56.375104Z",
     "shell.execute_reply": "2022-03-16T13:57:56.374677Z",
     "shell.execute_reply.started": "2022-03-16T10:58:52.437602Z"
    },
    "papermill": {
     "duration": 0.145436,
     "end_time": "2022-03-16T13:57:56.375208",
     "exception": false,
     "start_time": "2022-03-16T13:57:56.229772",
     "status": "completed"
    },
    "tags": []
   },
   "outputs": [
    {
     "data": {
      "text/html": [
       "<div>\n",
       "<style scoped>\n",
       "    .dataframe tbody tr th:only-of-type {\n",
       "        vertical-align: middle;\n",
       "    }\n",
       "\n",
       "    .dataframe tbody tr th {\n",
       "        vertical-align: top;\n",
       "    }\n",
       "\n",
       "    .dataframe thead th {\n",
       "        text-align: right;\n",
       "    }\n",
       "</style>\n",
       "<table border=\"1\" class=\"dataframe\">\n",
       "  <thead>\n",
       "    <tr style=\"text-align: right;\">\n",
       "      <th></th>\n",
       "      <th>PhraseId</th>\n",
       "      <th>SentenceId</th>\n",
       "      <th>Phrase</th>\n",
       "    </tr>\n",
       "  </thead>\n",
       "  <tbody>\n",
       "    <tr>\n",
       "      <th>0</th>\n",
       "      <td>156061</td>\n",
       "      <td>8545</td>\n",
       "      <td>An intermittently pleasing but mostly routine ...</td>\n",
       "    </tr>\n",
       "    <tr>\n",
       "      <th>1</th>\n",
       "      <td>156062</td>\n",
       "      <td>8545</td>\n",
       "      <td>An intermittently pleasing but mostly routine ...</td>\n",
       "    </tr>\n",
       "    <tr>\n",
       "      <th>2</th>\n",
       "      <td>156063</td>\n",
       "      <td>8545</td>\n",
       "      <td>An</td>\n",
       "    </tr>\n",
       "    <tr>\n",
       "      <th>3</th>\n",
       "      <td>156064</td>\n",
       "      <td>8545</td>\n",
       "      <td>intermittently pleasing but mostly routine effort</td>\n",
       "    </tr>\n",
       "    <tr>\n",
       "      <th>4</th>\n",
       "      <td>156065</td>\n",
       "      <td>8545</td>\n",
       "      <td>intermittently pleasing but mostly routine</td>\n",
       "    </tr>\n",
       "  </tbody>\n",
       "</table>\n",
       "</div>"
      ],
      "text/plain": [
       "   PhraseId  SentenceId                                             Phrase\n",
       "0    156061        8545  An intermittently pleasing but mostly routine ...\n",
       "1    156062        8545  An intermittently pleasing but mostly routine ...\n",
       "2    156063        8545                                                 An\n",
       "3    156064        8545  intermittently pleasing but mostly routine effort\n",
       "4    156065        8545         intermittently pleasing but mostly routine"
      ]
     },
     "execution_count": 8,
     "metadata": {},
     "output_type": "execute_result"
    }
   ],
   "source": [
    "test_df.head()"
   ]
  },
  {
   "cell_type": "code",
   "execution_count": 9,
   "id": "25a448f3",
   "metadata": {
    "execution": {
     "iopub.execute_input": "2022-03-16T13:57:56.630383Z",
     "iopub.status.busy": "2022-03-16T13:57:56.629598Z",
     "iopub.status.idle": "2022-03-16T13:57:56.637019Z",
     "shell.execute_reply": "2022-03-16T13:57:56.637703Z",
     "shell.execute_reply.started": "2022-03-16T10:58:52.459178Z"
    },
    "papermill": {
     "duration": 0.137371,
     "end_time": "2022-03-16T13:57:56.637874",
     "exception": false,
     "start_time": "2022-03-16T13:57:56.500503",
     "status": "completed"
    },
    "tags": []
   },
   "outputs": [
    {
     "name": "stdout",
     "output_type": "stream",
     "text": [
      "<class 'cudf.core.dataframe.DataFrame'>\n",
      "RangeIndex: 66292 entries, 0 to 66291\n",
      "Data columns (total 3 columns):\n",
      " #   Column      Non-Null Count  Dtype\n",
      "---  ------      --------------  -----\n",
      " 0   PhraseId    66292 non-null  int64\n",
      " 1   SentenceId  66292 non-null  int64\n",
      " 2   Phrase      66292 non-null  object\n",
      "dtypes: int64(2), object(1)\n",
      "memory usage: 3.6+ MB\n"
     ]
    }
   ],
   "source": [
    "test_df.info()"
   ]
  },
  {
   "cell_type": "code",
   "execution_count": 10,
   "id": "fa20c395",
   "metadata": {
    "execution": {
     "iopub.execute_input": "2022-03-16T13:57:56.895734Z",
     "iopub.status.busy": "2022-03-16T13:57:56.894913Z",
     "iopub.status.idle": "2022-03-16T13:57:56.926891Z",
     "shell.execute_reply": "2022-03-16T13:57:56.926478Z",
     "shell.execute_reply.started": "2022-03-16T10:58:52.472527Z"
    },
    "papermill": {
     "duration": 0.162372,
     "end_time": "2022-03-16T13:57:56.927011",
     "exception": false,
     "start_time": "2022-03-16T13:57:56.764639",
     "status": "completed"
    },
    "tags": []
   },
   "outputs": [
    {
     "data": {
      "text/html": [
       "<div>\n",
       "<style scoped>\n",
       "    .dataframe tbody tr th:only-of-type {\n",
       "        vertical-align: middle;\n",
       "    }\n",
       "\n",
       "    .dataframe tbody tr th {\n",
       "        vertical-align: top;\n",
       "    }\n",
       "\n",
       "    .dataframe thead th {\n",
       "        text-align: right;\n",
       "    }\n",
       "</style>\n",
       "<table border=\"1\" class=\"dataframe\">\n",
       "  <thead>\n",
       "    <tr style=\"text-align: right;\">\n",
       "      <th></th>\n",
       "      <th>PhraseId</th>\n",
       "      <th>SentenceId</th>\n",
       "    </tr>\n",
       "  </thead>\n",
       "  <tbody>\n",
       "    <tr>\n",
       "      <th>count</th>\n",
       "      <td>66292.00000</td>\n",
       "      <td>66292.000000</td>\n",
       "    </tr>\n",
       "    <tr>\n",
       "      <th>mean</th>\n",
       "      <td>189206.50000</td>\n",
       "      <td>10114.909144</td>\n",
       "    </tr>\n",
       "    <tr>\n",
       "      <th>std</th>\n",
       "      <td>19136.99636</td>\n",
       "      <td>966.787807</td>\n",
       "    </tr>\n",
       "    <tr>\n",
       "      <th>min</th>\n",
       "      <td>156061.00000</td>\n",
       "      <td>8545.000000</td>\n",
       "    </tr>\n",
       "    <tr>\n",
       "      <th>25%</th>\n",
       "      <td>172633.75000</td>\n",
       "      <td>9266.000000</td>\n",
       "    </tr>\n",
       "    <tr>\n",
       "      <th>50%</th>\n",
       "      <td>189206.50000</td>\n",
       "      <td>10086.000000</td>\n",
       "    </tr>\n",
       "    <tr>\n",
       "      <th>75%</th>\n",
       "      <td>205779.25000</td>\n",
       "      <td>10941.000000</td>\n",
       "    </tr>\n",
       "    <tr>\n",
       "      <th>max</th>\n",
       "      <td>222352.00000</td>\n",
       "      <td>11855.000000</td>\n",
       "    </tr>\n",
       "  </tbody>\n",
       "</table>\n",
       "</div>"
      ],
      "text/plain": [
       "           PhraseId    SentenceId\n",
       "count   66292.00000  66292.000000\n",
       "mean   189206.50000  10114.909144\n",
       "std     19136.99636    966.787807\n",
       "min    156061.00000   8545.000000\n",
       "25%    172633.75000   9266.000000\n",
       "50%    189206.50000  10086.000000\n",
       "75%    205779.25000  10941.000000\n",
       "max    222352.00000  11855.000000"
      ]
     },
     "execution_count": 10,
     "metadata": {},
     "output_type": "execute_result"
    }
   ],
   "source": [
    "test_df.describe()"
   ]
  },
  {
   "cell_type": "code",
   "execution_count": 11,
   "id": "f182c625",
   "metadata": {
    "execution": {
     "iopub.execute_input": "2022-03-16T13:57:57.186308Z",
     "iopub.status.busy": "2022-03-16T13:57:57.185705Z",
     "iopub.status.idle": "2022-03-16T13:57:57.188210Z",
     "shell.execute_reply": "2022-03-16T13:57:57.188639Z",
     "shell.execute_reply.started": "2022-03-16T10:58:52.515018Z"
    },
    "papermill": {
     "duration": 0.135263,
     "end_time": "2022-03-16T13:57:57.188770",
     "exception": false,
     "start_time": "2022-03-16T13:57:57.053507",
     "status": "completed"
    },
    "tags": []
   },
   "outputs": [
    {
     "data": {
      "text/plain": [
       "(66292, 3)"
      ]
     },
     "execution_count": 11,
     "metadata": {},
     "output_type": "execute_result"
    }
   ],
   "source": [
    "test_df.shape"
   ]
  },
  {
   "cell_type": "markdown",
   "id": "5b86eb31",
   "metadata": {
    "papermill": {
     "duration": 0.125788,
     "end_time": "2022-03-16T13:57:57.441341",
     "exception": false,
     "start_time": "2022-03-16T13:57:57.315553",
     "status": "completed"
    },
    "tags": []
   },
   "source": [
    "**DATA PREPROCESSING**"
   ]
  },
  {
   "cell_type": "code",
   "execution_count": 12,
   "id": "be896a74",
   "metadata": {
    "execution": {
     "iopub.execute_input": "2022-03-16T13:57:57.697344Z",
     "iopub.status.busy": "2022-03-16T13:57:57.696785Z",
     "iopub.status.idle": "2022-03-16T13:57:57.706948Z",
     "shell.execute_reply": "2022-03-16T13:57:57.706514Z",
     "shell.execute_reply.started": "2022-03-16T10:58:52.522204Z"
    },
    "papermill": {
     "duration": 0.140237,
     "end_time": "2022-03-16T13:57:57.707066",
     "exception": false,
     "start_time": "2022-03-16T13:57:57.566829",
     "status": "completed"
    },
    "tags": []
   },
   "outputs": [
    {
     "data": {
      "text/plain": [
       "PhraseId      0\n",
       "SentenceId    0\n",
       "Phrase        0\n",
       "Sentiment     0\n",
       "dtype: uint64"
      ]
     },
     "execution_count": 12,
     "metadata": {},
     "output_type": "execute_result"
    }
   ],
   "source": [
    "#Checking the sum of null values in the train and test dataset\n",
    "train_df.isnull().sum()"
   ]
  },
  {
   "cell_type": "code",
   "execution_count": 13,
   "id": "1c4b27b6",
   "metadata": {
    "execution": {
     "iopub.execute_input": "2022-03-16T13:57:57.964732Z",
     "iopub.status.busy": "2022-03-16T13:57:57.963855Z",
     "iopub.status.idle": "2022-03-16T13:57:57.972219Z",
     "shell.execute_reply": "2022-03-16T13:57:57.971803Z",
     "shell.execute_reply.started": "2022-03-16T10:58:52.538526Z"
    },
    "papermill": {
     "duration": 0.138257,
     "end_time": "2022-03-16T13:57:57.972332",
     "exception": false,
     "start_time": "2022-03-16T13:57:57.834075",
     "status": "completed"
    },
    "tags": []
   },
   "outputs": [
    {
     "data": {
      "text/plain": [
       "PhraseId      0\n",
       "SentenceId    0\n",
       "Phrase        0\n",
       "dtype: uint64"
      ]
     },
     "execution_count": 13,
     "metadata": {},
     "output_type": "execute_result"
    }
   ],
   "source": [
    "test_df.isnull().sum()"
   ]
  },
  {
   "cell_type": "code",
   "execution_count": 14,
   "id": "2ca60750",
   "metadata": {
    "execution": {
     "iopub.execute_input": "2022-03-16T13:57:58.232356Z",
     "iopub.status.busy": "2022-03-16T13:57:58.230914Z",
     "iopub.status.idle": "2022-03-16T13:57:58.236936Z",
     "shell.execute_reply": "2022-03-16T13:57:58.237291Z",
     "shell.execute_reply.started": "2022-03-16T10:58:52.551247Z"
    },
    "papermill": {
     "duration": 0.136501,
     "end_time": "2022-03-16T13:57:58.237418",
     "exception": false,
     "start_time": "2022-03-16T13:57:58.100917",
     "status": "completed"
    },
    "tags": []
   },
   "outputs": [
    {
     "data": {
      "text/plain": [
       "False"
      ]
     },
     "execution_count": 14,
     "metadata": {},
     "output_type": "execute_result"
    }
   ],
   "source": [
    "train_df.isnull().any().any()"
   ]
  },
  {
   "cell_type": "code",
   "execution_count": 15,
   "id": "8d3b9aaa",
   "metadata": {
    "execution": {
     "iopub.execute_input": "2022-03-16T13:57:58.494587Z",
     "iopub.status.busy": "2022-03-16T13:57:58.493778Z",
     "iopub.status.idle": "2022-03-16T13:57:58.501118Z",
     "shell.execute_reply": "2022-03-16T13:57:58.500617Z",
     "shell.execute_reply.started": "2022-03-16T10:58:52.562894Z"
    },
    "papermill": {
     "duration": 0.136614,
     "end_time": "2022-03-16T13:57:58.501226",
     "exception": false,
     "start_time": "2022-03-16T13:57:58.364612",
     "status": "completed"
    },
    "tags": []
   },
   "outputs": [
    {
     "data": {
      "text/plain": [
       "False"
      ]
     },
     "execution_count": 15,
     "metadata": {},
     "output_type": "execute_result"
    }
   ],
   "source": [
    "test_df.isnull().any().any()"
   ]
  },
  {
   "cell_type": "markdown",
   "id": "12c1fb62",
   "metadata": {
    "papermill": {
     "duration": 0.142899,
     "end_time": "2022-03-16T13:57:58.772482",
     "exception": false,
     "start_time": "2022-03-16T13:57:58.629583",
     "status": "completed"
    },
    "tags": []
   },
   "source": [
    "There are no null values in the dataset"
   ]
  },
  {
   "cell_type": "markdown",
   "id": "59611dd8",
   "metadata": {
    "papermill": {
     "duration": 0.137702,
     "end_time": "2022-03-16T13:57:59.052800",
     "exception": false,
     "start_time": "2022-03-16T13:57:58.915098",
     "status": "completed"
    },
    "tags": []
   },
   "source": [
    "The sentiment labels are:\n",
    "\n",
    "0 - negative\n",
    "\n",
    "1 - somewhat negative\n",
    "\n",
    "2 - neutral\n",
    "\n",
    "3 - somewhat positive\n",
    "\n",
    "4 - positive"
   ]
  },
  {
   "cell_type": "code",
   "execution_count": 16,
   "id": "5120e8f0",
   "metadata": {
    "execution": {
     "iopub.execute_input": "2022-03-16T13:57:59.324111Z",
     "iopub.status.busy": "2022-03-16T13:57:59.323558Z",
     "iopub.status.idle": "2022-03-16T13:57:59.343022Z",
     "shell.execute_reply": "2022-03-16T13:57:59.343488Z",
     "shell.execute_reply.started": "2022-03-16T10:58:52.574844Z"
    },
    "papermill": {
     "duration": 0.153722,
     "end_time": "2022-03-16T13:57:59.343628",
     "exception": false,
     "start_time": "2022-03-16T13:57:59.189906",
     "status": "completed"
    },
    "tags": []
   },
   "outputs": [
    {
     "data": {
      "text/plain": [
       "2    79582\n",
       "3    32927\n",
       "1    27273\n",
       "4     9206\n",
       "0     7072\n",
       "Name: Sentiment, dtype: int32"
      ]
     },
     "execution_count": 16,
     "metadata": {},
     "output_type": "execute_result"
    }
   ],
   "source": [
    "train_df['Sentiment'].value_counts()"
   ]
  },
  {
   "cell_type": "markdown",
   "id": "dea08851",
   "metadata": {
    "papermill": {
     "duration": 0.127583,
     "end_time": "2022-03-16T13:57:59.598511",
     "exception": false,
     "start_time": "2022-03-16T13:57:59.470928",
     "status": "completed"
    },
    "tags": []
   },
   "source": [
    "We see that label-2 which is the neutral label, has the highest number of examples"
   ]
  },
  {
   "cell_type": "code",
   "execution_count": 17,
   "id": "0ab1ea5a",
   "metadata": {
    "execution": {
     "iopub.execute_input": "2022-03-16T13:57:59.862339Z",
     "iopub.status.busy": "2022-03-16T13:57:59.861609Z",
     "iopub.status.idle": "2022-03-16T13:58:00.130130Z",
     "shell.execute_reply": "2022-03-16T13:58:00.130599Z",
     "shell.execute_reply.started": "2022-03-16T10:58:52.600618Z"
    },
    "papermill": {
     "duration": 0.401592,
     "end_time": "2022-03-16T13:58:00.130760",
     "exception": false,
     "start_time": "2022-03-16T13:57:59.729168",
     "status": "completed"
    },
    "tags": []
   },
   "outputs": [
    {
     "data": {
      "text/plain": [
       "<AxesSubplot:xlabel='Sentiment', ylabel='count'>"
      ]
     },
     "execution_count": 17,
     "metadata": {},
     "output_type": "execute_result"
    },
    {
     "data": {
      "image/png": "[encoded data removed]",
      "text/plain": [
       "<Figure size 432x288 with 1 Axes>"
      ]
     },
     "metadata": {
      "needs_background": "light"
     },
     "output_type": "display_data"
    }
   ],
   "source": [
    "train=train_df.to_pandas()\n",
    "sns.countplot(x ='Sentiment', data = train)"
   ]
  },
  {
   "cell_type": "code",
   "execution_count": 18,
   "id": "a5a868f6",
   "metadata": {
    "execution": {
     "iopub.execute_input": "2022-03-16T13:58:00.392788Z",
     "iopub.status.busy": "2022-03-16T13:58:00.392070Z",
     "iopub.status.idle": "2022-03-16T13:58:01.307794Z",
     "shell.execute_reply": "2022-03-16T13:58:01.308169Z",
     "shell.execute_reply.started": "2022-03-16T10:58:52.895736Z"
    },
    "papermill": {
     "duration": 1.048486,
     "end_time": "2022-03-16T13:58:01.308321",
     "exception": false,
     "start_time": "2022-03-16T13:58:00.259835",
     "status": "completed"
    },
    "tags": []
   },
   "outputs": [
    {
     "data": {
      "text/plain": [
       "'A series of escapades demonstrating the adage that what is good for the goose is also good for the gander , some of which occasionally amuses but none of which amounts to much of a story .'"
      ]
     },
     "execution_count": 18,
     "metadata": {},
     "output_type": "execute_result"
    }
   ],
   "source": [
    "train_df['Phrase'][0]"
   ]
  },
  {
   "cell_type": "markdown",
   "id": "f7ac7bcc",
   "metadata": {
    "papermill": {
     "duration": 0.127622,
     "end_time": "2022-03-16T13:58:01.565483",
     "exception": false,
     "start_time": "2022-03-16T13:58:01.437861",
     "status": "completed"
    },
    "tags": []
   },
   "source": [
    "**Text Preprocessing**"
   ]
  },
  {
   "cell_type": "markdown",
   "id": "967cc048",
   "metadata": {
    "papermill": {
     "duration": 0.131245,
     "end_time": "2022-03-16T13:58:01.825585",
     "exception": false,
     "start_time": "2022-03-16T13:58:01.694340",
     "status": "completed"
    },
    "tags": []
   },
   "source": [
    "Steps-\n",
    "\n",
    "1) Remove Punctuations\n",
    "\n",
    "2) Remove HTML Tags\n",
    "\n",
    "3) Convert text to lowercase\n",
    "\n",
    "4) Remove all special characters \n",
    "\n",
    "5) Remove stopwords\n",
    "\n",
    "6) Perform Stemming\n",
    "\n",
    "7) Join back after stemming"
   ]
  },
  {
   "cell_type": "code",
   "execution_count": 19,
   "id": "79d5c1e9",
   "metadata": {
    "execution": {
     "iopub.execute_input": "2022-03-16T13:58:02.102890Z",
     "iopub.status.busy": "2022-03-16T13:58:02.102318Z",
     "iopub.status.idle": "2022-03-16T13:58:03.384207Z",
     "shell.execute_reply": "2022-03-16T13:58:03.383803Z",
     "shell.execute_reply.started": "2022-03-16T10:58:54.030327Z"
    },
    "papermill": {
     "duration": 1.42959,
     "end_time": "2022-03-16T13:58:03.384327",
     "exception": false,
     "start_time": "2022-03-16T13:58:01.954737",
     "status": "completed"
    },
    "tags": []
   },
   "outputs": [
    {
     "data": {
      "text/plain": [
       "<AxesSubplot:>"
      ]
     },
     "execution_count": 19,
     "metadata": {},
     "output_type": "execute_result"
    },
    {
     "data": {
      "image/png": "[encoded data removed]",
      "text/plain": [
       "<Figure size 432x288 with 2 Axes>"
      ]
     },
     "metadata": {
      "needs_background": "light"
     },
     "output_type": "display_data"
    }
   ],
   "source": [
    "sns.heatmap(train.isnull(),cmap='plasma')"
   ]
  },
  {
   "cell_type": "code",
   "execution_count": 20,
   "id": "9165222b",
   "metadata": {
    "execution": {
     "iopub.execute_input": "2022-03-16T13:58:03.647397Z",
     "iopub.status.busy": "2022-03-16T13:58:03.646667Z",
     "iopub.status.idle": "2022-03-16T13:58:03.682029Z",
     "shell.execute_reply": "2022-03-16T13:58:03.681552Z",
     "shell.execute_reply.started": "2022-03-16T10:58:55.216620Z"
    },
    "papermill": {
     "duration": 0.167615,
     "end_time": "2022-03-16T13:58:03.682147",
     "exception": false,
     "start_time": "2022-03-16T13:58:03.514532",
     "status": "completed"
    },
    "tags": []
   },
   "outputs": [],
   "source": [
    "test=test_df.to_pandas()"
   ]
  },
  {
   "cell_type": "code",
   "execution_count": 21,
   "id": "f7393a7f",
   "metadata": {
    "execution": {
     "iopub.execute_input": "2022-03-16T13:58:03.954978Z",
     "iopub.status.busy": "2022-03-16T13:58:03.954163Z",
     "iopub.status.idle": "2022-03-16T13:58:04.526381Z",
     "shell.execute_reply": "2022-03-16T13:58:04.526784Z",
     "shell.execute_reply.started": "2022-03-16T10:58:55.255562Z"
    },
    "papermill": {
     "duration": 0.713613,
     "end_time": "2022-03-16T13:58:04.526934",
     "exception": false,
     "start_time": "2022-03-16T13:58:03.813321",
     "status": "completed"
    },
    "tags": []
   },
   "outputs": [
    {
     "data": {
      "text/plain": [
       "<AxesSubplot:>"
      ]
     },
     "execution_count": 21,
     "metadata": {},
     "output_type": "execute_result"
    },
    {
     "data": {
      "image/png": "[encoded data removed]",
      "text/plain": [
       "<Figure size 432x288 with 2 Axes>"
      ]
     },
     "metadata": {
      "needs_background": "light"
     },
     "output_type": "display_data"
    }
   ],
   "source": [
    "sns.heatmap(test.isnull(),cmap='plasma')"
   ]
  },
  {
   "cell_type": "code",
   "execution_count": 22,
   "id": "7b3fddbb",
   "metadata": {
    "execution": {
     "iopub.execute_input": "2022-03-16T13:58:04.803781Z",
     "iopub.status.busy": "2022-03-16T13:58:04.803141Z",
     "iopub.status.idle": "2022-03-16T13:58:04.806004Z",
     "shell.execute_reply": "2022-03-16T13:58:04.806506Z",
     "shell.execute_reply.started": "2022-03-16T10:58:55.810533Z"
    },
    "papermill": {
     "duration": 0.142447,
     "end_time": "2022-03-16T13:58:04.806692",
     "exception": false,
     "start_time": "2022-03-16T13:58:04.664245",
     "status": "completed"
    },
    "tags": []
   },
   "outputs": [
    {
     "data": {
      "text/plain": [
       "'!\"#$%&\\'()*+,-./:;<=>?@[\\\\]^_`{|}~'"
      ]
     },
     "execution_count": 22,
     "metadata": {},
     "output_type": "execute_result"
    }
   ],
   "source": [
    "import string\n",
    "import re\n",
    "string.punctuation"
   ]
  },
  {
   "cell_type": "code",
   "execution_count": 23,
   "id": "b4dffd85",
   "metadata": {
    "execution": {
     "iopub.execute_input": "2022-03-16T13:58:05.078183Z",
     "iopub.status.busy": "2022-03-16T13:58:05.077317Z",
     "iopub.status.idle": "2022-03-16T13:58:05.818286Z",
     "shell.execute_reply": "2022-03-16T13:58:05.817705Z",
     "shell.execute_reply.started": "2022-03-16T10:58:55.817520Z"
    },
    "papermill": {
     "duration": 0.878555,
     "end_time": "2022-03-16T13:58:05.818435",
     "exception": false,
     "start_time": "2022-03-16T13:58:04.939880",
     "status": "completed"
    },
    "tags": []
   },
   "outputs": [],
   "source": [
    "#removing punctuations\n",
    "train['Phrase']=train['Phrase'].apply(lambda x: x.translate(str.maketrans('','',string.punctuation)).lower())\n",
    "#removing punctuations\n",
    "test['Phrase']=test['Phrase'].apply(lambda x: x.translate(str.maketrans('','',string.punctuation)).lower())"
   ]
  },
  {
   "cell_type": "code",
   "execution_count": 24,
   "id": "0172cd51",
   "metadata": {
    "execution": {
     "iopub.execute_input": "2022-03-16T13:58:06.089332Z",
     "iopub.status.busy": "2022-03-16T13:58:06.087789Z",
     "iopub.status.idle": "2022-03-16T13:58:06.089955Z",
     "shell.execute_reply": "2022-03-16T13:58:06.090339Z",
     "shell.execute_reply.started": "2022-03-16T10:58:56.543184Z"
    },
    "papermill": {
     "duration": 0.139096,
     "end_time": "2022-03-16T13:58:06.090494",
     "exception": false,
     "start_time": "2022-03-16T13:58:05.951398",
     "status": "completed"
    },
    "tags": []
   },
   "outputs": [],
   "source": [
    "#remove html tags\n",
    "def clean_html(text):\n",
    "    clean=re.compile('<.*?>')\n",
    "    return re.sub(clean,'',text)"
   ]
  },
  {
   "cell_type": "code",
   "execution_count": 25,
   "id": "98faf849",
   "metadata": {
    "execution": {
     "iopub.execute_input": "2022-03-16T13:58:06.364551Z",
     "iopub.status.busy": "2022-03-16T13:58:06.363790Z",
     "iopub.status.idle": "2022-03-16T13:58:06.912934Z",
     "shell.execute_reply": "2022-03-16T13:58:06.912373Z",
     "shell.execute_reply.started": "2022-03-16T10:58:56.549525Z"
    },
    "papermill": {
     "duration": 0.691385,
     "end_time": "2022-03-16T13:58:06.913074",
     "exception": false,
     "start_time": "2022-03-16T13:58:06.221689",
     "status": "completed"
    },
    "tags": []
   },
   "outputs": [],
   "source": [
    "train['Phrase']=train['Phrase'].apply(clean_html)\n",
    "test['Phrase']=test['Phrase'].apply(clean_html)"
   ]
  },
  {
   "cell_type": "code",
   "execution_count": 26,
   "id": "cd39e430",
   "metadata": {
    "execution": {
     "iopub.execute_input": "2022-03-16T13:58:07.196178Z",
     "iopub.status.busy": "2022-03-16T13:58:07.195462Z",
     "iopub.status.idle": "2022-03-16T13:58:07.198072Z",
     "shell.execute_reply": "2022-03-16T13:58:07.197669Z",
     "shell.execute_reply.started": "2022-03-16T10:58:57.109113Z"
    },
    "papermill": {
     "duration": 0.139194,
     "end_time": "2022-03-16T13:58:07.198181",
     "exception": false,
     "start_time": "2022-03-16T13:58:07.058987",
     "status": "completed"
    },
    "tags": []
   },
   "outputs": [],
   "source": [
    "#convert text to lowercase\n",
    "def convert_lower(text):\n",
    "    return text.lower()"
   ]
  },
  {
   "cell_type": "code",
   "execution_count": 27,
   "id": "a3713e69",
   "metadata": {
    "execution": {
     "iopub.execute_input": "2022-03-16T13:58:07.467262Z",
     "iopub.status.busy": "2022-03-16T13:58:07.466537Z",
     "iopub.status.idle": "2022-03-16T13:58:07.544621Z",
     "shell.execute_reply": "2022-03-16T13:58:07.544015Z",
     "shell.execute_reply.started": "2022-03-16T10:58:57.114458Z"
    },
    "papermill": {
     "duration": 0.214565,
     "end_time": "2022-03-16T13:58:07.544746",
     "exception": false,
     "start_time": "2022-03-16T13:58:07.330181",
     "status": "completed"
    },
    "tags": []
   },
   "outputs": [],
   "source": [
    "train['Phrase']=train['Phrase'].apply(convert_lower)\n",
    "test['Phrase']=test['Phrase'].apply(convert_lower)"
   ]
  },
  {
   "cell_type": "code",
   "execution_count": 28,
   "id": "21d704cb",
   "metadata": {
    "execution": {
     "iopub.execute_input": "2022-03-16T13:58:07.814120Z",
     "iopub.status.busy": "2022-03-16T13:58:07.813312Z",
     "iopub.status.idle": "2022-03-16T13:58:07.815245Z",
     "shell.execute_reply": "2022-03-16T13:58:07.815653Z",
     "shell.execute_reply.started": "2022-03-16T10:58:57.203880Z"
    },
    "papermill": {
     "duration": 0.138636,
     "end_time": "2022-03-16T13:58:07.815781",
     "exception": false,
     "start_time": "2022-03-16T13:58:07.677145",
     "status": "completed"
    },
    "tags": []
   },
   "outputs": [],
   "source": [
    "#remove special characters\n",
    "def remove_special(text):\n",
    "    x=''\n",
    "    \n",
    "    for i in text:\n",
    "        if i.isalnum():\n",
    "            x=x+i\n",
    "        else:\n",
    "            x=x+' '\n",
    "    return x"
   ]
  },
  {
   "cell_type": "code",
   "execution_count": 29,
   "id": "1e4ee5a8",
   "metadata": {
    "execution": {
     "iopub.execute_input": "2022-03-16T13:58:08.115358Z",
     "iopub.status.busy": "2022-03-16T13:58:08.100046Z",
     "iopub.status.idle": "2022-03-16T13:58:09.435145Z",
     "shell.execute_reply": "2022-03-16T13:58:09.434630Z",
     "shell.execute_reply.started": "2022-03-16T10:58:57.215517Z"
    },
    "papermill": {
     "duration": 1.47881,
     "end_time": "2022-03-16T13:58:09.435279",
     "exception": false,
     "start_time": "2022-03-16T13:58:07.956469",
     "status": "completed"
    },
    "tags": []
   },
   "outputs": [],
   "source": [
    "train['Phrase']=train['Phrase'].apply(remove_special)\n",
    "test['Phrase']=test['Phrase'].apply(remove_special)"
   ]
  },
  {
   "cell_type": "code",
   "execution_count": 30,
   "id": "8af770ec",
   "metadata": {
    "execution": {
     "iopub.execute_input": "2022-03-16T13:58:09.712962Z",
     "iopub.status.busy": "2022-03-16T13:58:09.712289Z",
     "iopub.status.idle": "2022-03-16T13:58:09.724860Z",
     "shell.execute_reply": "2022-03-16T13:58:09.724365Z",
     "shell.execute_reply.started": "2022-03-16T10:58:58.544317Z"
    },
    "papermill": {
     "duration": 0.155585,
     "end_time": "2022-03-16T13:58:09.724978",
     "exception": false,
     "start_time": "2022-03-16T13:58:09.569393",
     "status": "completed"
    },
    "tags": []
   },
   "outputs": [
    {
     "data": {
      "text/plain": [
       "['i',\n",
       " 'me',\n",
       " 'my',\n",
       " 'myself',\n",
       " 'we',\n",
       " 'our',\n",
       " 'ours',\n",
       " 'ourselves',\n",
       " 'you',\n",
       " \"you're\",\n",
       " \"you've\",\n",
       " \"you'll\",\n",
       " \"you'd\",\n",
       " 'your',\n",
       " 'yours',\n",
       " 'yourself',\n",
       " 'yourselves',\n",
       " 'he',\n",
       " 'him',\n",
       " 'his',\n",
       " 'himself',\n",
       " 'she',\n",
       " \"she's\",\n",
       " 'her',\n",
       " 'hers',\n",
       " 'herself',\n",
       " 'it',\n",
       " \"it's\",\n",
       " 'its',\n",
       " 'itself',\n",
       " 'they',\n",
       " 'them',\n",
       " 'their',\n",
       " 'theirs',\n",
       " 'themselves',\n",
       " 'what',\n",
       " 'which',\n",
       " 'who',\n",
       " 'whom',\n",
       " 'this',\n",
       " 'that',\n",
       " \"that'll\",\n",
       " 'these',\n",
       " 'those',\n",
       " 'am',\n",
       " 'is',\n",
       " 'are',\n",
       " 'was',\n",
       " 'were',\n",
       " 'be',\n",
       " 'been',\n",
       " 'being',\n",
       " 'have',\n",
       " 'has',\n",
       " 'had',\n",
       " 'having',\n",
       " 'do',\n",
       " 'does',\n",
       " 'did',\n",
       " 'doing',\n",
       " 'a',\n",
       " 'an',\n",
       " 'the',\n",
       " 'and',\n",
       " 'but',\n",
       " 'if',\n",
       " 'or',\n",
       " 'because',\n",
       " 'as',\n",
       " 'until',\n",
       " 'while',\n",
       " 'of',\n",
       " 'at',\n",
       " 'by',\n",
       " 'for',\n",
       " 'with',\n",
       " 'about',\n",
       " 'against',\n",
       " 'between',\n",
       " 'into',\n",
       " 'through',\n",
       " 'during',\n",
       " 'before',\n",
       " 'after',\n",
       " 'above',\n",
       " 'below',\n",
       " 'to',\n",
       " 'from',\n",
       " 'up',\n",
       " 'down',\n",
       " 'in',\n",
       " 'out',\n",
       " 'on',\n",
       " 'off',\n",
       " 'over',\n",
       " 'under',\n",
       " 'again',\n",
       " 'further',\n",
       " 'then',\n",
       " 'once',\n",
       " 'here',\n",
       " 'there',\n",
       " 'when',\n",
       " 'where',\n",
       " 'why',\n",
       " 'how',\n",
       " 'all',\n",
       " 'any',\n",
       " 'both',\n",
       " 'each',\n",
       " 'few',\n",
       " 'more',\n",
       " 'most',\n",
       " 'other',\n",
       " 'some',\n",
       " 'such',\n",
       " 'no',\n",
       " 'nor',\n",
       " 'not',\n",
       " 'only',\n",
       " 'own',\n",
       " 'same',\n",
       " 'so',\n",
       " 'than',\n",
       " 'too',\n",
       " 'very',\n",
       " 's',\n",
       " 't',\n",
       " 'can',\n",
       " 'will',\n",
       " 'just',\n",
       " 'don',\n",
       " \"don't\",\n",
       " 'should',\n",
       " \"should've\",\n",
       " 'now',\n",
       " 'd',\n",
       " 'll',\n",
       " 'm',\n",
       " 'o',\n",
       " 're',\n",
       " 've',\n",
       " 'y',\n",
       " 'ain',\n",
       " 'aren',\n",
       " \"aren't\",\n",
       " 'couldn',\n",
       " \"couldn't\",\n",
       " 'didn',\n",
       " \"didn't\",\n",
       " 'doesn',\n",
       " \"doesn't\",\n",
       " 'hadn',\n",
       " \"hadn't\",\n",
       " 'hasn',\n",
       " \"hasn't\",\n",
       " 'haven',\n",
       " \"haven't\",\n",
       " 'isn',\n",
       " \"isn't\",\n",
       " 'ma',\n",
       " 'mightn',\n",
       " \"mightn't\",\n",
       " 'mustn',\n",
       " \"mustn't\",\n",
       " 'needn',\n",
       " \"needn't\",\n",
       " 'shan',\n",
       " \"shan't\",\n",
       " 'shouldn',\n",
       " \"shouldn't\",\n",
       " 'wasn',\n",
       " \"wasn't\",\n",
       " 'weren',\n",
       " \"weren't\",\n",
       " 'won',\n",
       " \"won't\",\n",
       " 'wouldn',\n",
       " \"wouldn't\"]"
      ]
     },
     "execution_count": 30,
     "metadata": {},
     "output_type": "execute_result"
    }
   ],
   "source": [
    "stopwords.words('english')"
   ]
  },
  {
   "cell_type": "code",
   "execution_count": 31,
   "id": "2f9e76a6",
   "metadata": {
    "execution": {
     "iopub.execute_input": "2022-03-16T13:58:10.008712Z",
     "iopub.status.busy": "2022-03-16T13:58:10.007203Z",
     "iopub.status.idle": "2022-03-16T13:58:10.009503Z",
     "shell.execute_reply": "2022-03-16T13:58:10.010095Z",
     "shell.execute_reply.started": "2022-03-16T10:58:58.559324Z"
    },
    "papermill": {
     "duration": 0.152259,
     "end_time": "2022-03-16T13:58:10.010271",
     "exception": false,
     "start_time": "2022-03-16T13:58:09.858012",
     "status": "completed"
    },
    "tags": []
   },
   "outputs": [],
   "source": [
    "#remove stopwords\n",
    "def remove_stopwords(text):\n",
    "    x=[]\n",
    "    for i in text.split():\n",
    "        \n",
    "        if i not in stopwords.words('english'):\n",
    "            x.append(i)\n",
    "    \n",
    "    y=x[:]\n",
    "    x.clear()\n",
    "    return y"
   ]
  },
  {
   "cell_type": "code",
   "execution_count": 32,
   "id": "723f7290",
   "metadata": {
    "execution": {
     "iopub.execute_input": "2022-03-16T13:58:10.484207Z",
     "iopub.status.busy": "2022-03-16T13:58:10.482961Z",
     "iopub.status.idle": "2022-03-16T14:00:58.923235Z",
     "shell.execute_reply": "2022-03-16T14:00:58.924313Z",
     "shell.execute_reply.started": "2022-03-16T10:58:58.566535Z"
    },
    "papermill": {
     "duration": 168.684618,
     "end_time": "2022-03-16T14:00:58.924592",
     "exception": false,
     "start_time": "2022-03-16T13:58:10.239974",
     "status": "completed"
    },
    "tags": []
   },
   "outputs": [],
   "source": [
    "train['Phrase']=train['Phrase'].apply(remove_stopwords)\n",
    "test['Phrase']=test['Phrase'].apply(remove_stopwords)"
   ]
  },
  {
   "cell_type": "code",
   "execution_count": 33,
   "id": "be301d11",
   "metadata": {
    "execution": {
     "iopub.execute_input": "2022-03-16T14:00:59.383846Z",
     "iopub.status.busy": "2022-03-16T14:00:59.382910Z",
     "iopub.status.idle": "2022-03-16T14:00:59.384838Z",
     "shell.execute_reply": "2022-03-16T14:00:59.385322Z",
     "shell.execute_reply.started": "2022-03-16T11:01:48.422064Z"
    },
    "papermill": {
     "duration": 0.236401,
     "end_time": "2022-03-16T14:00:59.385488",
     "exception": false,
     "start_time": "2022-03-16T14:00:59.149087",
     "status": "completed"
    },
    "tags": []
   },
   "outputs": [],
   "source": [
    "ps=PorterStemmer()"
   ]
  },
  {
   "cell_type": "code",
   "execution_count": 34,
   "id": "19dcb00f",
   "metadata": {
    "execution": {
     "iopub.execute_input": "2022-03-16T14:00:59.671963Z",
     "iopub.status.busy": "2022-03-16T14:00:59.669073Z",
     "iopub.status.idle": "2022-03-16T14:00:59.675075Z",
     "shell.execute_reply": "2022-03-16T14:00:59.674663Z",
     "shell.execute_reply.started": "2022-03-16T11:01:48.429180Z"
    },
    "papermill": {
     "duration": 0.144758,
     "end_time": "2022-03-16T14:00:59.675188",
     "exception": false,
     "start_time": "2022-03-16T14:00:59.530430",
     "status": "completed"
    },
    "tags": []
   },
   "outputs": [],
   "source": [
    "y=[]\n",
    "#stem the words\n",
    "def stem_words(text):\n",
    "    for i in text:\n",
    "        y.append(ps.stem(i))\n",
    "    z=y[:]\n",
    "    y.clear()\n",
    "    return z"
   ]
  },
  {
   "cell_type": "code",
   "execution_count": 35,
   "id": "bea896d7",
   "metadata": {
    "execution": {
     "iopub.execute_input": "2022-03-16T14:00:59.976836Z",
     "iopub.status.busy": "2022-03-16T14:00:59.975935Z",
     "iopub.status.idle": "2022-03-16T14:01:23.352244Z",
     "shell.execute_reply": "2022-03-16T14:01:23.352708Z",
     "shell.execute_reply.started": "2022-03-16T11:01:48.440284Z"
    },
    "papermill": {
     "duration": 23.540143,
     "end_time": "2022-03-16T14:01:23.352882",
     "exception": false,
     "start_time": "2022-03-16T14:00:59.812739",
     "status": "completed"
    },
    "tags": []
   },
   "outputs": [],
   "source": [
    "train['Phrase']=train['Phrase'].apply(stem_words)\n",
    "test['Phrase']=test['Phrase'].apply(stem_words)"
   ]
  },
  {
   "cell_type": "code",
   "execution_count": 36,
   "id": "9b13326a",
   "metadata": {
    "execution": {
     "iopub.execute_input": "2022-03-16T14:01:23.623778Z",
     "iopub.status.busy": "2022-03-16T14:01:23.622188Z",
     "iopub.status.idle": "2022-03-16T14:01:23.624350Z",
     "shell.execute_reply": "2022-03-16T14:01:23.624784Z",
     "shell.execute_reply.started": "2022-03-16T11:02:12.599580Z"
    },
    "papermill": {
     "duration": 0.139085,
     "end_time": "2022-03-16T14:01:23.624920",
     "exception": false,
     "start_time": "2022-03-16T14:01:23.485835",
     "status": "completed"
    },
    "tags": []
   },
   "outputs": [],
   "source": [
    "#join the stem words together\n",
    "def join_back(list_input):\n",
    "    return \" \".join(list_input)"
   ]
  },
  {
   "cell_type": "code",
   "execution_count": 37,
   "id": "1e767287",
   "metadata": {
    "execution": {
     "iopub.execute_input": "2022-03-16T14:01:23.898339Z",
     "iopub.status.busy": "2022-03-16T14:01:23.897606Z",
     "iopub.status.idle": "2022-03-16T14:01:24.006688Z",
     "shell.execute_reply": "2022-03-16T14:01:24.006183Z",
     "shell.execute_reply.started": "2022-03-16T11:02:12.605197Z"
    },
    "papermill": {
     "duration": 0.247414,
     "end_time": "2022-03-16T14:01:24.006826",
     "exception": false,
     "start_time": "2022-03-16T14:01:23.759412",
     "status": "completed"
    },
    "tags": []
   },
   "outputs": [],
   "source": [
    "train['Phrase']=train['Phrase'].apply(join_back)\n",
    "test['Phrase']=test['Phrase'].apply(join_back)"
   ]
  },
  {
   "cell_type": "code",
   "execution_count": 38,
   "id": "35e7134c",
   "metadata": {
    "execution": {
     "iopub.execute_input": "2022-03-16T14:01:24.302258Z",
     "iopub.status.busy": "2022-03-16T14:01:24.292272Z",
     "iopub.status.idle": "2022-03-16T14:01:25.757865Z",
     "shell.execute_reply": "2022-03-16T14:01:25.757337Z",
     "shell.execute_reply.started": "2022-03-16T11:02:12.725496Z"
    },
    "papermill": {
     "duration": 1.612598,
     "end_time": "2022-03-16T14:01:25.758001",
     "exception": false,
     "start_time": "2022-03-16T14:01:24.145403",
     "status": "completed"
    },
    "tags": []
   },
   "outputs": [],
   "source": [
    "X_train =train['Phrase']\n",
    "y_train = train['Sentiment']\n",
    "tokenize = Tokenizer()\n",
    "tokenize.fit_on_texts(X_train.values)"
   ]
  },
  {
   "cell_type": "code",
   "execution_count": 39,
   "id": "b21ccf9a",
   "metadata": {
    "execution": {
     "iopub.execute_input": "2022-03-16T14:01:26.058902Z",
     "iopub.status.busy": "2022-03-16T14:01:26.043228Z",
     "iopub.status.idle": "2022-03-16T14:01:28.158521Z",
     "shell.execute_reply": "2022-03-16T14:01:28.159289Z",
     "shell.execute_reply.started": "2022-03-16T11:02:14.215211Z"
    },
    "papermill": {
     "duration": 2.269258,
     "end_time": "2022-03-16T14:01:28.159567",
     "exception": false,
     "start_time": "2022-03-16T14:01:25.890309",
     "status": "completed"
    },
    "tags": []
   },
   "outputs": [],
   "source": [
    "X_test = test['Phrase']\n",
    "X_train = tokenize.texts_to_sequences(X_train)\n",
    "X_test = tokenize.texts_to_sequences(X_test)"
   ]
  },
  {
   "cell_type": "code",
   "execution_count": 40,
   "id": "6fad7f4c",
   "metadata": {
    "execution": {
     "iopub.execute_input": "2022-03-16T14:01:28.621738Z",
     "iopub.status.busy": "2022-03-16T14:01:28.620952Z",
     "iopub.status.idle": "2022-03-16T14:01:29.842153Z",
     "shell.execute_reply": "2022-03-16T14:01:29.841651Z",
     "shell.execute_reply.started": "2022-03-16T11:02:16.291882Z"
    },
    "papermill": {
     "duration": 1.452956,
     "end_time": "2022-03-16T14:01:29.842291",
     "exception": false,
     "start_time": "2022-03-16T14:01:28.389335",
     "status": "completed"
    },
    "tags": []
   },
   "outputs": [],
   "source": [
    "#add padding using pre-method\n",
    "max_sequence_len = max([len(s.split()) for s in train['Phrase']])\n",
    "X_train = pad_sequences(X_train, max_sequence_len,padding='pre')\n",
    "X_test = pad_sequences(X_test, max_sequence_len,padding='pre')"
   ]
  },
  {
   "cell_type": "code",
   "execution_count": 41,
   "id": "64368b34",
   "metadata": {
    "execution": {
     "iopub.execute_input": "2022-03-16T14:01:30.120268Z",
     "iopub.status.busy": "2022-03-16T14:01:30.119607Z",
     "iopub.status.idle": "2022-03-16T14:01:30.122346Z",
     "shell.execute_reply": "2022-03-16T14:01:30.122781Z",
     "shell.execute_reply.started": "2022-03-16T11:02:17.284464Z"
    },
    "papermill": {
     "duration": 0.146978,
     "end_time": "2022-03-16T14:01:30.122913",
     "exception": false,
     "start_time": "2022-03-16T14:01:29.975935",
     "status": "completed"
    },
    "tags": []
   },
   "outputs": [
    {
     "data": {
      "text/plain": [
       "array([[   0,    0,    0, ...,  622,   15,    8],\n",
       "       [   0,    0,    0, ..., 5288,   12, 3081],\n",
       "       [   0,    0,    0, ...,    0,    0,  260],\n",
       "       ...,\n",
       "       [   0,    0,    0, ...,    0, 7384, 7385],\n",
       "       [   0,    0,    0, ...,    0,    0, 7384],\n",
       "       [   0,    0,    0, ...,    0,    0, 7385]], dtype=int32)"
      ]
     },
     "execution_count": 41,
     "metadata": {},
     "output_type": "execute_result"
    }
   ],
   "source": [
    "X_train"
   ]
  },
  {
   "cell_type": "code",
   "execution_count": 42,
   "id": "60f8dd04",
   "metadata": {
    "execution": {
     "iopub.execute_input": "2022-03-16T14:01:30.411383Z",
     "iopub.status.busy": "2022-03-16T14:01:30.410627Z",
     "iopub.status.idle": "2022-03-16T14:01:30.415813Z",
     "shell.execute_reply": "2022-03-16T14:01:30.416381Z",
     "shell.execute_reply.started": "2022-03-16T11:02:17.292389Z"
    },
    "papermill": {
     "duration": 0.155865,
     "end_time": "2022-03-16T14:01:30.416571",
     "exception": false,
     "start_time": "2022-03-16T14:01:30.260706",
     "status": "completed"
    },
    "tags": []
   },
   "outputs": [
    {
     "name": "stdout",
     "output_type": "stream",
     "text": [
      "(156060, 30)\n",
      "(66292, 30)\n"
     ]
    }
   ],
   "source": [
    "print(X_train.shape)\n",
    "print(X_test.shape)"
   ]
  },
  {
   "cell_type": "markdown",
   "id": "521cf762",
   "metadata": {
    "papermill": {
     "duration": 0.131789,
     "end_time": "2022-03-16T14:01:30.683366",
     "exception": false,
     "start_time": "2022-03-16T14:01:30.551577",
     "status": "completed"
    },
    "tags": []
   },
   "source": [
    "# DEEP LEARNING MODELS"
   ]
  },
  {
   "cell_type": "markdown",
   "id": "e1eb0fdd",
   "metadata": {
    "papermill": {
     "duration": 0.131907,
     "end_time": "2022-03-16T14:01:30.950796",
     "exception": false,
     "start_time": "2022-03-16T14:01:30.818889",
     "status": "completed"
    },
    "tags": []
   },
   "source": [
    "**1)LSTM MODEL**"
   ]
  },
  {
   "cell_type": "code",
   "execution_count": 43,
   "id": "4ec053f5",
   "metadata": {
    "execution": {
     "iopub.execute_input": "2022-03-16T14:01:31.223739Z",
     "iopub.status.busy": "2022-03-16T14:01:31.223193Z",
     "iopub.status.idle": "2022-03-16T14:01:31.997183Z",
     "shell.execute_reply": "2022-03-16T14:01:31.997799Z",
     "shell.execute_reply.started": "2022-03-16T12:02:47.196454Z"
    },
    "papermill": {
     "duration": 0.91335,
     "end_time": "2022-03-16T14:01:31.998023",
     "exception": false,
     "start_time": "2022-03-16T14:01:31.084673",
     "status": "completed"
    },
    "tags": []
   },
   "outputs": [
    {
     "name": "stderr",
     "output_type": "stream",
     "text": [
      "2022-03-16 14:01:31.247216: I tensorflow/stream_executor/cuda/cuda_gpu_executor.cc:937] successful NUMA node read from SysFS had negative value (-1), but there must be at least one NUMA node, so returning NUMA node zero\n",
      "2022-03-16 14:01:31.252520: I tensorflow/stream_executor/cuda/cuda_gpu_executor.cc:937] successful NUMA node read from SysFS had negative value (-1), but there must be at least one NUMA node, so returning NUMA node zero\n",
      "2022-03-16 14:01:31.253146: I tensorflow/stream_executor/cuda/cuda_gpu_executor.cc:937] successful NUMA node read from SysFS had negative value (-1), but there must be at least one NUMA node, so returning NUMA node zero\n",
      "2022-03-16 14:01:31.254143: I tensorflow/core/platform/cpu_feature_guard.cc:142] This TensorFlow binary is optimized with oneAPI Deep Neural Network Library (oneDNN) to use the following CPU instructions in performance-critical operations:  AVX2 AVX512F FMA\n",
      "To enable them in other operations, rebuild TensorFlow with the appropriate compiler flags.\n",
      "2022-03-16 14:01:31.255151: I tensorflow/stream_executor/cuda/cuda_gpu_executor.cc:937] successful NUMA node read from SysFS had negative value (-1), but there must be at least one NUMA node, so returning NUMA node zero\n",
      "2022-03-16 14:01:31.255773: I tensorflow/stream_executor/cuda/cuda_gpu_executor.cc:937] successful NUMA node read from SysFS had negative value (-1), but there must be at least one NUMA node, so returning NUMA node zero\n",
      "2022-03-16 14:01:31.256344: I tensorflow/stream_executor/cuda/cuda_gpu_executor.cc:937] successful NUMA node read from SysFS had negative value (-1), but there must be at least one NUMA node, so returning NUMA node zero\n",
      "2022-03-16 14:01:31.259878: I tensorflow/stream_executor/cuda/cuda_gpu_executor.cc:937] successful NUMA node read from SysFS had negative value (-1), but there must be at least one NUMA node, so returning NUMA node zero\n",
      "2022-03-16 14:01:31.260529: I tensorflow/stream_executor/cuda/cuda_gpu_executor.cc:937] successful NUMA node read from SysFS had negative value (-1), but there must be at least one NUMA node, so returning NUMA node zero\n",
      "2022-03-16 14:01:31.261128: I tensorflow/stream_executor/cuda/cuda_gpu_executor.cc:937] successful NUMA node read from SysFS had negative value (-1), but there must be at least one NUMA node, so returning NUMA node zero\n",
      "2022-03-16 14:01:31.261699: I tensorflow/core/common_runtime/gpu/gpu_device.cc:1510] Created device /job:localhost/replica:0/task:0/device:GPU:0 with 14995 MB memory:  -> device: 0, name: Tesla P100-PCIE-16GB, pci bus id: 0000:00:04.0, compute capability: 6.0\n"
     ]
    }
   ],
   "source": [
    "#LSTM Model\n",
    "embedding_dimension = 100\n",
    "input_val = len(tokenize.word_index)+1\n",
    "model_lstm = Sequential()\n",
    "model_lstm.add(Embedding(input_val, embedding_dimension, input_length=max_sequence_len))\n",
    "model_lstm.add(LSTM(units=256, dropout=0.3, recurrent_dropout=0.2 , return_sequences=True))\n",
    "model_lstm.add(LSTM(units=256, dropout=0.3, recurrent_dropout=0.2 ))\n",
    "model_lstm.add(Dense(5, activation='softmax'))# 5 as we are required to predict 5 labels-0,1,2,3,4\n"
   ]
  },
  {
   "cell_type": "code",
   "execution_count": 44,
   "id": "ff58498d",
   "metadata": {
    "execution": {
     "iopub.execute_input": "2022-03-16T14:01:32.402985Z",
     "iopub.status.busy": "2022-03-16T14:01:32.401792Z",
     "iopub.status.idle": "2022-03-16T14:01:32.407544Z",
     "shell.execute_reply": "2022-03-16T14:01:32.406880Z",
     "shell.execute_reply.started": "2022-03-16T12:02:48.325279Z"
    },
    "papermill": {
     "duration": 0.167029,
     "end_time": "2022-03-16T14:01:32.407694",
     "exception": false,
     "start_time": "2022-03-16T14:01:32.240665",
     "status": "completed"
    },
    "tags": []
   },
   "outputs": [
    {
     "name": "stdout",
     "output_type": "stream",
     "text": [
      "Model: \"sequential\"\n",
      "_________________________________________________________________\n",
      "Layer (type)                 Output Shape              Param #   \n",
      "=================================================================\n",
      "embedding (Embedding)        (None, 30, 100)           1187800   \n",
      "_________________________________________________________________\n",
      "lstm (LSTM)                  (None, 30, 256)           365568    \n",
      "_________________________________________________________________\n",
      "lstm_1 (LSTM)                (None, 256)               525312    \n",
      "_________________________________________________________________\n",
      "dense (Dense)                (None, 5)                 1285      \n",
      "=================================================================\n",
      "Total params: 2,079,965\n",
      "Trainable params: 2,079,965\n",
      "Non-trainable params: 0\n",
      "_________________________________________________________________\n"
     ]
    }
   ],
   "source": [
    "model_lstm.summary()"
   ]
  },
  {
   "cell_type": "code",
   "execution_count": 45,
   "id": "63641382",
   "metadata": {
    "execution": {
     "iopub.execute_input": "2022-03-16T14:01:32.697758Z",
     "iopub.status.busy": "2022-03-16T14:01:32.696872Z",
     "iopub.status.idle": "2022-03-16T14:01:32.699347Z",
     "shell.execute_reply": "2022-03-16T14:01:32.698941Z",
     "shell.execute_reply.started": "2022-03-16T12:02:52.437509Z"
    },
    "papermill": {
     "duration": 0.150678,
     "end_time": "2022-03-16T14:01:32.699484",
     "exception": false,
     "start_time": "2022-03-16T14:01:32.548806",
     "status": "completed"
    },
    "tags": []
   },
   "outputs": [],
   "source": [
    "early_stopping = EarlyStopping(min_delta = 0.001,\n",
    "                               mode = 'max',\n",
    "                               monitor = 'val_acc',\n",
    "                               patience = 2)\n",
    "callback = [early_stopping]"
   ]
  },
  {
   "cell_type": "code",
   "execution_count": 46,
   "id": "737c8249",
   "metadata": {
    "execution": {
     "iopub.execute_input": "2022-03-16T14:01:32.999706Z",
     "iopub.status.busy": "2022-03-16T14:01:32.998998Z",
     "iopub.status.idle": "2022-03-16T14:01:33.006264Z",
     "shell.execute_reply": "2022-03-16T14:01:33.005837Z",
     "shell.execute_reply.started": "2022-03-16T12:02:54.538139Z"
    },
    "papermill": {
     "duration": 0.169752,
     "end_time": "2022-03-16T14:01:33.006371",
     "exception": false,
     "start_time": "2022-03-16T14:01:32.836619",
     "status": "completed"
    },
    "tags": []
   },
   "outputs": [],
   "source": [
    "#Compiling the model\n",
    "model_lstm.compile(loss='sparse_categorical_crossentropy', optimizer='adam', metrics=['accuracy'])"
   ]
  },
  {
   "cell_type": "code",
   "execution_count": 47,
   "id": "25d808b6",
   "metadata": {
    "execution": {
     "iopub.execute_input": "2022-03-16T14:01:33.278363Z",
     "iopub.status.busy": "2022-03-16T14:01:33.277507Z",
     "iopub.status.idle": "2022-03-16T15:01:59.318387Z",
     "shell.execute_reply": "2022-03-16T15:01:59.317865Z",
     "shell.execute_reply.started": "2022-03-16T12:02:58.962133Z"
    },
    "papermill": {
     "duration": 3626.178417,
     "end_time": "2022-03-16T15:01:59.318577",
     "exception": false,
     "start_time": "2022-03-16T14:01:33.140160",
     "status": "completed"
    },
    "tags": []
   },
   "outputs": [
    {
     "name": "stderr",
     "output_type": "stream",
     "text": [
      "2022-03-16 14:01:33.325780: I tensorflow/compiler/mlir/mlir_graph_optimization_pass.cc:185] None of the MLIR Optimization Passes are enabled (registered 2)\n"
     ]
    },
    {
     "name": "stdout",
     "output_type": "stream",
     "text": [
      "Epoch 1/10\n",
      "1220/1220 [==============================] - 351s 284ms/step - loss: 0.9891 - accuracy: 0.6008\n",
      "Epoch 2/10\n",
      "1220/1220 [==============================] - 352s 289ms/step - loss: 0.8261 - accuracy: 0.6606\n",
      "Epoch 3/10\n",
      "1220/1220 [==============================] - 355s 291ms/step - loss: 0.7741 - accuracy: 0.6793\n",
      "Epoch 4/10\n",
      "1220/1220 [==============================] - 363s 298ms/step - loss: 0.7354 - accuracy: 0.6926\n",
      "Epoch 5/10\n",
      "1220/1220 [==============================] - 365s 299ms/step - loss: 0.7047 - accuracy: 0.7041\n",
      "Epoch 6/10\n",
      "1220/1220 [==============================] - 361s 296ms/step - loss: 0.6809 - accuracy: 0.7120\n",
      "Epoch 7/10\n",
      "1220/1220 [==============================] - 356s 292ms/step - loss: 0.6598 - accuracy: 0.7196\n",
      "Epoch 8/10\n",
      "1220/1220 [==============================] - 363s 297ms/step - loss: 0.6426 - accuracy: 0.7252\n",
      "Epoch 9/10\n",
      "1220/1220 [==============================] - 366s 300ms/step - loss: 0.6266 - accuracy: 0.7302\n",
      "Epoch 10/10\n",
      "1220/1220 [==============================] - 365s 300ms/step - loss: 0.6110 - accuracy: 0.7360\n"
     ]
    }
   ],
   "source": [
    "#Fit the model\n",
    "history_lstm=model_lstm.fit(X_train, y_train,batch_size=128, epochs=10, verbose=1,callbacks=callback)"
   ]
  },
  {
   "cell_type": "code",
   "execution_count": 48,
   "id": "b3947818",
   "metadata": {
    "execution": {
     "iopub.execute_input": "2022-03-16T15:02:07.649462Z",
     "iopub.status.busy": "2022-03-16T15:02:07.648598Z",
     "iopub.status.idle": "2022-03-16T15:02:07.707826Z",
     "shell.execute_reply": "2022-03-16T15:02:07.706899Z",
     "shell.execute_reply.started": "2022-03-16T12:33:05.201444Z"
    },
    "papermill": {
     "duration": 4.158585,
     "end_time": "2022-03-16T15:02:07.707970",
     "exception": false,
     "start_time": "2022-03-16T15:02:03.549385",
     "status": "completed"
    },
    "tags": []
   },
   "outputs": [],
   "source": [
    "#Saving the model\n",
    "model_lstm.save('LSTM_Model.h5')"
   ]
  },
  {
   "cell_type": "code",
   "execution_count": 49,
   "id": "740ee449",
   "metadata": {
    "execution": {
     "iopub.execute_input": "2022-03-16T15:02:15.868714Z",
     "iopub.status.busy": "2022-03-16T15:02:15.864824Z",
     "iopub.status.idle": "2022-03-16T15:02:16.042600Z",
     "shell.execute_reply": "2022-03-16T15:02:16.042132Z",
     "shell.execute_reply.started": "2022-03-16T12:33:07.056380Z"
    },
    "papermill": {
     "duration": 4.37587,
     "end_time": "2022-03-16T15:02:16.042738",
     "exception": false,
     "start_time": "2022-03-16T15:02:11.666868",
     "status": "completed"
    },
    "tags": []
   },
   "outputs": [
    {
     "data": {
      "image/png": "[encoded data removed]",
      "text/plain": [
       "<Figure size 432x288 with 1 Axes>"
      ]
     },
     "metadata": {
      "needs_background": "light"
     },
     "output_type": "display_data"
    }
   ],
   "source": [
    "loss_train = history_lstm.history['loss']\n",
    "epochs = range(1,11)\n",
    "plt.plot(epochs, loss_train, 'g', label='Training loss')\n",
    "plt.title('Training loss')\n",
    "plt.xlabel('Epochs')\n",
    "plt.ylabel('Loss')\n",
    "plt.legend()\n",
    "plt.show()"
   ]
  },
  {
   "cell_type": "code",
   "execution_count": 50,
   "id": "f29117d6",
   "metadata": {
    "execution": {
     "iopub.execute_input": "2022-03-16T15:02:24.648354Z",
     "iopub.status.busy": "2022-03-16T15:02:24.644738Z",
     "iopub.status.idle": "2022-03-16T15:02:24.817409Z",
     "shell.execute_reply": "2022-03-16T15:02:24.817000Z",
     "shell.execute_reply.started": "2022-03-16T12:33:11.084282Z"
    },
    "papermill": {
     "duration": 4.324991,
     "end_time": "2022-03-16T15:02:24.817573",
     "exception": false,
     "start_time": "2022-03-16T15:02:20.492582",
     "status": "completed"
    },
    "tags": []
   },
   "outputs": [
    {
     "data": {
      "image/png": "[encoded data removed]",
      "text/plain": [
       "<Figure size 432x288 with 1 Axes>"
      ]
     },
     "metadata": {
      "needs_background": "light"
     },
     "output_type": "display_data"
    }
   ],
   "source": [
    "accuracy_train = history_lstm.history['accuracy']\n",
    "epochs = range(1,11)\n",
    "plt.plot(epochs, accuracy_train, 'g', label='Training Accuracy')\n",
    "plt.title('Training Accuracy')\n",
    "plt.xlabel('Epochs')\n",
    "plt.ylabel('Accuracy')\n",
    "plt.legend()\n",
    "plt.show()"
   ]
  },
  {
   "cell_type": "code",
   "execution_count": 51,
   "id": "314b6bee",
   "metadata": {
    "execution": {
     "iopub.execute_input": "2022-03-16T15:02:32.733272Z",
     "iopub.status.busy": "2022-03-16T15:02:32.732274Z",
     "iopub.status.idle": "2022-03-16T15:03:14.070961Z",
     "shell.execute_reply": "2022-03-16T15:03:14.071415Z",
     "shell.execute_reply.started": "2022-03-16T12:33:13.618557Z"
    },
    "papermill": {
     "duration": 45.246386,
     "end_time": "2022-03-16T15:03:14.071630",
     "exception": false,
     "start_time": "2022-03-16T15:02:28.825244",
     "status": "completed"
    },
    "tags": []
   },
   "outputs": [],
   "source": [
    "#Predictions on the model\n",
    "predict_x=model_lstm.predict(X_test) \n",
    "classes_x=np.argmax(predict_x,axis=1)"
   ]
  },
  {
   "cell_type": "code",
   "execution_count": 52,
   "id": "b6807b46",
   "metadata": {
    "execution": {
     "iopub.execute_input": "2022-03-16T15:03:22.257251Z",
     "iopub.status.busy": "2022-03-16T15:03:22.256495Z",
     "iopub.status.idle": "2022-03-16T15:03:22.259400Z",
     "shell.execute_reply": "2022-03-16T15:03:22.259882Z",
     "shell.execute_reply.started": "2022-03-16T12:33:52.918763Z"
    },
    "papermill": {
     "duration": 4.286169,
     "end_time": "2022-03-16T15:03:22.260029",
     "exception": false,
     "start_time": "2022-03-16T15:03:17.973860",
     "status": "completed"
    },
    "tags": []
   },
   "outputs": [
    {
     "data": {
      "text/plain": [
       "array([2, 2, 2, ..., 1, 1, 1])"
      ]
     },
     "execution_count": 52,
     "metadata": {},
     "output_type": "execute_result"
    }
   ],
   "source": [
    "classes_x"
   ]
  },
  {
   "cell_type": "code",
   "execution_count": 53,
   "id": "2a47d942",
   "metadata": {
    "execution": {
     "iopub.execute_input": "2022-03-16T15:03:31.007370Z",
     "iopub.status.busy": "2022-03-16T15:03:31.006672Z",
     "iopub.status.idle": "2022-03-16T15:03:31.036573Z",
     "shell.execute_reply": "2022-03-16T15:03:31.036111Z",
     "shell.execute_reply.started": "2022-03-16T12:33:56.248298Z"
    },
    "papermill": {
     "duration": 4.792967,
     "end_time": "2022-03-16T15:03:31.036703",
     "exception": false,
     "start_time": "2022-03-16T15:03:26.243736",
     "status": "completed"
    },
    "tags": []
   },
   "outputs": [],
   "source": [
    "#Submission of all the predictions\n",
    "submission_file =pd.read_csv('/kaggle/input/sentiment-analysis-on-movie-reviews/sampleSubmission.csv',sep=',')\n",
    "submission_file['Sentiment']=classes_x\n",
    "submission_file.to_csv('Submission_LSTM.csv',index=False)"
   ]
  },
  {
   "cell_type": "markdown",
   "id": "7dac454b",
   "metadata": {
    "papermill": {
     "duration": 3.892272,
     "end_time": "2022-03-16T15:03:38.847870",
     "exception": false,
     "start_time": "2022-03-16T15:03:34.955598",
     "status": "completed"
    },
    "tags": []
   },
   "source": [
    "**2)ANN MODEL**"
   ]
  },
  {
   "cell_type": "code",
   "execution_count": 54,
   "id": "77fa3d04",
   "metadata": {
    "execution": {
     "iopub.execute_input": "2022-03-16T15:03:46.933214Z",
     "iopub.status.busy": "2022-03-16T15:03:46.932362Z",
     "iopub.status.idle": "2022-03-16T15:03:46.956586Z",
     "shell.execute_reply": "2022-03-16T15:03:46.956118Z"
    },
    "papermill": {
     "duration": 3.927471,
     "end_time": "2022-03-16T15:03:46.956707",
     "exception": false,
     "start_time": "2022-03-16T15:03:43.029236",
     "status": "completed"
    },
    "tags": []
   },
   "outputs": [],
   "source": [
    "import tensorflow as tf\n",
    "embedding_dimension = 100\n",
    "input_val = len(tokenize.word_index)+1\n",
    "model_ANN = tf.keras.Sequential([\n",
    "    tf.keras.layers.Embedding(input_val, embedding_dimension, input_length=max_sequence_len),\n",
    "    tf.keras.layers.Flatten(),\n",
    "    tf.keras.layers.Dense(256, activation='relu'),\n",
    "    tf.keras.layers.Dense(5, activation='softmax')\n",
    "])"
   ]
  },
  {
   "cell_type": "code",
   "execution_count": 55,
   "id": "559743da",
   "metadata": {
    "execution": {
     "iopub.execute_input": "2022-03-16T15:03:55.094923Z",
     "iopub.status.busy": "2022-03-16T15:03:55.093556Z",
     "iopub.status.idle": "2022-03-16T15:03:55.099565Z",
     "shell.execute_reply": "2022-03-16T15:03:55.098939Z"
    },
    "papermill": {
     "duration": 4.232149,
     "end_time": "2022-03-16T15:03:55.099718",
     "exception": false,
     "start_time": "2022-03-16T15:03:50.867569",
     "status": "completed"
    },
    "tags": []
   },
   "outputs": [
    {
     "name": "stdout",
     "output_type": "stream",
     "text": [
      "Model: \"sequential_1\"\n",
      "_________________________________________________________________\n",
      "Layer (type)                 Output Shape              Param #   \n",
      "=================================================================\n",
      "embedding_1 (Embedding)      (None, 30, 100)           1187800   \n",
      "_________________________________________________________________\n",
      "flatten (Flatten)            (None, 3000)              0         \n",
      "_________________________________________________________________\n",
      "dense_1 (Dense)              (None, 256)               768256    \n",
      "_________________________________________________________________\n",
      "dense_2 (Dense)              (None, 5)                 1285      \n",
      "=================================================================\n",
      "Total params: 1,957,341\n",
      "Trainable params: 1,957,341\n",
      "Non-trainable params: 0\n",
      "_________________________________________________________________\n"
     ]
    }
   ],
   "source": [
    "model_ANN.summary()"
   ]
  },
  {
   "cell_type": "code",
   "execution_count": 56,
   "id": "640b1ec7",
   "metadata": {
    "execution": {
     "iopub.execute_input": "2022-03-16T15:04:03.171723Z",
     "iopub.status.busy": "2022-03-16T15:04:03.170870Z",
     "iopub.status.idle": "2022-03-16T15:04:03.175201Z",
     "shell.execute_reply": "2022-03-16T15:04:03.175891Z"
    },
    "papermill": {
     "duration": 4.18001,
     "end_time": "2022-03-16T15:04:03.176026",
     "exception": false,
     "start_time": "2022-03-16T15:03:58.996016",
     "status": "completed"
    },
    "tags": []
   },
   "outputs": [],
   "source": [
    "model_ANN.compile(loss='sparse_categorical_crossentropy', optimizer='adam', metrics=['accuracy'])"
   ]
  },
  {
   "cell_type": "code",
   "execution_count": 57,
   "id": "33ba52f0",
   "metadata": {
    "execution": {
     "iopub.execute_input": "2022-03-16T15:04:11.524888Z",
     "iopub.status.busy": "2022-03-16T15:04:11.524052Z",
     "iopub.status.idle": "2022-03-16T15:06:10.086467Z",
     "shell.execute_reply": "2022-03-16T15:06:10.086903Z"
    },
    "papermill": {
     "duration": 122.559721,
     "end_time": "2022-03-16T15:06:10.087071",
     "exception": false,
     "start_time": "2022-03-16T15:04:07.527350",
     "status": "completed"
    },
    "tags": []
   },
   "outputs": [
    {
     "name": "stdout",
     "output_type": "stream",
     "text": [
      "Epoch 1/100\n",
      "305/305 [==============================] - 1s 4ms/step - loss: 1.0182 - accuracy: 0.5906\n",
      "Epoch 2/100\n",
      "305/305 [==============================] - 1s 4ms/step - loss: 0.7872 - accuracy: 0.6761\n",
      "Epoch 3/100\n",
      "305/305 [==============================] - 1s 4ms/step - loss: 0.7080 - accuracy: 0.7041\n",
      "Epoch 4/100\n",
      "305/305 [==============================] - 1s 4ms/step - loss: 0.6605 - accuracy: 0.7196\n",
      "Epoch 5/100\n",
      "305/305 [==============================] - 1s 4ms/step - loss: 0.6247 - accuracy: 0.7309\n",
      "Epoch 6/100\n",
      "305/305 [==============================] - 1s 4ms/step - loss: 0.5981 - accuracy: 0.7385\n",
      "Epoch 7/100\n",
      "305/305 [==============================] - 1s 4ms/step - loss: 0.5746 - accuracy: 0.7461\n",
      "Epoch 8/100\n",
      "305/305 [==============================] - 1s 4ms/step - loss: 0.5554 - accuracy: 0.7517\n",
      "Epoch 9/100\n",
      "305/305 [==============================] - 1s 4ms/step - loss: 0.5390 - accuracy: 0.7561\n",
      "Epoch 10/100\n",
      "305/305 [==============================] - 1s 4ms/step - loss: 0.5244 - accuracy: 0.7598\n",
      "Epoch 11/100\n",
      "305/305 [==============================] - 1s 4ms/step - loss: 0.5110 - accuracy: 0.7636\n",
      "Epoch 12/100\n",
      "305/305 [==============================] - 1s 4ms/step - loss: 0.4994 - accuracy: 0.7661\n",
      "Epoch 13/100\n",
      "305/305 [==============================] - 1s 4ms/step - loss: 0.4884 - accuracy: 0.7698\n",
      "Epoch 14/100\n",
      "305/305 [==============================] - 1s 4ms/step - loss: 0.4781 - accuracy: 0.7735\n",
      "Epoch 15/100\n",
      "305/305 [==============================] - 1s 4ms/step - loss: 0.4692 - accuracy: 0.7750\n",
      "Epoch 16/100\n",
      "305/305 [==============================] - 1s 4ms/step - loss: 0.4602 - accuracy: 0.7786\n",
      "Epoch 17/100\n",
      "305/305 [==============================] - 1s 4ms/step - loss: 0.4530 - accuracy: 0.7805\n",
      "Epoch 18/100\n",
      "305/305 [==============================] - 1s 4ms/step - loss: 0.4455 - accuracy: 0.7827\n",
      "Epoch 19/100\n",
      "305/305 [==============================] - 1s 4ms/step - loss: 0.4383 - accuracy: 0.7854\n",
      "Epoch 20/100\n",
      "305/305 [==============================] - 1s 4ms/step - loss: 0.4330 - accuracy: 0.7860\n",
      "Epoch 21/100\n",
      "305/305 [==============================] - 1s 4ms/step - loss: 0.4269 - accuracy: 0.7882\n",
      "Epoch 22/100\n",
      "305/305 [==============================] - 1s 5ms/step - loss: 0.4216 - accuracy: 0.7887\n",
      "Epoch 23/100\n",
      "305/305 [==============================] - 1s 4ms/step - loss: 0.4156 - accuracy: 0.7904\n",
      "Epoch 24/100\n",
      "305/305 [==============================] - 1s 4ms/step - loss: 0.4112 - accuracy: 0.7932\n",
      "Epoch 25/100\n",
      "305/305 [==============================] - 1s 4ms/step - loss: 0.4066 - accuracy: 0.7944\n",
      "Epoch 26/100\n",
      "305/305 [==============================] - 1s 4ms/step - loss: 0.4019 - accuracy: 0.7960\n",
      "Epoch 27/100\n",
      "305/305 [==============================] - 1s 4ms/step - loss: 0.3982 - accuracy: 0.7974\n",
      "Epoch 28/100\n",
      "305/305 [==============================] - 1s 4ms/step - loss: 0.3945 - accuracy: 0.7972\n",
      "Epoch 29/100\n",
      "305/305 [==============================] - 1s 4ms/step - loss: 0.3906 - accuracy: 0.7981\n",
      "Epoch 30/100\n",
      "305/305 [==============================] - 1s 4ms/step - loss: 0.3873 - accuracy: 0.8000\n",
      "Epoch 31/100\n",
      "305/305 [==============================] - 1s 4ms/step - loss: 0.3843 - accuracy: 0.8006\n",
      "Epoch 32/100\n",
      "305/305 [==============================] - 1s 4ms/step - loss: 0.3812 - accuracy: 0.8011\n",
      "Epoch 33/100\n",
      "305/305 [==============================] - 1s 4ms/step - loss: 0.3783 - accuracy: 0.8030\n",
      "Epoch 34/100\n",
      "305/305 [==============================] - 1s 4ms/step - loss: 0.3749 - accuracy: 0.8023\n",
      "Epoch 35/100\n",
      "305/305 [==============================] - 1s 4ms/step - loss: 0.3727 - accuracy: 0.8038\n",
      "Epoch 36/100\n",
      "305/305 [==============================] - 1s 4ms/step - loss: 0.3702 - accuracy: 0.8040\n",
      "Epoch 37/100\n",
      "305/305 [==============================] - 1s 4ms/step - loss: 0.3675 - accuracy: 0.8047\n",
      "Epoch 38/100\n",
      "305/305 [==============================] - 1s 4ms/step - loss: 0.3657 - accuracy: 0.8054\n",
      "Epoch 39/100\n",
      "305/305 [==============================] - 1s 4ms/step - loss: 0.3631 - accuracy: 0.8059\n",
      "Epoch 40/100\n",
      "305/305 [==============================] - 1s 4ms/step - loss: 0.3610 - accuracy: 0.8066\n",
      "Epoch 41/100\n",
      "305/305 [==============================] - 1s 4ms/step - loss: 0.3594 - accuracy: 0.8061\n",
      "Epoch 42/100\n",
      "305/305 [==============================] - 1s 4ms/step - loss: 0.3573 - accuracy: 0.8068\n",
      "Epoch 43/100\n",
      "305/305 [==============================] - 1s 4ms/step - loss: 0.3556 - accuracy: 0.8080\n",
      "Epoch 44/100\n",
      "305/305 [==============================] - 1s 4ms/step - loss: 0.3539 - accuracy: 0.8086\n",
      "Epoch 45/100\n",
      "305/305 [==============================] - 1s 4ms/step - loss: 0.3521 - accuracy: 0.8084\n",
      "Epoch 46/100\n",
      "305/305 [==============================] - 1s 4ms/step - loss: 0.3509 - accuracy: 0.8087\n",
      "Epoch 47/100\n",
      "305/305 [==============================] - 1s 4ms/step - loss: 0.3491 - accuracy: 0.8096\n",
      "Epoch 48/100\n",
      "305/305 [==============================] - 1s 4ms/step - loss: 0.3480 - accuracy: 0.8104\n",
      "Epoch 49/100\n",
      "305/305 [==============================] - 1s 4ms/step - loss: 0.3466 - accuracy: 0.8093\n",
      "Epoch 50/100\n",
      "305/305 [==============================] - 2s 5ms/step - loss: 0.3453 - accuracy: 0.8095\n",
      "Epoch 51/100\n",
      "305/305 [==============================] - 1s 4ms/step - loss: 0.3440 - accuracy: 0.8104\n",
      "Epoch 52/100\n",
      "305/305 [==============================] - 1s 5ms/step - loss: 0.3428 - accuracy: 0.8100\n",
      "Epoch 53/100\n",
      "305/305 [==============================] - 1s 4ms/step - loss: 0.3418 - accuracy: 0.8100\n",
      "Epoch 54/100\n",
      "305/305 [==============================] - 1s 4ms/step - loss: 0.3407 - accuracy: 0.8106\n",
      "Epoch 55/100\n",
      "305/305 [==============================] - 1s 4ms/step - loss: 0.3389 - accuracy: 0.8107\n",
      "Epoch 56/100\n",
      "305/305 [==============================] - 1s 5ms/step - loss: 0.3378 - accuracy: 0.8110\n",
      "Epoch 57/100\n",
      "305/305 [==============================] - 1s 5ms/step - loss: 0.3376 - accuracy: 0.8116\n",
      "Epoch 58/100\n",
      "305/305 [==============================] - 1s 5ms/step - loss: 0.3371 - accuracy: 0.8115\n",
      "Epoch 59/100\n",
      "305/305 [==============================] - 1s 4ms/step - loss: 0.3357 - accuracy: 0.8113\n",
      "Epoch 60/100\n",
      "305/305 [==============================] - 1s 4ms/step - loss: 0.3346 - accuracy: 0.8115\n",
      "Epoch 61/100\n",
      "305/305 [==============================] - 1s 4ms/step - loss: 0.3332 - accuracy: 0.8122\n",
      "Epoch 62/100\n",
      "305/305 [==============================] - 1s 4ms/step - loss: 0.3328 - accuracy: 0.8123\n",
      "Epoch 63/100\n",
      "305/305 [==============================] - 1s 4ms/step - loss: 0.3320 - accuracy: 0.8122\n",
      "Epoch 64/100\n",
      "305/305 [==============================] - 1s 4ms/step - loss: 0.3310 - accuracy: 0.8128\n",
      "Epoch 65/100\n",
      "305/305 [==============================] - 1s 4ms/step - loss: 0.3308 - accuracy: 0.8132\n",
      "Epoch 66/100\n",
      "305/305 [==============================] - 1s 4ms/step - loss: 0.3291 - accuracy: 0.8124\n",
      "Epoch 67/100\n",
      "305/305 [==============================] - 1s 4ms/step - loss: 0.3291 - accuracy: 0.8129\n",
      "Epoch 68/100\n",
      "305/305 [==============================] - 1s 4ms/step - loss: 0.3284 - accuracy: 0.8125\n",
      "Epoch 69/100\n",
      "305/305 [==============================] - 1s 4ms/step - loss: 0.3280 - accuracy: 0.8131\n",
      "Epoch 70/100\n",
      "305/305 [==============================] - 1s 4ms/step - loss: 0.3267 - accuracy: 0.8140\n",
      "Epoch 71/100\n",
      "305/305 [==============================] - 1s 4ms/step - loss: 0.3264 - accuracy: 0.8137\n",
      "Epoch 72/100\n",
      "305/305 [==============================] - 1s 4ms/step - loss: 0.3268 - accuracy: 0.8143\n",
      "Epoch 73/100\n",
      "305/305 [==============================] - 1s 4ms/step - loss: 0.3255 - accuracy: 0.8143\n",
      "Epoch 74/100\n",
      "305/305 [==============================] - 1s 4ms/step - loss: 0.3245 - accuracy: 0.8147\n",
      "Epoch 75/100\n",
      "305/305 [==============================] - 1s 4ms/step - loss: 0.3248 - accuracy: 0.8148\n",
      "Epoch 76/100\n",
      "305/305 [==============================] - 1s 4ms/step - loss: 0.3232 - accuracy: 0.8143\n",
      "Epoch 77/100\n",
      "305/305 [==============================] - 2s 5ms/step - loss: 0.3237 - accuracy: 0.8147\n",
      "Epoch 78/100\n",
      "305/305 [==============================] - 1s 4ms/step - loss: 0.3224 - accuracy: 0.8148\n",
      "Epoch 79/100\n",
      "305/305 [==============================] - 1s 4ms/step - loss: 0.3222 - accuracy: 0.8142\n",
      "Epoch 80/100\n",
      "305/305 [==============================] - 1s 4ms/step - loss: 0.3215 - accuracy: 0.8146\n",
      "Epoch 81/100\n",
      "305/305 [==============================] - 1s 4ms/step - loss: 0.3213 - accuracy: 0.8154\n",
      "Epoch 82/100\n",
      "305/305 [==============================] - 1s 4ms/step - loss: 0.3206 - accuracy: 0.8146\n",
      "Epoch 83/100\n",
      "305/305 [==============================] - 1s 4ms/step - loss: 0.3202 - accuracy: 0.8143\n",
      "Epoch 84/100\n",
      "305/305 [==============================] - 1s 4ms/step - loss: 0.3197 - accuracy: 0.8152\n",
      "Epoch 85/100\n",
      "305/305 [==============================] - 1s 4ms/step - loss: 0.3190 - accuracy: 0.8154\n",
      "Epoch 86/100\n",
      "305/305 [==============================] - 1s 4ms/step - loss: 0.3186 - accuracy: 0.8144\n",
      "Epoch 87/100\n",
      "305/305 [==============================] - 1s 4ms/step - loss: 0.3182 - accuracy: 0.8154\n",
      "Epoch 88/100\n",
      "305/305 [==============================] - 1s 4ms/step - loss: 0.3179 - accuracy: 0.8147\n",
      "Epoch 89/100\n",
      "305/305 [==============================] - 1s 4ms/step - loss: 0.3179 - accuracy: 0.8141\n",
      "Epoch 90/100\n",
      "305/305 [==============================] - 1s 4ms/step - loss: 0.3170 - accuracy: 0.8138\n",
      "Epoch 91/100\n",
      "305/305 [==============================] - 1s 4ms/step - loss: 0.3173 - accuracy: 0.8150\n",
      "Epoch 92/100\n",
      "305/305 [==============================] - 1s 4ms/step - loss: 0.3169 - accuracy: 0.8153\n",
      "Epoch 93/100\n",
      "305/305 [==============================] - 1s 4ms/step - loss: 0.3156 - accuracy: 0.8156\n",
      "Epoch 94/100\n",
      "305/305 [==============================] - 1s 4ms/step - loss: 0.3163 - accuracy: 0.8157\n",
      "Epoch 95/100\n",
      "305/305 [==============================] - 1s 4ms/step - loss: 0.3154 - accuracy: 0.8162\n",
      "Epoch 96/100\n",
      "305/305 [==============================] - 1s 4ms/step - loss: 0.3146 - accuracy: 0.8155\n",
      "Epoch 97/100\n",
      "305/305 [==============================] - 1s 4ms/step - loss: 0.3147 - accuracy: 0.8158\n",
      "Epoch 98/100\n",
      "305/305 [==============================] - 1s 4ms/step - loss: 0.3141 - accuracy: 0.8158\n",
      "Epoch 99/100\n",
      "305/305 [==============================] - 1s 4ms/step - loss: 0.3141 - accuracy: 0.8159\n",
      "Epoch 100/100\n",
      "305/305 [==============================] - 1s 4ms/step - loss: 0.3140 - accuracy: 0.8172\n"
     ]
    }
   ],
   "source": [
    "history_ANN=model_ANN.fit(X_train, y_train,batch_size=512, epochs=100, verbose=1,callbacks=callback)"
   ]
  },
  {
   "cell_type": "code",
   "execution_count": 58,
   "id": "5dc19f7e",
   "metadata": {
    "execution": {
     "iopub.execute_input": "2022-03-16T15:06:20.362062Z",
     "iopub.status.busy": "2022-03-16T15:06:20.361222Z",
     "iopub.status.idle": "2022-03-16T15:06:20.411643Z",
     "shell.execute_reply": "2022-03-16T15:06:20.411158Z"
    },
    "papermill": {
     "duration": 5.423066,
     "end_time": "2022-03-16T15:06:20.411785",
     "exception": false,
     "start_time": "2022-03-16T15:06:14.988719",
     "status": "completed"
    },
    "tags": []
   },
   "outputs": [],
   "source": [
    "model_ANN.save('ANN_Model.h5')"
   ]
  },
  {
   "cell_type": "code",
   "execution_count": 59,
   "id": "4400fb52",
   "metadata": {
    "execution": {
     "iopub.execute_input": "2022-03-16T15:06:30.087216Z",
     "iopub.status.busy": "2022-03-16T15:06:30.083832Z",
     "iopub.status.idle": "2022-03-16T15:06:30.249529Z",
     "shell.execute_reply": "2022-03-16T15:06:30.249927Z"
    },
    "papermill": {
     "duration": 5.209284,
     "end_time": "2022-03-16T15:06:30.250079",
     "exception": false,
     "start_time": "2022-03-16T15:06:25.040795",
     "status": "completed"
    },
    "tags": []
   },
   "outputs": [
    {
     "data": {
      "image/png": "[encoded data removed]",
      "text/plain": [
       "<Figure size 432x288 with 1 Axes>"
      ]
     },
     "metadata": {
      "needs_background": "light"
     },
     "output_type": "display_data"
    }
   ],
   "source": [
    "loss_train_ANN = history_ANN.history['loss']\n",
    "epochs = range(1,101)\n",
    "plt.plot(epochs, loss_train_ANN, 'g', label='Training loss')\n",
    "plt.title('Training loss')\n",
    "plt.xlabel('Epochs')\n",
    "plt.ylabel('Loss')\n",
    "plt.legend()\n",
    "plt.show()"
   ]
  },
  {
   "cell_type": "code",
   "execution_count": 60,
   "id": "9d5ced8e",
   "metadata": {
    "execution": {
     "iopub.execute_input": "2022-03-16T15:06:39.996851Z",
     "iopub.status.busy": "2022-03-16T15:06:39.995506Z",
     "iopub.status.idle": "2022-03-16T15:06:40.159013Z",
     "shell.execute_reply": "2022-03-16T15:06:40.159419Z"
    },
    "papermill": {
     "duration": 5.224626,
     "end_time": "2022-03-16T15:06:40.159588",
     "exception": false,
     "start_time": "2022-03-16T15:06:34.934962",
     "status": "completed"
    },
    "tags": []
   },
   "outputs": [
    {
     "data": {
      "image/png": "[encoded data removed]",
      "text/plain": [
       "<Figure size 432x288 with 1 Axes>"
      ]
     },
     "metadata": {
      "needs_background": "light"
     },
     "output_type": "display_data"
    }
   ],
   "source": [
    "accuracy_train_ANN = history_ANN.history['accuracy']\n",
    "epochs = range(1,101)\n",
    "plt.plot(epochs, accuracy_train_ANN, 'g', label='Training Accuracy')\n",
    "plt.title('Training Accuracy')\n",
    "plt.xlabel('Epochs')\n",
    "plt.ylabel('Accuracy')\n",
    "plt.legend()\n",
    "plt.show()"
   ]
  },
  {
   "cell_type": "code",
   "execution_count": 61,
   "id": "b3d31714",
   "metadata": {
    "execution": {
     "iopub.execute_input": "2022-03-16T15:06:50.335827Z",
     "iopub.status.busy": "2022-03-16T15:06:50.335027Z",
     "iopub.status.idle": "2022-03-16T15:06:52.061940Z",
     "shell.execute_reply": "2022-03-16T15:06:52.061220Z"
    },
    "papermill": {
     "duration": 7.274964,
     "end_time": "2022-03-16T15:06:52.062103",
     "exception": false,
     "start_time": "2022-03-16T15:06:44.787139",
     "status": "completed"
    },
    "tags": []
   },
   "outputs": [],
   "source": [
    "predict_x=model_ANN.predict(X_test) \n",
    "classes_x_ANN=np.argmax(predict_x,axis=1)"
   ]
  },
  {
   "cell_type": "code",
   "execution_count": 62,
   "id": "13332c34",
   "metadata": {
    "execution": {
     "iopub.execute_input": "2022-03-16T15:07:01.935799Z",
     "iopub.status.busy": "2022-03-16T15:07:01.934887Z",
     "iopub.status.idle": "2022-03-16T15:07:01.937758Z",
     "shell.execute_reply": "2022-03-16T15:07:01.938150Z"
    },
    "papermill": {
     "duration": 5.114974,
     "end_time": "2022-03-16T15:07:01.938285",
     "exception": false,
     "start_time": "2022-03-16T15:06:56.823311",
     "status": "completed"
    },
    "tags": []
   },
   "outputs": [
    {
     "data": {
      "text/plain": [
       "array([3, 3, 2, ..., 1, 1, 2])"
      ]
     },
     "execution_count": 62,
     "metadata": {},
     "output_type": "execute_result"
    }
   ],
   "source": [
    "classes_x_ANN"
   ]
  },
  {
   "cell_type": "code",
   "execution_count": 63,
   "id": "2e82b21e",
   "metadata": {
    "execution": {
     "iopub.execute_input": "2022-03-16T15:07:11.620965Z",
     "iopub.status.busy": "2022-03-16T15:07:11.620330Z",
     "iopub.status.idle": "2022-03-16T15:07:11.632294Z",
     "shell.execute_reply": "2022-03-16T15:07:11.631883Z"
    },
    "papermill": {
     "duration": 4.982872,
     "end_time": "2022-03-16T15:07:11.632413",
     "exception": false,
     "start_time": "2022-03-16T15:07:06.649541",
     "status": "completed"
    },
    "tags": []
   },
   "outputs": [],
   "source": [
    "submission_file =pd.read_csv('/kaggle/input/sentiment-analysis-on-movie-reviews/sampleSubmission.csv',sep=',')\n",
    "submission_file['Sentiment']=classes_x_ANN\n",
    "submission_file.to_csv('Submission_ANN.csv',index=False)"
   ]
  },
  {
   "cell_type": "markdown",
   "id": "af1bac7d",
   "metadata": {
    "papermill": {
     "duration": 5.079066,
     "end_time": "2022-03-16T15:07:21.397703",
     "exception": false,
     "start_time": "2022-03-16T15:07:16.318637",
     "status": "completed"
    },
    "tags": []
   },
   "source": [
    "**3)CNN MODEL**"
   ]
  },
  {
   "cell_type": "code",
   "execution_count": 64,
   "id": "c9dfb595",
   "metadata": {
    "execution": {
     "iopub.execute_input": "2022-03-16T15:07:31.279830Z",
     "iopub.status.busy": "2022-03-16T15:07:31.278940Z",
     "iopub.status.idle": "2022-03-16T15:07:31.338282Z",
     "shell.execute_reply": "2022-03-16T15:07:31.337846Z"
    },
    "papermill": {
     "duration": 4.835371,
     "end_time": "2022-03-16T15:07:31.338397",
     "exception": false,
     "start_time": "2022-03-16T15:07:26.503026",
     "status": "completed"
    },
    "tags": []
   },
   "outputs": [],
   "source": [
    "import tensorflow as tf\n",
    "embedding_dimension = 100\n",
    "input_val = len(tokenize.word_index)+1\n",
    "model_CNN = tf.keras.Sequential([\n",
    "    tf.keras.layers.Embedding(input_val, embedding_dimension, input_length=max_sequence_len),\n",
    "    tf.keras.layers.Conv1D(128, 2, padding='same',activation='relu'),\n",
    "    tf.keras.layers.Dropout(0.2),\n",
    "    tf.keras.layers.Conv1D(64, 2, padding='same',activation='relu'),\n",
    "    tf.keras.layers.Dropout(0.2),\n",
    "    tf.keras.layers.MaxPooling1D(pool_size=2),\n",
    "    tf.keras.layers.Flatten(),\n",
    "    tf.keras.layers.Dense(256, activation='relu'),\n",
    "    tf.keras.layers.Dropout(0.3),\n",
    "    tf.keras.layers.Dense(128, activation='relu'),\n",
    "    tf.keras.layers.Dropout(0.3),\n",
    "    tf.keras.layers.Dense(5, activation='softmax')\n",
    "])"
   ]
  },
  {
   "cell_type": "code",
   "execution_count": 65,
   "id": "d04d0f4a",
   "metadata": {
    "execution": {
     "iopub.execute_input": "2022-03-16T15:07:40.957477Z",
     "iopub.status.busy": "2022-03-16T15:07:40.956634Z",
     "iopub.status.idle": "2022-03-16T15:07:40.962483Z",
     "shell.execute_reply": "2022-03-16T15:07:40.963169Z"
    },
    "papermill": {
     "duration": 4.737841,
     "end_time": "2022-03-16T15:07:40.963377",
     "exception": false,
     "start_time": "2022-03-16T15:07:36.225536",
     "status": "completed"
    },
    "tags": []
   },
   "outputs": [
    {
     "name": "stdout",
     "output_type": "stream",
     "text": [
      "Model: \"sequential_2\"\n",
      "_________________________________________________________________\n",
      "Layer (type)                 Output Shape              Param #   \n",
      "=================================================================\n",
      "embedding_2 (Embedding)      (None, 30, 100)           1187800   \n",
      "_________________________________________________________________\n",
      "conv1d (Conv1D)              (None, 30, 128)           25728     \n",
      "_________________________________________________________________\n",
      "dropout (Dropout)            (None, 30, 128)           0         \n",
      "_________________________________________________________________\n",
      "conv1d_1 (Conv1D)            (None, 30, 64)            16448     \n",
      "_________________________________________________________________\n",
      "dropout_1 (Dropout)          (None, 30, 64)            0         \n",
      "_________________________________________________________________\n",
      "max_pooling1d (MaxPooling1D) (None, 15, 64)            0         \n",
      "_________________________________________________________________\n",
      "flatten_1 (Flatten)          (None, 960)               0         \n",
      "_________________________________________________________________\n",
      "dense_3 (Dense)              (None, 256)               246016    \n",
      "_________________________________________________________________\n",
      "dropout_2 (Dropout)          (None, 256)               0         \n",
      "_________________________________________________________________\n",
      "dense_4 (Dense)              (None, 128)               32896     \n",
      "_________________________________________________________________\n",
      "dropout_3 (Dropout)          (None, 128)               0         \n",
      "_________________________________________________________________\n",
      "dense_5 (Dense)              (None, 5)                 645       \n",
      "=================================================================\n",
      "Total params: 1,509,533\n",
      "Trainable params: 1,509,533\n",
      "Non-trainable params: 0\n",
      "_________________________________________________________________\n"
     ]
    }
   ],
   "source": [
    "model_CNN.summary()"
   ]
  },
  {
   "cell_type": "code",
   "execution_count": 66,
   "id": "405d5fd3",
   "metadata": {
    "execution": {
     "iopub.execute_input": "2022-03-16T15:07:50.615736Z",
     "iopub.status.busy": "2022-03-16T15:07:50.615053Z",
     "iopub.status.idle": "2022-03-16T15:07:50.620108Z",
     "shell.execute_reply": "2022-03-16T15:07:50.619667Z"
    },
    "papermill": {
     "duration": 4.737024,
     "end_time": "2022-03-16T15:07:50.620222",
     "exception": false,
     "start_time": "2022-03-16T15:07:45.883198",
     "status": "completed"
    },
    "tags": []
   },
   "outputs": [],
   "source": [
    "model_CNN.compile(loss='sparse_categorical_crossentropy', optimizer='adam', metrics=['accuracy'])"
   ]
  },
  {
   "cell_type": "code",
   "execution_count": 67,
   "id": "f40624ee",
   "metadata": {
    "execution": {
     "iopub.execute_input": "2022-03-16T15:08:00.763383Z",
     "iopub.status.busy": "2022-03-16T15:08:00.762474Z",
     "iopub.status.idle": "2022-03-16T15:12:23.245357Z",
     "shell.execute_reply": "2022-03-16T15:12:23.244878Z"
    },
    "papermill": {
     "duration": 267.18612,
     "end_time": "2022-03-16T15:12:23.245530",
     "exception": false,
     "start_time": "2022-03-16T15:07:56.059410",
     "status": "completed"
    },
    "tags": []
   },
   "outputs": [
    {
     "name": "stdout",
     "output_type": "stream",
     "text": [
      "Epoch 1/100\n"
     ]
    },
    {
     "name": "stderr",
     "output_type": "stream",
     "text": [
      "2022-03-16 15:08:02.013073: I tensorflow/stream_executor/cuda/cuda_dnn.cc:369] Loaded cuDNN version 8005\n"
     ]
    },
    {
     "name": "stdout",
     "output_type": "stream",
     "text": [
      "305/305 [==============================] - 8s 7ms/step - loss: 1.1133 - accuracy: 0.5575\n",
      "Epoch 2/100\n",
      "305/305 [==============================] - 2s 7ms/step - loss: 0.8557 - accuracy: 0.6511\n",
      "Epoch 3/100\n",
      "305/305 [==============================] - 2s 7ms/step - loss: 0.7772 - accuracy: 0.6776\n",
      "Epoch 4/100\n",
      "305/305 [==============================] - 2s 7ms/step - loss: 0.7278 - accuracy: 0.6938\n",
      "Epoch 5/100\n",
      "305/305 [==============================] - 2s 7ms/step - loss: 0.6954 - accuracy: 0.7048\n",
      "Epoch 6/100\n",
      "305/305 [==============================] - 2s 7ms/step - loss: 0.6670 - accuracy: 0.7147\n",
      "Epoch 7/100\n",
      "305/305 [==============================] - 2s 7ms/step - loss: 0.6470 - accuracy: 0.7205\n",
      "Epoch 8/100\n",
      "305/305 [==============================] - 2s 7ms/step - loss: 0.6276 - accuracy: 0.7273\n",
      "Epoch 9/100\n",
      "305/305 [==============================] - 2s 7ms/step - loss: 0.6132 - accuracy: 0.7314\n",
      "Epoch 10/100\n",
      "305/305 [==============================] - 2s 8ms/step - loss: 0.6001 - accuracy: 0.7348\n",
      "Epoch 11/100\n",
      "305/305 [==============================] - 2s 7ms/step - loss: 0.5888 - accuracy: 0.7392\n",
      "Epoch 12/100\n",
      "305/305 [==============================] - 2s 7ms/step - loss: 0.5770 - accuracy: 0.7438\n",
      "Epoch 13/100\n",
      "305/305 [==============================] - 2s 7ms/step - loss: 0.5676 - accuracy: 0.7460\n",
      "Epoch 14/100\n",
      "305/305 [==============================] - 2s 7ms/step - loss: 0.5596 - accuracy: 0.7471\n",
      "Epoch 15/100\n",
      "305/305 [==============================] - 2s 7ms/step - loss: 0.5531 - accuracy: 0.7515\n",
      "Epoch 16/100\n",
      "305/305 [==============================] - 2s 7ms/step - loss: 0.5468 - accuracy: 0.7526\n",
      "Epoch 17/100\n",
      "305/305 [==============================] - 2s 7ms/step - loss: 0.5390 - accuracy: 0.7537\n",
      "Epoch 18/100\n",
      "305/305 [==============================] - 2s 7ms/step - loss: 0.5329 - accuracy: 0.7570\n",
      "Epoch 19/100\n",
      "305/305 [==============================] - 2s 7ms/step - loss: 0.5271 - accuracy: 0.7580\n",
      "Epoch 20/100\n",
      "305/305 [==============================] - 2s 7ms/step - loss: 0.5209 - accuracy: 0.7606\n",
      "Epoch 21/100\n",
      "305/305 [==============================] - 2s 7ms/step - loss: 0.5173 - accuracy: 0.7614\n",
      "Epoch 22/100\n",
      "305/305 [==============================] - 2s 7ms/step - loss: 0.5112 - accuracy: 0.7634\n",
      "Epoch 23/100\n",
      "305/305 [==============================] - 2s 7ms/step - loss: 0.5078 - accuracy: 0.7650\n",
      "Epoch 24/100\n",
      "305/305 [==============================] - 2s 7ms/step - loss: 0.5031 - accuracy: 0.7668\n",
      "Epoch 25/100\n",
      "305/305 [==============================] - 2s 7ms/step - loss: 0.5006 - accuracy: 0.7669\n",
      "Epoch 26/100\n",
      "305/305 [==============================] - 3s 9ms/step - loss: 0.4943 - accuracy: 0.7694\n",
      "Epoch 27/100\n",
      "305/305 [==============================] - 2s 8ms/step - loss: 0.4935 - accuracy: 0.7681\n",
      "Epoch 28/100\n",
      "305/305 [==============================] - 2s 8ms/step - loss: 0.4895 - accuracy: 0.7701\n",
      "Epoch 29/100\n",
      "305/305 [==============================] - 2s 8ms/step - loss: 0.4865 - accuracy: 0.7714\n",
      "Epoch 30/100\n",
      "305/305 [==============================] - 2s 8ms/step - loss: 0.4831 - accuracy: 0.7724\n",
      "Epoch 31/100\n",
      "305/305 [==============================] - 2s 7ms/step - loss: 0.4799 - accuracy: 0.7729\n",
      "Epoch 32/100\n",
      "305/305 [==============================] - 2s 7ms/step - loss: 0.4777 - accuracy: 0.7749\n",
      "Epoch 33/100\n",
      "305/305 [==============================] - 2s 7ms/step - loss: 0.4736 - accuracy: 0.7760\n",
      "Epoch 34/100\n",
      "305/305 [==============================] - 2s 7ms/step - loss: 0.4732 - accuracy: 0.7765\n",
      "Epoch 35/100\n",
      "305/305 [==============================] - 2s 7ms/step - loss: 0.4700 - accuracy: 0.7759\n",
      "Epoch 36/100\n",
      "305/305 [==============================] - 2s 7ms/step - loss: 0.4696 - accuracy: 0.7786\n",
      "Epoch 37/100\n",
      "305/305 [==============================] - 2s 7ms/step - loss: 0.4655 - accuracy: 0.7790\n",
      "Epoch 38/100\n",
      "305/305 [==============================] - 2s 7ms/step - loss: 0.4628 - accuracy: 0.7803\n",
      "Epoch 39/100\n",
      "305/305 [==============================] - 2s 7ms/step - loss: 0.4622 - accuracy: 0.7799\n",
      "Epoch 40/100\n",
      "305/305 [==============================] - 2s 7ms/step - loss: 0.4603 - accuracy: 0.7801\n",
      "Epoch 41/100\n",
      "305/305 [==============================] - 2s 8ms/step - loss: 0.4568 - accuracy: 0.7815\n",
      "Epoch 42/100\n",
      "305/305 [==============================] - 2s 7ms/step - loss: 0.4548 - accuracy: 0.7819\n",
      "Epoch 43/100\n",
      "305/305 [==============================] - 2s 7ms/step - loss: 0.4542 - accuracy: 0.7828\n",
      "Epoch 44/100\n",
      "305/305 [==============================] - 2s 7ms/step - loss: 0.4522 - accuracy: 0.7835\n",
      "Epoch 45/100\n",
      "305/305 [==============================] - 2s 7ms/step - loss: 0.4514 - accuracy: 0.7849\n",
      "Epoch 46/100\n",
      "305/305 [==============================] - 2s 7ms/step - loss: 0.4498 - accuracy: 0.7844\n",
      "Epoch 47/100\n",
      "305/305 [==============================] - 2s 7ms/step - loss: 0.4467 - accuracy: 0.7844\n",
      "Epoch 48/100\n",
      "305/305 [==============================] - 2s 7ms/step - loss: 0.4461 - accuracy: 0.7857\n",
      "Epoch 49/100\n",
      "305/305 [==============================] - 2s 7ms/step - loss: 0.4449 - accuracy: 0.7865\n",
      "Epoch 50/100\n",
      "305/305 [==============================] - 2s 7ms/step - loss: 0.4433 - accuracy: 0.7853\n",
      "Epoch 51/100\n",
      "305/305 [==============================] - 2s 8ms/step - loss: 0.4417 - accuracy: 0.7868\n",
      "Epoch 52/100\n",
      "305/305 [==============================] - 2s 7ms/step - loss: 0.4408 - accuracy: 0.7873\n",
      "Epoch 53/100\n",
      "305/305 [==============================] - 2s 7ms/step - loss: 0.4376 - accuracy: 0.7882\n",
      "Epoch 54/100\n",
      "305/305 [==============================] - 2s 7ms/step - loss: 0.4381 - accuracy: 0.7877\n",
      "Epoch 55/100\n",
      "305/305 [==============================] - 2s 7ms/step - loss: 0.4359 - accuracy: 0.7890\n",
      "Epoch 56/100\n",
      "305/305 [==============================] - 2s 8ms/step - loss: 0.4347 - accuracy: 0.7891\n",
      "Epoch 57/100\n",
      "305/305 [==============================] - 2s 7ms/step - loss: 0.4321 - accuracy: 0.7900\n",
      "Epoch 58/100\n",
      "305/305 [==============================] - 2s 8ms/step - loss: 0.4316 - accuracy: 0.7909\n",
      "Epoch 59/100\n",
      "305/305 [==============================] - 2s 8ms/step - loss: 0.4312 - accuracy: 0.7905\n",
      "Epoch 60/100\n",
      "305/305 [==============================] - 3s 9ms/step - loss: 0.4313 - accuracy: 0.7905\n",
      "Epoch 61/100\n",
      "305/305 [==============================] - 2s 8ms/step - loss: 0.4298 - accuracy: 0.7902\n",
      "Epoch 62/100\n",
      "305/305 [==============================] - 2s 8ms/step - loss: 0.4278 - accuracy: 0.7912\n",
      "Epoch 63/100\n",
      "305/305 [==============================] - 2s 7ms/step - loss: 0.4263 - accuracy: 0.7921\n",
      "Epoch 64/100\n",
      "305/305 [==============================] - 2s 7ms/step - loss: 0.4272 - accuracy: 0.7921\n",
      "Epoch 65/100\n",
      "305/305 [==============================] - 2s 7ms/step - loss: 0.4253 - accuracy: 0.7926\n",
      "Epoch 66/100\n",
      "305/305 [==============================] - 2s 7ms/step - loss: 0.4253 - accuracy: 0.7929\n",
      "Epoch 67/100\n",
      "305/305 [==============================] - 2s 7ms/step - loss: 0.4222 - accuracy: 0.7936\n",
      "Epoch 68/100\n",
      "305/305 [==============================] - 2s 7ms/step - loss: 0.4235 - accuracy: 0.7929\n",
      "Epoch 69/100\n",
      "305/305 [==============================] - 2s 7ms/step - loss: 0.4206 - accuracy: 0.7935\n",
      "Epoch 70/100\n",
      "305/305 [==============================] - 2s 7ms/step - loss: 0.4196 - accuracy: 0.7939\n",
      "Epoch 71/100\n",
      "305/305 [==============================] - 2s 8ms/step - loss: 0.4192 - accuracy: 0.7944\n",
      "Epoch 72/100\n",
      "305/305 [==============================] - 2s 7ms/step - loss: 0.4187 - accuracy: 0.7953\n",
      "Epoch 73/100\n",
      "305/305 [==============================] - 2s 7ms/step - loss: 0.4174 - accuracy: 0.7942\n",
      "Epoch 74/100\n",
      "305/305 [==============================] - 2s 7ms/step - loss: 0.4166 - accuracy: 0.7957\n",
      "Epoch 75/100\n",
      "305/305 [==============================] - 2s 7ms/step - loss: 0.4167 - accuracy: 0.7950\n",
      "Epoch 76/100\n",
      "305/305 [==============================] - 2s 7ms/step - loss: 0.4144 - accuracy: 0.7967\n",
      "Epoch 77/100\n",
      "305/305 [==============================] - 2s 7ms/step - loss: 0.4157 - accuracy: 0.7954\n",
      "Epoch 78/100\n",
      "305/305 [==============================] - 2s 7ms/step - loss: 0.4130 - accuracy: 0.7963\n",
      "Epoch 79/100\n",
      "305/305 [==============================] - 2s 7ms/step - loss: 0.4133 - accuracy: 0.7970\n",
      "Epoch 80/100\n",
      "305/305 [==============================] - 2s 7ms/step - loss: 0.4123 - accuracy: 0.7976\n",
      "Epoch 81/100\n",
      "305/305 [==============================] - 2s 7ms/step - loss: 0.4126 - accuracy: 0.7975\n",
      "Epoch 82/100\n",
      "305/305 [==============================] - 2s 7ms/step - loss: 0.4116 - accuracy: 0.7969\n",
      "Epoch 83/100\n",
      "305/305 [==============================] - 2s 7ms/step - loss: 0.4112 - accuracy: 0.7990\n",
      "Epoch 84/100\n",
      "305/305 [==============================] - 2s 7ms/step - loss: 0.4096 - accuracy: 0.7985\n",
      "Epoch 85/100\n",
      "305/305 [==============================] - 2s 7ms/step - loss: 0.4084 - accuracy: 0.7991\n",
      "Epoch 86/100\n",
      "305/305 [==============================] - 3s 8ms/step - loss: 0.4093 - accuracy: 0.7985\n",
      "Epoch 87/100\n",
      "305/305 [==============================] - 2s 7ms/step - loss: 0.4073 - accuracy: 0.7979\n",
      "Epoch 88/100\n",
      "305/305 [==============================] - 2s 7ms/step - loss: 0.4076 - accuracy: 0.7973\n",
      "Epoch 89/100\n",
      "305/305 [==============================] - 2s 7ms/step - loss: 0.4058 - accuracy: 0.7996\n",
      "Epoch 90/100\n",
      "305/305 [==============================] - 2s 7ms/step - loss: 0.4068 - accuracy: 0.7996\n",
      "Epoch 91/100\n",
      "305/305 [==============================] - 3s 8ms/step - loss: 0.4060 - accuracy: 0.7996\n",
      "Epoch 92/100\n",
      "305/305 [==============================] - 2s 8ms/step - loss: 0.4046 - accuracy: 0.8003\n",
      "Epoch 93/100\n",
      "305/305 [==============================] - 3s 8ms/step - loss: 0.4045 - accuracy: 0.7998\n",
      "Epoch 94/100\n",
      "305/305 [==============================] - 2s 8ms/step - loss: 0.4045 - accuracy: 0.8001\n",
      "Epoch 95/100\n",
      "305/305 [==============================] - 2s 8ms/step - loss: 0.4028 - accuracy: 0.7995\n",
      "Epoch 96/100\n",
      "305/305 [==============================] - 2s 7ms/step - loss: 0.4020 - accuracy: 0.7988\n",
      "Epoch 97/100\n",
      "305/305 [==============================] - 2s 7ms/step - loss: 0.4026 - accuracy: 0.8005\n",
      "Epoch 98/100\n",
      "305/305 [==============================] - 2s 7ms/step - loss: 0.4017 - accuracy: 0.7998\n",
      "Epoch 99/100\n",
      "305/305 [==============================] - 2s 7ms/step - loss: 0.4010 - accuracy: 0.8002\n",
      "Epoch 100/100\n",
      "305/305 [==============================] - 2s 7ms/step - loss: 0.4000 - accuracy: 0.8012\n"
     ]
    }
   ],
   "source": [
    "history_CNN=model_CNN.fit(X_train, y_train,batch_size=512, epochs=100, verbose=1,callbacks=callback)"
   ]
  },
  {
   "cell_type": "code",
   "execution_count": 68,
   "id": "032723e6",
   "metadata": {
    "execution": {
     "iopub.execute_input": "2022-03-16T15:12:35.579084Z",
     "iopub.status.busy": "2022-03-16T15:12:35.578197Z",
     "iopub.status.idle": "2022-03-16T15:12:35.629040Z",
     "shell.execute_reply": "2022-03-16T15:12:35.628547Z"
    },
    "papermill": {
     "duration": 6.099286,
     "end_time": "2022-03-16T15:12:35.629161",
     "exception": false,
     "start_time": "2022-03-16T15:12:29.529875",
     "status": "completed"
    },
    "tags": []
   },
   "outputs": [],
   "source": [
    "model_CNN.save('CNN_Model.h5')"
   ]
  },
  {
   "cell_type": "code",
   "execution_count": 69,
   "id": "4585c90d",
   "metadata": {
    "execution": {
     "iopub.execute_input": "2022-03-16T15:12:47.836871Z",
     "iopub.status.busy": "2022-03-16T15:12:47.835802Z",
     "iopub.status.idle": "2022-03-16T15:12:48.021783Z",
     "shell.execute_reply": "2022-03-16T15:12:48.020982Z"
    },
    "papermill": {
     "duration": 6.179229,
     "end_time": "2022-03-16T15:12:48.021912",
     "exception": false,
     "start_time": "2022-03-16T15:12:41.842683",
     "status": "completed"
    },
    "tags": []
   },
   "outputs": [
    {
     "data": {
      "image/png": "[encoded data removed]",
      "text/plain": [
       "<Figure size 432x288 with 1 Axes>"
      ]
     },
     "metadata": {
      "needs_background": "light"
     },
     "output_type": "display_data"
    }
   ],
   "source": [
    "loss_train_CNN = history_CNN.history['loss']\n",
    "epochs = range(1,101)\n",
    "plt.plot(epochs, loss_train_CNN, 'g', label='Training loss')\n",
    "plt.title('Training loss')\n",
    "plt.xlabel('Epochs')\n",
    "plt.ylabel('Loss')\n",
    "plt.legend()\n",
    "plt.show()"
   ]
  },
  {
   "cell_type": "code",
   "execution_count": 70,
   "id": "a6814ab3",
   "metadata": {
    "execution": {
     "iopub.execute_input": "2022-03-16T15:13:00.882786Z",
     "iopub.status.busy": "2022-03-16T15:13:00.881871Z",
     "iopub.status.idle": "2022-03-16T15:13:01.053648Z",
     "shell.execute_reply": "2022-03-16T15:13:01.053142Z"
    },
    "papermill": {
     "duration": 6.186244,
     "end_time": "2022-03-16T15:13:01.053787",
     "exception": false,
     "start_time": "2022-03-16T15:12:54.867543",
     "status": "completed"
    },
    "tags": []
   },
   "outputs": [
    {
     "data": {
      "image/png": "[encoded data removed]",
      "text/plain": [
       "<Figure size 432x288 with 1 Axes>"
      ]
     },
     "metadata": {
      "needs_background": "light"
     },
     "output_type": "display_data"
    }
   ],
   "source": [
    "accuracy_train_CNN = history_CNN.history['accuracy']\n",
    "epochs = range(1,101)\n",
    "plt.plot(epochs, accuracy_train_CNN, 'g', label='Training Accuracy')\n",
    "plt.title('Training Accuracy')\n",
    "plt.xlabel('Epochs')\n",
    "plt.ylabel('Accuracy')\n",
    "plt.legend()\n",
    "plt.show()"
   ]
  },
  {
   "cell_type": "code",
   "execution_count": 71,
   "id": "14662289",
   "metadata": {
    "execution": {
     "iopub.execute_input": "2022-03-16T15:13:13.615467Z",
     "iopub.status.busy": "2022-03-16T15:13:13.614227Z",
     "iopub.status.idle": "2022-03-16T15:13:16.056131Z",
     "shell.execute_reply": "2022-03-16T15:13:16.055653Z"
    },
    "papermill": {
     "duration": 8.707485,
     "end_time": "2022-03-16T15:13:16.056263",
     "exception": false,
     "start_time": "2022-03-16T15:13:07.348778",
     "status": "completed"
    },
    "tags": []
   },
   "outputs": [],
   "source": [
    "predict_x_CNN=model_CNN.predict(X_test) \n",
    "classes_x_CNN=np.argmax(predict_x_CNN,axis=1)"
   ]
  },
  {
   "cell_type": "code",
   "execution_count": 72,
   "id": "19b308df",
   "metadata": {
    "execution": {
     "iopub.execute_input": "2022-03-16T15:13:28.809097Z",
     "iopub.status.busy": "2022-03-16T15:13:28.808236Z",
     "iopub.status.idle": "2022-03-16T15:13:30.501738Z",
     "shell.execute_reply": "2022-03-16T15:13:30.501139Z"
    },
    "papermill": {
     "duration": 8.465084,
     "end_time": "2022-03-16T15:13:30.501887",
     "exception": false,
     "start_time": "2022-03-16T15:13:22.036803",
     "status": "completed"
    },
    "tags": []
   },
   "outputs": [
    {
     "data": {
      "text/plain": [
       "array([0, 1, 2, 3, 4])"
      ]
     },
     "execution_count": 72,
     "metadata": {},
     "output_type": "execute_result"
    }
   ],
   "source": [
    "cp.unique(classes_x_CNN)"
   ]
  },
  {
   "cell_type": "code",
   "execution_count": 73,
   "id": "a74789e0",
   "metadata": {
    "execution": {
     "iopub.execute_input": "2022-03-16T15:13:42.849279Z",
     "iopub.status.busy": "2022-03-16T15:13:42.847657Z",
     "iopub.status.idle": "2022-03-16T15:13:42.851582Z",
     "shell.execute_reply": "2022-03-16T15:13:42.851053Z"
    },
    "papermill": {
     "duration": 6.087372,
     "end_time": "2022-03-16T15:13:42.851716",
     "exception": false,
     "start_time": "2022-03-16T15:13:36.764344",
     "status": "completed"
    },
    "tags": []
   },
   "outputs": [
    {
     "data": {
      "text/plain": [
       "array([1, 1, 2, ..., 1, 1, 1])"
      ]
     },
     "execution_count": 73,
     "metadata": {},
     "output_type": "execute_result"
    }
   ],
   "source": [
    "classes_x_CNN"
   ]
  },
  {
   "cell_type": "code",
   "execution_count": 74,
   "id": "c13f9b87",
   "metadata": {
    "execution": {
     "iopub.execute_input": "2022-03-16T15:13:55.160358Z",
     "iopub.status.busy": "2022-03-16T15:13:55.159659Z",
     "iopub.status.idle": "2022-03-16T15:13:55.171473Z",
     "shell.execute_reply": "2022-03-16T15:13:55.171043Z"
    },
    "papermill": {
     "duration": 6.034967,
     "end_time": "2022-03-16T15:13:55.171608",
     "exception": false,
     "start_time": "2022-03-16T15:13:49.136641",
     "status": "completed"
    },
    "tags": []
   },
   "outputs": [],
   "source": [
    "submission_file =pd.read_csv('/kaggle/input/sentiment-analysis-on-movie-reviews/sampleSubmission.csv',sep=',')\n",
    "submission_file['Sentiment']=classes_x_CNN\n",
    "submission_file.to_csv('Submission_CNN.csv',index=False)"
   ]
  },
  {
   "cell_type": "markdown",
   "id": "cbfe7a55",
   "metadata": {
    "papermill": {
     "duration": 6.158365,
     "end_time": "2022-03-16T15:14:08.036170",
     "exception": false,
     "start_time": "2022-03-16T15:14:01.877805",
     "status": "completed"
    },
    "tags": []
   },
   "source": [
    "**4)BI-LSTM MODEL**"
   ]
  },
  {
   "cell_type": "code",
   "execution_count": 75,
   "id": "01cef0b4",
   "metadata": {
    "execution": {
     "iopub.execute_input": "2022-03-16T15:14:20.679628Z",
     "iopub.status.busy": "2022-03-16T15:14:20.670741Z",
     "iopub.status.idle": "2022-03-16T15:14:21.915748Z",
     "shell.execute_reply": "2022-03-16T15:14:21.915229Z"
    },
    "papermill": {
     "duration": 7.679885,
     "end_time": "2022-03-16T15:14:21.915886",
     "exception": false,
     "start_time": "2022-03-16T15:14:14.236001",
     "status": "completed"
    },
    "tags": []
   },
   "outputs": [],
   "source": [
    "import tensorflow as tf\n",
    "embedding_dimension = 100\n",
    "input_val = len(tokenize.word_index)+1\n",
    "model_biLSTM = tf.keras.Sequential([\n",
    "    tf.keras.layers.Embedding(input_val, embedding_dimension, input_length=max_sequence_len),\n",
    "     tf.keras.layers.Bidirectional(tf.keras.layers.LSTM(64, return_sequences=True)),\n",
    "    tf.keras.layers.Bidirectional(tf.keras.layers.LSTM(64, return_sequences=True)),\n",
    "    tf.keras.layers.Bidirectional(tf.keras.layers.LSTM(64)),\n",
    "    tf.keras.layers.Dropout(0.5),\n",
    "    tf.keras.layers.Dense(256, activation='relu'),\n",
    "    tf.keras.layers.Dropout(0.5),\n",
    "    tf.keras.layers.Dense(5, activation='softmax')\n",
    "])"
   ]
  },
  {
   "cell_type": "code",
   "execution_count": 76,
   "id": "4dd7e72d",
   "metadata": {
    "execution": {
     "iopub.execute_input": "2022-03-16T15:14:34.666833Z",
     "iopub.status.busy": "2022-03-16T15:14:34.666205Z",
     "iopub.status.idle": "2022-03-16T15:14:34.675087Z",
     "shell.execute_reply": "2022-03-16T15:14:34.675490Z"
    },
    "papermill": {
     "duration": 6.696113,
     "end_time": "2022-03-16T15:14:34.675642",
     "exception": false,
     "start_time": "2022-03-16T15:14:27.979529",
     "status": "completed"
    },
    "tags": []
   },
   "outputs": [
    {
     "name": "stdout",
     "output_type": "stream",
     "text": [
      "Model: \"sequential_3\"\n",
      "_________________________________________________________________\n",
      "Layer (type)                 Output Shape              Param #   \n",
      "=================================================================\n",
      "embedding_3 (Embedding)      (None, 30, 100)           1187800   \n",
      "_________________________________________________________________\n",
      "bidirectional (Bidirectional (None, 30, 128)           84480     \n",
      "_________________________________________________________________\n",
      "bidirectional_1 (Bidirection (None, 30, 128)           98816     \n",
      "_________________________________________________________________\n",
      "bidirectional_2 (Bidirection (None, 128)               98816     \n",
      "_________________________________________________________________\n",
      "dropout_4 (Dropout)          (None, 128)               0         \n",
      "_________________________________________________________________\n",
      "dense_6 (Dense)              (None, 256)               33024     \n",
      "_________________________________________________________________\n",
      "dropout_5 (Dropout)          (None, 256)               0         \n",
      "_________________________________________________________________\n",
      "dense_7 (Dense)              (None, 5)                 1285      \n",
      "=================================================================\n",
      "Total params: 1,504,221\n",
      "Trainable params: 1,504,221\n",
      "Non-trainable params: 0\n",
      "_________________________________________________________________\n"
     ]
    }
   ],
   "source": [
    "model_biLSTM.summary()"
   ]
  },
  {
   "cell_type": "code",
   "execution_count": 77,
   "id": "b624f111",
   "metadata": {
    "execution": {
     "iopub.execute_input": "2022-03-16T15:14:46.878677Z",
     "iopub.status.busy": "2022-03-16T15:14:46.877807Z",
     "iopub.status.idle": "2022-03-16T15:14:46.882645Z",
     "shell.execute_reply": "2022-03-16T15:14:46.882106Z"
    },
    "papermill": {
     "duration": 6.265253,
     "end_time": "2022-03-16T15:14:46.882767",
     "exception": false,
     "start_time": "2022-03-16T15:14:40.617514",
     "status": "completed"
    },
    "tags": []
   },
   "outputs": [],
   "source": [
    "model_biLSTM.compile(loss='sparse_categorical_crossentropy', optimizer='adam', metrics=['accuracy'])"
   ]
  },
  {
   "cell_type": "code",
   "execution_count": 78,
   "id": "94f8e542",
   "metadata": {
    "execution": {
     "iopub.execute_input": "2022-03-16T15:14:59.072998Z",
     "iopub.status.busy": "2022-03-16T15:14:59.071866Z",
     "iopub.status.idle": "2022-03-16T15:21:27.969204Z",
     "shell.execute_reply": "2022-03-16T15:21:27.967933Z"
    },
    "papermill": {
     "duration": 394.848478,
     "end_time": "2022-03-16T15:21:27.969399",
     "exception": false,
     "start_time": "2022-03-16T15:14:53.120921",
     "status": "completed"
    },
    "tags": []
   },
   "outputs": [
    {
     "name": "stdout",
     "output_type": "stream",
     "text": [
      "Epoch 1/50\n",
      "305/305 [==============================] - 15s 24ms/step - loss: 1.1345 - accuracy: 0.5496\n",
      "Epoch 2/50\n",
      "305/305 [==============================] - 7s 23ms/step - loss: 0.8785 - accuracy: 0.6452\n",
      "Epoch 3/50\n",
      "305/305 [==============================] - 7s 23ms/step - loss: 0.8018 - accuracy: 0.6713\n",
      "Epoch 4/50\n",
      "305/305 [==============================] - 7s 23ms/step - loss: 0.7599 - accuracy: 0.6857\n",
      "Epoch 5/50\n",
      "305/305 [==============================] - 8s 25ms/step - loss: 0.7278 - accuracy: 0.6962\n",
      "Epoch 6/50\n",
      "305/305 [==============================] - 7s 24ms/step - loss: 0.7036 - accuracy: 0.7044\n",
      "Epoch 7/50\n",
      "305/305 [==============================] - 7s 23ms/step - loss: 0.6807 - accuracy: 0.7111\n",
      "Epoch 8/50\n",
      "305/305 [==============================] - 8s 25ms/step - loss: 0.6626 - accuracy: 0.7176\n",
      "Epoch 9/50\n",
      "305/305 [==============================] - 8s 26ms/step - loss: 0.6454 - accuracy: 0.7215\n",
      "Epoch 10/50\n",
      "305/305 [==============================] - 7s 23ms/step - loss: 0.6303 - accuracy: 0.7262\n",
      "Epoch 11/50\n",
      "305/305 [==============================] - 7s 23ms/step - loss: 0.6170 - accuracy: 0.7301\n",
      "Epoch 12/50\n",
      "305/305 [==============================] - 7s 23ms/step - loss: 0.6038 - accuracy: 0.7339\n",
      "Epoch 13/50\n",
      "305/305 [==============================] - 7s 23ms/step - loss: 0.5918 - accuracy: 0.7383\n",
      "Epoch 14/50\n",
      "305/305 [==============================] - 7s 24ms/step - loss: 0.5789 - accuracy: 0.7413\n",
      "Epoch 15/50\n",
      "305/305 [==============================] - 7s 23ms/step - loss: 0.5683 - accuracy: 0.7434\n",
      "Epoch 16/50\n",
      "305/305 [==============================] - 7s 23ms/step - loss: 0.5586 - accuracy: 0.7466\n",
      "Epoch 17/50\n",
      "305/305 [==============================] - 7s 23ms/step - loss: 0.5473 - accuracy: 0.7482\n",
      "Epoch 18/50\n",
      "305/305 [==============================] - 8s 26ms/step - loss: 0.5397 - accuracy: 0.7505\n",
      "Epoch 19/50\n",
      "305/305 [==============================] - 8s 25ms/step - loss: 0.5298 - accuracy: 0.7526\n",
      "Epoch 20/50\n",
      "305/305 [==============================] - 7s 23ms/step - loss: 0.5203 - accuracy: 0.7559\n",
      "Epoch 21/50\n",
      "305/305 [==============================] - 7s 23ms/step - loss: 0.5138 - accuracy: 0.7566\n",
      "Epoch 22/50\n",
      "305/305 [==============================] - 7s 23ms/step - loss: 0.5059 - accuracy: 0.7579\n",
      "Epoch 23/50\n",
      "305/305 [==============================] - 7s 24ms/step - loss: 0.4986 - accuracy: 0.7603\n",
      "Epoch 24/50\n",
      "305/305 [==============================] - 7s 23ms/step - loss: 0.4913 - accuracy: 0.7618\n",
      "Epoch 25/50\n",
      "305/305 [==============================] - 7s 23ms/step - loss: 0.4835 - accuracy: 0.7631\n",
      "Epoch 26/50\n",
      "305/305 [==============================] - 7s 23ms/step - loss: 0.4770 - accuracy: 0.7658\n",
      "Epoch 27/50\n",
      "305/305 [==============================] - 7s 24ms/step - loss: 0.4736 - accuracy: 0.7659\n",
      "Epoch 28/50\n",
      "305/305 [==============================] - 7s 24ms/step - loss: 0.4661 - accuracy: 0.7685\n",
      "Epoch 29/50\n",
      "305/305 [==============================] - 8s 26ms/step - loss: 0.4616 - accuracy: 0.7690\n",
      "Epoch 30/50\n",
      "305/305 [==============================] - 7s 24ms/step - loss: 0.4564 - accuracy: 0.7716\n",
      "Epoch 31/50\n",
      "305/305 [==============================] - 7s 23ms/step - loss: 0.4496 - accuracy: 0.7726\n",
      "Epoch 32/50\n",
      "305/305 [==============================] - 7s 24ms/step - loss: 0.4460 - accuracy: 0.7745\n",
      "Epoch 33/50\n",
      "305/305 [==============================] - 7s 23ms/step - loss: 0.4436 - accuracy: 0.7748\n",
      "Epoch 34/50\n",
      "305/305 [==============================] - 7s 23ms/step - loss: 0.4369 - accuracy: 0.7765\n",
      "Epoch 35/50\n",
      "305/305 [==============================] - 7s 23ms/step - loss: 0.4320 - accuracy: 0.7784\n",
      "Epoch 36/50\n",
      "305/305 [==============================] - 7s 24ms/step - loss: 0.4284 - accuracy: 0.7783\n",
      "Epoch 37/50\n",
      "305/305 [==============================] - 7s 23ms/step - loss: 0.4254 - accuracy: 0.7798\n",
      "Epoch 38/50\n",
      "305/305 [==============================] - 7s 24ms/step - loss: 0.4231 - accuracy: 0.7805\n",
      "Epoch 39/50\n",
      "305/305 [==============================] - 8s 26ms/step - loss: 0.4193 - accuracy: 0.7818\n",
      "Epoch 40/50\n",
      "305/305 [==============================] - 7s 24ms/step - loss: 0.4144 - accuracy: 0.7826\n",
      "Epoch 41/50\n",
      "305/305 [==============================] - 7s 24ms/step - loss: 0.4104 - accuracy: 0.7841\n",
      "Epoch 42/50\n",
      "305/305 [==============================] - 7s 23ms/step - loss: 0.4075 - accuracy: 0.7854\n",
      "Epoch 43/50\n",
      "305/305 [==============================] - 7s 23ms/step - loss: 0.4038 - accuracy: 0.7866\n",
      "Epoch 44/50\n",
      "305/305 [==============================] - 7s 23ms/step - loss: 0.4033 - accuracy: 0.7867\n",
      "Epoch 45/50\n",
      "305/305 [==============================] - 7s 23ms/step - loss: 0.3999 - accuracy: 0.7865\n",
      "Epoch 46/50\n",
      "305/305 [==============================] - 7s 24ms/step - loss: 0.3969 - accuracy: 0.7885\n",
      "Epoch 47/50\n",
      "305/305 [==============================] - 7s 24ms/step - loss: 0.3936 - accuracy: 0.7893\n",
      "Epoch 48/50\n",
      "305/305 [==============================] - 7s 23ms/step - loss: 0.3930 - accuracy: 0.7899\n",
      "Epoch 49/50\n",
      "305/305 [==============================] - 8s 25ms/step - loss: 0.3907 - accuracy: 0.7907\n",
      "Epoch 50/50\n",
      "305/305 [==============================] - 8s 26ms/step - loss: 0.3866 - accuracy: 0.7914\n"
     ]
    }
   ],
   "source": [
    "history_biLSTM=model_biLSTM.fit(X_train, y_train,batch_size=512, epochs=50, verbose=1,callbacks=callback)"
   ]
  },
  {
   "cell_type": "code",
   "execution_count": 79,
   "id": "30aeda29",
   "metadata": {
    "execution": {
     "iopub.execute_input": "2022-03-16T15:21:44.382304Z",
     "iopub.status.busy": "2022-03-16T15:21:44.381406Z",
     "iopub.status.idle": "2022-03-16T15:21:44.464382Z",
     "shell.execute_reply": "2022-03-16T15:21:44.463603Z"
    },
    "papermill": {
     "duration": 8.635117,
     "end_time": "2022-03-16T15:21:44.464540",
     "exception": false,
     "start_time": "2022-03-16T15:21:35.829423",
     "status": "completed"
    },
    "tags": []
   },
   "outputs": [],
   "source": [
    "model_biLSTM.save('biLSTM_Model.h5')"
   ]
  },
  {
   "cell_type": "code",
   "execution_count": 80,
   "id": "d6755a0a",
   "metadata": {
    "execution": {
     "iopub.execute_input": "2022-03-16T15:22:00.137863Z",
     "iopub.status.busy": "2022-03-16T15:22:00.136687Z",
     "iopub.status.idle": "2022-03-16T15:22:00.307059Z",
     "shell.execute_reply": "2022-03-16T15:22:00.307478Z"
    },
    "papermill": {
     "duration": 7.943922,
     "end_time": "2022-03-16T15:22:00.307635",
     "exception": false,
     "start_time": "2022-03-16T15:21:52.363713",
     "status": "completed"
    },
    "tags": []
   },
   "outputs": [
    {
     "data": {
      "image/png": "[encoded data removed]",
      "text/plain": [
       "<Figure size 432x288 with 1 Axes>"
      ]
     },
     "metadata": {
      "needs_background": "light"
     },
     "output_type": "display_data"
    }
   ],
   "source": [
    "loss_train_biLSTM = history_biLSTM.history['loss']\n",
    "epochs = range(1,51)\n",
    "plt.plot(epochs, loss_train_biLSTM, 'g', label='Training loss')\n",
    "plt.title('Training loss')\n",
    "plt.xlabel('Epochs')\n",
    "plt.ylabel('Loss')\n",
    "plt.legend()\n",
    "plt.show()"
   ]
  },
  {
   "cell_type": "code",
   "execution_count": 81,
   "id": "ebbd215f",
   "metadata": {
    "execution": {
     "iopub.execute_input": "2022-03-16T15:22:16.783823Z",
     "iopub.status.busy": "2022-03-16T15:22:16.779021Z",
     "iopub.status.idle": "2022-03-16T15:22:16.940709Z",
     "shell.execute_reply": "2022-03-16T15:22:16.941118Z"
    },
    "papermill": {
     "duration": 8.714437,
     "end_time": "2022-03-16T15:22:16.941263",
     "exception": false,
     "start_time": "2022-03-16T15:22:08.226826",
     "status": "completed"
    },
    "tags": []
   },
   "outputs": [
    {
     "data": {
      "image/png": "[encoded data removed]",
      "text/plain": [
       "<Figure size 432x288 with 1 Axes>"
      ]
     },
     "metadata": {
      "needs_background": "light"
     },
     "output_type": "display_data"
    }
   ],
   "source": [
    "accuracy_train_biLSTM = history_biLSTM.history['accuracy']\n",
    "epochs = range(1,51)\n",
    "plt.plot(epochs, accuracy_train_biLSTM, 'g', label='Training Accuracy')\n",
    "plt.title('Training Accuracy')\n",
    "plt.xlabel('Epochs')\n",
    "plt.ylabel('Accuracy')\n",
    "plt.legend()\n",
    "plt.show()"
   ]
  },
  {
   "cell_type": "code",
   "execution_count": 82,
   "id": "953f0ba8",
   "metadata": {
    "execution": {
     "iopub.execute_input": "2022-03-16T15:22:32.845211Z",
     "iopub.status.busy": "2022-03-16T15:22:32.844322Z",
     "iopub.status.idle": "2022-03-16T15:22:54.927617Z",
     "shell.execute_reply": "2022-03-16T15:22:54.927117Z"
    },
    "papermill": {
     "duration": 29.966419,
     "end_time": "2022-03-16T15:22:54.927761",
     "exception": false,
     "start_time": "2022-03-16T15:22:24.961342",
     "status": "completed"
    },
    "tags": []
   },
   "outputs": [],
   "source": [
    "predict_x_biLSTM=model_biLSTM.predict(X_test) \n",
    "classes_x_biLSTM=np.argmax(predict_x_biLSTM,axis=1)"
   ]
  },
  {
   "cell_type": "code",
   "execution_count": 83,
   "id": "afd4bbdc",
   "metadata": {
    "execution": {
     "iopub.execute_input": "2022-03-16T15:23:11.036931Z",
     "iopub.status.busy": "2022-03-16T15:23:11.036283Z",
     "iopub.status.idle": "2022-03-16T15:23:11.039043Z",
     "shell.execute_reply": "2022-03-16T15:23:11.039454Z"
    },
    "papermill": {
     "duration": 8.01856,
     "end_time": "2022-03-16T15:23:11.039599",
     "exception": false,
     "start_time": "2022-03-16T15:23:03.021039",
     "status": "completed"
    },
    "tags": []
   },
   "outputs": [
    {
     "data": {
      "text/plain": [
       "array([3, 3, 2, ..., 1, 1, 1])"
      ]
     },
     "execution_count": 83,
     "metadata": {},
     "output_type": "execute_result"
    }
   ],
   "source": [
    "classes_x_biLSTM"
   ]
  },
  {
   "cell_type": "code",
   "execution_count": 84,
   "id": "c6a4d545",
   "metadata": {
    "execution": {
     "iopub.execute_input": "2022-03-16T15:23:27.386884Z",
     "iopub.status.busy": "2022-03-16T15:23:27.386167Z",
     "iopub.status.idle": "2022-03-16T15:23:27.400051Z",
     "shell.execute_reply": "2022-03-16T15:23:27.399033Z"
    },
    "papermill": {
     "duration": 7.773357,
     "end_time": "2022-03-16T15:23:27.400171",
     "exception": false,
     "start_time": "2022-03-16T15:23:19.626814",
     "status": "completed"
    },
    "tags": []
   },
   "outputs": [],
   "source": [
    "submission_file =pd.read_csv('/kaggle/input/sentiment-analysis-on-movie-reviews/sampleSubmission.csv',sep=',')\n",
    "submission_file['Sentiment']=classes_x_biLSTM\n",
    "submission_file.to_csv('Submission_biLSTM.csv',index=False)"
   ]
  },
  {
   "cell_type": "markdown",
   "id": "17949547",
   "metadata": {
    "papermill": {
     "duration": 8.096952,
     "end_time": "2022-03-16T15:23:43.629425",
     "exception": false,
     "start_time": "2022-03-16T15:23:35.532473",
     "status": "completed"
    },
    "tags": []
   },
   "source": [
    "# MACHINE LEARNING MODELS-CUML"
   ]
  },
  {
   "cell_type": "markdown",
   "id": "193e795e",
   "metadata": {
    "papermill": {
     "duration": 7.830601,
     "end_time": "2022-03-16T15:24:00.104409",
     "exception": false,
     "start_time": "2022-03-16T15:23:52.273808",
     "status": "completed"
    },
    "tags": []
   },
   "source": [
    "**1) Logistic Regression**"
   ]
  },
  {
   "cell_type": "code",
   "execution_count": 85,
   "id": "6872e198",
   "metadata": {
    "execution": {
     "iopub.execute_input": "2022-03-16T15:24:16.247706Z",
     "iopub.status.busy": "2022-03-16T15:24:16.246829Z",
     "iopub.status.idle": "2022-03-16T15:24:16.248712Z",
     "shell.execute_reply": "2022-03-16T15:24:16.249115Z"
    },
    "papermill": {
     "duration": 8.062516,
     "end_time": "2022-03-16T15:24:16.249247",
     "exception": false,
     "start_time": "2022-03-16T15:24:08.186731",
     "status": "completed"
    },
    "tags": []
   },
   "outputs": [],
   "source": [
    "#Calling the model\n",
    "log_reg = OneVsRestClassifier(LogisticRegression())"
   ]
  },
  {
   "cell_type": "code",
   "execution_count": 86,
   "id": "562f3fa2",
   "metadata": {
    "execution": {
     "iopub.execute_input": "2022-03-16T15:24:32.569886Z",
     "iopub.status.busy": "2022-03-16T15:24:32.568581Z",
     "iopub.status.idle": "2022-03-16T15:24:37.948582Z",
     "shell.execute_reply": "2022-03-16T15:24:37.948023Z"
    },
    "papermill": {
     "duration": 13.212083,
     "end_time": "2022-03-16T15:24:37.948711",
     "exception": false,
     "start_time": "2022-03-16T15:24:24.736628",
     "status": "completed"
    },
    "tags": []
   },
   "outputs": [
    {
     "name": "stdout",
     "output_type": "stream",
     "text": [
      "[W] [15:24:35.632919] L-BFGS: max iterations reached\n",
      "[W] [15:24:35.633242] Maximum iterations reached before solver is converged. To increase model accuracy you can increase the number of iterations (max_iter) or improve the scaling of the input data.\n",
      "[W] [15:24:36.371866] L-BFGS: max iterations reached\n",
      "[W] [15:24:36.372609] Maximum iterations reached before solver is converged. To increase model accuracy you can increase the number of iterations (max_iter) or improve the scaling of the input data.\n",
      "[W] [15:24:37.194371] L-BFGS: max iterations reached\n",
      "[W] [15:24:37.195190] Maximum iterations reached before solver is converged. To increase model accuracy you can increase the number of iterations (max_iter) or improve the scaling of the input data.\n",
      "[W] [15:24:37.936051] L-BFGS: max iterations reached\n",
      "[W] [15:24:37.936568] Maximum iterations reached before solver is converged. To increase model accuracy you can increase the number of iterations (max_iter) or improve the scaling of the input data.\n"
     ]
    },
    {
     "data": {
      "text/plain": [
       "OneVsRestClassifier()"
      ]
     },
     "execution_count": 86,
     "metadata": {},
     "output_type": "execute_result"
    }
   ],
   "source": [
    "#Fitting the model\n",
    "log_reg.fit(X_train.astype('float32'),y_train.astype('float32'))"
   ]
  },
  {
   "cell_type": "code",
   "execution_count": 87,
   "id": "e4629dbf",
   "metadata": {
    "execution": {
     "iopub.execute_input": "2022-03-16T15:24:53.978945Z",
     "iopub.status.busy": "2022-03-16T15:24:53.977687Z",
     "iopub.status.idle": "2022-03-16T15:24:54.003321Z",
     "shell.execute_reply": "2022-03-16T15:24:54.002733Z"
    },
    "papermill": {
     "duration": 8.054085,
     "end_time": "2022-03-16T15:24:54.003490",
     "exception": false,
     "start_time": "2022-03-16T15:24:45.949405",
     "status": "completed"
    },
    "tags": []
   },
   "outputs": [],
   "source": [
    "#Making Predictions\n",
    "y_pred_log_reg = log_reg.predict(X_test.astype('float32'))"
   ]
  },
  {
   "cell_type": "code",
   "execution_count": 88,
   "id": "4512a4f7",
   "metadata": {
    "execution": {
     "iopub.execute_input": "2022-03-16T15:25:10.621602Z",
     "iopub.status.busy": "2022-03-16T15:25:10.620737Z",
     "iopub.status.idle": "2022-03-16T15:25:10.622671Z",
     "shell.execute_reply": "2022-03-16T15:25:10.623141Z"
    },
    "papermill": {
     "duration": 7.988581,
     "end_time": "2022-03-16T15:25:10.623299",
     "exception": false,
     "start_time": "2022-03-16T15:25:02.634718",
     "status": "completed"
    },
    "tags": []
   },
   "outputs": [],
   "source": [
    "y_pred_log_reg=y_pred_log_reg.astype('int32')"
   ]
  },
  {
   "cell_type": "code",
   "execution_count": 89,
   "id": "70aae361",
   "metadata": {
    "execution": {
     "iopub.execute_input": "2022-03-16T15:25:26.430036Z",
     "iopub.status.busy": "2022-03-16T15:25:26.429260Z",
     "iopub.status.idle": "2022-03-16T15:25:26.432029Z",
     "shell.execute_reply": "2022-03-16T15:25:26.432411Z"
    },
    "papermill": {
     "duration": 8.088547,
     "end_time": "2022-03-16T15:25:26.432566",
     "exception": false,
     "start_time": "2022-03-16T15:25:18.344019",
     "status": "completed"
    },
    "tags": []
   },
   "outputs": [
    {
     "data": {
      "text/plain": [
       "array([2, 2, 2, ..., 2, 2, 2], dtype=int32)"
      ]
     },
     "execution_count": 89,
     "metadata": {},
     "output_type": "execute_result"
    }
   ],
   "source": [
    "y_pred_log_reg"
   ]
  },
  {
   "cell_type": "code",
   "execution_count": 90,
   "id": "421fd7d9",
   "metadata": {
    "execution": {
     "iopub.execute_input": "2022-03-16T15:25:43.142541Z",
     "iopub.status.busy": "2022-03-16T15:25:43.141548Z",
     "iopub.status.idle": "2022-03-16T15:25:43.633250Z",
     "shell.execute_reply": "2022-03-16T15:25:43.633833Z"
    },
    "papermill": {
     "duration": 8.647836,
     "end_time": "2022-03-16T15:25:43.633997",
     "exception": false,
     "start_time": "2022-03-16T15:25:34.986161",
     "status": "completed"
    },
    "tags": []
   },
   "outputs": [
    {
     "data": {
      "text/plain": [
       "array([0, 1, 2, 3, 4], dtype=int32)"
      ]
     },
     "execution_count": 90,
     "metadata": {},
     "output_type": "execute_result"
    }
   ],
   "source": [
    "cp.unique(y_pred_log_reg)"
   ]
  },
  {
   "cell_type": "code",
   "execution_count": 91,
   "id": "158a56a2",
   "metadata": {
    "execution": {
     "iopub.execute_input": "2022-03-16T15:25:59.710260Z",
     "iopub.status.busy": "2022-03-16T15:25:59.709322Z",
     "iopub.status.idle": "2022-03-16T15:25:59.717353Z",
     "shell.execute_reply": "2022-03-16T15:25:59.716954Z"
    },
    "papermill": {
     "duration": 8.149215,
     "end_time": "2022-03-16T15:25:59.717503",
     "exception": false,
     "start_time": "2022-03-16T15:25:51.568288",
     "status": "completed"
    },
    "tags": []
   },
   "outputs": [],
   "source": [
    "#Accurcy score\n",
    "cu_score_log_reg = cuml.metrics.accuracy_score(y_train, y_pred_log_reg )"
   ]
  },
  {
   "cell_type": "code",
   "execution_count": 92,
   "id": "2dbe0288",
   "metadata": {
    "execution": {
     "iopub.execute_input": "2022-03-16T15:26:16.456969Z",
     "iopub.status.busy": "2022-03-16T15:26:16.456267Z",
     "iopub.status.idle": "2022-03-16T15:26:16.459274Z",
     "shell.execute_reply": "2022-03-16T15:26:16.459756Z"
    },
    "papermill": {
     "duration": 8.176846,
     "end_time": "2022-03-16T15:26:16.459914",
     "exception": false,
     "start_time": "2022-03-16T15:26:08.283068",
     "status": "completed"
    },
    "tags": []
   },
   "outputs": [
    {
     "data": {
      "text/plain": [
       "0.5116152763366699"
      ]
     },
     "execution_count": 92,
     "metadata": {},
     "output_type": "execute_result"
    }
   ],
   "source": [
    "cu_score_log_reg"
   ]
  },
  {
   "cell_type": "code",
   "execution_count": 93,
   "id": "a93e42b6",
   "metadata": {
    "execution": {
     "iopub.execute_input": "2022-03-16T15:26:32.669156Z",
     "iopub.status.busy": "2022-03-16T15:26:32.668266Z",
     "iopub.status.idle": "2022-03-16T15:26:32.676499Z",
     "shell.execute_reply": "2022-03-16T15:26:32.676065Z"
    },
    "papermill": {
     "duration": 8.385145,
     "end_time": "2022-03-16T15:26:32.676624",
     "exception": false,
     "start_time": "2022-03-16T15:26:24.291479",
     "status": "completed"
    },
    "tags": []
   },
   "outputs": [],
   "source": [
    "#Creating a submission\n",
    "submission_file =pd.read_csv('/kaggle/input/sentiment-analysis-on-movie-reviews/sampleSubmission.csv',sep=',')\n",
    "submission_file['Sentiment']=y_pred_log_reg\n",
    "submission_file.to_csv('Submission_LogisticRegression.csv',index=False)"
   ]
  },
  {
   "cell_type": "markdown",
   "id": "28b18ffd",
   "metadata": {
    "papermill": {
     "duration": 8.038557,
     "end_time": "2022-03-16T15:26:49.184319",
     "exception": false,
     "start_time": "2022-03-16T15:26:41.145762",
     "status": "completed"
    },
    "tags": []
   },
   "source": [
    "**2)Random Forest**"
   ]
  },
  {
   "cell_type": "code",
   "execution_count": 94,
   "id": "5ceb9ee8",
   "metadata": {
    "execution": {
     "iopub.execute_input": "2022-03-16T15:27:04.972920Z",
     "iopub.status.busy": "2022-03-16T15:27:04.972030Z",
     "iopub.status.idle": "2022-03-16T15:27:04.973779Z",
     "shell.execute_reply": "2022-03-16T15:27:04.974248Z"
    },
    "papermill": {
     "duration": 7.984827,
     "end_time": "2022-03-16T15:27:04.974386",
     "exception": false,
     "start_time": "2022-03-16T15:26:56.989559",
     "status": "completed"
    },
    "tags": []
   },
   "outputs": [],
   "source": [
    "cuml_model = cuRFC(max_features=1.0,\n",
    "                   n_bins=8,\n",
    "                   n_estimators=40)"
   ]
  },
  {
   "cell_type": "code",
   "execution_count": 95,
   "id": "3bb2d507",
   "metadata": {
    "execution": {
     "iopub.execute_input": "2022-03-16T15:27:21.491017Z",
     "iopub.status.busy": "2022-03-16T15:27:21.489815Z",
     "iopub.status.idle": "2022-03-16T15:27:22.676046Z",
     "shell.execute_reply": "2022-03-16T15:27:22.676844Z"
    },
    "papermill": {
     "duration": 9.103834,
     "end_time": "2022-03-16T15:27:22.677024",
     "exception": false,
     "start_time": "2022-03-16T15:27:13.573190",
     "status": "completed"
    },
    "tags": []
   },
   "outputs": [
    {
     "data": {
      "text/plain": [
       "RandomForestClassifier()"
      ]
     },
     "execution_count": 95,
     "metadata": {},
     "output_type": "execute_result"
    }
   ],
   "source": [
    "cuml_model.fit(X_train.astype('float32'),y_train.astype('float32'))"
   ]
  },
  {
   "cell_type": "code",
   "execution_count": 96,
   "id": "02d0710e",
   "metadata": {
    "execution": {
     "iopub.execute_input": "2022-03-16T15:27:38.586082Z",
     "iopub.status.busy": "2022-03-16T15:27:38.584969Z",
     "iopub.status.idle": "2022-03-16T15:27:38.843022Z",
     "shell.execute_reply": "2022-03-16T15:27:38.843423Z"
    },
    "papermill": {
     "duration": 8.284471,
     "end_time": "2022-03-16T15:27:38.843626",
     "exception": false,
     "start_time": "2022-03-16T15:27:30.559155",
     "status": "completed"
    },
    "tags": []
   },
   "outputs": [],
   "source": [
    "y_pred_random_forest_classifier = cuml_model.predict(X_test.astype('float32'))"
   ]
  },
  {
   "cell_type": "code",
   "execution_count": 97,
   "id": "20eec2ee",
   "metadata": {
    "execution": {
     "iopub.execute_input": "2022-03-16T15:27:55.482941Z",
     "iopub.status.busy": "2022-03-16T15:27:55.481903Z",
     "iopub.status.idle": "2022-03-16T15:27:55.484030Z",
     "shell.execute_reply": "2022-03-16T15:27:55.484394Z"
    },
    "papermill": {
     "duration": 8.105679,
     "end_time": "2022-03-16T15:27:55.484597",
     "exception": false,
     "start_time": "2022-03-16T15:27:47.378918",
     "status": "completed"
    },
    "tags": []
   },
   "outputs": [],
   "source": [
    "y_pred_random_forest_classifier=y_pred_random_forest_classifier.astype('int32')"
   ]
  },
  {
   "cell_type": "code",
   "execution_count": 98,
   "id": "ee60f280",
   "metadata": {
    "execution": {
     "iopub.execute_input": "2022-03-16T15:28:11.283106Z",
     "iopub.status.busy": "2022-03-16T15:28:11.282353Z",
     "iopub.status.idle": "2022-03-16T15:28:11.285145Z",
     "shell.execute_reply": "2022-03-16T15:28:11.285588Z"
    },
    "papermill": {
     "duration": 7.986123,
     "end_time": "2022-03-16T15:28:11.285731",
     "exception": false,
     "start_time": "2022-03-16T15:28:03.299608",
     "status": "completed"
    },
    "tags": []
   },
   "outputs": [
    {
     "data": {
      "text/plain": [
       "array([3, 3, 2, ..., 2, 2, 2], dtype=int32)"
      ]
     },
     "execution_count": 98,
     "metadata": {},
     "output_type": "execute_result"
    }
   ],
   "source": [
    "y_pred_random_forest_classifier"
   ]
  },
  {
   "cell_type": "code",
   "execution_count": 99,
   "id": "d0d5c4b5",
   "metadata": {
    "execution": {
     "iopub.execute_input": "2022-03-16T15:28:28.021735Z",
     "iopub.status.busy": "2022-03-16T15:28:28.020834Z",
     "iopub.status.idle": "2022-03-16T15:28:28.026751Z",
     "shell.execute_reply": "2022-03-16T15:28:28.026221Z"
    },
    "papermill": {
     "duration": 8.157221,
     "end_time": "2022-03-16T15:28:28.026876",
     "exception": false,
     "start_time": "2022-03-16T15:28:19.869655",
     "status": "completed"
    },
    "tags": []
   },
   "outputs": [
    {
     "data": {
      "text/plain": [
       "array([0, 1, 2, 3, 4], dtype=int32)"
      ]
     },
     "execution_count": 99,
     "metadata": {},
     "output_type": "execute_result"
    }
   ],
   "source": [
    "cp.unique(y_pred_random_forest_classifier)"
   ]
  },
  {
   "cell_type": "code",
   "execution_count": 100,
   "id": "d8018f38",
   "metadata": {
    "execution": {
     "iopub.execute_input": "2022-03-16T15:28:43.928346Z",
     "iopub.status.busy": "2022-03-16T15:28:43.927527Z",
     "iopub.status.idle": "2022-03-16T15:28:43.932812Z",
     "shell.execute_reply": "2022-03-16T15:28:43.933213Z"
    },
    "papermill": {
     "duration": 8.067026,
     "end_time": "2022-03-16T15:28:43.933350",
     "exception": false,
     "start_time": "2022-03-16T15:28:35.866324",
     "status": "completed"
    },
    "tags": []
   },
   "outputs": [],
   "source": [
    "cu_score_random_forest = cuml.metrics.accuracy_score(y_train, y_pred_random_forest_classifier )"
   ]
  },
  {
   "cell_type": "code",
   "execution_count": 101,
   "id": "bd33da2f",
   "metadata": {
    "execution": {
     "iopub.execute_input": "2022-03-16T15:29:00.810451Z",
     "iopub.status.busy": "2022-03-16T15:29:00.809861Z",
     "iopub.status.idle": "2022-03-16T15:29:00.812743Z",
     "shell.execute_reply": "2022-03-16T15:29:00.813146Z"
    },
    "papermill": {
     "duration": 8.098178,
     "end_time": "2022-03-16T15:29:00.813276",
     "exception": false,
     "start_time": "2022-03-16T15:28:52.715098",
     "status": "completed"
    },
    "tags": []
   },
   "outputs": [
    {
     "data": {
      "text/plain": [
       "0.4602515995502472"
      ]
     },
     "execution_count": 101,
     "metadata": {},
     "output_type": "execute_result"
    }
   ],
   "source": [
    "cu_score_random_forest"
   ]
  },
  {
   "cell_type": "code",
   "execution_count": 102,
   "id": "dc2b762a",
   "metadata": {
    "execution": {
     "iopub.execute_input": "2022-03-16T15:29:16.581055Z",
     "iopub.status.busy": "2022-03-16T15:29:16.580259Z",
     "iopub.status.idle": "2022-03-16T15:29:16.589067Z",
     "shell.execute_reply": "2022-03-16T15:29:16.588654Z"
    },
    "papermill": {
     "duration": 7.982234,
     "end_time": "2022-03-16T15:29:16.589184",
     "exception": false,
     "start_time": "2022-03-16T15:29:08.606950",
     "status": "completed"
    },
    "tags": []
   },
   "outputs": [],
   "source": [
    "submission_file =pd.read_csv('/kaggle/input/sentiment-analysis-on-movie-reviews/sampleSubmission.csv',sep=',')\n",
    "submission_file['Sentiment']=y_pred_random_forest_classifier\n",
    "submission_file.to_csv('Submission_RandomForest.csv',index=False)"
   ]
  },
  {
   "cell_type": "markdown",
   "id": "e151baef",
   "metadata": {
    "papermill": {
     "duration": 8.043696,
     "end_time": "2022-03-16T15:29:33.192302",
     "exception": false,
     "start_time": "2022-03-16T15:29:25.148606",
     "status": "completed"
    },
    "tags": []
   },
   "source": [
    "**3)Naive Bayes**"
   ]
  },
  {
   "cell_type": "code",
   "execution_count": 103,
   "id": "9df82691",
   "metadata": {
    "execution": {
     "iopub.execute_input": "2022-03-16T15:29:49.193959Z",
     "iopub.status.busy": "2022-03-16T15:29:49.192312Z",
     "iopub.status.idle": "2022-03-16T15:29:52.120666Z",
     "shell.execute_reply": "2022-03-16T15:29:52.121094Z"
    },
    "papermill": {
     "duration": 11.021482,
     "end_time": "2022-03-16T15:29:52.121240",
     "exception": false,
     "start_time": "2022-03-16T15:29:41.099758",
     "status": "completed"
    },
    "tags": []
   },
   "outputs": [
    {
     "data": {
      "text/plain": [
       "MultinomialNB()"
      ]
     },
     "execution_count": 103,
     "metadata": {},
     "output_type": "execute_result"
    }
   ],
   "source": [
    "nb = MultinomialNB()\n",
    "nb.fit(X_train, y_train)"
   ]
  },
  {
   "cell_type": "code",
   "execution_count": 104,
   "id": "6dda343c",
   "metadata": {
    "execution": {
     "iopub.execute_input": "2022-03-16T15:30:09.009365Z",
     "iopub.status.busy": "2022-03-16T15:30:09.008187Z",
     "iopub.status.idle": "2022-03-16T15:30:10.176769Z",
     "shell.execute_reply": "2022-03-16T15:30:10.177182Z"
    },
    "papermill": {
     "duration": 9.403782,
     "end_time": "2022-03-16T15:30:10.177342",
     "exception": false,
     "start_time": "2022-03-16T15:30:00.773560",
     "status": "completed"
    },
    "tags": []
   },
   "outputs": [],
   "source": [
    "nb_predict=nb.predict(X_test)"
   ]
  },
  {
   "cell_type": "code",
   "execution_count": 105,
   "id": "90e1dedb",
   "metadata": {
    "execution": {
     "iopub.execute_input": "2022-03-16T15:30:26.249998Z",
     "iopub.status.busy": "2022-03-16T15:30:26.249232Z",
     "iopub.status.idle": "2022-03-16T15:30:26.251949Z",
     "shell.execute_reply": "2022-03-16T15:30:26.252348Z"
    },
    "papermill": {
     "duration": 8.024419,
     "end_time": "2022-03-16T15:30:26.252498",
     "exception": false,
     "start_time": "2022-03-16T15:30:18.228079",
     "status": "completed"
    },
    "tags": []
   },
   "outputs": [
    {
     "data": {
      "text/plain": [
       "array([0, 0, 2, ..., 2, 2, 2], dtype=int32)"
      ]
     },
     "execution_count": 105,
     "metadata": {},
     "output_type": "execute_result"
    }
   ],
   "source": [
    "nb_predict"
   ]
  },
  {
   "cell_type": "code",
   "execution_count": 106,
   "id": "db1fa73d",
   "metadata": {
    "execution": {
     "iopub.execute_input": "2022-03-16T15:30:42.831257Z",
     "iopub.status.busy": "2022-03-16T15:30:42.830389Z",
     "iopub.status.idle": "2022-03-16T15:30:42.836221Z",
     "shell.execute_reply": "2022-03-16T15:30:42.835790Z"
    },
    "papermill": {
     "duration": 8.017614,
     "end_time": "2022-03-16T15:30:42.836332",
     "exception": false,
     "start_time": "2022-03-16T15:30:34.818718",
     "status": "completed"
    },
    "tags": []
   },
   "outputs": [
    {
     "data": {
      "text/plain": [
       "array([0, 1, 2, 3, 4], dtype=int32)"
      ]
     },
     "execution_count": 106,
     "metadata": {},
     "output_type": "execute_result"
    }
   ],
   "source": [
    "cp.unique(nb_predict)"
   ]
  },
  {
   "cell_type": "code",
   "execution_count": 107,
   "id": "980686b8",
   "metadata": {
    "execution": {
     "iopub.execute_input": "2022-03-16T15:30:58.678313Z",
     "iopub.status.busy": "2022-03-16T15:30:58.677296Z",
     "iopub.status.idle": "2022-03-16T15:30:58.683092Z",
     "shell.execute_reply": "2022-03-16T15:30:58.682617Z"
    },
    "papermill": {
     "duration": 7.787171,
     "end_time": "2022-03-16T15:30:58.683223",
     "exception": false,
     "start_time": "2022-03-16T15:30:50.896052",
     "status": "completed"
    },
    "tags": []
   },
   "outputs": [],
   "source": [
    "cu_score_naive_bayes = cuml.metrics.accuracy_score(y_train, nb_predict )"
   ]
  },
  {
   "cell_type": "code",
   "execution_count": 108,
   "id": "4e351cd2",
   "metadata": {
    "execution": {
     "iopub.execute_input": "2022-03-16T15:31:15.412855Z",
     "iopub.status.busy": "2022-03-16T15:31:15.412209Z",
     "iopub.status.idle": "2022-03-16T15:31:15.414973Z",
     "shell.execute_reply": "2022-03-16T15:31:15.415357Z"
    },
    "papermill": {
     "duration": 8.110489,
     "end_time": "2022-03-16T15:31:15.415506",
     "exception": false,
     "start_time": "2022-03-16T15:31:07.305017",
     "status": "completed"
    },
    "tags": []
   },
   "outputs": [
    {
     "data": {
      "text/plain": [
       "0.424983412027359"
      ]
     },
     "execution_count": 108,
     "metadata": {},
     "output_type": "execute_result"
    }
   ],
   "source": [
    "cu_score_naive_bayes"
   ]
  },
  {
   "cell_type": "code",
   "execution_count": 109,
   "id": "a84df35a",
   "metadata": {
    "execution": {
     "iopub.execute_input": "2022-03-16T15:31:31.357885Z",
     "iopub.status.busy": "2022-03-16T15:31:31.355770Z",
     "iopub.status.idle": "2022-03-16T15:31:31.364743Z",
     "shell.execute_reply": "2022-03-16T15:31:31.364278Z"
    },
    "papermill": {
     "duration": 7.875299,
     "end_time": "2022-03-16T15:31:31.364867",
     "exception": false,
     "start_time": "2022-03-16T15:31:23.489568",
     "status": "completed"
    },
    "tags": []
   },
   "outputs": [],
   "source": [
    "submission_file =pd.read_csv('/kaggle/input/sentiment-analysis-on-movie-reviews/sampleSubmission.csv',sep=',')\n",
    "submission_file['Sentiment']=nb_predict\n",
    "submission_file.to_csv('Submission_NaiveBayes.csv',index=False)"
   ]
  },
  {
   "cell_type": "markdown",
   "id": "f46bca79",
   "metadata": {
    "papermill": {
     "duration": 8.071546,
     "end_time": "2022-03-16T15:31:47.965285",
     "exception": false,
     "start_time": "2022-03-16T15:31:39.893739",
     "status": "completed"
    },
    "tags": []
   },
   "source": [
    "**4)KNeighbors Classifier**"
   ]
  },
  {
   "cell_type": "markdown",
   "id": "4bcedd68",
   "metadata": {
    "papermill": {
     "duration": 7.753524,
     "end_time": "2022-03-16T15:32:03.814514",
     "exception": false,
     "start_time": "2022-03-16T15:31:56.060990",
     "status": "completed"
    },
    "tags": []
   },
   "source": [
    "Runtime error in KNN"
   ]
  },
  {
   "cell_type": "code",
   "execution_count": 110,
   "id": "63b9cefe",
   "metadata": {
    "execution": {
     "iopub.execute_input": "2022-03-16T15:32:20.578124Z",
     "iopub.status.busy": "2022-03-16T15:32:20.577274Z",
     "iopub.status.idle": "2022-03-16T15:32:20.579762Z",
     "shell.execute_reply": "2022-03-16T15:32:20.579324Z"
    },
    "papermill": {
     "duration": 8.052772,
     "end_time": "2022-03-16T15:32:20.579882",
     "exception": false,
     "start_time": "2022-03-16T15:32:12.527110",
     "status": "completed"
    },
    "tags": []
   },
   "outputs": [],
   "source": [
    "# from cuml.neighbors import KNeighborsClassifier\n",
    "# knn = KNeighborsClassifier(n_neighbors=3)\n",
    "# knn.fit(X_train,y_train)"
   ]
  },
  {
   "cell_type": "code",
   "execution_count": 111,
   "id": "c543dee6",
   "metadata": {
    "execution": {
     "iopub.execute_input": "2022-03-16T15:32:36.379281Z",
     "iopub.status.busy": "2022-03-16T15:32:36.378378Z",
     "iopub.status.idle": "2022-03-16T15:32:36.380401Z",
     "shell.execute_reply": "2022-03-16T15:32:36.380886Z"
    },
    "papermill": {
     "duration": 7.783518,
     "end_time": "2022-03-16T15:32:36.381034",
     "exception": false,
     "start_time": "2022-03-16T15:32:28.597516",
     "status": "completed"
    },
    "tags": []
   },
   "outputs": [],
   "source": [
    "\n",
    "# knn_predict=knn.predict(X_test)"
   ]
  },
  {
   "cell_type": "code",
   "execution_count": 112,
   "id": "54d666f4",
   "metadata": {
    "execution": {
     "iopub.execute_input": "2022-03-16T15:32:53.265261Z",
     "iopub.status.busy": "2022-03-16T15:32:53.264346Z",
     "iopub.status.idle": "2022-03-16T15:32:53.266209Z",
     "shell.execute_reply": "2022-03-16T15:32:53.266628Z"
    },
    "papermill": {
     "duration": 8.156164,
     "end_time": "2022-03-16T15:32:53.266764",
     "exception": false,
     "start_time": "2022-03-16T15:32:45.110600",
     "status": "completed"
    },
    "tags": []
   },
   "outputs": [],
   "source": [
    "# knn_predict"
   ]
  },
  {
   "cell_type": "code",
   "execution_count": 113,
   "id": "1765d9fa",
   "metadata": {
    "execution": {
     "iopub.execute_input": "2022-03-16T15:33:08.997421Z",
     "iopub.status.busy": "2022-03-16T15:33:08.996421Z",
     "iopub.status.idle": "2022-03-16T15:33:08.998364Z",
     "shell.execute_reply": "2022-03-16T15:33:08.998812Z"
    },
    "papermill": {
     "duration": 7.722794,
     "end_time": "2022-03-16T15:33:08.998955",
     "exception": false,
     "start_time": "2022-03-16T15:33:01.276161",
     "status": "completed"
    },
    "tags": []
   },
   "outputs": [],
   "source": [
    "# cp.unique(knn_predict)"
   ]
  },
  {
   "cell_type": "code",
   "execution_count": 114,
   "id": "2c1e688e",
   "metadata": {
    "execution": {
     "iopub.execute_input": "2022-03-16T15:33:25.705549Z",
     "iopub.status.busy": "2022-03-16T15:33:25.704646Z",
     "iopub.status.idle": "2022-03-16T15:33:25.706834Z",
     "shell.execute_reply": "2022-03-16T15:33:25.706312Z"
    },
    "papermill": {
     "duration": 8.055076,
     "end_time": "2022-03-16T15:33:25.706945",
     "exception": false,
     "start_time": "2022-03-16T15:33:17.651869",
     "status": "completed"
    },
    "tags": []
   },
   "outputs": [],
   "source": [
    "# cu_score_knn = cuml.metrics.accuracy_score(y_train, knn_predict )"
   ]
  },
  {
   "cell_type": "code",
   "execution_count": 115,
   "id": "428a4272",
   "metadata": {
    "execution": {
     "iopub.execute_input": "2022-03-16T15:33:41.697257Z",
     "iopub.status.busy": "2022-03-16T15:33:41.696328Z",
     "iopub.status.idle": "2022-03-16T15:33:41.698412Z",
     "shell.execute_reply": "2022-03-16T15:33:41.698826Z"
    },
    "papermill": {
     "duration": 8.126595,
     "end_time": "2022-03-16T15:33:41.698969",
     "exception": false,
     "start_time": "2022-03-16T15:33:33.572374",
     "status": "completed"
    },
    "tags": []
   },
   "outputs": [],
   "source": [
    "# cu_score_knn"
   ]
  },
  {
   "cell_type": "code",
   "execution_count": 116,
   "id": "1ebe8bce",
   "metadata": {
    "execution": {
     "iopub.execute_input": "2022-03-16T15:33:58.993294Z",
     "iopub.status.busy": "2022-03-16T15:33:58.992320Z",
     "iopub.status.idle": "2022-03-16T15:33:58.994847Z",
     "shell.execute_reply": "2022-03-16T15:33:58.994404Z"
    },
    "papermill": {
     "duration": 8.389187,
     "end_time": "2022-03-16T15:33:58.994968",
     "exception": false,
     "start_time": "2022-03-16T15:33:50.605781",
     "status": "completed"
    },
    "tags": []
   },
   "outputs": [],
   "source": [
    "# submission_file =pd.read_csv('/kaggle/input/sentiment-analysis-on-movie-reviews/sampleSubmission.csv',sep=',')\n",
    "# submission_file['Sentiment']=knn_predict\n",
    "# submission_file.to_csv('Submission_KNN.csv',index=False)"
   ]
  },
  {
   "cell_type": "markdown",
   "id": "810f19f3",
   "metadata": {
    "papermill": {
     "duration": 8.055475,
     "end_time": "2022-03-16T15:34:15.023805",
     "exception": false,
     "start_time": "2022-03-16T15:34:06.968330",
     "status": "completed"
    },
    "tags": []
   },
   "source": [
    "**5) SVM Classifier**"
   ]
  },
  {
   "cell_type": "markdown",
   "id": "b816aa0d",
   "metadata": {
    "papermill": {
     "duration": 8.137584,
     "end_time": "2022-03-16T15:34:31.824237",
     "exception": false,
     "start_time": "2022-03-16T15:34:23.686653",
     "status": "completed"
    },
    "tags": []
   },
   "source": [
    "SVM was taking a very long time to run and was consuming entire RAM, so commented it"
   ]
  },
  {
   "cell_type": "code",
   "execution_count": 117,
   "id": "d7bdefe7",
   "metadata": {
    "execution": {
     "iopub.execute_input": "2022-03-16T15:34:47.704237Z",
     "iopub.status.busy": "2022-03-16T15:34:47.703325Z",
     "iopub.status.idle": "2022-03-16T15:34:47.705194Z",
     "shell.execute_reply": "2022-03-16T15:34:47.705696Z"
    },
    "papermill": {
     "duration": 8.048604,
     "end_time": "2022-03-16T15:34:47.705833",
     "exception": false,
     "start_time": "2022-03-16T15:34:39.657229",
     "status": "completed"
    },
    "tags": []
   },
   "outputs": [],
   "source": [
    "# svc_gpu = SVC(kernel='poly', degree=2, gamma='auto', C=1)\n",
    "# svc_gpu.fit(X_train, y_train)"
   ]
  },
  {
   "cell_type": "code",
   "execution_count": 118,
   "id": "3825d0df",
   "metadata": {
    "execution": {
     "iopub.execute_input": "2022-03-16T15:35:04.219649Z",
     "iopub.status.busy": "2022-03-16T15:35:04.218787Z",
     "iopub.status.idle": "2022-03-16T15:35:04.221267Z",
     "shell.execute_reply": "2022-03-16T15:35:04.220759Z"
    },
    "papermill": {
     "duration": 8.067692,
     "end_time": "2022-03-16T15:35:04.221392",
     "exception": false,
     "start_time": "2022-03-16T15:34:56.153700",
     "status": "completed"
    },
    "tags": []
   },
   "outputs": [],
   "source": [
    "# svc_gpu_predict=svc_gpu.predict(X_test)"
   ]
  },
  {
   "cell_type": "code",
   "execution_count": 119,
   "id": "625b5eb3",
   "metadata": {
    "execution": {
     "iopub.execute_input": "2022-03-16T15:35:20.266219Z",
     "iopub.status.busy": "2022-03-16T15:35:20.265338Z",
     "iopub.status.idle": "2022-03-16T15:35:20.267500Z",
     "shell.execute_reply": "2022-03-16T15:35:20.267892Z"
    },
    "papermill": {
     "duration": 8.203731,
     "end_time": "2022-03-16T15:35:20.268048",
     "exception": false,
     "start_time": "2022-03-16T15:35:12.064317",
     "status": "completed"
    },
    "tags": []
   },
   "outputs": [],
   "source": [
    "# submission_file =pd.read_csv('/kaggle/input/sentiment-analysis-on-movie-reviews/sampleSubmission.csv',sep=',')\n",
    "# submission_file['Sentiment']=svc_gpu_predict\n",
    "# submission_file.to_csv('Submission_SVM.csv',index=False)"
   ]
  },
  {
   "cell_type": "markdown",
   "id": "090f866f",
   "metadata": {
    "papermill": {
     "duration": 8.0283,
     "end_time": "2022-03-16T15:35:36.920785",
     "exception": false,
     "start_time": "2022-03-16T15:35:28.892485",
     "status": "completed"
    },
    "tags": []
   },
   "source": [
    "# MACHINE LEARNING MODELS-SKLEARNB"
   ]
  },
  {
   "cell_type": "markdown",
   "id": "f5c0fcef",
   "metadata": {
    "papermill": {
     "duration": 8.009293,
     "end_time": "2022-03-16T15:35:52.731870",
     "exception": false,
     "start_time": "2022-03-16T15:35:44.722577",
     "status": "completed"
    },
    "tags": []
   },
   "source": [
    "**1)Logistic Regression**"
   ]
  },
  {
   "cell_type": "markdown",
   "id": "7a2a08f7",
   "metadata": {
    "papermill": {
     "duration": 8.006338,
     "end_time": "2022-03-16T15:36:09.287852",
     "exception": false,
     "start_time": "2022-03-16T15:36:01.281514",
     "status": "completed"
    },
    "tags": []
   },
   "source": [
    "****"
   ]
  },
  {
   "cell_type": "code",
   "execution_count": 120,
   "id": "8dafa07e",
   "metadata": {
    "execution": {
     "iopub.execute_input": "2022-03-16T15:36:25.148336Z",
     "iopub.status.busy": "2022-03-16T15:36:25.147544Z",
     "iopub.status.idle": "2022-03-16T15:36:25.216263Z",
     "shell.execute_reply": "2022-03-16T15:36:25.215794Z",
     "shell.execute_reply.started": "2022-03-16T04:46:16.793264Z"
    },
    "papermill": {
     "duration": 8.131073,
     "end_time": "2022-03-16T15:36:25.216388",
     "exception": false,
     "start_time": "2022-03-16T15:36:17.085315",
     "status": "completed"
    },
    "tags": []
   },
   "outputs": [],
   "source": [
    "#Machine Learning-sklearn libraries\n",
    "from sklearn.linear_model import LogisticRegression\n",
    "from sklearn.ensemble import RandomForestClassifier\n",
    "from sklearn.naive_bayes import GaussianNB\n",
    "from sklearn.neighbors import KNeighborsClassifier\n",
    "from sklearn import svm\n",
    "from xgboost import XGBClassifier\n",
    "from sklearn import metrics\n",
    "from sklearn.model_selection import train_test_split\n",
    "from sklearn.metrics import confusion_matrix,accuracy_score,roc_auc_score,roc_curve,auc,f1_score"
   ]
  },
  {
   "cell_type": "code",
   "execution_count": 121,
   "id": "48d60d65",
   "metadata": {
    "execution": {
     "iopub.execute_input": "2022-03-16T15:36:42.050655Z",
     "iopub.status.busy": "2022-03-16T15:36:42.049756Z",
     "iopub.status.idle": "2022-03-16T15:36:42.051494Z",
     "shell.execute_reply": "2022-03-16T15:36:42.051936Z",
     "shell.execute_reply.started": "2022-03-16T04:46:18.850055Z"
    },
    "papermill": {
     "duration": 7.993547,
     "end_time": "2022-03-16T15:36:42.052070",
     "exception": false,
     "start_time": "2022-03-16T15:36:34.058523",
     "status": "completed"
    },
    "tags": []
   },
   "outputs": [],
   "source": [
    "lr_sklearn = LogisticRegression(random_state=0)"
   ]
  },
  {
   "cell_type": "code",
   "execution_count": 122,
   "id": "f5ac308e",
   "metadata": {
    "execution": {
     "iopub.execute_input": "2022-03-16T15:36:58.096815Z",
     "iopub.status.busy": "2022-03-16T15:36:58.095651Z",
     "iopub.status.idle": "2022-03-16T15:37:07.041915Z",
     "shell.execute_reply": "2022-03-16T15:37:07.043359Z",
     "shell.execute_reply.started": "2022-03-16T04:46:19.993302Z"
    },
    "papermill": {
     "duration": 17.113827,
     "end_time": "2022-03-16T15:37:07.043649",
     "exception": false,
     "start_time": "2022-03-16T15:36:49.929822",
     "status": "completed"
    },
    "tags": []
   },
   "outputs": [
    {
     "name": "stderr",
     "output_type": "stream",
     "text": [
      "/opt/conda/lib/python3.7/site-packages/sklearn/linear_model/_logistic.py:818: ConvergenceWarning: lbfgs failed to converge (status=1):\n",
      "STOP: TOTAL NO. of ITERATIONS REACHED LIMIT.\n",
      "\n",
      "Increase the number of iterations (max_iter) or scale the data as shown in:\n",
      "    https://scikit-learn.org/stable/modules/preprocessing.html\n",
      "Please also refer to the documentation for alternative solver options:\n",
      "    https://scikit-learn.org/stable/modules/linear_model.html#logistic-regression\n",
      "  extra_warning_msg=_LOGISTIC_SOLVER_CONVERGENCE_MSG,\n"
     ]
    },
    {
     "data": {
      "text/plain": [
       "LogisticRegression(random_state=0)"
      ]
     },
     "execution_count": 122,
     "metadata": {},
     "output_type": "execute_result"
    }
   ],
   "source": [
    "lr_sklearn.fit(X_train,y_train)"
   ]
  },
  {
   "cell_type": "code",
   "execution_count": 123,
   "id": "d15f2e38",
   "metadata": {
    "execution": {
     "iopub.execute_input": "2022-03-16T15:37:23.015144Z",
     "iopub.status.busy": "2022-03-16T15:37:23.014206Z",
     "iopub.status.idle": "2022-03-16T15:37:23.026869Z",
     "shell.execute_reply": "2022-03-16T15:37:23.028040Z",
     "shell.execute_reply.started": "2022-03-16T04:46:34.854393Z"
    },
    "papermill": {
     "duration": 7.787684,
     "end_time": "2022-03-16T15:37:23.028280",
     "exception": false,
     "start_time": "2022-03-16T15:37:15.240596",
     "status": "completed"
    },
    "tags": []
   },
   "outputs": [],
   "source": [
    "pred_lr_sklearn=lr_sklearn.predict(X_test)"
   ]
  },
  {
   "cell_type": "code",
   "execution_count": 124,
   "id": "f0fe9738",
   "metadata": {
    "execution": {
     "iopub.execute_input": "2022-03-16T15:37:39.749041Z",
     "iopub.status.busy": "2022-03-16T15:37:39.748198Z",
     "iopub.status.idle": "2022-03-16T15:37:39.751277Z",
     "shell.execute_reply": "2022-03-16T15:37:39.751742Z",
     "shell.execute_reply.started": "2022-03-16T04:46:37.905539Z"
    },
    "papermill": {
     "duration": 8.542778,
     "end_time": "2022-03-16T15:37:39.751894",
     "exception": false,
     "start_time": "2022-03-16T15:37:31.209116",
     "status": "completed"
    },
    "tags": []
   },
   "outputs": [
    {
     "data": {
      "text/plain": [
       "array([2, 2, 2, ..., 2, 2, 2])"
      ]
     },
     "execution_count": 124,
     "metadata": {},
     "output_type": "execute_result"
    }
   ],
   "source": [
    "pred_lr_sklearn"
   ]
  },
  {
   "cell_type": "code",
   "execution_count": 125,
   "id": "394f8daf",
   "metadata": {
    "execution": {
     "iopub.execute_input": "2022-03-16T15:37:55.707426Z",
     "iopub.status.busy": "2022-03-16T15:37:55.706432Z",
     "iopub.status.idle": "2022-03-16T15:37:55.710892Z",
     "shell.execute_reply": "2022-03-16T15:37:55.710348Z",
     "shell.execute_reply.started": "2022-03-16T04:46:43.370359Z"
    },
    "papermill": {
     "duration": 7.879873,
     "end_time": "2022-03-16T15:37:55.711005",
     "exception": false,
     "start_time": "2022-03-16T15:37:47.831132",
     "status": "completed"
    },
    "tags": []
   },
   "outputs": [
    {
     "data": {
      "text/plain": [
       "array([0, 1, 2, 3, 4])"
      ]
     },
     "execution_count": 125,
     "metadata": {},
     "output_type": "execute_result"
    }
   ],
   "source": [
    "np.unique(pred_lr_sklearn)"
   ]
  },
  {
   "cell_type": "code",
   "execution_count": 126,
   "id": "e39f4d2e",
   "metadata": {
    "execution": {
     "iopub.execute_input": "2022-03-16T15:38:12.425235Z",
     "iopub.status.busy": "2022-03-16T15:38:12.424344Z",
     "iopub.status.idle": "2022-03-16T15:38:12.433221Z",
     "shell.execute_reply": "2022-03-16T15:38:12.432806Z",
     "shell.execute_reply.started": "2022-03-16T04:46:49.087594Z"
    },
    "papermill": {
     "duration": 8.737845,
     "end_time": "2022-03-16T15:38:12.433336",
     "exception": false,
     "start_time": "2022-03-16T15:38:03.695491",
     "status": "completed"
    },
    "tags": []
   },
   "outputs": [],
   "source": [
    "submission_file =pd.read_csv('/kaggle/input/sentiment-analysis-on-movie-reviews/sampleSubmission.csv',sep=',')\n",
    "submission_file['Sentiment']=pred_lr_sklearn\n",
    "submission_file.to_csv('Submission_LogisticRegression_sklearn.csv',index=False)"
   ]
  },
  {
   "cell_type": "markdown",
   "id": "a030e24a",
   "metadata": {
    "papermill": {
     "duration": 8.0469,
     "end_time": "2022-03-16T15:38:28.685317",
     "exception": false,
     "start_time": "2022-03-16T15:38:20.638417",
     "status": "completed"
    },
    "tags": []
   },
   "source": [
    "**2)Random Forest**"
   ]
  },
  {
   "cell_type": "code",
   "execution_count": 127,
   "id": "25bd48ac",
   "metadata": {
    "execution": {
     "iopub.execute_input": "2022-03-16T15:38:45.437184Z",
     "iopub.status.busy": "2022-03-16T15:38:45.436314Z",
     "iopub.status.idle": "2022-03-16T15:38:45.438163Z",
     "shell.execute_reply": "2022-03-16T15:38:45.438581Z",
     "shell.execute_reply.started": "2022-03-16T04:50:05.273394Z"
    },
    "papermill": {
     "duration": 8.546729,
     "end_time": "2022-03-16T15:38:45.438718",
     "exception": false,
     "start_time": "2022-03-16T15:38:36.891989",
     "status": "completed"
    },
    "tags": []
   },
   "outputs": [],
   "source": [
    "rf_sklearn = RandomForestClassifier(n_estimators=100,criterion='gini',random_state=42)"
   ]
  },
  {
   "cell_type": "code",
   "execution_count": 128,
   "id": "4d028802",
   "metadata": {
    "execution": {
     "iopub.execute_input": "2022-03-16T15:39:01.365537Z",
     "iopub.status.busy": "2022-03-16T15:39:01.364428Z",
     "iopub.status.idle": "2022-03-16T15:39:30.742890Z",
     "shell.execute_reply": "2022-03-16T15:39:30.742410Z",
     "shell.execute_reply.started": "2022-03-16T04:50:05.508813Z"
    },
    "papermill": {
     "duration": 37.209005,
     "end_time": "2022-03-16T15:39:30.743021",
     "exception": false,
     "start_time": "2022-03-16T15:38:53.534016",
     "status": "completed"
    },
    "tags": []
   },
   "outputs": [
    {
     "data": {
      "text/plain": [
       "RandomForestClassifier(random_state=42)"
      ]
     },
     "execution_count": 128,
     "metadata": {},
     "output_type": "execute_result"
    }
   ],
   "source": [
    "rf_sklearn.fit(X_train,y_train)"
   ]
  },
  {
   "cell_type": "code",
   "execution_count": 129,
   "id": "a9841d39",
   "metadata": {
    "execution": {
     "iopub.execute_input": "2022-03-16T15:39:46.834720Z",
     "iopub.status.busy": "2022-03-16T15:39:46.833840Z",
     "iopub.status.idle": "2022-03-16T15:39:49.455118Z",
     "shell.execute_reply": "2022-03-16T15:39:49.454652Z",
     "shell.execute_reply.started": "2022-03-16T04:50:38.256355Z"
    },
    "papermill": {
     "duration": 10.43094,
     "end_time": "2022-03-16T15:39:49.455246",
     "exception": false,
     "start_time": "2022-03-16T15:39:39.024306",
     "status": "completed"
    },
    "tags": []
   },
   "outputs": [],
   "source": [
    "rf_sklearn_predict=rf_sklearn.predict(X_test)"
   ]
  },
  {
   "cell_type": "code",
   "execution_count": 130,
   "id": "395122c7",
   "metadata": {
    "execution": {
     "iopub.execute_input": "2022-03-16T15:40:05.575502Z",
     "iopub.status.busy": "2022-03-16T15:40:05.574855Z",
     "iopub.status.idle": "2022-03-16T15:40:05.577662Z",
     "shell.execute_reply": "2022-03-16T15:40:05.578057Z",
     "shell.execute_reply.started": "2022-03-16T04:50:40.559634Z"
    },
    "papermill": {
     "duration": 8.364241,
     "end_time": "2022-03-16T15:40:05.578192",
     "exception": false,
     "start_time": "2022-03-16T15:39:57.213951",
     "status": "completed"
    },
    "tags": []
   },
   "outputs": [
    {
     "data": {
      "text/plain": [
       "array([2, 2, 2, ..., 1, 1, 2])"
      ]
     },
     "execution_count": 130,
     "metadata": {},
     "output_type": "execute_result"
    }
   ],
   "source": [
    "rf_sklearn_predict"
   ]
  },
  {
   "cell_type": "code",
   "execution_count": 131,
   "id": "8b455bd2",
   "metadata": {
    "execution": {
     "iopub.execute_input": "2022-03-16T15:40:21.619289Z",
     "iopub.status.busy": "2022-03-16T15:40:21.618472Z",
     "iopub.status.idle": "2022-03-16T15:40:21.627004Z",
     "shell.execute_reply": "2022-03-16T15:40:21.626586Z",
     "shell.execute_reply.started": "2022-03-16T04:50:40.569361Z"
    },
    "papermill": {
     "duration": 7.989027,
     "end_time": "2022-03-16T15:40:21.627123",
     "exception": false,
     "start_time": "2022-03-16T15:40:13.638096",
     "status": "completed"
    },
    "tags": []
   },
   "outputs": [],
   "source": [
    "submission_file =pd.read_csv('/kaggle/input/sentiment-analysis-on-movie-reviews/sampleSubmission.csv',sep=',')\n",
    "submission_file['Sentiment']=rf_sklearn_predict\n",
    "submission_file.to_csv('Submission_RandomForest_sklearn.csv',index=False)"
   ]
  },
  {
   "cell_type": "markdown",
   "id": "c082c4ce",
   "metadata": {
    "papermill": {
     "duration": 8.000161,
     "end_time": "2022-03-16T15:40:37.949793",
     "exception": false,
     "start_time": "2022-03-16T15:40:29.949632",
     "status": "completed"
    },
    "tags": []
   },
   "source": [
    "**3)Naive Bayes**"
   ]
  },
  {
   "cell_type": "code",
   "execution_count": 132,
   "id": "6c3fa000",
   "metadata": {
    "execution": {
     "iopub.execute_input": "2022-03-16T15:40:54.357615Z",
     "iopub.status.busy": "2022-03-16T15:40:54.356713Z",
     "iopub.status.idle": "2022-03-16T15:40:54.358719Z",
     "shell.execute_reply": "2022-03-16T15:40:54.359191Z",
     "shell.execute_reply.started": "2022-03-16T04:49:01.672576Z"
    },
    "papermill": {
     "duration": 8.11237,
     "end_time": "2022-03-16T15:40:54.359337",
     "exception": false,
     "start_time": "2022-03-16T15:40:46.246967",
     "status": "completed"
    },
    "tags": []
   },
   "outputs": [],
   "source": [
    "nb_sklearn=MultinomialNB()"
   ]
  },
  {
   "cell_type": "code",
   "execution_count": 133,
   "id": "58c03b40",
   "metadata": {
    "execution": {
     "iopub.execute_input": "2022-03-16T15:41:10.728548Z",
     "iopub.status.busy": "2022-03-16T15:41:10.726978Z",
     "iopub.status.idle": "2022-03-16T15:41:10.741396Z",
     "shell.execute_reply": "2022-03-16T15:41:10.741850Z",
     "shell.execute_reply.started": "2022-03-16T04:50:40.65066Z"
    },
    "papermill": {
     "duration": 8.15266,
     "end_time": "2022-03-16T15:41:10.742010",
     "exception": false,
     "start_time": "2022-03-16T15:41:02.589350",
     "status": "completed"
    },
    "tags": []
   },
   "outputs": [
    {
     "data": {
      "text/plain": [
       "MultinomialNB()"
      ]
     },
     "execution_count": 133,
     "metadata": {},
     "output_type": "execute_result"
    }
   ],
   "source": [
    "nb_sklearn.fit(X_train,y_train)"
   ]
  },
  {
   "cell_type": "code",
   "execution_count": 134,
   "id": "b9dbf419",
   "metadata": {
    "execution": {
     "iopub.execute_input": "2022-03-16T15:41:26.540949Z",
     "iopub.status.busy": "2022-03-16T15:41:26.540083Z",
     "iopub.status.idle": "2022-03-16T15:41:26.547385Z",
     "shell.execute_reply": "2022-03-16T15:41:26.546946Z",
     "shell.execute_reply.started": "2022-03-16T04:50:41.161144Z"
    },
    "papermill": {
     "duration": 7.72057,
     "end_time": "2022-03-16T15:41:26.547524",
     "exception": false,
     "start_time": "2022-03-16T15:41:18.826954",
     "status": "completed"
    },
    "tags": []
   },
   "outputs": [],
   "source": [
    "nb_sklearn_predict=nb_sklearn.predict(X_test)"
   ]
  },
  {
   "cell_type": "code",
   "execution_count": 135,
   "id": "fad58ac8",
   "metadata": {
    "execution": {
     "iopub.execute_input": "2022-03-16T15:41:43.229692Z",
     "iopub.status.busy": "2022-03-16T15:41:43.228931Z",
     "iopub.status.idle": "2022-03-16T15:41:43.231902Z",
     "shell.execute_reply": "2022-03-16T15:41:43.232316Z",
     "shell.execute_reply.started": "2022-03-16T04:50:41.181565Z"
    },
    "papermill": {
     "duration": 8.011345,
     "end_time": "2022-03-16T15:41:43.232474",
     "exception": false,
     "start_time": "2022-03-16T15:41:35.221129",
     "status": "completed"
    },
    "tags": []
   },
   "outputs": [
    {
     "data": {
      "text/plain": [
       "array([0, 0, 2, ..., 2, 2, 2], dtype=int32)"
      ]
     },
     "execution_count": 135,
     "metadata": {},
     "output_type": "execute_result"
    }
   ],
   "source": [
    "nb_sklearn_predict"
   ]
  },
  {
   "cell_type": "code",
   "execution_count": 136,
   "id": "12743300",
   "metadata": {
    "execution": {
     "iopub.execute_input": "2022-03-16T15:41:59.604232Z",
     "iopub.status.busy": "2022-03-16T15:41:59.603483Z",
     "iopub.status.idle": "2022-03-16T15:41:59.613595Z",
     "shell.execute_reply": "2022-03-16T15:41:59.613138Z",
     "shell.execute_reply.started": "2022-03-16T04:50:41.753945Z"
    },
    "papermill": {
     "duration": 7.92729,
     "end_time": "2022-03-16T15:41:59.613721",
     "exception": false,
     "start_time": "2022-03-16T15:41:51.686431",
     "status": "completed"
    },
    "tags": []
   },
   "outputs": [],
   "source": [
    "submission_file =pd.read_csv('/kaggle/input/sentiment-analysis-on-movie-reviews/sampleSubmission.csv',sep=',')\n",
    "submission_file['Sentiment']=nb_sklearn_predict\n",
    "submission_file.to_csv('Submission_NaiveBayes_sklearn.csv',index=False)"
   ]
  },
  {
   "cell_type": "markdown",
   "id": "e12c4f85",
   "metadata": {
    "papermill": {
     "duration": 8.449188,
     "end_time": "2022-03-16T15:42:16.160777",
     "exception": false,
     "start_time": "2022-03-16T15:42:07.711589",
     "status": "completed"
    },
    "tags": []
   },
   "source": [
    "**4)KNeighbors Classifier**"
   ]
  },
  {
   "cell_type": "code",
   "execution_count": 137,
   "id": "10b9e2ec",
   "metadata": {
    "execution": {
     "iopub.execute_input": "2022-03-16T15:42:32.029665Z",
     "iopub.status.busy": "2022-03-16T15:42:32.028677Z",
     "iopub.status.idle": "2022-03-16T15:42:32.031319Z",
     "shell.execute_reply": "2022-03-16T15:42:32.030876Z"
    },
    "papermill": {
     "duration": 7.836185,
     "end_time": "2022-03-16T15:42:32.031433",
     "exception": false,
     "start_time": "2022-03-16T15:42:24.195248",
     "status": "completed"
    },
    "tags": []
   },
   "outputs": [],
   "source": [
    "knn_sklearn = KNeighborsClassifier(n_neighbors=3)"
   ]
  },
  {
   "cell_type": "code",
   "execution_count": 138,
   "id": "ac1e62b1",
   "metadata": {
    "execution": {
     "iopub.execute_input": "2022-03-16T15:42:48.613264Z",
     "iopub.status.busy": "2022-03-16T15:42:48.612469Z",
     "iopub.status.idle": "2022-03-16T15:42:48.624966Z",
     "shell.execute_reply": "2022-03-16T15:42:48.625324Z"
    },
    "papermill": {
     "duration": 8.548138,
     "end_time": "2022-03-16T15:42:48.625490",
     "exception": false,
     "start_time": "2022-03-16T15:42:40.077352",
     "status": "completed"
    },
    "tags": []
   },
   "outputs": [
    {
     "data": {
      "text/plain": [
       "KNeighborsClassifier(n_neighbors=3)"
      ]
     },
     "execution_count": 138,
     "metadata": {},
     "output_type": "execute_result"
    }
   ],
   "source": [
    "knn_sklearn.fit(X_train,y_train)"
   ]
  },
  {
   "cell_type": "code",
   "execution_count": 139,
   "id": "76178d7d",
   "metadata": {
    "execution": {
     "iopub.execute_input": "2022-03-16T15:43:04.640926Z",
     "iopub.status.busy": "2022-03-16T15:43:04.639755Z",
     "iopub.status.idle": "2022-03-16T15:45:30.845452Z",
     "shell.execute_reply": "2022-03-16T15:45:30.846156Z"
    },
    "papermill": {
     "duration": 154.040589,
     "end_time": "2022-03-16T15:45:30.846363",
     "exception": false,
     "start_time": "2022-03-16T15:42:56.805774",
     "status": "completed"
    },
    "tags": []
   },
   "outputs": [],
   "source": [
    "knn_sklearn_predict=knn_sklearn.predict(X_test)"
   ]
  },
  {
   "cell_type": "code",
   "execution_count": 140,
   "id": "93e388d8",
   "metadata": {
    "execution": {
     "iopub.execute_input": "2022-03-16T15:45:47.120398Z",
     "iopub.status.busy": "2022-03-16T15:45:47.119815Z",
     "iopub.status.idle": "2022-03-16T15:45:47.122550Z",
     "shell.execute_reply": "2022-03-16T15:45:47.122947Z"
    },
    "papermill": {
     "duration": 8.002042,
     "end_time": "2022-03-16T15:45:47.123082",
     "exception": false,
     "start_time": "2022-03-16T15:45:39.121040",
     "status": "completed"
    },
    "tags": []
   },
   "outputs": [
    {
     "data": {
      "text/plain": [
       "array([1, 1, 2, ..., 2, 2, 2])"
      ]
     },
     "execution_count": 140,
     "metadata": {},
     "output_type": "execute_result"
    }
   ],
   "source": [
    "knn_sklearn_predict"
   ]
  },
  {
   "cell_type": "code",
   "execution_count": 141,
   "id": "e411e296",
   "metadata": {
    "execution": {
     "iopub.execute_input": "2022-03-16T15:46:03.448976Z",
     "iopub.status.busy": "2022-03-16T15:46:03.448137Z",
     "iopub.status.idle": "2022-03-16T15:46:03.456892Z",
     "shell.execute_reply": "2022-03-16T15:46:03.457887Z"
    },
    "papermill": {
     "duration": 8.263472,
     "end_time": "2022-03-16T15:46:03.458082",
     "exception": false,
     "start_time": "2022-03-16T15:45:55.194610",
     "status": "completed"
    },
    "tags": []
   },
   "outputs": [],
   "source": [
    "submission_file =pd.read_csv('/kaggle/input/sentiment-analysis-on-movie-reviews/sampleSubmission.csv',sep=',')\n",
    "submission_file['Sentiment']=knn_sklearn_predict\n",
    "submission_file.to_csv('Submission_KNN_sklearn.csv',index=False)"
   ]
  },
  {
   "cell_type": "markdown",
   "id": "d21d0312",
   "metadata": {
    "papermill": {
     "duration": 8.033998,
     "end_time": "2022-03-16T15:46:19.636571",
     "exception": false,
     "start_time": "2022-03-16T15:46:11.602573",
     "status": "completed"
    },
    "tags": []
   },
   "source": [
    "**5)SVM CLASSIFIER**"
   ]
  },
  {
   "cell_type": "markdown",
   "id": "742c3166",
   "metadata": {
    "papermill": {
     "duration": 8.044129,
     "end_time": "2022-03-16T15:46:35.704023",
     "exception": false,
     "start_time": "2022-03-16T15:46:27.659894",
     "status": "completed"
    },
    "tags": []
   },
   "source": [
    "SVM was taking a very long time to run and was consuming entire RAM, so commented it"
   ]
  },
  {
   "cell_type": "code",
   "execution_count": 142,
   "id": "746c0a3f",
   "metadata": {
    "execution": {
     "iopub.execute_input": "2022-03-16T15:46:52.254008Z",
     "iopub.status.busy": "2022-03-16T15:46:52.252847Z",
     "iopub.status.idle": "2022-03-16T15:46:52.255080Z",
     "shell.execute_reply": "2022-03-16T15:46:52.255456Z"
    },
    "papermill": {
     "duration": 8.070719,
     "end_time": "2022-03-16T15:46:52.255605",
     "exception": false,
     "start_time": "2022-03-16T15:46:44.184886",
     "status": "completed"
    },
    "tags": []
   },
   "outputs": [],
   "source": [
    "# svc = svm.SVC(decision_function_shape='ovo')\n",
    "# svc.fit(X_train, y_train)"
   ]
  },
  {
   "cell_type": "code",
   "execution_count": 143,
   "id": "0d583c30",
   "metadata": {
    "execution": {
     "iopub.execute_input": "2022-03-16T15:47:08.404920Z",
     "iopub.status.busy": "2022-03-16T15:47:08.404020Z",
     "iopub.status.idle": "2022-03-16T15:47:08.406386Z",
     "shell.execute_reply": "2022-03-16T15:47:08.407087Z"
    },
    "papermill": {
     "duration": 8.03398,
     "end_time": "2022-03-16T15:47:08.407303",
     "exception": false,
     "start_time": "2022-03-16T15:47:00.373323",
     "status": "completed"
    },
    "tags": []
   },
   "outputs": [],
   "source": [
    "# svm_pred=svc.predict(X_test)"
   ]
  },
  {
   "cell_type": "code",
   "execution_count": 144,
   "id": "55cc6c41",
   "metadata": {
    "execution": {
     "iopub.execute_input": "2022-03-16T15:47:24.949564Z",
     "iopub.status.busy": "2022-03-16T15:47:24.948630Z",
     "iopub.status.idle": "2022-03-16T15:47:24.950331Z",
     "shell.execute_reply": "2022-03-16T15:47:24.950837Z"
    },
    "papermill": {
     "duration": 8.110954,
     "end_time": "2022-03-16T15:47:24.950974",
     "exception": false,
     "start_time": "2022-03-16T15:47:16.840020",
     "status": "completed"
    },
    "tags": []
   },
   "outputs": [],
   "source": [
    "# submission_file =pd.read_csv('/kaggle/input/sentiment-analysis-on-movie-reviews/sampleSubmission.csv',sep=',')\n",
    "# submission_file['Sentiment']=knn_sklearn_predict\n",
    "# submission_file.to_csv('Submission_KNN_sklearn.csv',index=False)"
   ]
  },
  {
   "cell_type": "markdown",
   "id": "f642f637",
   "metadata": {
    "papermill": {
     "duration": 7.826509,
     "end_time": "2022-03-16T15:47:40.867697",
     "exception": false,
     "start_time": "2022-03-16T15:47:33.041188",
     "status": "completed"
    },
    "tags": []
   },
   "source": [
    "**6)XGBOOST CLASSIFIER**"
   ]
  },
  {
   "cell_type": "code",
   "execution_count": 145,
   "id": "9e44687b",
   "metadata": {
    "execution": {
     "iopub.execute_input": "2022-03-16T15:47:57.527097Z",
     "iopub.status.busy": "2022-03-16T15:47:57.526241Z",
     "iopub.status.idle": "2022-03-16T15:47:57.528105Z",
     "shell.execute_reply": "2022-03-16T15:47:57.528518Z",
     "shell.execute_reply.started": "2022-03-16T04:55:08.840193Z"
    },
    "papermill": {
     "duration": 8.110037,
     "end_time": "2022-03-16T15:47:57.528654",
     "exception": false,
     "start_time": "2022-03-16T15:47:49.418617",
     "status": "completed"
    },
    "tags": []
   },
   "outputs": [],
   "source": [
    "xgb = XGBClassifier(silent=False, \n",
    "                      scale_pos_weight=1,\n",
    "                      learning_rate=0.01,  \n",
    "                      colsample_bytree = 0.4,\n",
    "                      subsample = 0.8,\n",
    "                      n_estimators=1000, \n",
    "                      reg_alpha = 0.3,\n",
    "                      max_depth=4, \n",
    "                      gamma=10)"
   ]
  },
  {
   "cell_type": "code",
   "execution_count": 146,
   "id": "9d13e9eb",
   "metadata": {
    "execution": {
     "iopub.execute_input": "2022-03-16T15:48:13.275113Z",
     "iopub.status.busy": "2022-03-16T15:48:13.274287Z",
     "iopub.status.idle": "2022-03-16T15:54:55.830832Z",
     "shell.execute_reply": "2022-03-16T15:54:55.831636Z",
     "shell.execute_reply.started": "2022-03-16T04:55:09.313831Z"
    },
    "papermill": {
     "duration": 410.296282,
     "end_time": "2022-03-16T15:54:55.831880",
     "exception": false,
     "start_time": "2022-03-16T15:48:05.535598",
     "status": "completed"
    },
    "tags": []
   },
   "outputs": [
    {
     "name": "stderr",
     "output_type": "stream",
     "text": [
      "/opt/conda/lib/python3.7/site-packages/xgboost/sklearn.py:1224: UserWarning: The use of label encoder in XGBClassifier is deprecated and will be removed in a future release. To remove this warning, do the following: 1) Pass option use_label_encoder=False when constructing XGBClassifier object; and 2) Encode your labels (y) as integers starting with 0, i.e. 0, 1, 2, ..., [num_class - 1].\n",
      "  warnings.warn(label_encoder_deprecation_msg, UserWarning)\n"
     ]
    },
    {
     "name": "stdout",
     "output_type": "stream",
     "text": [
      "[15:48:13] WARNING: ../src/learner.cc:576: \n",
      "Parameters: { \"scale_pos_weight\", \"silent\" } might not be used.\n",
      "\n",
      "  This could be a false alarm, with some parameters getting used by language bindings but\n",
      "  then being mistakenly passed down to XGBoost core, or some parameter actually being used\n",
      "  but getting flagged wrongly here. Please open an issue if you find any such cases.\n",
      "\n",
      "\n",
      "[15:48:14] WARNING: ../src/learner.cc:1115: Starting in XGBoost 1.3.0, the default evaluation metric used with the objective 'multi:softprob' was changed from 'merror' to 'mlogloss'. Explicitly set eval_metric if you'd like to restore the old behavior.\n"
     ]
    },
    {
     "data": {
      "text/plain": [
       "XGBClassifier(base_score=0.5, booster='gbtree', colsample_bylevel=1,\n",
       "              colsample_bynode=1, colsample_bytree=0.4,\n",
       "              enable_categorical=False, gamma=10, gpu_id=-1,\n",
       "              importance_type=None, interaction_constraints='',\n",
       "              learning_rate=0.01, max_delta_step=0, max_depth=4,\n",
       "              min_child_weight=1, missing=nan, monotone_constraints='()',\n",
       "              n_estimators=1000, n_jobs=2, num_parallel_tree=1,\n",
       "              objective='multi:softprob', predictor='auto', random_state=0,\n",
       "              reg_alpha=0.3, reg_lambda=1, scale_pos_weight=1, silent=False,\n",
       "              subsample=0.8, tree_method='exact', validate_parameters=1,\n",
       "              verbosity=None)"
      ]
     },
     "execution_count": 146,
     "metadata": {},
     "output_type": "execute_result"
    }
   ],
   "source": [
    "xgb.fit(X_train,y_train)"
   ]
  },
  {
   "cell_type": "code",
   "execution_count": 147,
   "id": "b2a67263",
   "metadata": {
    "execution": {
     "iopub.execute_input": "2022-03-16T15:55:12.335098Z",
     "iopub.status.busy": "2022-03-16T15:55:12.334264Z",
     "iopub.status.idle": "2022-03-16T15:55:14.841961Z",
     "shell.execute_reply": "2022-03-16T15:55:14.842432Z"
    },
    "papermill": {
     "duration": 10.752894,
     "end_time": "2022-03-16T15:55:14.842638",
     "exception": false,
     "start_time": "2022-03-16T15:55:04.089744",
     "status": "completed"
    },
    "tags": []
   },
   "outputs": [],
   "source": [
    "xgb_predict=xgb.predict(X_test)"
   ]
  },
  {
   "cell_type": "code",
   "execution_count": 148,
   "id": "16fee4c1",
   "metadata": {
    "execution": {
     "iopub.execute_input": "2022-03-16T15:55:31.364488Z",
     "iopub.status.busy": "2022-03-16T15:55:31.363685Z",
     "iopub.status.idle": "2022-03-16T15:55:31.366397Z",
     "shell.execute_reply": "2022-03-16T15:55:31.366815Z"
    },
    "papermill": {
     "duration": 8.699537,
     "end_time": "2022-03-16T15:55:31.366946",
     "exception": false,
     "start_time": "2022-03-16T15:55:22.667409",
     "status": "completed"
    },
    "tags": []
   },
   "outputs": [
    {
     "data": {
      "text/plain": [
       "array([2, 2, 2, ..., 2, 2, 2])"
      ]
     },
     "execution_count": 148,
     "metadata": {},
     "output_type": "execute_result"
    }
   ],
   "source": [
    "xgb_predict"
   ]
  },
  {
   "cell_type": "code",
   "execution_count": 149,
   "id": "7c9c318e",
   "metadata": {
    "execution": {
     "iopub.execute_input": "2022-03-16T15:55:47.660822Z",
     "iopub.status.busy": "2022-03-16T15:55:47.659998Z",
     "iopub.status.idle": "2022-03-16T15:55:47.664576Z",
     "shell.execute_reply": "2022-03-16T15:55:47.664973Z"
    },
    "papermill": {
     "duration": 8.170768,
     "end_time": "2022-03-16T15:55:47.665105",
     "exception": false,
     "start_time": "2022-03-16T15:55:39.494337",
     "status": "completed"
    },
    "tags": []
   },
   "outputs": [
    {
     "data": {
      "text/plain": [
       "array([0, 1, 2, 3, 4])"
      ]
     },
     "execution_count": 149,
     "metadata": {},
     "output_type": "execute_result"
    }
   ],
   "source": [
    "np.unique(xgb_predict)"
   ]
  },
  {
   "cell_type": "code",
   "execution_count": 150,
   "id": "86e81cce",
   "metadata": {
    "execution": {
     "iopub.execute_input": "2022-03-16T15:56:04.450929Z",
     "iopub.status.busy": "2022-03-16T15:56:04.450276Z",
     "iopub.status.idle": "2022-03-16T15:56:04.480854Z",
     "shell.execute_reply": "2022-03-16T15:56:04.480377Z"
    },
    "papermill": {
     "duration": 8.794162,
     "end_time": "2022-03-16T15:56:04.480979",
     "exception": false,
     "start_time": "2022-03-16T15:55:55.686817",
     "status": "completed"
    },
    "tags": []
   },
   "outputs": [],
   "source": [
    "submission_file =pd.read_csv('/kaggle/input/sentiment-analysis-on-movie-reviews/sampleSubmission.csv',sep=',')\n",
    "submission_file['Sentiment']=xgb_predict\n",
    "submission_file.to_csv('Submission_XGB.csv',index=False)"
   ]
  },
  {
   "cell_type": "code",
   "execution_count": null,
   "id": "35213778",
   "metadata": {
    "papermill": {
     "duration": 8.032231,
     "end_time": "2022-03-16T15:56:20.653189",
     "exception": false,
     "start_time": "2022-03-16T15:56:12.620958",
     "status": "completed"
    },
    "tags": []
   },
   "outputs": [],
   "source": []
  }
 ],
 "metadata": {
  "kernelspec": {
   "display_name": "Python 3",
   "language": "python",
   "name": "python3"
  },
  "language_info": {
   "codemirror_mode": {
    "name": "ipython",
    "version": 3
   },
   "file_extension": ".py",
   "mimetype": "text/x-python",
   "name": "python",
   "nbconvert_exporter": "python",
   "pygments_lexer": "ipython3",
   "version": "3.7.12"
  },
  "papermill": {
   "default_parameters": {},
   "duration": 7141.676345,
   "end_time": "2022-03-16T15:56:32.072253",
   "environment_variables": {},
   "exception": null,
   "input_path": "__notebook__.ipynb",
   "output_path": "__notebook__.ipynb",
   "parameters": {},
   "start_time": "2022-03-16T13:57:30.395908",
   "version": "2.3.3"
  }
 },
 "nbformat": 4,
 "nbformat_minor": 5
}
